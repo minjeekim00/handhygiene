{
 "cells": [
  {
   "cell_type": "code",
   "execution_count": null,
   "metadata": {},
   "outputs": [],
   "source": [
    "import numpy as np\n",
    "import pandas as pd\n",
    "import os\n",
    "from tqdm import tqdm\n",
    "from glob import glob\n",
    "import shutil"
   ]
  },
  {
   "cell_type": "code",
   "execution_count": null,
   "metadata": {},
   "outputs": [],
   "source": [
    "data_dir = os.getcwd()\n",
    "img_dir = os.path.join(data_dir, 'images/')\n",
    "excel_path = os.path.join(data_dir, 'hh_video_data_v2.xlsx')\n",
    "label_path = os.path.join(data_dir, 'handhygiene_label.csv') \n",
    "\n",
    "df_ex = pd.read_excel(excel_path)"
   ]
  },
  {
   "cell_type": "code",
   "execution_count": null,
   "metadata": {},
   "outputs": [],
   "source": [
    "\"\"\"\n",
    "Seperating raw images into 3 categories; surgery, anesthesia, still(useless images) \n",
    "\"\"\"\n",
    "# classes directories\n",
    "# /images\n",
    "### /surgery\n",
    "### /anesthesia\n",
    "###    /handhygiene (target)\n",
    "### /still\n",
    "\n",
    "def sort_frames_into_categories(img_dir):\n",
    "    cnt = 0\n",
    "    for image in tqdm(glob(img_dir+'*.jpg')):\n",
    "        img_name= image.split('/')[-1].split('.')[0]\n",
    "        \n",
    "        video_id = int(img_name.split('_')[0])\n",
    "        frame_num = img_name[-6:] # ex: 000001\n",
    "        \n",
    "        # classes : surgery, still, target(handhygiene)\n",
    "        df = df_ex[df_ex['video_id'] == video_id]\n",
    "        surgery_list = df['surgery_frame'].iloc[0]\n",
    "        still_list = df['still_frame'].iloc[0]\n",
    "        target_list = df['target_frame'].iloc[0]\n",
    "        \n",
    "        frames = {'surgery':surgery_list, 'still':still_list, 'anesthesia/handhygiene':target_list}\n",
    "        \n",
    "        \n",
    "        for procedure in ['surgery', 'still', 'anesthesia/handhygiene']:\n",
    "            if frames[procedure] is np.nan:\n",
    "                continue\n",
    "                \n",
    "            lists = frames[procedure].strip().split(',')\n",
    "            for el in lists:\n",
    "                start = el.strip().split('-')[0]\n",
    "                end = el.strip().split('-')[1]\n",
    "\n",
    "                # if current frame is in range of (start, end)\n",
    "                if int(frame_num) in range(int(start), int(end)+1):\n",
    "                    shutil.move(image, os.path.join(data_dir, 'images/'+procedure))\n",
    "                    cnt += 1\n",
    "                    break\n",
    "    \n",
    "    print(\"{} images moved to {}\".format(cnt, os.path.join(data_dir, 'images/'+procedure)))\n",
    "    #!mv /media/minjee/4970a4b3-9bec-42aa-8022-ddff6e7b8f80/labeled/* /media/minjee/4970a4b3-9bec-42aa-8022-ddff6e7b8f80/images/anesthesia/\n",
    "    return"
   ]
  },
  {
   "cell_type": "code",
   "execution_count": null,
   "metadata": {},
   "outputs": [],
   "source": [
    "sort_frames_into_categories(img_dir)"
   ]
  }
 ],
 "metadata": {
  "kernelspec": {
   "display_name": "Python 2",
   "language": "python",
   "name": "python2"
  },
  "language_info": {
   "codemirror_mode": {
    "name": "ipython",
    "version": 2
   },
   "file_extension": ".py",
   "mimetype": "text/x-python",
   "name": "python",
   "nbconvert_exporter": "python",
   "pygments_lexer": "ipython2",
   "version": "2.7.12"
  }
 },
 "nbformat": 4,
 "nbformat_minor": 2
}
