{
 "cells": [
  {
   "cell_type": "code",
   "execution_count": 2,
   "metadata": {},
   "outputs": [],
   "source": [
    "import numpy as np\n",
    "import pandas as pd\n",
    "import os\n",
    "from tqdm import tqdm\n",
    "from glob import glob\n",
    "import shutil"
   ]
  },
  {
   "cell_type": "code",
   "execution_count": 3,
   "metadata": {},
   "outputs": [],
   "source": [
    "#data_dir = \"/media/minjee/4970a4b3-9bec-42aa-8022-ddff6e7b8f80/\"\n",
    "#img_dir = os.path.join(data_dir, \"labeled/\")\n",
    "data_dir = os.getcwd()\n",
    "img_dir = os.path.join(data_dir, 'images/')\n",
    "excel_path = os.path.join(os.getcwd(), 'hh_label_all.xlsx')\n",
    "\n",
    "df_ex = pd.read_excel(excel_path)"
   ]
  },
  {
   "cell_type": "code",
   "execution_count": 3,
   "metadata": {},
   "outputs": [],
   "source": [
    "\"\"\"\n",
    "Seperating raw images into 3 categories; surgery, anesthesia, still(useless images) \n",
    "\"\"\"\n",
    "# classes directories\n",
    "# /images\n",
    "### /surgery\n",
    "### /anesthesia\n",
    "###    /handhygiene (target)\n",
    "### /still\n",
    "def get_classes(cls, df):\n",
    "    classes = []\n",
    "    for col in df_ex.columns:\n",
    "        if cls in col:\n",
    "            classes.append(col)\n",
    "            \n",
    "    subclasses = {}\n",
    "    if not classes:\n",
    "        return\n",
    "\n",
    "    for cls in classes: # subclass\n",
    "        subclasses[cls] = df[cls].iloc[0] \n",
    "    return subclasses\n",
    "\n",
    "            \n",
    "def sort_frames_into_categories(img_dir):\n",
    "    cnt = 0\n",
    "    images = glob(img_dir+'*.jpg')\n",
    "    images.sort()\n",
    "    \n",
    "    for image in tqdm(images): \n",
    "        img_name= image.split('/')[-1].split('.')[0]\n",
    "        \n",
    "        video_id = int(img_name.split('_')[0])\n",
    "        frame_num = img_name[-6:] # ex: 000001\n",
    "        df = df_ex[df_ex['video_id'] == video_id]\n",
    "\n",
    "        for phase in ['surgery', 'anesthesia', 'still']:\n",
    "            frames = get_classes(phase, df)\n",
    "            \n",
    "            for procedure in sorted(frames.keys(), reverse=True):\n",
    "                if frames[procedure] is np.nan:\n",
    "                    continue\n",
    "                \n",
    "                lists = frames[procedure].strip().split(',')\n",
    "                for el in lists:\n",
    "                    start = el.strip().split('-')[0]\n",
    "                    end = el.strip().split('-')[1]\n",
    "\n",
    "                    if int(frame_num) in range(int(start), int(end)+1):\n",
    "                        if not os.path.exists(image):\n",
    "                            continue\n",
    "\n",
    "                        #print(\"image: {}, procedure: {}\".format(os.path.basename(image), procedure))\n",
    "\n",
    "                        dst_path = os.path.join(data_dir, 'images/'+procedure)\n",
    "                        if not os.path.exists(dst_path):\n",
    "                            os.mkdir(dst_path)\n",
    "                        shutil.move(image, dst_path)\n",
    "                        #cnt += 1\n",
    "                        break\n",
    "                        \n",
    "    return"
   ]
  },
  {
   "cell_type": "code",
   "execution_count": 4,
   "metadata": {
    "scrolled": true
   },
   "outputs": [
    {
     "name": "stderr",
     "output_type": "stream",
     "text": [
      "0it [00:00, ?it/s]\n"
     ]
    }
   ],
   "source": [
    "sort_frames_into_categories(img_dir)"
   ]
  },
  {
   "cell_type": "code",
   "execution_count": 14,
   "metadata": {},
   "outputs": [],
   "source": [
    "input_dir = os.path.join(data_dir, 'images/anesthesia/handhygiene')\n",
    "video_dir = os.path.join(data_dir, \"videos/anesthesia/handhygiene\")\n",
    "\n",
    "def get_last_video_id():\n",
    "    videos = glob(os.path.join(video_dir, \"*.avi\"))\n",
    "    v_last = sorted(videos, key=os.path.getmtime)[-1]\n",
    "    return os.path.splitext(os.path.basename(v_last))[0].split('_')[-1]\n",
    "        \n",
    "\n",
    "def images_to_video():\n",
    "    cnt = get_last_video_id()\n",
    "    print(cnt)\n",
    "    return\n",
    "    for row in df_ex.values:\n",
    "        vname = row[1] #video_name\n",
    "        target = row[6] #anesthesia/handhygiene\n",
    "        fps = row[8] #fps\n",
    "        \n",
    "        if target is np.nan:\n",
    "            continue\n",
    "            \n",
    "        lists = target.strip().split(',')\n",
    "        for el in lists:\n",
    "            start = el.strip().split('-')[0]\n",
    "            \n",
    "            images_path = os.path.join(input_dir, vname+'_frames%06d.jpg')\n",
    "            target_dir = os.path.join(video_dir, vname+'_'+str(cnt)+'.avi')\n",
    "            if not os.path.exists(target_dir):\n",
    "                cnt += 1\n",
    "                !ffmpeg -r $fps -start_number $start -i $images_path -c:v libx264 -profile:v high -crf 20 -pix_fmt yuv420p $target_dir -y\n",
    "            "
   ]
  },
  {
   "cell_type": "code",
   "execution_count": 15,
   "metadata": {},
   "outputs": [
    {
     "name": "stdout",
     "output_type": "stream",
     "text": [
      "18\n"
     ]
    }
   ],
   "source": [
    "images_to_video()"
   ]
  },
  {
   "cell_type": "code",
   "execution_count": null,
   "metadata": {},
   "outputs": [],
   "source": []
  }
 ],
 "metadata": {
  "kernelspec": {
   "display_name": "Python 2",
   "language": "python",
   "name": "python2"
  },
  "language_info": {
   "codemirror_mode": {
    "name": "ipython",
    "version": 2
   },
   "file_extension": ".py",
   "mimetype": "text/x-python",
   "name": "python",
   "nbconvert_exporter": "python",
   "pygments_lexer": "ipython2",
   "version": "2.7.12"
  }
 },
 "nbformat": 4,
 "nbformat_minor": 2
}
