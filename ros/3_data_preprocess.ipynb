{
 "cells": [
  {
   "cell_type": "code",
   "execution_count": null,
   "metadata": {},
   "outputs": [],
   "source": [
    "### preprocessing procedures are in two steps\n",
    "# 1. pick a random non-target images (not clean images)\n",
    "# 2. split into train, val and test\n",
    "\n",
    "import numpy as np\n",
    "import pandas as pd\n",
    "from tqdm import tqdm\n",
    "from glob import glob\n",
    "import shutil\n",
    "import random\n",
    "import argparse\n",
    "import os, shutil\n",
    "from sklearn.model_selection import train_test_split"
   ]
  },
  {
   "cell_type": "code",
   "execution_count": null,
   "metadata": {},
   "outputs": [],
   "source": [
    "data_dir = os.getcwd()\n",
    "img_dir = os.path.join(data_dir, 'jpg/')\n",
    "excel_path = os.path.join(data_dir, 'data/hh_label_all.xlsx')\n",
    "label_path = os.path.join(data_dir, 'data/hh_label_all.csv') \n",
    "df_ex = pd.read_excel(excel_path)\n",
    "\n",
    "anesthesia_dir = '/data/handhygiene/images/anesthesia/'"
   ]
  },
  {
   "cell_type": "code",
   "execution_count": null,
   "metadata": {},
   "outputs": [],
   "source": [
    "def pick_random_frames():\n",
    "    for row in df_ex[['video_name', 'anesthesia', 'anesthesia/handhygiene']].values:\n",
    "        vname = row[0]\n",
    "        target = row[2]\n",
    "        if target is np.nan:\n",
    "            continue\n",
    "        n_target = len(target.strip().split(','))\n",
    "        print(\"target has {} clip/clips. pick a random {} case from video_id {}.\".format(n_target, n_target, vname))\n",
    "        \n",
    "        for n in range(n_target):\n",
    "            list = row[1].strip().split(',')\n",
    "            pick = random.choice(list)\n",
    "            start, end = pick.split('-')\n",
    "            l_rand = random.randint(16, 30)\n",
    "            n_rand = random.randint(int(start), int(end)-l_rand)\n",
    "            \n",
    "            new_dir = ''\n",
    "            for i in range(l_rand):\n",
    "                dir_name = vname + '_frames' + str(n_rand+i).zfill(6)\n",
    "                img_name = dir_name + '.jpg'\n",
    "                if i == 0:\n",
    "                    if not os.path.exists(os.path.join(anesthesia_dir, 'notclean')):\n",
    "                        os.mkdir(os.path.join(anesthesia_dir, 'notclean'))\n",
    "                    new_dir = os.path.join(anesthesia_dir, 'notclean/'+dir_name)\n",
    "                    os.mkdir(new_dir)\n",
    "                if new_dir is not '':\n",
    "                    shutil.copy(os.path.join(anesthesia_dir, img_name), new_dir)"
   ]
  },
  {
   "cell_type": "code",
   "execution_count": null,
   "metadata": {
    "scrolled": true
   },
   "outputs": [],
   "source": [
    "pick_random_frames()"
   ]
  },
  {
   "cell_type": "code",
   "execution_count": null,
   "metadata": {},
   "outputs": [],
   "source": [
    "test_size= 0.2\n",
    "val_size = 0.2"
   ]
  },
  {
   "cell_type": "code",
   "execution_count": null,
   "metadata": {
    "scrolled": true
   },
   "outputs": [],
   "source": [
    "classes = os.listdir(img_dir) # ['notclean', 'clean']\n",
    "vids = []\n",
    "for c in classes:\n",
    "    class_dir = os.path.join(img_dir, c)\n",
    "    v_name_dirs = os.listdir(class_dir)\n",
    "    for vname in v_name_dirs:\n",
    "        vid = vname.split('_')[0]\n",
    "        if vid not in vids:\n",
    "            vids.append(vid)"
   ]
  },
  {
   "cell_type": "code",
   "execution_count": null,
   "metadata": {},
   "outputs": [],
   "source": [
    "def split_train_val_test(img_dir, vids):\n",
    "    x_train, x_test = train_test_split(vids, test_size=test_size)\n",
    "    x_train, x_val = train_test_split(x_train, test_size=val_size)\n",
    "    #x_train, x_val, x_test = ['17', '25', '8', '5', '2', '13', '4'], ['29', '1'], ['18', '11', '28']\n",
    "    \n",
    "    for c in classes:\n",
    "        class_dir = os.path.join(img_dir, c)\n",
    "        for phase in [\"train\", \"val\", \"test\"]:\n",
    "            target_dir = os.path.join(img_dir, phase)\n",
    "            if not os.path.exists(target_dir):\n",
    "                os.mkdir(target_dir)\n",
    "\n",
    "            if phase == \"train\":\n",
    "                target = x_train\n",
    "            elif phase == \"val\":\n",
    "                target = x_val\n",
    "            elif phase == \"test\":\n",
    "                target = x_test\n",
    "\n",
    "            for vid in tqdm(target):\n",
    "                origin_dir = os.path.join(class_dir, str(vid)+'_*')\n",
    "                dst_dir = os.path.join(target_dir, os.path.basename(class_dir))\n",
    "                if not os.path.exists(dst_dir):\n",
    "                    os.mkdir(dst_dir)\n",
    "                os.system(\"mv %s %s\" % (origin_dir, dst_dir))\n",
    "            \n",
    "        os.rmdir(class_dir)\n",
    "    return"
   ]
  },
  {
   "cell_type": "code",
   "execution_count": null,
   "metadata": {},
   "outputs": [],
   "source": [
    "split_train_val_test(img_dir, vids)"
   ]
  },
  {
   "cell_type": "code",
   "execution_count": null,
   "metadata": {},
   "outputs": [],
   "source": []
  }
 ],
 "metadata": {
  "kernelspec": {
   "display_name": "Python 2",
   "language": "python",
   "name": "python2"
  },
  "language_info": {
   "codemirror_mode": {
    "name": "ipython",
    "version": 2
   },
   "file_extension": ".py",
   "mimetype": "text/x-python",
   "name": "python",
   "nbconvert_exporter": "python",
   "pygments_lexer": "ipython2",
   "version": "2.7.12"
  }
 },
 "nbformat": 4,
 "nbformat_minor": 2
}
