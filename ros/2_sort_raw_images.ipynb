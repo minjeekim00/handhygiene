{
 "cells": [
  {
   "cell_type": "code",
   "execution_count": null,
   "metadata": {},
   "outputs": [],
   "source": [
    "import numpy as np\n",
    "import pandas as pd\n",
    "import os\n",
    "from tqdm import tqdm\n",
    "from glob import glob\n",
    "import shutil"
   ]
  },
  {
   "cell_type": "code",
   "execution_count": null,
   "metadata": {},
   "outputs": [],
   "source": [
    "!pip3 install xlrd"
   ]
  },
  {
   "cell_type": "code",
   "execution_count": null,
   "metadata": {},
   "outputs": [],
   "source": [
    "DATA_DIR = './data/'\n",
    "TARGET_DIR = os.path.join(DATA_DIR, 'images/handhygiene')\n",
    "IMG_DIR = os.path.join(DATA_DIR, 'images')\n",
    "VID_DIR = os.path.join(DATA_DIR, 'videos')\n",
    "EXCEL_PATH = os.path.join(DATA_DIR, 'hh_label.xlsx')\n",
    "df_ex = pd.read_excel(EXCEL_PATH)"
   ]
  },
  {
   "cell_type": "code",
   "execution_count": null,
   "metadata": {},
   "outputs": [],
   "source": [
    "\"\"\"\n",
    "Seperating raw images into 3 categories; surgery, anesthesia, still(useless images) \n",
    "\"\"\"\n",
    "# classes directories\n",
    "# /images\n",
    "### /surgery\n",
    "### /surgery_label\n",
    "### /anesthesia\n",
    "### /anesthesia_label\n",
    "#####    /handhygiene (target)\n",
    "### /still\n",
    "### /simulation\n",
    "# /videos\n",
    "\n",
    "### /anesthesia_label\n",
    "\n",
    "def get_classes(cls, df):\n",
    "    \"\"\" get a specific class and its subclasses\"\"\"\n",
    "    classes = []\n",
    "    for col in df_ex.columns:\n",
    "        if cls in col:\n",
    "            classes.append(col)\n",
    "            \n",
    "    subclasses = {}\n",
    "    if not classes:\n",
    "        return\n",
    "    for cls in classes: # subclass\n",
    "        subclasses[cls] = df[cls].iloc[0] \n",
    "    return subclasses\n",
    "\n",
    "            \n",
    "def sort_frames_into_categories(TARGET_DIR, IMG_DIR):\n",
    "    cnt = 0\n",
    "    images = glob(os.path.join(TARGET_DIR,'*.jpg'))\n",
    "    images.sort()\n",
    "    \n",
    "    for image in tqdm(images): \n",
    "        img_name= image.split('/')[-1].split('.')[0]\n",
    "        video_id = int(img_name.split('_')[0])\n",
    "        video_name = str(video_id)+'_'+img_name.split('_')[1]\n",
    "        frame_num = img_name[-6:] # ex: 000001\n",
    "        df = df_ex[df_ex['video_id'] == video_id]\n",
    "\n",
    "        for phase in ['surgery', 'anesthesia', 'still']:\n",
    "            frames = get_classes(phase, df)\n",
    "            \n",
    "            for procedure in sorted(frames.keys(), reverse=True):\n",
    "                #if frames[procedure] is np.nan:\n",
    "                if 'float' in str(type(frames[procedure])):\n",
    "                    continue\n",
    "                \n",
    "                lists = frames[procedure].strip().split(',')\n",
    "                for el in lists:\n",
    "                    start = el.strip().split('-')[0]\n",
    "                    end = el.strip().split('-')[1]\n",
    "\n",
    "                    if int(frame_num) in range(int(start), int(end)+1):\n",
    "                        if not os.path.exists(image):\n",
    "                            continue\n",
    "\n",
    "                        #print(\"image: {}, procedure: {}\".format(os.path.basename(image), procedure))\n",
    "                        \n",
    "                        if '/' not in procedure: ## for class\n",
    "                            label_path = os.path.join(IMG_DIR, procedure)\n",
    "                        else : ## for subclass(labeled)\n",
    "                            label = procedure.split('/')[0]\n",
    "                            sublabel = procedure.split('/')[1]\n",
    "                            label_path = os.path.join(IMG_DIR, label+'_label')\n",
    "                            if not os.path.exists(label_path):\n",
    "                                os.mkdir(label_path)\n",
    "                            label_path = os.path.join(label_path, sublabel)\n",
    "                        if not os.path.exists(label_path):\n",
    "                            os.mkdir(label_path)    \n",
    "                        dst_path = os.path.join(label_path, video_name)\n",
    "                        if not os.path.exists(dst_path):\n",
    "                            os.mkdir(dst_path)\n",
    "                        \n",
    "                        shutil.move(image, dst_path)\n",
    "                        #cnt += 1\n",
    "                        break\n",
    "                        \n",
    "    return"
   ]
  },
  {
   "cell_type": "code",
   "execution_count": null,
   "metadata": {
    "scrolled": true
   },
   "outputs": [],
   "source": [
    "sort_frames_into_categories(TARGET_DIR, IMG_DIR)"
   ]
  },
  {
   "cell_type": "code",
   "execution_count": null,
   "metadata": {},
   "outputs": [],
   "source": [
    "CUSTOM_LIST='109-145, 159-178, 187-239, 247-263, 272-344, 382-402, 431-462, 538-610, 640-805, 812-829, 848-926, 1004-1013, 1069-1092, 1096-1104, 1149-1164, 1233-1249, 1260-1280, 1352-1380, 1432-1453, 1532-1611, 1630-1674, 1689-1728, 1749-1785, 1789-1810, 1894-1903, 2027-2083, 2154-2173, 2191-2198, 2255-2342, 2353-2380, 2381-2405, 2412-2458, 2468-2479, 2412-2458, 2468-2479, 2495-2540, 2588-2608, 2613-2628, 2629-2649, 2658-2675, 2696-2712, 2743-2774, 2839-2846, 2859-2871, 2915-2937, 2944-2978, 2986-3036, 3113-3120, 3152-3159, 3184-3206, 3241-3248, 3359-3400, 3401-3434, 3544-3573, 3589-3604, 3766-3802, 3847-3862, 3896-3916, 3940-3960, 4034-4070, 4283-4298, 4411-4445, 4758-4782, 5327-5354, 5471-5490, 5507-5522, 5575-5591, 5759-5780, 5795-5811, 5853-5868, 5919-5934, 5935-5960, 6019-6050, 6077-6092, 6222-6246, 6438-6453, 6587-6612, 6667-6684, 6768-6787, 6793-6808'"
   ]
  },
  {
   "cell_type": "code",
   "execution_count": null,
   "metadata": {},
   "outputs": [],
   "source": [
    "TARGET_LABEL = 'anesthesia_label/handhygiene'\n",
    "NONE_TARGET_LABEL = 'anesthesia/'\n",
    "INPUT_DIR = os.path.join(IMG_DIR, TARGET_LABEL)\n",
    "OUTPUT_DIR = os.path.join(VID_DIR, TARGET_LABEL)\n",
    "VIDEO_EXT = '.mp4'\n",
    "\n",
    "def make_video(INPUT_DIR, OUTPUT_DIR, start, vname, fps, ext):\n",
    "    images_path = os.path.join(INPUT_DIR, vname, vname+'_frames%06d.jpg')\n",
    "    target_dir = os.path.join(OUTPUT_DIR, vname+'_{}'.format(start.zfill(6))+ext)\n",
    "    if not os.path.exists(target_dir):\n",
    "        #print(fps, start, images_path, target_dir)\n",
    "        !ffmpeg -r $fps -start_number $start -i $images_path -c:v libx264 -profile:v high -crf 20 -pix_fmt yuv420p $target_dir -y\n",
    "    return\n",
    "\n",
    "def images_to_video(OUTPUT_DIR, NONE_TARGET_LABEL=None):\n",
    "    for row in tqdm(df_ex[['video_name', 'anesthesia/handhygiene', 'fps']].values):\n",
    "        vname, target, fps = row\n",
    "        if target is np.nan:\n",
    "            continue\n",
    "        lists = target.strip().split(',')\n",
    "        \n",
    "        ## target\n",
    "        for el in lists[:]:\n",
    "            start = el.strip().split('-')[0]\n",
    "            make_video(INPUT_DIR, OUTPUT_DIR, start, vname, fps, VIDEO_EXT)\n",
    "            \n",
    "        ## none-target    \n",
    "#         if NONE_TARGET_LABEL is not None:\n",
    "#             start = '0'\n",
    "#             for el in CUSTOM_LIST.strip().split(','):\n",
    "#                 end = str(int(el.strip().split('-')[0])-1)\n",
    "#                 if int(end)-int(start) > 16:\n",
    "#                     print(vname, start, end)\n",
    "#                     make_video(os.path.join(IMG_DIR, NONE_TARGET_LABEL), \n",
    "#                                 os.path.join(VID_DIR, NONE_TARGET_LABEL), \n",
    "#                                 start, vname, fps, VIDEO_EXT)\n",
    "#                 start = str(int(el.strip().split('-')[1])+1)"
   ]
  },
  {
   "cell_type": "code",
   "execution_count": null,
   "metadata": {},
   "outputs": [],
   "source": [
    "images_to_video(OUTPUT_DIR, NONE_TARGET_LABEL)"
   ]
  }
 ],
 "metadata": {
  "kernelspec": {
   "display_name": "Python 3",
   "language": "python",
   "name": "python3"
  },
  "language_info": {
   "codemirror_mode": {
    "name": "ipython",
    "version": 3
   },
   "file_extension": ".py",
   "mimetype": "text/x-python",
   "name": "python",
   "nbconvert_exporter": "python",
   "pygments_lexer": "ipython3",
   "version": "3.5.2"
  }
 },
 "nbformat": 4,
 "nbformat_minor": 2
}
