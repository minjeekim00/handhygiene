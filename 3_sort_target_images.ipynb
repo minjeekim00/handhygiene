{
 "cells": [
  {
   "cell_type": "code",
   "execution_count": 1,
   "metadata": {},
   "outputs": [],
   "source": [
    "import numpy as np\n",
    "import pandas as pd\n",
    "import os\n",
    "from tqdm import tqdm\n",
    "from glob import glob\n",
    "import shutil\n",
    "import random"
   ]
  },
  {
   "cell_type": "code",
   "execution_count": 2,
   "metadata": {},
   "outputs": [],
   "source": [
    "data_dir = os.getcwd()\n",
    "img_dir = os.path.join(data_dir, 'jpg/')\n",
    "excel_path = os.path.join(data_dir, 'hh_label.xlsx')\n",
    "label_path = os.path.join(data_dir, 'hh_label.csv') \n",
    "df_ex = pd.read_excel(excel_path)\n",
    "\n",
    "anesthesia_dir = '/media/minjee/4970a4b3-9bec-42aa-8022-ddff6e7b8f80/images/anesthesia/'"
   ]
  },
  {
   "cell_type": "code",
   "execution_count": 3,
   "metadata": {
    "scrolled": true
   },
   "outputs": [],
   "source": [
    "def move_target_data(image, target_dir):\n",
    "    if not os.path.exists(target_dir):\n",
    "        os.mkdir(target_dir)\n",
    "    shutil.move(image, target_dir)"
   ]
  },
  {
   "cell_type": "code",
   "execution_count": 4,
   "metadata": {},
   "outputs": [],
   "source": [
    "def add_to_data_dict(video_id, img_date, img_name, clip_num, category):\n",
    "    hh_dict['video_id'].append(video_id)\n",
    "    hh_dict['date'].append(img_date)\n",
    "    hh_dict['img_name'].append(img_name+'.jpg')\n",
    "    hh_dict['clip_num'].append(clip_num)\n",
    "    hh_dict['category'].append(category)\n",
    "    return "
   ]
  },
  {
   "cell_type": "code",
   "execution_count": 5,
   "metadata": {},
   "outputs": [],
   "source": [
    "def pick_random_frames():\n",
    "    for row in df_ex[['video_name', 'anesthesia', 'anesthesia/handhygiene', 'anesthesia/intubation']].values:\n",
    "        vname = row[0]\n",
    "        target = row[2]\n",
    "        if target is np.nan:\n",
    "            continue\n",
    "        n_target = len(target.strip().split(','))\n",
    "        print(\"target has {} clip/clips. pick a random {} case from video_id {}.\".format(n_target, n_target, vname))\n",
    "        \n",
    "        for n in range(n_target):\n",
    "            list = row[1].strip().split(',')\n",
    "            pick = random.choice(list)\n",
    "            start, end = pick.split('-')\n",
    "            l_rand = random.randint(16, 40)\n",
    "            n_rand = random.randint(int(start), int(end)-l_rand)\n",
    "            \n",
    "            for i in range(l_rand):\n",
    "                imgname = vname + '_frames' + str(n_rand+i).zfill(6) + '.jpg'\n",
    "                shutil.copy(os.path.join(anesthesia_dir, imgname), img_dir)\n",
    "            "
   ]
  },
  {
   "cell_type": "code",
   "execution_count": 6,
   "metadata": {
    "scrolled": true
   },
   "outputs": [
    {
     "name": "stdout",
     "output_type": "stream",
     "text": [
      "target has 1 clip/clips. pick a random 1 case from video_id 2_20181112.\n",
      "target has 5 clip/clips. pick a random 5 case from video_id 5_20181119.\n",
      "target has 1 clip/clips. pick a random 1 case from video_id 8_20181122.\n",
      "target has 5 clip/clips. pick a random 5 case from video_id 11_20181126.\n",
      "target has 1 clip/clips. pick a random 1 case from video_id 13_20181129.\n",
      "target has 5 clip/clips. pick a random 5 case from video_id 17_20181203.\n",
      "target has 1 clip/clips. pick a random 1 case from video_id 18_20181204.\n"
     ]
    }
   ],
   "source": [
    "pick_random_frames()"
   ]
  },
  {
   "cell_type": "code",
   "execution_count": 7,
   "metadata": {},
   "outputs": [],
   "source": [
    "hh_dict = {'video_id':[], 'date':[], 'img_name':[], 'clip_num':[], 'category':[]}\n",
    "#target_str = 'clean'\n",
    "\n",
    "def is_target(clip_num, frame_num, targets):\n",
    "    for target in targets:\n",
    "        \n",
    "        start, end = target.split('-')\n",
    "        if int(frame_num) in range(int(start), int(end)+1):\n",
    "            if int(frame_num) == int(start):\n",
    "                clip_num += 1\n",
    "            return True, clip_num\n",
    "        else:\n",
    "            continue\n",
    "    \n",
    "    return False, clip_num\n",
    "    \n",
    "def label_data(img_dir):\n",
    "    img_total = glob(os.path.join(img_dir, '*.jpg'))\n",
    "    img_total.sort()\n",
    "    \n",
    "    clip_num = -1\n",
    "    cnt = 0\n",
    "\n",
    "    for image in tqdm(img_total):\n",
    "        img_name= image.split('/')[-1].split('.')[0]\n",
    "        video_id = int(img_name.split('_')[0])\n",
    "        video_date = img_name.split('_')[1]\n",
    "        img_frame_num = img_name[-6:] # ex: 000001\n",
    "        \n",
    "        df = df_ex[df_ex['video_id'] == video_id]\n",
    "        vid, vdate, target = df[['video_id', 'date', 'anesthesia/handhygiene']].values[0]\n",
    "        \n",
    "        categories = {'clean': target, 'notclean': None}\n",
    "        targets = categories['clean'].strip().split(',')\n",
    "        \n",
    "        target, clip_num = is_target(clip_num, img_frame_num, targets)\n",
    "        if target:\n",
    "            move_target_data(image, os.path.join(img_dir, 'clean'))\n",
    "            add_to_data_dict(video_id, video_date, img_name, clip_num, 'clean')\n",
    "            cnt+=1\n",
    "        else:\n",
    "            move_target_data(image, os.path.join(img_dir, 'notclean'))\n",
    "            add_to_data_dict(video_id, video_date, img_name, np.nan, 'notclean')\n",
    "             \n",
    "\n",
    "    print(\"{} images moved to {}\".format(cnt, os.path.join(img_dir, 'clean')))\n",
    "    \n",
    "    return"
   ]
  },
  {
   "cell_type": "code",
   "execution_count": 8,
   "metadata": {
    "scrolled": true
   },
   "outputs": [
    {
     "name": "stderr",
     "output_type": "stream",
     "text": [
      "100%|██████████| 1077/1077 [00:01<00:00, 1001.24it/s]"
     ]
    },
    {
     "name": "stdout",
     "output_type": "stream",
     "text": [
      "539 images moved to /data/handhygiene/jpg/clean\n"
     ]
    },
    {
     "name": "stderr",
     "output_type": "stream",
     "text": [
      "\n"
     ]
    }
   ],
   "source": [
    "label_data(img_dir)"
   ]
  },
  {
   "cell_type": "code",
   "execution_count": 9,
   "metadata": {
    "scrolled": true
   },
   "outputs": [],
   "source": [
    "df = pd.DataFrame(hh_dict)\n",
    "pd.DataFrame.to_csv(df, label_path, index=False)"
   ]
  },
  {
   "cell_type": "code",
   "execution_count": null,
   "metadata": {},
   "outputs": [],
   "source": []
  }
 ],
 "metadata": {
  "kernelspec": {
   "display_name": "Python 2",
   "language": "python",
   "name": "python2"
  },
  "language_info": {
   "codemirror_mode": {
    "name": "ipython",
    "version": 2
   },
   "file_extension": ".py",
   "mimetype": "text/x-python",
   "name": "python",
   "nbconvert_exporter": "python",
   "pygments_lexer": "ipython2",
   "version": "2.7.12"
  }
 },
 "nbformat": 4,
 "nbformat_minor": 2
}
