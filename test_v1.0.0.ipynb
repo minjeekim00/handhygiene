{
 "cells": [
  {
   "cell_type": "code",
   "execution_count": 3,
   "metadata": {},
   "outputs": [],
   "source": [
    "import torch\n",
    "import torchvision.transforms as transforms\n",
    "import torchvision.datasets as datasets\n",
    "from torch.utils.data import DataLoader\n",
    "import numpy as np\n",
    "import os\n",
    "from tqdm import tqdm\n",
    "from glob import glob\n",
    "\n",
    "from dataloader.handhygiene import HandHygiene\n",
    "from spatial_transforms import Compose\n",
    "from spatial_transforms import Normalize\n",
    "from spatial_transforms import Scale\n",
    "from spatial_transforms import CenterCrop\n",
    "from spatial_transforms import ToTensor\n",
    "from temporal_transforms import LoopPadding\n",
    "from temporal_transforms import TemporalRandomCrop\n",
    "from openpose_transforms import MultiScaleTorsoRandomCrop\n",
    "from model.i3dpt import I3D, Unit3Dpy\n",
    "from train import get_models\n",
    "# from model.i3d import I3D_binary\n",
    "\n",
    "from sklearn.metrics import confusion_matrix\n",
    "os.environ[\"CUDA_VISIBLE_DEVICES\"]='2'"
   ]
  },
  {
   "cell_type": "code",
   "execution_count": 9,
   "metadata": {},
   "outputs": [],
   "source": [
    "import easydict\n",
    "import random\n",
    "import torch.backends.cudnn as cudnn\n",
    "\n",
    "# len_clip, batch, step, lr, w_decay, epoch, start_epoch = 16, 384, 3, 1e-4, 1e-7, 100, 0 #20200404_iclr_softmax/\n",
    "# len_clip, batch, step, lr, w_decay, epoch, start_epoch = 16, 256, 3, 1e-2, 1e-3, 100, 0 #20200720\n",
    "args = easydict.EasyDict({\"workers\": 4, \n",
    "                          \"epochs\": 100, \n",
    "                          \"start_epoch\": 0,\n",
    "                          \"clip_len\": 16,\n",
    "                          \"batch_size\": 1,\n",
    "                          \"lr\": 1e-3,\n",
    "                          \"momentum\": 0.9,\n",
    "                          \"weight_decay\": 1e-4,\n",
    "                          \"world_size\": 1,\n",
    "                          \"rank\": 1,\n",
    "                          \"seed\": 100,\n",
    "                          \"gpu\": None,\n",
    "                          \"dist_backend\": \"nccl\",\n",
    "                          \"multiprocessing\": True,\n",
    "                          \"multiprocessing_distributed\": False\n",
    "                         })\n",
    "\n",
    "random.seed(args.seed)\n",
    "torch.manual_seed(args.seed)\n",
    "cudnn.deterministic = True\n",
    "cudnn.benchmark = False"
   ]
  },
  {
   "cell_type": "code",
   "execution_count": 14,
   "metadata": {},
   "outputs": [
    {
     "name": "stdout",
     "output_type": "stream",
     "text": [
      "Training for classes rubbing_hands, touching_equipment, other_action\n"
     ]
    },
    {
     "name": "stderr",
     "output_type": "stream",
     "text": [
      "100%|██████████| 4/4 [00:02<00:00,  1.57it/s]\n",
      "100%|██████████| 4/4 [00:01<00:00,  2.23it/s]\n"
     ]
    },
    {
     "name": "stdout",
     "output_type": "stream",
     "text": [
      "Number of ./data/images_new/test video clips: 1552 (1798 images)\n",
      "Number of clips:  {'rubbing_hands': 517, 'touching_equipment': 487, 'other_action': 548}\n",
      "Number of frames:  {'rubbing_hands': 1111, 'touching_equipment': 757, 'other_action': 3003}\n",
      "Total number of frames: {'rubbing_hands': 19818, 'touching_equipment': 32918, 'other_action': 27008}\n"
     ]
    }
   ],
   "source": [
    "#batch, step, lr, w_decay, epoch = 1, 16, 1e-2, 1e-4, 50 #, scheduler\n",
    "batch, len_clip, step = 1, 16, 16\n",
    "\n",
    "VIDEO_DIR='./data/images_new' #./data/videos\n",
    "#STEPS = {key: step for key in classes}\n",
    "\n",
    "STEPS = {'touching_equipment': 1,\n",
    "        'rubbing_hands': 1,\n",
    "#         'wearing_gloves': 1,\n",
    "        'other_action': 3}\n",
    "IMG_SIZE = 224\n",
    "MEAN = [110.2008, 100.63983, 95.99475] # [110.63666788, 103.16065604, 96.29023126]\n",
    "STD = [58.14765, 56.46975, 55.332195] # [38.7568578, 37.88248729, 40.02898126]\n",
    "\n",
    "scales = np.linspace(0.8, 1.2, num=1000)\n",
    "center = 1\n",
    "\n",
    "\n",
    "# center*=2\n",
    "openpose_transform = {\n",
    "    'test':MultiScaleTorsoRandomCrop(np.linspace(center, center, num=1), \n",
    "                                    IMG_SIZE, centercrop=True)\n",
    "}\n",
    "\n",
    "spatial_transform = {\n",
    "    'test': Compose([Scale(IMG_SIZE), \n",
    "                    CenterCrop(IMG_SIZE), \n",
    "                    ToTensor(1), \n",
    "                    Normalize(MEAN, STD)])}\n",
    "\n",
    "temporal_transform = {'test':LoopPadding(args.clip_len)}\n",
    "\n",
    "\n",
    "dataset = {\n",
    "    'test': HandHygiene(os.path.join(VIDEO_DIR, 'test'), \n",
    "                        frames_per_clip=args.clip_len,\n",
    "                        step_between_clips=STEPS,\n",
    "                        temporal_transform=temporal_transform['test'],\n",
    "                        openpose_transform=openpose_transform['test'],\n",
    "                        spatial_transform=spatial_transform['test']\n",
    "                       )\n",
    "}\n",
    "\n",
    "num_classes = len(dataset['test'].classes)\n",
    "\n",
    "dataloaders = {\n",
    "    'test': DataLoader(dataset['test'], batch_size=args.batch_size, shuffle=False, num_workers=args.workers)\n",
    "}"
   ]
  },
  {
   "cell_type": "code",
   "execution_count": 15,
   "metadata": {},
   "outputs": [
    {
     "data": {
      "text/plain": [
       "I3D(\n",
       "  (conv3d_1a_7x7): Unit3Dpy(\n",
       "    (pad): ConstantPad3d(padding=(2, 3, 2, 3, 2, 3), value=0)\n",
       "    (conv3d): Conv3d(2, 64, kernel_size=(7, 7, 7), stride=(2, 2, 2), bias=False)\n",
       "    (batch3d): BatchNorm3d(64, eps=1e-05, momentum=0.1, affine=True, track_running_stats=True)\n",
       "  )\n",
       "  (maxPool3d_2a_3x3): MaxPool3dTFPadding(\n",
       "    (pad): ConstantPad3d(padding=(0, 1, 0, 1, 0, 0), value=0)\n",
       "    (pool): MaxPool3d(kernel_size=(1, 3, 3), stride=(1, 2, 2), padding=0, dilation=1, ceil_mode=True)\n",
       "  )\n",
       "  (conv3d_2b_1x1): Unit3Dpy(\n",
       "    (conv3d): Conv3d(64, 64, kernel_size=(1, 1, 1), stride=(1, 1, 1), bias=False)\n",
       "    (batch3d): BatchNorm3d(64, eps=1e-05, momentum=0.1, affine=True, track_running_stats=True)\n",
       "  )\n",
       "  (conv3d_2c_3x3): Unit3Dpy(\n",
       "    (conv3d): Conv3d(64, 192, kernel_size=(3, 3, 3), stride=(1, 1, 1), padding=(1, 1, 1), bias=False)\n",
       "    (batch3d): BatchNorm3d(192, eps=1e-05, momentum=0.1, affine=True, track_running_stats=True)\n",
       "  )\n",
       "  (maxPool3d_3a_3x3): MaxPool3dTFPadding(\n",
       "    (pad): ConstantPad3d(padding=(0, 1, 0, 1, 0, 0), value=0)\n",
       "    (pool): MaxPool3d(kernel_size=(1, 3, 3), stride=(1, 2, 2), padding=0, dilation=1, ceil_mode=True)\n",
       "  )\n",
       "  (mixed_3b): Mixed(\n",
       "    (branch_0): Unit3Dpy(\n",
       "      (conv3d): Conv3d(192, 64, kernel_size=(1, 1, 1), stride=(1, 1, 1), bias=False)\n",
       "      (batch3d): BatchNorm3d(64, eps=1e-05, momentum=0.1, affine=True, track_running_stats=True)\n",
       "    )\n",
       "    (branch_1): Sequential(\n",
       "      (0): Unit3Dpy(\n",
       "        (conv3d): Conv3d(192, 96, kernel_size=(1, 1, 1), stride=(1, 1, 1), bias=False)\n",
       "        (batch3d): BatchNorm3d(96, eps=1e-05, momentum=0.1, affine=True, track_running_stats=True)\n",
       "      )\n",
       "      (1): Unit3Dpy(\n",
       "        (conv3d): Conv3d(96, 128, kernel_size=(3, 3, 3), stride=(1, 1, 1), padding=(1, 1, 1), bias=False)\n",
       "        (batch3d): BatchNorm3d(128, eps=1e-05, momentum=0.1, affine=True, track_running_stats=True)\n",
       "      )\n",
       "    )\n",
       "    (branch_2): Sequential(\n",
       "      (0): Unit3Dpy(\n",
       "        (conv3d): Conv3d(192, 16, kernel_size=(1, 1, 1), stride=(1, 1, 1), bias=False)\n",
       "        (batch3d): BatchNorm3d(16, eps=1e-05, momentum=0.1, affine=True, track_running_stats=True)\n",
       "      )\n",
       "      (1): Unit3Dpy(\n",
       "        (conv3d): Conv3d(16, 32, kernel_size=(3, 3, 3), stride=(1, 1, 1), padding=(1, 1, 1), bias=False)\n",
       "        (batch3d): BatchNorm3d(32, eps=1e-05, momentum=0.1, affine=True, track_running_stats=True)\n",
       "      )\n",
       "    )\n",
       "    (branch_3): Sequential(\n",
       "      (0): MaxPool3dTFPadding(\n",
       "        (pad): ConstantPad3d(padding=(1, 1, 1, 1, 1, 1), value=0)\n",
       "        (pool): MaxPool3d(kernel_size=(3, 3, 3), stride=(1, 1, 1), padding=0, dilation=1, ceil_mode=True)\n",
       "      )\n",
       "      (1): Unit3Dpy(\n",
       "        (conv3d): Conv3d(192, 32, kernel_size=(1, 1, 1), stride=(1, 1, 1), bias=False)\n",
       "        (batch3d): BatchNorm3d(32, eps=1e-05, momentum=0.1, affine=True, track_running_stats=True)\n",
       "      )\n",
       "    )\n",
       "  )\n",
       "  (mixed_3c): Mixed(\n",
       "    (branch_0): Unit3Dpy(\n",
       "      (conv3d): Conv3d(256, 128, kernel_size=(1, 1, 1), stride=(1, 1, 1), bias=False)\n",
       "      (batch3d): BatchNorm3d(128, eps=1e-05, momentum=0.1, affine=True, track_running_stats=True)\n",
       "    )\n",
       "    (branch_1): Sequential(\n",
       "      (0): Unit3Dpy(\n",
       "        (conv3d): Conv3d(256, 128, kernel_size=(1, 1, 1), stride=(1, 1, 1), bias=False)\n",
       "        (batch3d): BatchNorm3d(128, eps=1e-05, momentum=0.1, affine=True, track_running_stats=True)\n",
       "      )\n",
       "      (1): Unit3Dpy(\n",
       "        (conv3d): Conv3d(128, 192, kernel_size=(3, 3, 3), stride=(1, 1, 1), padding=(1, 1, 1), bias=False)\n",
       "        (batch3d): BatchNorm3d(192, eps=1e-05, momentum=0.1, affine=True, track_running_stats=True)\n",
       "      )\n",
       "    )\n",
       "    (branch_2): Sequential(\n",
       "      (0): Unit3Dpy(\n",
       "        (conv3d): Conv3d(256, 32, kernel_size=(1, 1, 1), stride=(1, 1, 1), bias=False)\n",
       "        (batch3d): BatchNorm3d(32, eps=1e-05, momentum=0.1, affine=True, track_running_stats=True)\n",
       "      )\n",
       "      (1): Unit3Dpy(\n",
       "        (conv3d): Conv3d(32, 96, kernel_size=(3, 3, 3), stride=(1, 1, 1), padding=(1, 1, 1), bias=False)\n",
       "        (batch3d): BatchNorm3d(96, eps=1e-05, momentum=0.1, affine=True, track_running_stats=True)\n",
       "      )\n",
       "    )\n",
       "    (branch_3): Sequential(\n",
       "      (0): MaxPool3dTFPadding(\n",
       "        (pad): ConstantPad3d(padding=(1, 1, 1, 1, 1, 1), value=0)\n",
       "        (pool): MaxPool3d(kernel_size=(3, 3, 3), stride=(1, 1, 1), padding=0, dilation=1, ceil_mode=True)\n",
       "      )\n",
       "      (1): Unit3Dpy(\n",
       "        (conv3d): Conv3d(256, 64, kernel_size=(1, 1, 1), stride=(1, 1, 1), bias=False)\n",
       "        (batch3d): BatchNorm3d(64, eps=1e-05, momentum=0.1, affine=True, track_running_stats=True)\n",
       "      )\n",
       "    )\n",
       "  )\n",
       "  (maxPool3d_4a_3x3): MaxPool3dTFPadding(\n",
       "    (pad): ConstantPad3d(padding=(0, 1, 0, 1, 0, 1), value=0)\n",
       "    (pool): MaxPool3d(kernel_size=(3, 3, 3), stride=(2, 2, 2), padding=0, dilation=1, ceil_mode=True)\n",
       "  )\n",
       "  (mixed_4b): Mixed(\n",
       "    (branch_0): Unit3Dpy(\n",
       "      (conv3d): Conv3d(480, 192, kernel_size=(1, 1, 1), stride=(1, 1, 1), bias=False)\n",
       "      (batch3d): BatchNorm3d(192, eps=1e-05, momentum=0.1, affine=True, track_running_stats=True)\n",
       "    )\n",
       "    (branch_1): Sequential(\n",
       "      (0): Unit3Dpy(\n",
       "        (conv3d): Conv3d(480, 96, kernel_size=(1, 1, 1), stride=(1, 1, 1), bias=False)\n",
       "        (batch3d): BatchNorm3d(96, eps=1e-05, momentum=0.1, affine=True, track_running_stats=True)\n",
       "      )\n",
       "      (1): Unit3Dpy(\n",
       "        (conv3d): Conv3d(96, 208, kernel_size=(3, 3, 3), stride=(1, 1, 1), padding=(1, 1, 1), bias=False)\n",
       "        (batch3d): BatchNorm3d(208, eps=1e-05, momentum=0.1, affine=True, track_running_stats=True)\n",
       "      )\n",
       "    )\n",
       "    (branch_2): Sequential(\n",
       "      (0): Unit3Dpy(\n",
       "        (conv3d): Conv3d(480, 16, kernel_size=(1, 1, 1), stride=(1, 1, 1), bias=False)\n",
       "        (batch3d): BatchNorm3d(16, eps=1e-05, momentum=0.1, affine=True, track_running_stats=True)\n",
       "      )\n",
       "      (1): Unit3Dpy(\n",
       "        (conv3d): Conv3d(16, 48, kernel_size=(3, 3, 3), stride=(1, 1, 1), padding=(1, 1, 1), bias=False)\n",
       "        (batch3d): BatchNorm3d(48, eps=1e-05, momentum=0.1, affine=True, track_running_stats=True)\n",
       "      )\n",
       "    )\n",
       "    (branch_3): Sequential(\n",
       "      (0): MaxPool3dTFPadding(\n",
       "        (pad): ConstantPad3d(padding=(1, 1, 1, 1, 1, 1), value=0)\n",
       "        (pool): MaxPool3d(kernel_size=(3, 3, 3), stride=(1, 1, 1), padding=0, dilation=1, ceil_mode=True)\n",
       "      )\n",
       "      (1): Unit3Dpy(\n",
       "        (conv3d): Conv3d(480, 64, kernel_size=(1, 1, 1), stride=(1, 1, 1), bias=False)\n",
       "        (batch3d): BatchNorm3d(64, eps=1e-05, momentum=0.1, affine=True, track_running_stats=True)\n",
       "      )\n",
       "    )\n",
       "  )\n",
       "  (mixed_4c): Mixed(\n",
       "    (branch_0): Unit3Dpy(\n",
       "      (conv3d): Conv3d(512, 160, kernel_size=(1, 1, 1), stride=(1, 1, 1), bias=False)\n",
       "      (batch3d): BatchNorm3d(160, eps=1e-05, momentum=0.1, affine=True, track_running_stats=True)\n",
       "    )\n",
       "    (branch_1): Sequential(\n",
       "      (0): Unit3Dpy(\n",
       "        (conv3d): Conv3d(512, 112, kernel_size=(1, 1, 1), stride=(1, 1, 1), bias=False)\n",
       "        (batch3d): BatchNorm3d(112, eps=1e-05, momentum=0.1, affine=True, track_running_stats=True)\n",
       "      )\n",
       "      (1): Unit3Dpy(\n",
       "        (conv3d): Conv3d(112, 224, kernel_size=(3, 3, 3), stride=(1, 1, 1), padding=(1, 1, 1), bias=False)\n",
       "        (batch3d): BatchNorm3d(224, eps=1e-05, momentum=0.1, affine=True, track_running_stats=True)\n",
       "      )\n",
       "    )\n",
       "    (branch_2): Sequential(\n",
       "      (0): Unit3Dpy(\n",
       "        (conv3d): Conv3d(512, 24, kernel_size=(1, 1, 1), stride=(1, 1, 1), bias=False)\n",
       "        (batch3d): BatchNorm3d(24, eps=1e-05, momentum=0.1, affine=True, track_running_stats=True)\n",
       "      )\n",
       "      (1): Unit3Dpy(\n",
       "        (conv3d): Conv3d(24, 64, kernel_size=(3, 3, 3), stride=(1, 1, 1), padding=(1, 1, 1), bias=False)\n",
       "        (batch3d): BatchNorm3d(64, eps=1e-05, momentum=0.1, affine=True, track_running_stats=True)\n",
       "      )\n",
       "    )\n",
       "    (branch_3): Sequential(\n",
       "      (0): MaxPool3dTFPadding(\n",
       "        (pad): ConstantPad3d(padding=(1, 1, 1, 1, 1, 1), value=0)\n",
       "        (pool): MaxPool3d(kernel_size=(3, 3, 3), stride=(1, 1, 1), padding=0, dilation=1, ceil_mode=True)\n",
       "      )\n",
       "      (1): Unit3Dpy(\n",
       "        (conv3d): Conv3d(512, 64, kernel_size=(1, 1, 1), stride=(1, 1, 1), bias=False)\n",
       "        (batch3d): BatchNorm3d(64, eps=1e-05, momentum=0.1, affine=True, track_running_stats=True)\n",
       "      )\n",
       "    )\n",
       "  )\n",
       "  (mixed_4d): Mixed(\n",
       "    (branch_0): Unit3Dpy(\n",
       "      (conv3d): Conv3d(512, 128, kernel_size=(1, 1, 1), stride=(1, 1, 1), bias=False)\n",
       "      (batch3d): BatchNorm3d(128, eps=1e-05, momentum=0.1, affine=True, track_running_stats=True)\n",
       "    )\n",
       "    (branch_1): Sequential(\n",
       "      (0): Unit3Dpy(\n",
       "        (conv3d): Conv3d(512, 128, kernel_size=(1, 1, 1), stride=(1, 1, 1), bias=False)\n",
       "        (batch3d): BatchNorm3d(128, eps=1e-05, momentum=0.1, affine=True, track_running_stats=True)\n",
       "      )\n",
       "      (1): Unit3Dpy(\n",
       "        (conv3d): Conv3d(128, 256, kernel_size=(3, 3, 3), stride=(1, 1, 1), padding=(1, 1, 1), bias=False)\n",
       "        (batch3d): BatchNorm3d(256, eps=1e-05, momentum=0.1, affine=True, track_running_stats=True)\n",
       "      )\n",
       "    )\n",
       "    (branch_2): Sequential(\n",
       "      (0): Unit3Dpy(\n",
       "        (conv3d): Conv3d(512, 24, kernel_size=(1, 1, 1), stride=(1, 1, 1), bias=False)\n",
       "        (batch3d): BatchNorm3d(24, eps=1e-05, momentum=0.1, affine=True, track_running_stats=True)\n",
       "      )\n",
       "      (1): Unit3Dpy(\n",
       "        (conv3d): Conv3d(24, 64, kernel_size=(3, 3, 3), stride=(1, 1, 1), padding=(1, 1, 1), bias=False)\n",
       "        (batch3d): BatchNorm3d(64, eps=1e-05, momentum=0.1, affine=True, track_running_stats=True)\n",
       "      )\n",
       "    )\n",
       "    (branch_3): Sequential(\n",
       "      (0): MaxPool3dTFPadding(\n",
       "        (pad): ConstantPad3d(padding=(1, 1, 1, 1, 1, 1), value=0)\n",
       "        (pool): MaxPool3d(kernel_size=(3, 3, 3), stride=(1, 1, 1), padding=0, dilation=1, ceil_mode=True)\n",
       "      )\n",
       "      (1): Unit3Dpy(\n",
       "        (conv3d): Conv3d(512, 64, kernel_size=(1, 1, 1), stride=(1, 1, 1), bias=False)\n",
       "        (batch3d): BatchNorm3d(64, eps=1e-05, momentum=0.1, affine=True, track_running_stats=True)\n",
       "      )\n",
       "    )\n",
       "  )\n",
       "  (mixed_4e): Mixed(\n",
       "    (branch_0): Unit3Dpy(\n",
       "      (conv3d): Conv3d(512, 112, kernel_size=(1, 1, 1), stride=(1, 1, 1), bias=False)\n",
       "      (batch3d): BatchNorm3d(112, eps=1e-05, momentum=0.1, affine=True, track_running_stats=True)\n",
       "    )\n",
       "    (branch_1): Sequential(\n",
       "      (0): Unit3Dpy(\n",
       "        (conv3d): Conv3d(512, 144, kernel_size=(1, 1, 1), stride=(1, 1, 1), bias=False)\n",
       "        (batch3d): BatchNorm3d(144, eps=1e-05, momentum=0.1, affine=True, track_running_stats=True)\n",
       "      )\n",
       "      (1): Unit3Dpy(\n",
       "        (conv3d): Conv3d(144, 288, kernel_size=(3, 3, 3), stride=(1, 1, 1), padding=(1, 1, 1), bias=False)\n",
       "        (batch3d): BatchNorm3d(288, eps=1e-05, momentum=0.1, affine=True, track_running_stats=True)\n",
       "      )\n",
       "    )\n",
       "    (branch_2): Sequential(\n",
       "      (0): Unit3Dpy(\n",
       "        (conv3d): Conv3d(512, 32, kernel_size=(1, 1, 1), stride=(1, 1, 1), bias=False)\n",
       "        (batch3d): BatchNorm3d(32, eps=1e-05, momentum=0.1, affine=True, track_running_stats=True)\n",
       "      )\n",
       "      (1): Unit3Dpy(\n",
       "        (conv3d): Conv3d(32, 64, kernel_size=(3, 3, 3), stride=(1, 1, 1), padding=(1, 1, 1), bias=False)\n",
       "        (batch3d): BatchNorm3d(64, eps=1e-05, momentum=0.1, affine=True, track_running_stats=True)\n",
       "      )\n",
       "    )\n",
       "    (branch_3): Sequential(\n",
       "      (0): MaxPool3dTFPadding(\n",
       "        (pad): ConstantPad3d(padding=(1, 1, 1, 1, 1, 1), value=0)\n",
       "        (pool): MaxPool3d(kernel_size=(3, 3, 3), stride=(1, 1, 1), padding=0, dilation=1, ceil_mode=True)\n",
       "      )\n",
       "      (1): Unit3Dpy(\n",
       "        (conv3d): Conv3d(512, 64, kernel_size=(1, 1, 1), stride=(1, 1, 1), bias=False)\n",
       "        (batch3d): BatchNorm3d(64, eps=1e-05, momentum=0.1, affine=True, track_running_stats=True)\n",
       "      )\n",
       "    )\n",
       "  )\n",
       "  (mixed_4f): Mixed(\n",
       "    (branch_0): Unit3Dpy(\n",
       "      (conv3d): Conv3d(528, 256, kernel_size=(1, 1, 1), stride=(1, 1, 1), bias=False)\n",
       "      (batch3d): BatchNorm3d(256, eps=1e-05, momentum=0.1, affine=True, track_running_stats=True)\n",
       "    )\n",
       "    (branch_1): Sequential(\n",
       "      (0): Unit3Dpy(\n",
       "        (conv3d): Conv3d(528, 160, kernel_size=(1, 1, 1), stride=(1, 1, 1), bias=False)\n",
       "        (batch3d): BatchNorm3d(160, eps=1e-05, momentum=0.1, affine=True, track_running_stats=True)\n",
       "      )\n",
       "      (1): Unit3Dpy(\n",
       "        (conv3d): Conv3d(160, 320, kernel_size=(3, 3, 3), stride=(1, 1, 1), padding=(1, 1, 1), bias=False)\n",
       "        (batch3d): BatchNorm3d(320, eps=1e-05, momentum=0.1, affine=True, track_running_stats=True)\n",
       "      )\n",
       "    )\n",
       "    (branch_2): Sequential(\n",
       "      (0): Unit3Dpy(\n",
       "        (conv3d): Conv3d(528, 32, kernel_size=(1, 1, 1), stride=(1, 1, 1), bias=False)\n",
       "        (batch3d): BatchNorm3d(32, eps=1e-05, momentum=0.1, affine=True, track_running_stats=True)\n",
       "      )\n",
       "      (1): Unit3Dpy(\n",
       "        (conv3d): Conv3d(32, 128, kernel_size=(3, 3, 3), stride=(1, 1, 1), padding=(1, 1, 1), bias=False)\n",
       "        (batch3d): BatchNorm3d(128, eps=1e-05, momentum=0.1, affine=True, track_running_stats=True)\n",
       "      )\n",
       "    )\n",
       "    (branch_3): Sequential(\n",
       "      (0): MaxPool3dTFPadding(\n",
       "        (pad): ConstantPad3d(padding=(1, 1, 1, 1, 1, 1), value=0)\n",
       "        (pool): MaxPool3d(kernel_size=(3, 3, 3), stride=(1, 1, 1), padding=0, dilation=1, ceil_mode=True)\n",
       "      )\n",
       "      (1): Unit3Dpy(\n",
       "        (conv3d): Conv3d(528, 128, kernel_size=(1, 1, 1), stride=(1, 1, 1), bias=False)\n",
       "        (batch3d): BatchNorm3d(128, eps=1e-05, momentum=0.1, affine=True, track_running_stats=True)\n",
       "      )\n",
       "    )\n",
       "  )\n",
       "  (maxPool3d_5a_2x2): MaxPool3dTFPadding(\n",
       "    (pad): ConstantPad3d(padding=(0, 0, 0, 0, 0, 0), value=0)\n",
       "    (pool): MaxPool3d(kernel_size=(2, 2, 2), stride=(2, 2, 2), padding=0, dilation=1, ceil_mode=True)\n",
       "  )\n",
       "  (mixed_5b): Mixed(\n",
       "    (branch_0): Unit3Dpy(\n",
       "      (conv3d): Conv3d(832, 256, kernel_size=(1, 1, 1), stride=(1, 1, 1), bias=False)\n",
       "      (batch3d): BatchNorm3d(256, eps=1e-05, momentum=0.1, affine=True, track_running_stats=True)\n",
       "    )\n",
       "    (branch_1): Sequential(\n",
       "      (0): Unit3Dpy(\n",
       "        (conv3d): Conv3d(832, 160, kernel_size=(1, 1, 1), stride=(1, 1, 1), bias=False)\n",
       "        (batch3d): BatchNorm3d(160, eps=1e-05, momentum=0.1, affine=True, track_running_stats=True)\n",
       "      )\n",
       "      (1): Unit3Dpy(\n",
       "        (conv3d): Conv3d(160, 320, kernel_size=(3, 3, 3), stride=(1, 1, 1), padding=(1, 1, 1), bias=False)\n",
       "        (batch3d): BatchNorm3d(320, eps=1e-05, momentum=0.1, affine=True, track_running_stats=True)\n",
       "      )\n",
       "    )\n",
       "    (branch_2): Sequential(\n",
       "      (0): Unit3Dpy(\n",
       "        (conv3d): Conv3d(832, 32, kernel_size=(1, 1, 1), stride=(1, 1, 1), bias=False)\n",
       "        (batch3d): BatchNorm3d(32, eps=1e-05, momentum=0.1, affine=True, track_running_stats=True)\n",
       "      )\n",
       "      (1): Unit3Dpy(\n",
       "        (conv3d): Conv3d(32, 128, kernel_size=(3, 3, 3), stride=(1, 1, 1), padding=(1, 1, 1), bias=False)\n",
       "        (batch3d): BatchNorm3d(128, eps=1e-05, momentum=0.1, affine=True, track_running_stats=True)\n",
       "      )\n",
       "    )\n",
       "    (branch_3): Sequential(\n",
       "      (0): MaxPool3dTFPadding(\n",
       "        (pad): ConstantPad3d(padding=(1, 1, 1, 1, 1, 1), value=0)\n",
       "        (pool): MaxPool3d(kernel_size=(3, 3, 3), stride=(1, 1, 1), padding=0, dilation=1, ceil_mode=True)\n",
       "      )\n",
       "      (1): Unit3Dpy(\n",
       "        (conv3d): Conv3d(832, 128, kernel_size=(1, 1, 1), stride=(1, 1, 1), bias=False)\n",
       "        (batch3d): BatchNorm3d(128, eps=1e-05, momentum=0.1, affine=True, track_running_stats=True)\n",
       "      )\n",
       "    )\n",
       "  )\n",
       "  (mixed_5c): Mixed(\n",
       "    (branch_0): Unit3Dpy(\n",
       "      (conv3d): Conv3d(832, 384, kernel_size=(1, 1, 1), stride=(1, 1, 1), bias=False)\n",
       "      (batch3d): BatchNorm3d(384, eps=1e-05, momentum=0.1, affine=True, track_running_stats=True)\n",
       "    )\n",
       "    (branch_1): Sequential(\n",
       "      (0): Unit3Dpy(\n",
       "        (conv3d): Conv3d(832, 192, kernel_size=(1, 1, 1), stride=(1, 1, 1), bias=False)\n",
       "        (batch3d): BatchNorm3d(192, eps=1e-05, momentum=0.1, affine=True, track_running_stats=True)\n",
       "      )\n",
       "      (1): Unit3Dpy(\n",
       "        (conv3d): Conv3d(192, 384, kernel_size=(3, 3, 3), stride=(1, 1, 1), padding=(1, 1, 1), bias=False)\n",
       "        (batch3d): BatchNorm3d(384, eps=1e-05, momentum=0.1, affine=True, track_running_stats=True)\n",
       "      )\n",
       "    )\n",
       "    (branch_2): Sequential(\n",
       "      (0): Unit3Dpy(\n",
       "        (conv3d): Conv3d(832, 48, kernel_size=(1, 1, 1), stride=(1, 1, 1), bias=False)\n",
       "        (batch3d): BatchNorm3d(48, eps=1e-05, momentum=0.1, affine=True, track_running_stats=True)\n",
       "      )\n",
       "      (1): Unit3Dpy(\n",
       "        (conv3d): Conv3d(48, 128, kernel_size=(3, 3, 3), stride=(1, 1, 1), padding=(1, 1, 1), bias=False)\n",
       "        (batch3d): BatchNorm3d(128, eps=1e-05, momentum=0.1, affine=True, track_running_stats=True)\n",
       "      )\n",
       "    )\n",
       "    (branch_3): Sequential(\n",
       "      (0): MaxPool3dTFPadding(\n",
       "        (pad): ConstantPad3d(padding=(1, 1, 1, 1, 1, 1), value=0)\n",
       "        (pool): MaxPool3d(kernel_size=(3, 3, 3), stride=(1, 1, 1), padding=0, dilation=1, ceil_mode=True)\n",
       "      )\n",
       "      (1): Unit3Dpy(\n",
       "        (conv3d): Conv3d(832, 128, kernel_size=(1, 1, 1), stride=(1, 1, 1), bias=False)\n",
       "        (batch3d): BatchNorm3d(128, eps=1e-05, momentum=0.1, affine=True, track_running_stats=True)\n",
       "      )\n",
       "    )\n",
       "  )\n",
       "  (avg_pool): AvgPool3d(kernel_size=(2, 7, 7), stride=(1, 1, 1), padding=0)\n",
       "  (dropout): Dropout(p=0.5, inplace=False)\n",
       "  (conv3d_0c_1x1): Sequential(\n",
       "    (0): Unit3Dpy(\n",
       "      (conv3d): Conv3d(1024, 400, kernel_size=(1, 1, 1), stride=(1, 1, 1))\n",
       "    )\n",
       "    (1): Unit3Dpy(\n",
       "      (conv3d): Conv3d(400, 3, kernel_size=(1, 1, 1), stride=(1, 1, 1))\n",
       "    )\n",
       "  )\n",
       "  (softmax): Softmax(dim=1)\n",
       ")"
      ]
     },
     "execution_count": 15,
     "metadata": {},
     "output_type": "execute_result"
    }
   ],
   "source": [
    "from train import change_key\n",
    "\n",
    "rgb_weights_path = 'weights/i3d/20200803/handhygiene_i3d_rgb_bestiters_joint_1292.pth'\n",
    "flow_weights_path = 'weights/i3d/20200803/handhygiene_i3d_flow_bestiters_joint_1292.pth'\n",
    "\n",
    "def change_key(ordereddict):\n",
    "    statedict = ordereddict.copy()\n",
    "    for i, key in enumerate(ordereddict.keys()):\n",
    "        key, value = statedict.popitem(False)\n",
    "        old = key\n",
    "        statedict[key.replace('module.', '') if key == old else key] = value\n",
    "    return statedict\n",
    "\n",
    "def modify_last_layer(out_channels):\n",
    "    #last_layer\n",
    "    conv2 = Unit3Dpy(in_channels=400,\n",
    "                     out_channels=out_channels, \n",
    "                     kernel_size=(1, 1, 1),\n",
    "                     activation=None, \n",
    "                     use_bias=True, use_bn=False)\n",
    "    return conv2\n",
    "    \n",
    "device = torch.device(\"cuda:0\" if torch.cuda.is_available() else \"cpu\")\n",
    "\n",
    "i3d_rgb = I3D(num_classes=400, modality='rgb', dropout_prob=0.5)\n",
    "i3d_rgb.conv3d_0c_1x1 = torch.nn.Sequential(i3d_rgb.conv3d_0c_1x1, modify_last_layer(num_classes))\n",
    "statedict = change_key(torch.load(rgb_weights_path))\n",
    "i3d_rgb.load_state_dict(statedict)\n",
    "\n",
    "i3d_flow = I3D(num_classes=400, modality='flow', dropout_prob=0.5)\n",
    "i3d_flow.conv3d_0c_1x1 = torch.nn.Sequential(i3d_flow.conv3d_0c_1x1, modify_last_layer(num_classes))\n",
    "statedict = change_key(torch.load(flow_weights_path))\n",
    "i3d_flow.load_state_dict(statedict)\n",
    "\n",
    "i3d_flow.to(device)"
   ]
  },
  {
   "cell_type": "code",
   "execution_count": 16,
   "metadata": {},
   "outputs": [],
   "source": [
    "#y_test= dataset['test'].samples[2]\n",
    "y_test=[]\n",
    "y_pred=[]\n",
    "y_pred_rgb=[]\n",
    "y_pred_flow=[]\n",
    "\n",
    "\n",
    "def run_demo(item, path, corrects):\n",
    "    #classes_path = 'data/label_map.txt'\n",
    "    kinetics_classes = dataset['test'].classes #[x.strip() for x in open(classes_path)]\n",
    "    top_k = 1\n",
    "    basename = os.path.basename(path)\n",
    "    \n",
    "    rgbs = item[0].transpose(0, 1)\n",
    "    flows = item[1].transpose(0, 1)\n",
    "    label = item[2]\n",
    "    shape = np.asarray(flows[0]).shape\n",
    "    images = []\n",
    "    optflows = []\n",
    "    \n",
    "    def get_scores(sample, model):\n",
    "        sample_var = torch.autograd.Variable(torch.from_numpy(sample).cuda())\n",
    "        out_var, out_logit = model(sample_var)\n",
    "        out_tensor = out_var.data.cpu()\n",
    "        \n",
    "#         out_preds = torch.round(out_tensor.data)\n",
    "        \n",
    "#         print(\"out_tensor: {}, out_preds: {}\".format(out_tensor, out_preds))\n",
    "        return out_logit\n",
    "    \n",
    "    for rgb in rgbs:\n",
    "        images.append((np.asarray(rgb).transpose(1, 2, 0)+1)/2)\n",
    "        \n",
    "    for flow in flows:\n",
    "        optflows.append((np.asarray(flow).transpose(1, 2, 0)+1)/2)\n",
    "\n",
    "    # RGB model\n",
    "    i3d_rgb.eval()\n",
    "    i3d_rgb.cuda()\n",
    "    \n",
    "    #rgb_sample = np.load(rgb_sample_path).transpose(0, 4, 1, 2, 3)\n",
    "    rgb_sample = np.array(images).transpose(3, 0, 1, 2)\n",
    "    rgb_sample = np.expand_dims(rgb_sample, 0)\n",
    "    print(\"rgb logits...\")\n",
    "    out_rgb_logit = get_scores(rgb_sample, i3d_rgb)\n",
    "    \n",
    "    # Flow model\n",
    "    i3d_flow.eval()\n",
    "    i3d_flow.cuda()\n",
    "\n",
    "    #flow_sample = np.load(flow_sample_path).transpose(0, 4, 1, 2, 3)\n",
    "    flow_sample = np.array(optflows).transpose(3, 0, 1, 2)\n",
    "    flow_sample = np.expand_dims(flow_sample, 0)\n",
    "    print(\"flow logits...\")\n",
    "    out_flow_logit = get_scores(flow_sample, i3d_flow)\n",
    "    \n",
    "    # Joint model \n",
    "    out_logit = (out_rgb_logit + out_flow_logit)/2\n",
    "    \n",
    "    out_softmax = torch.nn.functional.softmax(out_logit, 1).data.cpu()\n",
    "    top_val, top_idx = torch.sort(out_softmax, 1, descending=True)\n",
    "    \n",
    "    out_softmax_rgb = torch.nn.functional.softmax(out_rgb_logit, 1).data.cpu()\n",
    "    out_softmax_flow = torch.nn.functional.softmax(out_flow_logit, 1).data.cpu()\n",
    "    top_val_rgb, top_idx_rgb = torch.sort(out_softmax_rgb, 1, descending=True)\n",
    "    top_val_flow, top_idx_flow = torch.sort(out_softmax_flow, 1, descending=True)\n",
    "    \n",
    "    y_pred.append(top_idx[0, 0])\n",
    "    y_pred_rgb.append(top_idx_rgb[0, 0])\n",
    "    y_pred_flow.append(top_idx_flow[0, 0])\n",
    "    y_test.append(label.long())\n",
    "    \n",
    "    #out_val, out_idx = out_sigmoid, out_preds\n",
    "    print('===== Final predictions ====')\n",
    "    print(\"label: {}\".format(kinetics_classes[label.item()]))\n",
    "    #print('logits proba class {}'.format(kinetics_classes[out_preds.int().item()]))\n",
    "    print('logits proba class')\n",
    "    for i in range(top_k):\n",
    "        logit_score = out_logit[0, top_idx[0, i]].data.item()\n",
    "        print('{:.2f}% {}'.format(#logit_score, \n",
    "                                top_val[0, i]*100,\n",
    "                                kinetics_classes[top_idx[0, i]]))\n",
    "    \n",
    "    corrects += 1 if top_idx[0, 0] == label else 0\n",
    "    return corrects"
   ]
  },
  {
   "cell_type": "code",
   "execution_count": 17,
   "metadata": {},
   "outputs": [],
   "source": [
    "def _get_center_clip(vidx):\n",
    "    size = len(dataset['test'].video_clips.clips[vidx])\n",
    "    center = int(size/2)\n",
    "    return center"
   ]
  },
  {
   "cell_type": "code",
   "execution_count": 18,
   "metadata": {
    "scrolled": true
   },
   "outputs": [
    {
     "name": "stderr",
     "output_type": "stream",
     "text": [
      "\r",
      "  0%|          | 0/1552 [00:00<?, ?it/s]"
     ]
    },
    {
     "name": "stdout",
     "output_type": "stream",
     "text": [
      "[RGB] Filling cache for index 0\n",
      "[Flow] Filling cache for index 0\n"
     ]
    },
    {
     "name": "stderr",
     "output_type": "stream",
     "text": [
      "\r",
      "  0%|          | 1/1552 [00:01<32:46,  1.27s/it]"
     ]
    },
    {
     "name": "stdout",
     "output_type": "stream",
     "text": [
      "rgb logits...\n",
      "flow logits...\n",
      "===== Final predictions ====\n",
      "label: other_action\n",
      "logits proba class\n",
      "69.05% other_action\n",
      "0 0 0 ./data/images_new/test/42_20190214_frames030513\n"
     ]
    },
    {
     "name": "stderr",
     "output_type": "stream",
     "text": [
      "\r",
      "  0%|          | 2/1552 [00:01<24:23,  1.06it/s]"
     ]
    },
    {
     "name": "stdout",
     "output_type": "stream",
     "text": [
      "rgb logits...\n",
      "flow logits...\n",
      "===== Final predictions ====\n",
      "label: other_action\n",
      "logits proba class\n",
      "84.02% other_action\n",
      "1 0 1 ./data/images_new/test/42_20190214_frames030513\n",
      "rgb logits...\n",
      "flow logits...\n"
     ]
    },
    {
     "name": "stderr",
     "output_type": "stream",
     "text": [
      "  0%|          | 4/1552 [00:01<14:00,  1.84it/s]"
     ]
    },
    {
     "name": "stdout",
     "output_type": "stream",
     "text": [
      "===== Final predictions ====\n",
      "label: rubbing_hands\n",
      "logits proba class\n",
      "98.87% rubbing_hands\n",
      "2 0 0 ./data/images_new/test/42_20190214_frames030513\n",
      "rgb logits...\n",
      "flow logits...\n",
      "===== Final predictions ====\n",
      "label: rubbing_hands\n",
      "logits proba class\n",
      "77.28% rubbing_hands\n",
      "3 0 1 ./data/images_new/test/42_20190214_frames030513\n"
     ]
    },
    {
     "name": "stderr",
     "output_type": "stream",
     "text": [
      "  0%|          | 6/1552 [00:02<08:38,  2.98it/s]"
     ]
    },
    {
     "name": "stdout",
     "output_type": "stream",
     "text": [
      "rgb logits...\n",
      "flow logits...\n",
      "===== Final predictions ====\n",
      "label: rubbing_hands\n",
      "logits proba class\n",
      "71.22% other_action\n",
      "4 0 2 ./data/images_new/test/42_20190214_frames030513\n",
      "rgb logits...\n",
      "flow logits...\n",
      "===== Final predictions ====\n",
      "label: rubbing_hands\n",
      "logits proba class\n",
      "77.19% rubbing_hands\n",
      "5 0 3 ./data/images_new/test/42_20190214_frames030513\n"
     ]
    },
    {
     "name": "stderr",
     "output_type": "stream",
     "text": [
      "  1%|          | 8/1552 [00:02<05:56,  4.33it/s]"
     ]
    },
    {
     "name": "stdout",
     "output_type": "stream",
     "text": [
      "rgb logits...\n",
      "flow logits...\n",
      "===== Final predictions ====\n",
      "label: rubbing_hands\n",
      "logits proba class\n",
      "94.42% rubbing_hands\n",
      "6 0 4 ./data/images_new/test/42_20190214_frames030513\n",
      "rgb logits...\n",
      "flow logits...\n",
      "===== Final predictions ====\n",
      "label: touching_equipment\n",
      "logits proba class\n",
      "99.46% touching_equipment\n",
      "7 0 0 ./data/images_new/test/42_20190214_frames030513\n"
     ]
    },
    {
     "name": "stderr",
     "output_type": "stream",
     "text": [
      "  1%|          | 10/1552 [00:02<04:39,  5.52it/s]"
     ]
    },
    {
     "name": "stdout",
     "output_type": "stream",
     "text": [
      "rgb logits...\n",
      "flow logits...\n",
      "===== Final predictions ====\n",
      "label: touching_equipment\n",
      "logits proba class\n",
      "99.31% touching_equipment\n",
      "8 0 1 ./data/images_new/test/42_20190214_frames030513\n",
      "rgb logits...\n",
      "flow logits...\n",
      "===== Final predictions ====\n",
      "label: touching_equipment\n",
      "logits proba class\n",
      "99.87% touching_equipment\n",
      "9 0 2 ./data/images_new/test/42_20190214_frames030513\n"
     ]
    },
    {
     "name": "stderr",
     "output_type": "stream",
     "text": [
      "  1%|          | 12/1552 [00:02<04:01,  6.37it/s]"
     ]
    },
    {
     "name": "stdout",
     "output_type": "stream",
     "text": [
      "rgb logits...\n",
      "flow logits...\n",
      "===== Final predictions ====\n",
      "label: touching_equipment\n",
      "logits proba class\n",
      "99.48% touching_equipment\n",
      "10 0 3 ./data/images_new/test/42_20190214_frames030513\n",
      "rgb logits...\n",
      "flow logits...\n",
      "===== Final predictions ====\n",
      "label: touching_equipment\n",
      "logits proba class\n",
      "99.95% touching_equipment\n",
      "11 0 4 ./data/images_new/test/42_20190214_frames030513\n"
     ]
    },
    {
     "name": "stderr",
     "output_type": "stream",
     "text": [
      "  1%|          | 14/1552 [00:03<03:42,  6.92it/s]"
     ]
    },
    {
     "name": "stdout",
     "output_type": "stream",
     "text": [
      "rgb logits...\n",
      "flow logits...\n",
      "===== Final predictions ====\n",
      "label: other_action\n",
      "logits proba class\n",
      "90.37% other_action\n",
      "12 0 0 ./data/images_new/test/42_20190214_frames030513\n",
      "rgb logits...\n",
      "flow logits...\n",
      "===== Final predictions ====\n",
      "label: other_action\n",
      "logits proba class\n",
      "60.32% other_action\n",
      "13 0 1 ./data/images_new/test/42_20190214_frames030513\n",
      "[RGB] Filling cache for index 1\n"
     ]
    },
    {
     "name": "stderr",
     "output_type": "stream",
     "text": [
      "\r",
      "  1%|          | 15/1552 [00:04<13:31,  1.89it/s]"
     ]
    },
    {
     "name": "stdout",
     "output_type": "stream",
     "text": [
      "[Flow] Filling cache for index 1\n",
      "rgb logits...\n",
      "flow logits...\n",
      "===== Final predictions ====\n",
      "label: other_action\n",
      "logits proba class\n",
      "89.71% other_action\n",
      "14 1 0 ./data/images_new/test/1_20180806_frames001060\n"
     ]
    },
    {
     "name": "stderr",
     "output_type": "stream",
     "text": [
      "\r",
      "  1%|          | 16/1552 [00:04<11:13,  2.28it/s]"
     ]
    },
    {
     "name": "stdout",
     "output_type": "stream",
     "text": [
      "rgb logits...\n",
      "flow logits...\n",
      "===== Final predictions ====\n",
      "label: other_action\n",
      "logits proba class\n",
      "83.33% other_action\n",
      "15 1 1 ./data/images_new/test/1_20180806_frames001060\n",
      "rgb logits...\n",
      "flow logits...\n"
     ]
    },
    {
     "name": "stderr",
     "output_type": "stream",
     "text": [
      "  1%|          | 18/1552 [00:05<07:38,  3.35it/s]"
     ]
    },
    {
     "name": "stdout",
     "output_type": "stream",
     "text": [
      "===== Final predictions ====\n",
      "label: other_action\n",
      "logits proba class\n",
      "50.78% touching_equipment\n",
      "16 1 2 ./data/images_new/test/1_20180806_frames001060\n",
      "rgb logits...\n",
      "flow logits...\n",
      "===== Final predictions ====\n",
      "label: rubbing_hands\n",
      "logits proba class\n",
      "99.31% rubbing_hands\n",
      "17 1 0 ./data/images_new/test/1_20180806_frames001060\n"
     ]
    },
    {
     "name": "stderr",
     "output_type": "stream",
     "text": [
      "  1%|▏         | 20/1552 [00:05<05:35,  4.56it/s]"
     ]
    },
    {
     "name": "stdout",
     "output_type": "stream",
     "text": [
      "rgb logits...\n",
      "flow logits...\n",
      "===== Final predictions ====\n",
      "label: rubbing_hands\n",
      "logits proba class\n",
      "100.00% rubbing_hands\n",
      "18 1 1 ./data/images_new/test/1_20180806_frames001060\n",
      "rgb logits...\n",
      "flow logits...\n",
      "===== Final predictions ====\n",
      "label: rubbing_hands\n",
      "logits proba class\n",
      "99.80% rubbing_hands\n",
      "19 1 2 ./data/images_new/test/1_20180806_frames001060\n"
     ]
    },
    {
     "name": "stderr",
     "output_type": "stream",
     "text": [
      "  1%|▏         | 22/1552 [00:05<04:25,  5.77it/s]"
     ]
    },
    {
     "name": "stdout",
     "output_type": "stream",
     "text": [
      "rgb logits...\n",
      "flow logits...\n",
      "===== Final predictions ====\n",
      "label: rubbing_hands\n",
      "logits proba class\n",
      "99.98% rubbing_hands\n",
      "20 1 3 ./data/images_new/test/1_20180806_frames001060\n",
      "rgb logits...\n",
      "flow logits...\n",
      "===== Final predictions ====\n",
      "label: rubbing_hands\n",
      "logits proba class\n",
      "99.84% rubbing_hands\n",
      "21 1 4 ./data/images_new/test/1_20180806_frames001060\n"
     ]
    },
    {
     "name": "stderr",
     "output_type": "stream",
     "text": [
      "  2%|▏         | 24/1552 [00:05<03:49,  6.65it/s]"
     ]
    },
    {
     "name": "stdout",
     "output_type": "stream",
     "text": [
      "rgb logits...\n",
      "flow logits...\n",
      "===== Final predictions ====\n",
      "label: rubbing_hands\n",
      "logits proba class\n",
      "100.00% rubbing_hands\n",
      "22 1 5 ./data/images_new/test/1_20180806_frames001060\n",
      "rgb logits...\n",
      "flow logits...\n",
      "===== Final predictions ====\n",
      "label: rubbing_hands\n",
      "logits proba class\n",
      "100.00% rubbing_hands\n",
      "23 1 6 ./data/images_new/test/1_20180806_frames001060\n"
     ]
    },
    {
     "name": "stderr",
     "output_type": "stream",
     "text": [
      "  2%|▏         | 26/1552 [00:06<03:32,  7.19it/s]"
     ]
    },
    {
     "name": "stdout",
     "output_type": "stream",
     "text": [
      "rgb logits...\n",
      "flow logits...\n",
      "===== Final predictions ====\n",
      "label: rubbing_hands\n",
      "logits proba class\n",
      "100.00% rubbing_hands\n",
      "24 1 7 ./data/images_new/test/1_20180806_frames001060\n",
      "rgb logits...\n",
      "flow logits...\n",
      "===== Final predictions ====\n",
      "label: rubbing_hands\n",
      "logits proba class\n",
      "100.00% rubbing_hands\n",
      "25 1 8 ./data/images_new/test/1_20180806_frames001060\n",
      "[RGB] Filling cache for index 2\n"
     ]
    },
    {
     "name": "stderr",
     "output_type": "stream",
     "text": [
      "\r",
      "  2%|▏         | 27/1552 [00:07<10:20,  2.46it/s]"
     ]
    },
    {
     "name": "stdout",
     "output_type": "stream",
     "text": [
      "[Flow] Filling cache for index 2\n",
      "rgb logits...\n",
      "flow logits...\n",
      "===== Final predictions ====\n",
      "label: other_action\n",
      "logits proba class\n",
      "98.66% rubbing_hands\n",
      "26 2 0 ./data/images_new/test/1_20180806_frames001130\n"
     ]
    },
    {
     "name": "stderr",
     "output_type": "stream",
     "text": [
      "\r",
      "  2%|▏         | 28/1552 [00:07<08:25,  3.01it/s]"
     ]
    },
    {
     "name": "stdout",
     "output_type": "stream",
     "text": [
      "rgb logits...\n",
      "flow logits...\n",
      "===== Final predictions ====\n",
      "label: rubbing_hands\n",
      "logits proba class\n",
      "99.72% rubbing_hands\n",
      "27 2 0 ./data/images_new/test/1_20180806_frames001130\n",
      "[RGB] Filling cache for index 3\n"
     ]
    },
    {
     "name": "stderr",
     "output_type": "stream",
     "text": [
      "\r",
      "  2%|▏         | 29/1552 [00:08<16:09,  1.57it/s]"
     ]
    },
    {
     "name": "stdout",
     "output_type": "stream",
     "text": [
      "[Flow] Filling cache for index 3\n",
      "rgb logits...\n",
      "flow logits...\n",
      "===== Final predictions ====\n",
      "label: rubbing_hands\n",
      "logits proba class\n",
      "97.62% rubbing_hands\n",
      "28 3 0 ./data/images_new/test/1_20180806_frames001191\n"
     ]
    },
    {
     "name": "stderr",
     "output_type": "stream",
     "text": [
      "\r",
      "  2%|▏         | 30/1552 [00:08<12:32,  2.02it/s]"
     ]
    },
    {
     "name": "stdout",
     "output_type": "stream",
     "text": [
      "rgb logits...\n",
      "flow logits...\n",
      "===== Final predictions ====\n",
      "label: rubbing_hands\n",
      "logits proba class\n",
      "92.81% rubbing_hands\n",
      "29 3 1 ./data/images_new/test/1_20180806_frames001191\n",
      "rgb logits...\n",
      "flow logits...\n"
     ]
    },
    {
     "name": "stderr",
     "output_type": "stream",
     "text": [
      "  2%|▏         | 32/1552 [00:09<08:23,  3.02it/s]"
     ]
    },
    {
     "name": "stdout",
     "output_type": "stream",
     "text": [
      "===== Final predictions ====\n",
      "label: rubbing_hands\n",
      "logits proba class\n",
      "99.54% rubbing_hands\n",
      "30 3 2 ./data/images_new/test/1_20180806_frames001191\n",
      "rgb logits...\n",
      "flow logits...\n",
      "===== Final predictions ====\n",
      "label: rubbing_hands\n",
      "logits proba class\n",
      "99.64% rubbing_hands\n",
      "31 3 3 ./data/images_new/test/1_20180806_frames001191\n"
     ]
    },
    {
     "name": "stderr",
     "output_type": "stream",
     "text": [
      "  2%|▏         | 34/1552 [00:09<06:04,  4.16it/s]"
     ]
    },
    {
     "name": "stdout",
     "output_type": "stream",
     "text": [
      "rgb logits...\n",
      "flow logits...\n",
      "===== Final predictions ====\n",
      "label: rubbing_hands\n",
      "logits proba class\n",
      "98.26% rubbing_hands\n",
      "32 3 4 ./data/images_new/test/1_20180806_frames001191\n",
      "rgb logits...\n",
      "flow logits...\n",
      "===== Final predictions ====\n",
      "label: rubbing_hands\n",
      "logits proba class\n",
      "99.94% rubbing_hands\n",
      "33 3 5 ./data/images_new/test/1_20180806_frames001191\n"
     ]
    },
    {
     "name": "stderr",
     "output_type": "stream",
     "text": [
      "  2%|▏         | 36/1552 [00:09<04:41,  5.39it/s]"
     ]
    },
    {
     "name": "stdout",
     "output_type": "stream",
     "text": [
      "rgb logits...\n",
      "flow logits...\n",
      "===== Final predictions ====\n",
      "label: rubbing_hands\n",
      "logits proba class\n",
      "99.79% rubbing_hands\n",
      "34 3 6 ./data/images_new/test/1_20180806_frames001191\n",
      "rgb logits...\n",
      "flow logits...\n",
      "===== Final predictions ====\n",
      "label: rubbing_hands\n",
      "logits proba class\n",
      "99.20% rubbing_hands\n",
      "35 3 7 ./data/images_new/test/1_20180806_frames001191\n"
     ]
    },
    {
     "name": "stderr",
     "output_type": "stream",
     "text": [
      "  2%|▏         | 38/1552 [00:10<03:49,  6.59it/s]"
     ]
    },
    {
     "name": "stdout",
     "output_type": "stream",
     "text": [
      "rgb logits...\n",
      "flow logits...\n",
      "===== Final predictions ====\n",
      "label: rubbing_hands\n",
      "logits proba class\n",
      "99.99% rubbing_hands\n",
      "36 3 8 ./data/images_new/test/1_20180806_frames001191\n",
      "rgb logits...\n",
      "flow logits...\n",
      "===== Final predictions ====\n",
      "label: rubbing_hands\n",
      "logits proba class\n",
      "100.00% rubbing_hands\n",
      "37 3 9 ./data/images_new/test/1_20180806_frames001191\n"
     ]
    },
    {
     "name": "stderr",
     "output_type": "stream",
     "text": [
      "  3%|▎         | 40/1552 [00:10<03:32,  7.13it/s]"
     ]
    },
    {
     "name": "stdout",
     "output_type": "stream",
     "text": [
      "rgb logits...\n",
      "flow logits...\n",
      "===== Final predictions ====\n",
      "label: other_action\n",
      "logits proba class\n",
      "76.00% rubbing_hands\n",
      "38 3 0 ./data/images_new/test/1_20180806_frames001191\n",
      "rgb logits...\n",
      "flow logits...\n",
      "===== Final predictions ====\n",
      "label: other_action\n",
      "logits proba class\n",
      "39.01% rubbing_hands\n",
      "39 3 1 ./data/images_new/test/1_20180806_frames001191\n"
     ]
    },
    {
     "name": "stderr",
     "output_type": "stream",
     "text": [
      "  3%|▎         | 42/1552 [00:10<03:22,  7.46it/s]"
     ]
    },
    {
     "name": "stdout",
     "output_type": "stream",
     "text": [
      "rgb logits...\n",
      "flow logits...\n",
      "===== Final predictions ====\n",
      "label: other_action\n",
      "logits proba class\n",
      "97.07% rubbing_hands\n",
      "40 3 2 ./data/images_new/test/1_20180806_frames001191\n",
      "rgb logits...\n",
      "flow logits...\n",
      "===== Final predictions ====\n",
      "label: other_action\n",
      "logits proba class\n",
      "90.85% rubbing_hands\n",
      "41 3 3 ./data/images_new/test/1_20180806_frames001191\n",
      "[RGB] Filling cache for index 4\n"
     ]
    },
    {
     "name": "stderr",
     "output_type": "stream",
     "text": [
      "\r",
      "  3%|▎         | 43/1552 [00:11<10:38,  2.36it/s]"
     ]
    },
    {
     "name": "stdout",
     "output_type": "stream",
     "text": [
      "[Flow] Filling cache for index 4\n",
      "rgb logits...\n",
      "flow logits...\n",
      "===== Final predictions ====\n",
      "label: rubbing_hands\n",
      "logits proba class\n",
      "98.20% rubbing_hands\n",
      "42 4 0 ./data/images_new/test/1_20180806_frames001229\n"
     ]
    },
    {
     "name": "stderr",
     "output_type": "stream",
     "text": [
      "\r",
      "  3%|▎         | 44/1552 [00:11<08:48,  2.85it/s]"
     ]
    },
    {
     "name": "stdout",
     "output_type": "stream",
     "text": [
      "rgb logits...\n",
      "flow logits...\n",
      "===== Final predictions ====\n",
      "label: rubbing_hands\n",
      "logits proba class\n",
      "99.99% rubbing_hands\n",
      "43 4 1 ./data/images_new/test/1_20180806_frames001229\n",
      "rgb logits...\n",
      "flow logits...\n",
      "===== Final predictions ====\n",
      "label: rubbing_hands\n",
      "logits proba class\n"
     ]
    },
    {
     "name": "stderr",
     "output_type": "stream",
     "text": [
      "  3%|▎         | 46/1552 [00:12<06:17,  3.99it/s]"
     ]
    },
    {
     "name": "stdout",
     "output_type": "stream",
     "text": [
      "99.84% rubbing_hands\n",
      "44 4 2 ./data/images_new/test/1_20180806_frames001229\n",
      "rgb logits...\n",
      "flow logits...\n",
      "===== Final predictions ====\n",
      "label: rubbing_hands\n",
      "logits proba class\n",
      "99.96% rubbing_hands\n",
      "45 4 3 ./data/images_new/test/1_20180806_frames001229\n"
     ]
    },
    {
     "name": "stderr",
     "output_type": "stream",
     "text": [
      "\r",
      "  3%|▎         | 47/1552 [00:12<05:45,  4.36it/s]"
     ]
    },
    {
     "name": "stdout",
     "output_type": "stream",
     "text": [
      "rgb logits...\n",
      "flow logits...\n",
      "===== Final predictions ====\n",
      "label: rubbing_hands\n",
      "logits proba class\n",
      "99.72% rubbing_hands\n",
      "46 4 4 ./data/images_new/test/1_20180806_frames001229\n",
      "rgb logits...\n",
      "flow logits...\n",
      "===== Final predictions ====\n"
     ]
    },
    {
     "name": "stderr",
     "output_type": "stream",
     "text": [
      "  3%|▎         | 49/1552 [00:12<04:46,  5.25it/s]"
     ]
    },
    {
     "name": "stdout",
     "output_type": "stream",
     "text": [
      "label: rubbing_hands\n",
      "logits proba class\n",
      "99.94% rubbing_hands\n",
      "47 4 5 ./data/images_new/test/1_20180806_frames001229\n",
      "rgb logits...\n",
      "flow logits...\n",
      "===== Final predictions ====\n",
      "label: rubbing_hands\n",
      "logits proba class\n",
      "98.25% rubbing_hands\n",
      "48 4 6 ./data/images_new/test/1_20180806_frames001229\n"
     ]
    },
    {
     "name": "stderr",
     "output_type": "stream",
     "text": [
      "  3%|▎         | 51/1552 [00:12<04:13,  5.91it/s]"
     ]
    },
    {
     "name": "stdout",
     "output_type": "stream",
     "text": [
      "rgb logits...\n",
      "flow logits...\n",
      "===== Final predictions ====\n",
      "label: other_action\n",
      "logits proba class\n",
      "75.89% touching_equipment\n",
      "49 4 0 ./data/images_new/test/1_20180806_frames001229\n",
      "rgb logits...\n",
      "flow logits...\n",
      "===== Final predictions ====\n",
      "label: other_action\n",
      "logits proba class\n",
      "56.75% rubbing_hands\n",
      "50 4 1 ./data/images_new/test/1_20180806_frames001229\n"
     ]
    },
    {
     "name": "stderr",
     "output_type": "stream",
     "text": [
      "\r",
      "  3%|▎         | 52/1552 [00:13<03:55,  6.37it/s]"
     ]
    },
    {
     "name": "stdout",
     "output_type": "stream",
     "text": [
      "rgb logits...\n",
      "flow logits...\n",
      "===== Final predictions ====\n",
      "label: other_action\n",
      "logits proba class\n",
      "58.42% rubbing_hands\n",
      "51 4 2 ./data/images_new/test/1_20180806_frames001229\n",
      "[RGB] Filling cache for index 5\n"
     ]
    },
    {
     "name": "stderr",
     "output_type": "stream",
     "text": [
      "\r",
      "  3%|▎         | 53/1552 [00:14<14:40,  1.70it/s]"
     ]
    },
    {
     "name": "stdout",
     "output_type": "stream",
     "text": [
      "[Flow] Filling cache for index 5\n",
      "rgb logits...\n",
      "flow logits...\n",
      "===== Final predictions ====\n",
      "label: rubbing_hands\n",
      "logits proba class\n",
      "76.13% rubbing_hands\n",
      "52 5 0 ./data/images_new/test/17_20181203_frames063984\n"
     ]
    },
    {
     "name": "stderr",
     "output_type": "stream",
     "text": [
      "\r",
      "  3%|▎         | 54/1552 [00:14<11:26,  2.18it/s]"
     ]
    },
    {
     "name": "stdout",
     "output_type": "stream",
     "text": [
      "rgb logits...\n",
      "flow logits...\n",
      "===== Final predictions ====\n",
      "label: rubbing_hands\n",
      "logits proba class\n",
      "99.92% rubbing_hands\n",
      "53 5 1 ./data/images_new/test/17_20181203_frames063984\n",
      "rgb logits...\n",
      "flow logits...\n"
     ]
    },
    {
     "name": "stderr",
     "output_type": "stream",
     "text": [
      "  4%|▎         | 56/1552 [00:15<07:33,  3.30it/s]"
     ]
    },
    {
     "name": "stdout",
     "output_type": "stream",
     "text": [
      "===== Final predictions ====\n",
      "label: rubbing_hands\n",
      "logits proba class\n",
      "71.23% rubbing_hands\n",
      "54 5 2 ./data/images_new/test/17_20181203_frames063984\n",
      "rgb logits...\n",
      "flow logits...\n",
      "===== Final predictions ====\n",
      "label: rubbing_hands\n",
      "logits proba class\n",
      "50.73% touching_equipment\n",
      "55 5 3 ./data/images_new/test/17_20181203_frames063984\n"
     ]
    },
    {
     "name": "stderr",
     "output_type": "stream",
     "text": [
      "  4%|▎         | 58/1552 [00:15<05:22,  4.64it/s]"
     ]
    },
    {
     "name": "stdout",
     "output_type": "stream",
     "text": [
      "rgb logits...\n",
      "flow logits...\n",
      "===== Final predictions ====\n",
      "label: rubbing_hands\n",
      "logits proba class\n",
      "98.63% rubbing_hands\n",
      "56 5 4 ./data/images_new/test/17_20181203_frames063984\n",
      "rgb logits...\n",
      "flow logits...\n",
      "===== Final predictions ====\n",
      "label: rubbing_hands\n",
      "logits proba class\n",
      "99.72% rubbing_hands\n",
      "57 5 5 ./data/images_new/test/17_20181203_frames063984\n"
     ]
    },
    {
     "name": "stderr",
     "output_type": "stream",
     "text": [
      "  4%|▍         | 60/1552 [00:15<04:15,  5.85it/s]"
     ]
    },
    {
     "name": "stdout",
     "output_type": "stream",
     "text": [
      "rgb logits...\n",
      "flow logits...\n",
      "===== Final predictions ====\n",
      "label: rubbing_hands\n",
      "logits proba class\n",
      "99.99% rubbing_hands\n",
      "58 5 6 ./data/images_new/test/17_20181203_frames063984\n",
      "rgb logits...\n",
      "flow logits...\n",
      "===== Final predictions ====\n",
      "label: other_action\n",
      "logits proba class\n",
      "84.22% other_action\n",
      "59 5 0 ./data/images_new/test/17_20181203_frames063984\n"
     ]
    },
    {
     "name": "stderr",
     "output_type": "stream",
     "text": [
      "  4%|▍         | 62/1552 [00:15<03:41,  6.72it/s]"
     ]
    },
    {
     "name": "stdout",
     "output_type": "stream",
     "text": [
      "rgb logits...\n",
      "flow logits...\n",
      "===== Final predictions ====\n",
      "label: other_action\n",
      "logits proba class\n",
      "49.88% other_action\n",
      "60 5 1 ./data/images_new/test/17_20181203_frames063984\n",
      "rgb logits...\n",
      "flow logits...\n",
      "===== Final predictions ====\n",
      "label: other_action\n",
      "logits proba class\n",
      "93.46% other_action\n",
      "61 5 2 ./data/images_new/test/17_20181203_frames063984\n",
      "[RGB] Filling cache for index 6\n"
     ]
    },
    {
     "name": "stderr",
     "output_type": "stream",
     "text": [
      "\r",
      "  4%|▍         | 63/1552 [00:16<09:40,  2.56it/s]"
     ]
    },
    {
     "name": "stdout",
     "output_type": "stream",
     "text": [
      "[Flow] Filling cache for index 6\n",
      "rgb logits...\n",
      "flow logits...\n",
      "===== Final predictions ====\n",
      "label: rubbing_hands\n",
      "logits proba class\n",
      "99.53% rubbing_hands\n",
      "62 6 0 ./data/images_new/test/17_20181203_frames064016\n"
     ]
    },
    {
     "name": "stderr",
     "output_type": "stream",
     "text": [
      "\r",
      "  4%|▍         | 64/1552 [00:16<07:55,  3.13it/s]"
     ]
    },
    {
     "name": "stdout",
     "output_type": "stream",
     "text": [
      "rgb logits...\n",
      "flow logits...\n",
      "===== Final predictions ====\n",
      "label: other_action\n",
      "logits proba class\n",
      "99.50% other_action\n",
      "63 6 0 ./data/images_new/test/17_20181203_frames064016\n",
      "[RGB] Filling cache for index 7\n",
      "[Flow] Filling cache for index 7\n",
      "rgb logits...\n",
      "flow logits...\n"
     ]
    },
    {
     "name": "stderr",
     "output_type": "stream",
     "text": [
      "  4%|▍         | 66/1552 [00:19<15:09,  1.63it/s]"
     ]
    },
    {
     "name": "stdout",
     "output_type": "stream",
     "text": [
      "===== Final predictions ====\n",
      "label: other_action\n",
      "logits proba class\n",
      "94.99% other_action\n",
      "64 7 0 ./data/images_new/test/31_20181231_frames023341\n",
      "rgb logits...\n",
      "flow logits...\n",
      "===== Final predictions ====\n",
      "label: other_action\n",
      "logits proba class\n",
      "98.87% other_action\n",
      "65 7 1 ./data/images_new/test/31_20181231_frames023341\n"
     ]
    },
    {
     "name": "stderr",
     "output_type": "stream",
     "text": [
      "\r",
      "  4%|▍         | 67/1552 [00:19<11:53,  2.08it/s]"
     ]
    },
    {
     "name": "stdout",
     "output_type": "stream",
     "text": [
      "rgb logits...\n",
      "flow logits...\n",
      "===== Final predictions ====\n",
      "label: other_action\n",
      "logits proba class\n",
      "90.24% other_action\n",
      "66 7 2 ./data/images_new/test/31_20181231_frames023341\n",
      "rgb logits...\n"
     ]
    },
    {
     "name": "stderr",
     "output_type": "stream",
     "text": [
      "  4%|▍         | 69/1552 [00:19<07:51,  3.14it/s]"
     ]
    },
    {
     "name": "stdout",
     "output_type": "stream",
     "text": [
      "flow logits...\n",
      "===== Final predictions ====\n",
      "label: other_action\n",
      "logits proba class\n",
      "99.87% other_action\n",
      "67 7 3 ./data/images_new/test/31_20181231_frames023341\n",
      "rgb logits...\n",
      "flow logits...\n",
      "===== Final predictions ====\n",
      "label: other_action\n",
      "logits proba class\n",
      "98.99% other_action\n",
      "68 7 4 ./data/images_new/test/31_20181231_frames023341\n"
     ]
    },
    {
     "name": "stderr",
     "output_type": "stream",
     "text": [
      "  5%|▍         | 71/1552 [00:19<05:33,  4.43it/s]"
     ]
    },
    {
     "name": "stdout",
     "output_type": "stream",
     "text": [
      "rgb logits...\n",
      "flow logits...\n",
      "===== Final predictions ====\n",
      "label: rubbing_hands\n",
      "logits proba class\n",
      "99.97% other_action\n",
      "69 7 0 ./data/images_new/test/31_20181231_frames023341\n",
      "rgb logits...\n",
      "flow logits...\n",
      "===== Final predictions ====\n",
      "label: rubbing_hands\n",
      "logits proba class\n",
      "100.00% other_action\n",
      "70 7 1 ./data/images_new/test/31_20181231_frames023341\n"
     ]
    },
    {
     "name": "stderr",
     "output_type": "stream",
     "text": [
      "  5%|▍         | 73/1552 [00:20<04:22,  5.63it/s]"
     ]
    },
    {
     "name": "stdout",
     "output_type": "stream",
     "text": [
      "rgb logits...\n",
      "flow logits...\n",
      "===== Final predictions ====\n",
      "label: rubbing_hands\n",
      "logits proba class\n",
      "99.94% other_action\n",
      "71 7 2 ./data/images_new/test/31_20181231_frames023341\n",
      "rgb logits...\n",
      "flow logits...\n",
      "===== Final predictions ====\n",
      "label: rubbing_hands\n",
      "logits proba class\n",
      "100.00% other_action\n",
      "72 7 3 ./data/images_new/test/31_20181231_frames023341\n"
     ]
    },
    {
     "name": "stderr",
     "output_type": "stream",
     "text": [
      "  5%|▍         | 75/1552 [00:20<03:56,  6.24it/s]"
     ]
    },
    {
     "name": "stdout",
     "output_type": "stream",
     "text": [
      "rgb logits...\n",
      "flow logits...\n",
      "===== Final predictions ====\n",
      "label: rubbing_hands\n",
      "logits proba class\n",
      "100.00% other_action\n",
      "73 7 4 ./data/images_new/test/31_20181231_frames023341\n",
      "rgb logits...\n",
      "flow logits...\n",
      "===== Final predictions ====\n",
      "label: rubbing_hands\n",
      "logits proba class\n",
      "99.41% other_action\n",
      "74 7 5 ./data/images_new/test/31_20181231_frames023341\n"
     ]
    },
    {
     "name": "stderr",
     "output_type": "stream",
     "text": [
      "  5%|▍         | 77/1552 [00:20<03:42,  6.62it/s]"
     ]
    },
    {
     "name": "stdout",
     "output_type": "stream",
     "text": [
      "rgb logits...\n",
      "flow logits...\n",
      "===== Final predictions ====\n",
      "label: rubbing_hands\n",
      "logits proba class\n",
      "99.91% other_action\n",
      "75 7 6 ./data/images_new/test/31_20181231_frames023341\n",
      "rgb logits...\n",
      "flow logits...\n",
      "===== Final predictions ====\n",
      "label: rubbing_hands\n",
      "logits proba class\n",
      "99.80% other_action\n",
      "76 7 7 ./data/images_new/test/31_20181231_frames023341\n"
     ]
    },
    {
     "name": "stderr",
     "output_type": "stream",
     "text": [
      "  5%|▌         | 79/1552 [00:20<03:28,  7.08it/s]"
     ]
    },
    {
     "name": "stdout",
     "output_type": "stream",
     "text": [
      "rgb logits...\n",
      "flow logits...\n",
      "===== Final predictions ====\n",
      "label: rubbing_hands\n",
      "logits proba class\n",
      "99.90% other_action\n",
      "77 7 8 ./data/images_new/test/31_20181231_frames023341\n",
      "rgb logits...\n",
      "flow logits...\n",
      "===== Final predictions ====\n",
      "label: rubbing_hands\n",
      "logits proba class\n",
      "99.93% other_action\n",
      "78 7 9 ./data/images_new/test/31_20181231_frames023341\n"
     ]
    },
    {
     "name": "stderr",
     "output_type": "stream",
     "text": [
      "  5%|▌         | 81/1552 [00:21<03:20,  7.34it/s]"
     ]
    },
    {
     "name": "stdout",
     "output_type": "stream",
     "text": [
      "rgb logits...\n",
      "flow logits...\n",
      "===== Final predictions ====\n",
      "label: rubbing_hands\n",
      "logits proba class\n",
      "100.00% other_action\n",
      "79 7 10 ./data/images_new/test/31_20181231_frames023341\n",
      "rgb logits...\n",
      "flow logits...\n",
      "===== Final predictions ====\n",
      "label: rubbing_hands\n",
      "logits proba class\n",
      "99.91% other_action\n",
      "80 7 11 ./data/images_new/test/31_20181231_frames023341\n"
     ]
    },
    {
     "name": "stderr",
     "output_type": "stream",
     "text": [
      "  5%|▌         | 83/1552 [00:21<03:17,  7.45it/s]"
     ]
    },
    {
     "name": "stdout",
     "output_type": "stream",
     "text": [
      "rgb logits...\n",
      "flow logits...\n",
      "===== Final predictions ====\n",
      "label: rubbing_hands\n",
      "logits proba class\n",
      "100.00% other_action\n",
      "81 7 12 ./data/images_new/test/31_20181231_frames023341\n",
      "rgb logits...\n",
      "flow logits...\n",
      "===== Final predictions ====\n",
      "label: rubbing_hands\n",
      "logits proba class\n",
      "76.92% other_action\n",
      "82 7 13 ./data/images_new/test/31_20181231_frames023341\n"
     ]
    },
    {
     "name": "stderr",
     "output_type": "stream",
     "text": [
      "\r",
      "  5%|▌         | 84/1552 [00:21<03:19,  7.37it/s]"
     ]
    },
    {
     "name": "stdout",
     "output_type": "stream",
     "text": [
      "rgb logits...\n",
      "flow logits...\n",
      "===== Final predictions ====\n",
      "label: rubbing_hands\n",
      "logits proba class\n",
      "99.99% other_action\n",
      "83 7 14 ./data/images_new/test/31_20181231_frames023341\n",
      "[RGB] Filling cache for index 8\n"
     ]
    },
    {
     "name": "stderr",
     "output_type": "stream",
     "text": [
      "\r",
      "  5%|▌         | 85/1552 [00:23<14:00,  1.75it/s]"
     ]
    },
    {
     "name": "stdout",
     "output_type": "stream",
     "text": [
      "[Flow] Filling cache for index 8\n",
      "rgb logits...\n",
      "flow logits...\n",
      "===== Final predictions ====\n",
      "label: rubbing_hands\n",
      "logits proba class\n",
      "99.75% rubbing_hands\n",
      "84 8 0 ./data/images_new/test/31_20181231_frames058167\n"
     ]
    },
    {
     "name": "stderr",
     "output_type": "stream",
     "text": [
      "\r",
      "  6%|▌         | 86/1552 [00:23<10:59,  2.22it/s]"
     ]
    },
    {
     "name": "stdout",
     "output_type": "stream",
     "text": [
      "rgb logits...\n",
      "flow logits...\n",
      "===== Final predictions ====\n",
      "label: rubbing_hands\n",
      "logits proba class\n",
      "99.38% rubbing_hands\n",
      "85 8 1 ./data/images_new/test/31_20181231_frames058167\n",
      "rgb logits...\n",
      "flow logits...\n"
     ]
    },
    {
     "name": "stderr",
     "output_type": "stream",
     "text": [
      "  6%|▌         | 88/1552 [00:23<07:31,  3.24it/s]"
     ]
    },
    {
     "name": "stdout",
     "output_type": "stream",
     "text": [
      "===== Final predictions ====\n",
      "label: rubbing_hands\n",
      "logits proba class\n",
      "99.96% rubbing_hands\n",
      "86 8 2 ./data/images_new/test/31_20181231_frames058167\n",
      "rgb logits...\n",
      "flow logits...\n",
      "===== Final predictions ====\n",
      "label: rubbing_hands\n",
      "logits proba class\n",
      "99.51% rubbing_hands\n",
      "87 8 3 ./data/images_new/test/31_20181231_frames058167\n"
     ]
    },
    {
     "name": "stderr",
     "output_type": "stream",
     "text": [
      "  6%|▌         | 90/1552 [00:24<05:33,  4.39it/s]"
     ]
    },
    {
     "name": "stdout",
     "output_type": "stream",
     "text": [
      "rgb logits...\n",
      "flow logits...\n",
      "===== Final predictions ====\n",
      "label: rubbing_hands\n",
      "logits proba class\n",
      "100.00% rubbing_hands\n",
      "88 8 4 ./data/images_new/test/31_20181231_frames058167\n",
      "rgb logits...\n",
      "flow logits...\n",
      "===== Final predictions ====\n",
      "label: rubbing_hands\n",
      "logits proba class\n",
      "99.96% rubbing_hands\n",
      "89 8 5 ./data/images_new/test/31_20181231_frames058167\n"
     ]
    },
    {
     "name": "stderr",
     "output_type": "stream",
     "text": [
      "  6%|▌         | 92/1552 [00:24<04:20,  5.60it/s]"
     ]
    },
    {
     "name": "stdout",
     "output_type": "stream",
     "text": [
      "rgb logits...\n",
      "flow logits...\n",
      "===== Final predictions ====\n",
      "label: rubbing_hands\n",
      "logits proba class\n",
      "99.43% rubbing_hands\n",
      "90 8 6 ./data/images_new/test/31_20181231_frames058167\n",
      "rgb logits...\n",
      "flow logits...\n",
      "===== Final predictions ====\n",
      "label: rubbing_hands\n",
      "logits proba class\n",
      "86.48% rubbing_hands\n",
      "91 8 7 ./data/images_new/test/31_20181231_frames058167\n"
     ]
    },
    {
     "name": "stderr",
     "output_type": "stream",
     "text": [
      "  6%|▌         | 94/1552 [00:24<03:44,  6.51it/s]"
     ]
    },
    {
     "name": "stdout",
     "output_type": "stream",
     "text": [
      "rgb logits...\n",
      "flow logits...\n",
      "===== Final predictions ====\n",
      "label: rubbing_hands\n",
      "logits proba class\n",
      "99.87% rubbing_hands\n",
      "92 8 8 ./data/images_new/test/31_20181231_frames058167\n",
      "rgb logits...\n",
      "flow logits...\n",
      "===== Final predictions ====\n",
      "label: other_action\n",
      "logits proba class\n",
      "99.28% other_action\n",
      "93 8 0 ./data/images_new/test/31_20181231_frames058167\n"
     ]
    },
    {
     "name": "stderr",
     "output_type": "stream",
     "text": [
      "  6%|▌         | 96/1552 [00:24<03:21,  7.22it/s]"
     ]
    },
    {
     "name": "stdout",
     "output_type": "stream",
     "text": [
      "rgb logits...\n",
      "flow logits...\n",
      "===== Final predictions ====\n",
      "label: other_action\n",
      "logits proba class\n",
      "76.52% other_action\n",
      "94 8 1 ./data/images_new/test/31_20181231_frames058167\n",
      "rgb logits...\n",
      "flow logits...\n",
      "===== Final predictions ====\n",
      "label: other_action\n",
      "logits proba class\n",
      "93.49% other_action\n",
      "95 8 2 ./data/images_new/test/31_20181231_frames058167\n",
      "[RGB] Filling cache for index 9\n"
     ]
    },
    {
     "name": "stderr",
     "output_type": "stream",
     "text": [
      "\r",
      "  6%|▋         | 97/1552 [00:26<11:22,  2.13it/s]"
     ]
    },
    {
     "name": "stdout",
     "output_type": "stream",
     "text": [
      "[Flow] Filling cache for index 9\n",
      "rgb logits...\n",
      "flow logits...\n",
      "===== Final predictions ====\n",
      "label: rubbing_hands\n",
      "logits proba class\n",
      "99.26% rubbing_hands\n",
      "96 9 0 ./data/images_new/test/31_20181231_frames059749\n"
     ]
    },
    {
     "name": "stderr",
     "output_type": "stream",
     "text": [
      "\r",
      "  6%|▋         | 98/1552 [00:26<09:15,  2.62it/s]"
     ]
    },
    {
     "name": "stdout",
     "output_type": "stream",
     "text": [
      "rgb logits...\n",
      "flow logits...\n",
      "===== Final predictions ====\n",
      "label: other_action\n",
      "logits proba class\n",
      "45.85% touching_equipment\n",
      "97 9 0 ./data/images_new/test/31_20181231_frames059749\n",
      "rgb logits...\n",
      "flow logits...\n",
      "===== Final predictions ====\n",
      "label: other_action\n",
      "logits proba class\n"
     ]
    },
    {
     "name": "stderr",
     "output_type": "stream",
     "text": [
      "  6%|▋         | 100/1552 [00:26<06:23,  3.78it/s]"
     ]
    },
    {
     "name": "stdout",
     "output_type": "stream",
     "text": [
      "99.78% other_action\n",
      "98 9 0 ./data/images_new/test/31_20181231_frames059749\n",
      "rgb logits...\n",
      "flow logits...\n",
      "===== Final predictions ====\n",
      "label: other_action\n",
      "logits proba class\n",
      "92.91% other_action\n",
      "99 9 0 ./data/images_new/test/31_20181231_frames059749\n",
      "[RGB] Filling cache for index 10\n"
     ]
    },
    {
     "name": "stderr",
     "output_type": "stream",
     "text": [
      "\r",
      "  7%|▋         | 101/1552 [00:28<16:34,  1.46it/s]"
     ]
    },
    {
     "name": "stdout",
     "output_type": "stream",
     "text": [
      "[Flow] Filling cache for index 10\n",
      "rgb logits...\n",
      "flow logits...\n",
      "===== Final predictions ====\n",
      "label: rubbing_hands\n",
      "logits proba class\n",
      "58.35% touching_equipment\n",
      "100 10 0 ./data/images_new/test/31_20181231_frames059774\n"
     ]
    },
    {
     "name": "stderr",
     "output_type": "stream",
     "text": [
      "\r",
      "  7%|▋         | 102/1552 [00:28<12:47,  1.89it/s]"
     ]
    },
    {
     "name": "stdout",
     "output_type": "stream",
     "text": [
      "rgb logits...\n",
      "flow logits...\n",
      "===== Final predictions ====\n",
      "label: rubbing_hands\n",
      "logits proba class\n",
      "83.72% rubbing_hands\n",
      "101 10 1 ./data/images_new/test/31_20181231_frames059774\n",
      "rgb logits...\n",
      "flow logits...\n"
     ]
    },
    {
     "name": "stderr",
     "output_type": "stream",
     "text": [
      "  7%|▋         | 104/1552 [00:28<08:12,  2.94it/s]"
     ]
    },
    {
     "name": "stdout",
     "output_type": "stream",
     "text": [
      "===== Final predictions ====\n",
      "label: rubbing_hands\n",
      "logits proba class\n",
      "62.03% rubbing_hands\n",
      "102 10 2 ./data/images_new/test/31_20181231_frames059774\n",
      "rgb logits...\n",
      "flow logits...\n",
      "===== Final predictions ====\n",
      "label: rubbing_hands\n",
      "logits proba class\n",
      "53.26% rubbing_hands\n",
      "103 10 3 ./data/images_new/test/31_20181231_frames059774\n"
     ]
    },
    {
     "name": "stderr",
     "output_type": "stream",
     "text": [
      "  7%|▋         | 106/1552 [00:28<05:41,  4.23it/s]"
     ]
    },
    {
     "name": "stdout",
     "output_type": "stream",
     "text": [
      "rgb logits...\n",
      "flow logits...\n",
      "===== Final predictions ====\n",
      "label: rubbing_hands\n",
      "logits proba class\n",
      "98.94% touching_equipment\n",
      "104 10 4 ./data/images_new/test/31_20181231_frames059774\n",
      "rgb logits...\n",
      "flow logits...\n",
      "===== Final predictions ====\n",
      "label: rubbing_hands\n",
      "logits proba class\n",
      "97.48% rubbing_hands\n",
      "105 10 5 ./data/images_new/test/31_20181231_frames059774\n"
     ]
    },
    {
     "name": "stderr",
     "output_type": "stream",
     "text": [
      "  7%|▋         | 108/1552 [00:29<04:24,  5.45it/s]"
     ]
    },
    {
     "name": "stdout",
     "output_type": "stream",
     "text": [
      "rgb logits...\n",
      "flow logits...\n",
      "===== Final predictions ====\n",
      "label: rubbing_hands\n",
      "logits proba class\n",
      "50.97% rubbing_hands\n",
      "106 10 6 ./data/images_new/test/31_20181231_frames059774\n",
      "rgb logits...\n",
      "flow logits...\n",
      "===== Final predictions ====\n",
      "label: rubbing_hands\n",
      "logits proba class\n",
      "74.38% rubbing_hands\n",
      "107 10 7 ./data/images_new/test/31_20181231_frames059774\n"
     ]
    },
    {
     "name": "stderr",
     "output_type": "stream",
     "text": [
      "  7%|▋         | 110/1552 [00:29<03:49,  6.29it/s]"
     ]
    },
    {
     "name": "stdout",
     "output_type": "stream",
     "text": [
      "rgb logits...\n",
      "flow logits...\n",
      "===== Final predictions ====\n",
      "label: rubbing_hands\n",
      "logits proba class\n",
      "97.89% rubbing_hands\n",
      "108 10 8 ./data/images_new/test/31_20181231_frames059774\n",
      "rgb logits...\n",
      "flow logits...\n",
      "===== Final predictions ====\n",
      "label: rubbing_hands\n",
      "logits proba class\n",
      "52.44% touching_equipment\n",
      "109 10 9 ./data/images_new/test/31_20181231_frames059774\n"
     ]
    },
    {
     "name": "stderr",
     "output_type": "stream",
     "text": [
      "  7%|▋         | 112/1552 [00:29<03:30,  6.84it/s]"
     ]
    },
    {
     "name": "stdout",
     "output_type": "stream",
     "text": [
      "rgb logits...\n",
      "flow logits...\n",
      "===== Final predictions ====\n",
      "label: rubbing_hands\n",
      "logits proba class\n",
      "99.21% rubbing_hands\n",
      "110 10 10 ./data/images_new/test/31_20181231_frames059774\n",
      "rgb logits...\n",
      "flow logits...\n",
      "===== Final predictions ====\n",
      "label: rubbing_hands\n",
      "logits proba class\n",
      "52.17% rubbing_hands\n",
      "111 10 11 ./data/images_new/test/31_20181231_frames059774\n"
     ]
    },
    {
     "name": "stderr",
     "output_type": "stream",
     "text": [
      "  7%|▋         | 114/1552 [00:30<03:26,  6.98it/s]"
     ]
    },
    {
     "name": "stdout",
     "output_type": "stream",
     "text": [
      "rgb logits...\n",
      "flow logits...\n",
      "===== Final predictions ====\n",
      "label: rubbing_hands\n",
      "logits proba class\n",
      "98.73% rubbing_hands\n",
      "112 10 12 ./data/images_new/test/31_20181231_frames059774\n",
      "rgb logits...\n",
      "flow logits...\n",
      "===== Final predictions ====\n",
      "label: rubbing_hands\n",
      "logits proba class\n",
      "78.07% rubbing_hands\n",
      "113 10 13 ./data/images_new/test/31_20181231_frames059774\n"
     ]
    },
    {
     "name": "stderr",
     "output_type": "stream",
     "text": [
      "  7%|▋         | 116/1552 [00:30<03:23,  7.05it/s]"
     ]
    },
    {
     "name": "stdout",
     "output_type": "stream",
     "text": [
      "rgb logits...\n",
      "flow logits...\n",
      "===== Final predictions ====\n",
      "label: other_action\n",
      "logits proba class\n",
      "94.58% touching_equipment\n",
      "114 10 0 ./data/images_new/test/31_20181231_frames059774\n",
      "rgb logits...\n",
      "flow logits...\n",
      "===== Final predictions ====\n",
      "label: other_action\n",
      "logits proba class\n",
      "56.59% touching_equipment\n",
      "115 10 1 ./data/images_new/test/31_20181231_frames059774\n"
     ]
    },
    {
     "name": "stderr",
     "output_type": "stream",
     "text": [
      "  8%|▊         | 118/1552 [00:30<03:20,  7.15it/s]"
     ]
    },
    {
     "name": "stdout",
     "output_type": "stream",
     "text": [
      "rgb logits...\n",
      "flow logits...\n",
      "===== Final predictions ====\n",
      "label: other_action\n",
      "logits proba class\n",
      "98.62% touching_equipment\n",
      "116 10 2 ./data/images_new/test/31_20181231_frames059774\n",
      "rgb logits...\n",
      "flow logits...\n",
      "===== Final predictions ====\n",
      "label: other_action\n",
      "logits proba class\n",
      "99.62% touching_equipment\n",
      "117 10 3 ./data/images_new/test/31_20181231_frames059774\n"
     ]
    },
    {
     "name": "stderr",
     "output_type": "stream",
     "text": [
      "  8%|▊         | 120/1552 [00:30<03:13,  7.41it/s]"
     ]
    },
    {
     "name": "stdout",
     "output_type": "stream",
     "text": [
      "rgb logits...\n",
      "flow logits...\n",
      "===== Final predictions ====\n",
      "label: other_action\n",
      "logits proba class\n",
      "92.65% touching_equipment\n",
      "118 10 4 ./data/images_new/test/31_20181231_frames059774\n",
      "rgb logits...\n",
      "flow logits...\n",
      "===== Final predictions ====\n",
      "label: other_action\n",
      "logits proba class\n",
      "99.86% other_action\n",
      "119 10 0 ./data/images_new/test/31_20181231_frames059774\n"
     ]
    },
    {
     "name": "stderr",
     "output_type": "stream",
     "text": [
      "  8%|▊         | 122/1552 [00:31<03:04,  7.74it/s]"
     ]
    },
    {
     "name": "stdout",
     "output_type": "stream",
     "text": [
      "rgb logits...\n",
      "flow logits...\n",
      "===== Final predictions ====\n",
      "label: other_action\n",
      "logits proba class\n",
      "99.01% other_action\n",
      "120 10 1 ./data/images_new/test/31_20181231_frames059774\n",
      "rgb logits...\n",
      "flow logits...\n",
      "===== Final predictions ====\n",
      "label: other_action\n",
      "logits proba class\n",
      "98.65% other_action\n",
      "121 10 2 ./data/images_new/test/31_20181231_frames059774\n"
     ]
    },
    {
     "name": "stderr",
     "output_type": "stream",
     "text": [
      "  8%|▊         | 124/1552 [00:31<03:01,  7.88it/s]"
     ]
    },
    {
     "name": "stdout",
     "output_type": "stream",
     "text": [
      "rgb logits...\n",
      "flow logits...\n",
      "===== Final predictions ====\n",
      "label: other_action\n",
      "logits proba class\n",
      "88.33% other_action\n",
      "122 10 3 ./data/images_new/test/31_20181231_frames059774\n",
      "rgb logits...\n",
      "flow logits...\n",
      "===== Final predictions ====\n",
      "label: other_action\n",
      "logits proba class\n",
      "91.28% other_action\n",
      "123 10 4 ./data/images_new/test/31_20181231_frames059774\n",
      "[RGB] Filling cache for index 11\n"
     ]
    },
    {
     "name": "stderr",
     "output_type": "stream",
     "text": [
      "\r",
      "  8%|▊         | 125/1552 [00:32<13:44,  1.73it/s]"
     ]
    },
    {
     "name": "stdout",
     "output_type": "stream",
     "text": [
      "[Flow] Filling cache for index 11\n",
      "rgb logits...\n",
      "flow logits...\n",
      "===== Final predictions ====\n",
      "label: rubbing_hands\n",
      "logits proba class\n",
      "93.71% touching_equipment\n",
      "124 11 0 ./data/images_new/test/31_20181231_frames062897\n"
     ]
    },
    {
     "name": "stderr",
     "output_type": "stream",
     "text": [
      "\r",
      "  8%|▊         | 126/1552 [00:33<11:01,  2.16it/s]"
     ]
    },
    {
     "name": "stdout",
     "output_type": "stream",
     "text": [
      "rgb logits...\n",
      "flow logits...\n",
      "===== Final predictions ====\n",
      "label: rubbing_hands\n",
      "logits proba class\n",
      "99.62% touching_equipment\n",
      "125 11 1 ./data/images_new/test/31_20181231_frames062897\n",
      "rgb logits...\n"
     ]
    },
    {
     "name": "stderr",
     "output_type": "stream",
     "text": [
      "  8%|▊         | 128/1552 [00:33<07:17,  3.25it/s]"
     ]
    },
    {
     "name": "stdout",
     "output_type": "stream",
     "text": [
      "flow logits...\n",
      "===== Final predictions ====\n",
      "label: rubbing_hands\n",
      "logits proba class\n",
      "71.83% touching_equipment\n",
      "126 11 2 ./data/images_new/test/31_20181231_frames062897\n",
      "rgb logits...\n",
      "flow logits...\n",
      "===== Final predictions ====\n",
      "label: rubbing_hands\n",
      "logits proba class\n",
      "88.99% touching_equipment\n",
      "127 11 3 ./data/images_new/test/31_20181231_frames062897\n"
     ]
    },
    {
     "name": "stderr",
     "output_type": "stream",
     "text": [
      "  8%|▊         | 130/1552 [00:33<05:22,  4.41it/s]"
     ]
    },
    {
     "name": "stdout",
     "output_type": "stream",
     "text": [
      "rgb logits...\n",
      "flow logits...\n",
      "===== Final predictions ====\n",
      "label: rubbing_hands\n",
      "logits proba class\n",
      "91.46% touching_equipment\n",
      "128 11 4 ./data/images_new/test/31_20181231_frames062897\n",
      "rgb logits...\n",
      "flow logits...\n",
      "===== Final predictions ====\n",
      "label: rubbing_hands\n",
      "logits proba class\n",
      "88.78% touching_equipment\n",
      "129 11 5 ./data/images_new/test/31_20181231_frames062897\n"
     ]
    },
    {
     "name": "stderr",
     "output_type": "stream",
     "text": [
      "  9%|▊         | 132/1552 [00:34<04:14,  5.58it/s]"
     ]
    },
    {
     "name": "stdout",
     "output_type": "stream",
     "text": [
      "rgb logits...\n",
      "flow logits...\n",
      "===== Final predictions ====\n",
      "label: other_action\n",
      "logits proba class\n",
      "99.53% other_action\n",
      "130 11 0 ./data/images_new/test/31_20181231_frames062897\n",
      "rgb logits...\n",
      "flow logits...\n",
      "===== Final predictions ====\n",
      "label: other_action\n",
      "logits proba class\n",
      "99.99% other_action\n",
      "131 11 1 ./data/images_new/test/31_20181231_frames062897\n"
     ]
    },
    {
     "name": "stderr",
     "output_type": "stream",
     "text": [
      "  9%|▊         | 134/1552 [00:34<03:49,  6.17it/s]"
     ]
    },
    {
     "name": "stdout",
     "output_type": "stream",
     "text": [
      "rgb logits...\n",
      "flow logits...\n",
      "===== Final predictions ====\n",
      "label: other_action\n",
      "logits proba class\n",
      "96.60% other_action\n",
      "132 11 0 ./data/images_new/test/31_20181231_frames062897\n",
      "rgb logits...\n",
      "flow logits...\n",
      "===== Final predictions ====\n",
      "label: other_action\n",
      "logits proba class\n",
      "55.39% touching_equipment\n",
      "133 11 1 ./data/images_new/test/31_20181231_frames062897\n"
     ]
    },
    {
     "name": "stderr",
     "output_type": "stream",
     "text": [
      "  9%|▉         | 136/1552 [00:34<03:24,  6.92it/s]"
     ]
    },
    {
     "name": "stdout",
     "output_type": "stream",
     "text": [
      "rgb logits...\n",
      "flow logits...\n",
      "===== Final predictions ====\n",
      "label: other_action\n",
      "logits proba class\n",
      "96.04% other_action\n",
      "134 11 0 ./data/images_new/test/31_20181231_frames062897\n",
      "rgb logits...\n",
      "flow logits...\n",
      "===== Final predictions ====\n",
      "label: other_action\n",
      "logits proba class\n",
      "88.18% other_action\n",
      "135 11 1 ./data/images_new/test/31_20181231_frames062897\n",
      "[RGB] Filling cache for index 12\n",
      "[Flow] Filling cache for index 12\n",
      "rgb logits...\n",
      "flow logits...\n"
     ]
    },
    {
     "name": "stderr",
     "output_type": "stream",
     "text": [
      "  9%|▉         | 138/1552 [00:36<09:33,  2.47it/s]"
     ]
    },
    {
     "name": "stdout",
     "output_type": "stream",
     "text": [
      "===== Final predictions ====\n",
      "label: other_action\n",
      "logits proba class\n",
      "99.91% other_action\n",
      "136 12 0 ./data/images_new/test/31_20181231_frames063676\n",
      "rgb logits...\n",
      "flow logits...\n",
      "===== Final predictions ====\n",
      "label: other_action\n",
      "logits proba class\n",
      "97.48% other_action\n",
      "137 12 0 ./data/images_new/test/31_20181231_frames063676\n"
     ]
    },
    {
     "name": "stderr",
     "output_type": "stream",
     "text": [
      "\r",
      "  9%|▉         | 139/1552 [00:36<07:54,  2.98it/s]"
     ]
    },
    {
     "name": "stdout",
     "output_type": "stream",
     "text": [
      "rgb logits...\n",
      "flow logits...\n",
      "===== Final predictions ====\n",
      "label: rubbing_hands\n",
      "logits proba class\n",
      "59.66% rubbing_hands\n",
      "138 12 0 ./data/images_new/test/31_20181231_frames063676\n",
      "rgb logits...\n"
     ]
    },
    {
     "name": "stderr",
     "output_type": "stream",
     "text": [
      "\r",
      "  9%|▉         | 140/1552 [00:36<06:43,  3.50it/s]"
     ]
    },
    {
     "name": "stdout",
     "output_type": "stream",
     "text": [
      "flow logits...\n",
      "===== Final predictions ====\n",
      "label: rubbing_hands\n",
      "logits proba class\n",
      "72.33% touching_equipment\n",
      "139 12 1 ./data/images_new/test/31_20181231_frames063676\n",
      "[RGB] Filling cache for index 13\n"
     ]
    },
    {
     "name": "stderr",
     "output_type": "stream",
     "text": [
      "\r",
      "  9%|▉         | 141/1552 [00:37<14:11,  1.66it/s]"
     ]
    },
    {
     "name": "stdout",
     "output_type": "stream",
     "text": [
      "[Flow] Filling cache for index 13\n",
      "rgb logits...\n",
      "flow logits...\n",
      "===== Final predictions ====\n",
      "label: other_action\n",
      "logits proba class\n",
      "99.67% other_action\n",
      "140 13 0 ./data/images_new/test/31_20181231_frames105917\n"
     ]
    },
    {
     "name": "stderr",
     "output_type": "stream",
     "text": [
      "\r",
      "  9%|▉         | 142/1552 [00:37<11:02,  2.13it/s]"
     ]
    },
    {
     "name": "stdout",
     "output_type": "stream",
     "text": [
      "rgb logits...\n",
      "flow logits...\n",
      "===== Final predictions ====\n",
      "label: other_action\n",
      "logits proba class\n",
      "52.47% rubbing_hands\n",
      "141 13 0 ./data/images_new/test/31_20181231_frames105917\n",
      "rgb logits...\n",
      "flow logits...\n"
     ]
    },
    {
     "name": "stderr",
     "output_type": "stream",
     "text": [
      "  9%|▉         | 144/1552 [00:38<07:19,  3.20it/s]"
     ]
    },
    {
     "name": "stdout",
     "output_type": "stream",
     "text": [
      "===== Final predictions ====\n",
      "label: rubbing_hands\n",
      "logits proba class\n",
      "87.02% other_action\n",
      "142 13 0 ./data/images_new/test/31_20181231_frames105917\n",
      "rgb logits...\n",
      "flow logits...\n",
      "===== Final predictions ====\n",
      "label: rubbing_hands\n",
      "logits proba class\n",
      "82.65% touching_equipment\n",
      "143 13 1 ./data/images_new/test/31_20181231_frames105917\n",
      "[RGB] Filling cache for index 14\n"
     ]
    },
    {
     "name": "stderr",
     "output_type": "stream",
     "text": [
      "\r",
      "  9%|▉         | 145/1552 [00:39<16:46,  1.40it/s]"
     ]
    },
    {
     "name": "stdout",
     "output_type": "stream",
     "text": [
      "[Flow] Filling cache for index 14\n",
      "rgb logits...\n",
      "flow logits...\n",
      "===== Final predictions ====\n",
      "label: other_action\n",
      "logits proba class\n",
      "84.84% touching_equipment\n",
      "144 14 0 ./data/images_new/test/31_20181231_frames121358\n"
     ]
    },
    {
     "name": "stderr",
     "output_type": "stream",
     "text": [
      "\r",
      "  9%|▉         | 146/1552 [00:40<13:03,  1.79it/s]"
     ]
    },
    {
     "name": "stdout",
     "output_type": "stream",
     "text": [
      "rgb logits...\n",
      "flow logits...\n",
      "===== Final predictions ====\n",
      "label: other_action\n",
      "logits proba class\n",
      "99.55% other_action\n",
      "145 14 1 ./data/images_new/test/31_20181231_frames121358\n",
      "rgb logits...\n"
     ]
    },
    {
     "name": "stderr",
     "output_type": "stream",
     "text": [
      " 10%|▉         | 148/1552 [00:40<08:34,  2.73it/s]"
     ]
    },
    {
     "name": "stdout",
     "output_type": "stream",
     "text": [
      "flow logits...\n",
      "===== Final predictions ====\n",
      "label: other_action\n",
      "logits proba class\n",
      "59.89% touching_equipment\n",
      "146 14 2 ./data/images_new/test/31_20181231_frames121358\n",
      "rgb logits...\n",
      "flow logits...\n",
      "===== Final predictions ====\n",
      "label: other_action\n",
      "logits proba class\n",
      "93.01% other_action\n",
      "147 14 0 ./data/images_new/test/31_20181231_frames121358\n"
     ]
    },
    {
     "name": "stderr",
     "output_type": "stream",
     "text": [
      " 10%|▉         | 150/1552 [00:40<05:48,  4.02it/s]"
     ]
    },
    {
     "name": "stdout",
     "output_type": "stream",
     "text": [
      "rgb logits...\n",
      "flow logits...\n",
      "===== Final predictions ====\n",
      "label: other_action\n",
      "logits proba class\n",
      "59.04% other_action\n",
      "148 14 1 ./data/images_new/test/31_20181231_frames121358\n",
      "rgb logits...\n",
      "flow logits...\n",
      "===== Final predictions ====\n",
      "label: other_action\n",
      "logits proba class\n",
      "91.10% other_action\n",
      "149 14 2 ./data/images_new/test/31_20181231_frames121358\n"
     ]
    },
    {
     "name": "stderr",
     "output_type": "stream",
     "text": [
      " 10%|▉         | 152/1552 [00:41<04:23,  5.32it/s]"
     ]
    },
    {
     "name": "stdout",
     "output_type": "stream",
     "text": [
      "rgb logits...\n",
      "flow logits...\n",
      "===== Final predictions ====\n",
      "label: other_action\n",
      "logits proba class\n",
      "99.20% touching_equipment\n",
      "150 14 0 ./data/images_new/test/31_20181231_frames121358\n",
      "rgb logits...\n",
      "flow logits...\n",
      "===== Final predictions ====\n",
      "label: other_action\n",
      "logits proba class\n",
      "95.02% touching_equipment\n",
      "151 14 1 ./data/images_new/test/31_20181231_frames121358\n"
     ]
    },
    {
     "name": "stderr",
     "output_type": "stream",
     "text": [
      " 10%|▉         | 154/1552 [00:41<03:42,  6.28it/s]"
     ]
    },
    {
     "name": "stdout",
     "output_type": "stream",
     "text": [
      "rgb logits...\n",
      "flow logits...\n",
      "===== Final predictions ====\n",
      "label: other_action\n",
      "logits proba class\n",
      "99.52% touching_equipment\n",
      "152 14 2 ./data/images_new/test/31_20181231_frames121358\n",
      "rgb logits...\n",
      "flow logits...\n",
      "===== Final predictions ====\n",
      "label: other_action\n",
      "logits proba class\n",
      "51.78% touching_equipment\n",
      "153 14 0 ./data/images_new/test/31_20181231_frames121358\n"
     ]
    },
    {
     "name": "stderr",
     "output_type": "stream",
     "text": [
      " 10%|█         | 156/1552 [00:41<03:19,  6.98it/s]"
     ]
    },
    {
     "name": "stdout",
     "output_type": "stream",
     "text": [
      "rgb logits...\n",
      "flow logits...\n",
      "===== Final predictions ====\n",
      "label: other_action\n",
      "logits proba class\n",
      "94.27% touching_equipment\n",
      "154 14 1 ./data/images_new/test/31_20181231_frames121358\n",
      "rgb logits...\n",
      "flow logits...\n",
      "===== Final predictions ====\n",
      "label: other_action\n",
      "logits proba class\n",
      "87.66% touching_equipment\n",
      "155 14 2 ./data/images_new/test/31_20181231_frames121358\n",
      "[RGB] Filling cache for index 15\n"
     ]
    },
    {
     "name": "stderr",
     "output_type": "stream",
     "text": [
      "\r",
      " 10%|█         | 157/1552 [00:43<15:26,  1.51it/s]"
     ]
    },
    {
     "name": "stdout",
     "output_type": "stream",
     "text": [
      "[Flow] Filling cache for index 15\n",
      "rgb logits...\n",
      "flow logits...\n",
      "===== Final predictions ====\n",
      "label: other_action\n",
      "logits proba class\n",
      "97.05% other_action\n",
      "156 15 0 ./data/images_new/test/34_20190110_frames060785\n"
     ]
    },
    {
     "name": "stderr",
     "output_type": "stream",
     "text": [
      "\r",
      " 10%|█         | 158/1552 [00:43<11:56,  1.95it/s]"
     ]
    },
    {
     "name": "stdout",
     "output_type": "stream",
     "text": [
      "rgb logits...\n",
      "flow logits...\n",
      "===== Final predictions ====\n",
      "label: other_action\n",
      "logits proba class\n",
      "99.02% other_action\n",
      "157 15 1 ./data/images_new/test/34_20190110_frames060785\n",
      "rgb logits...\n",
      "flow logits...\n"
     ]
    },
    {
     "name": "stderr",
     "output_type": "stream",
     "text": [
      " 10%|█         | 160/1552 [00:43<07:45,  2.99it/s]"
     ]
    },
    {
     "name": "stdout",
     "output_type": "stream",
     "text": [
      "===== Final predictions ====\n",
      "label: other_action\n",
      "logits proba class\n",
      "98.37% other_action\n",
      "158 15 2 ./data/images_new/test/34_20190110_frames060785\n",
      "rgb logits...\n",
      "flow logits...\n",
      "===== Final predictions ====\n",
      "label: other_action\n",
      "logits proba class\n",
      "97.20% other_action\n",
      "159 15 3 ./data/images_new/test/34_20190110_frames060785\n"
     ]
    },
    {
     "name": "stderr",
     "output_type": "stream",
     "text": [
      " 10%|█         | 162/1552 [00:44<05:33,  4.17it/s]"
     ]
    },
    {
     "name": "stdout",
     "output_type": "stream",
     "text": [
      "rgb logits...\n",
      "flow logits...\n",
      "===== Final predictions ====\n",
      "label: other_action\n",
      "logits proba class\n",
      "95.23% other_action\n",
      "160 15 4 ./data/images_new/test/34_20190110_frames060785\n",
      "rgb logits...\n",
      "flow logits...\n",
      "===== Final predictions ====\n",
      "label: other_action\n",
      "logits proba class\n",
      "95.70% other_action\n",
      "161 15 0 ./data/images_new/test/34_20190110_frames060785\n"
     ]
    },
    {
     "name": "stderr",
     "output_type": "stream",
     "text": [
      "\r",
      " 11%|█         | 163/1552 [00:44<05:18,  4.36it/s]"
     ]
    },
    {
     "name": "stdout",
     "output_type": "stream",
     "text": [
      "rgb logits...\n",
      "flow logits...\n",
      "===== Final predictions ====\n",
      "label: other_action\n",
      "logits proba class\n",
      "99.48% other_action\n",
      "162 15 1 ./data/images_new/test/34_20190110_frames060785\n",
      "rgb logits...\n"
     ]
    },
    {
     "name": "stderr",
     "output_type": "stream",
     "text": [
      "\r",
      " 11%|█         | 164/1552 [00:44<04:58,  4.65it/s]"
     ]
    },
    {
     "name": "stdout",
     "output_type": "stream",
     "text": [
      "flow logits...\n",
      "===== Final predictions ====\n",
      "label: other_action\n",
      "logits proba class\n",
      "93.07% other_action\n",
      "163 15 2 ./data/images_new/test/34_20190110_frames060785\n",
      "rgb logits...\n"
     ]
    },
    {
     "name": "stderr",
     "output_type": "stream",
     "text": [
      " 11%|█         | 166/1552 [00:44<04:36,  5.02it/s]"
     ]
    },
    {
     "name": "stdout",
     "output_type": "stream",
     "text": [
      "flow logits...\n",
      "===== Final predictions ====\n",
      "label: other_action\n",
      "logits proba class\n",
      "95.33% other_action\n",
      "164 15 3 ./data/images_new/test/34_20190110_frames060785\n",
      "rgb logits...\n",
      "flow logits...\n",
      "===== Final predictions ====\n",
      "label: other_action\n",
      "logits proba class\n",
      "95.61% other_action\n",
      "165 15 4 ./data/images_new/test/34_20190110_frames060785\n"
     ]
    },
    {
     "name": "stderr",
     "output_type": "stream",
     "text": [
      " 11%|█         | 168/1552 [00:45<03:51,  5.99it/s]"
     ]
    },
    {
     "name": "stdout",
     "output_type": "stream",
     "text": [
      "rgb logits...\n",
      "flow logits...\n",
      "===== Final predictions ====\n",
      "label: rubbing_hands\n",
      "logits proba class\n",
      "99.84% touching_equipment\n",
      "166 15 0 ./data/images_new/test/34_20190110_frames060785\n",
      "rgb logits...\n",
      "flow logits...\n",
      "===== Final predictions ====\n",
      "label: rubbing_hands\n",
      "logits proba class\n",
      "99.99% touching_equipment\n",
      "167 15 1 ./data/images_new/test/34_20190110_frames060785\n"
     ]
    },
    {
     "name": "stderr",
     "output_type": "stream",
     "text": [
      " 11%|█         | 170/1552 [00:45<03:25,  6.74it/s]"
     ]
    },
    {
     "name": "stdout",
     "output_type": "stream",
     "text": [
      "rgb logits...\n",
      "flow logits...\n",
      "===== Final predictions ====\n",
      "label: rubbing_hands\n",
      "logits proba class\n",
      "99.42% touching_equipment\n",
      "168 15 2 ./data/images_new/test/34_20190110_frames060785\n",
      "rgb logits...\n",
      "flow logits...\n",
      "===== Final predictions ====\n",
      "label: rubbing_hands\n",
      "logits proba class\n",
      "99.98% touching_equipment\n",
      "169 15 3 ./data/images_new/test/34_20190110_frames060785\n"
     ]
    },
    {
     "name": "stderr",
     "output_type": "stream",
     "text": [
      " 11%|█         | 172/1552 [00:45<03:11,  7.19it/s]"
     ]
    },
    {
     "name": "stdout",
     "output_type": "stream",
     "text": [
      "rgb logits...\n",
      "flow logits...\n",
      "===== Final predictions ====\n",
      "label: rubbing_hands\n",
      "logits proba class\n",
      "99.69% touching_equipment\n",
      "170 15 4 ./data/images_new/test/34_20190110_frames060785\n",
      "rgb logits...\n",
      "flow logits...\n",
      "===== Final predictions ====\n",
      "label: rubbing_hands\n",
      "logits proba class\n",
      "99.81% touching_equipment\n",
      "171 15 5 ./data/images_new/test/34_20190110_frames060785\n"
     ]
    },
    {
     "name": "stderr",
     "output_type": "stream",
     "text": [
      " 11%|█         | 174/1552 [00:46<03:05,  7.42it/s]"
     ]
    },
    {
     "name": "stdout",
     "output_type": "stream",
     "text": [
      "rgb logits...\n",
      "flow logits...\n",
      "===== Final predictions ====\n",
      "label: rubbing_hands\n",
      "logits proba class\n",
      "98.94% touching_equipment\n",
      "172 15 6 ./data/images_new/test/34_20190110_frames060785\n",
      "rgb logits...\n",
      "flow logits...\n",
      "===== Final predictions ====\n",
      "label: rubbing_hands\n",
      "logits proba class\n",
      "99.68% touching_equipment\n",
      "173 15 7 ./data/images_new/test/34_20190110_frames060785\n"
     ]
    },
    {
     "name": "stderr",
     "output_type": "stream",
     "text": [
      " 11%|█▏        | 176/1552 [00:46<03:03,  7.49it/s]"
     ]
    },
    {
     "name": "stdout",
     "output_type": "stream",
     "text": [
      "rgb logits...\n",
      "flow logits...\n",
      "===== Final predictions ====\n",
      "label: rubbing_hands\n",
      "logits proba class\n",
      "99.80% touching_equipment\n",
      "174 15 8 ./data/images_new/test/34_20190110_frames060785\n",
      "rgb logits...\n",
      "flow logits...\n",
      "===== Final predictions ====\n",
      "label: rubbing_hands\n",
      "logits proba class\n",
      "98.54% touching_equipment\n",
      "175 15 9 ./data/images_new/test/34_20190110_frames060785\n"
     ]
    },
    {
     "name": "stderr",
     "output_type": "stream",
     "text": [
      " 11%|█▏        | 178/1552 [00:46<03:01,  7.58it/s]"
     ]
    },
    {
     "name": "stdout",
     "output_type": "stream",
     "text": [
      "rgb logits...\n",
      "flow logits...\n",
      "===== Final predictions ====\n",
      "label: rubbing_hands\n",
      "logits proba class\n",
      "95.88% touching_equipment\n",
      "176 15 10 ./data/images_new/test/34_20190110_frames060785\n",
      "rgb logits...\n",
      "flow logits...\n",
      "===== Final predictions ====\n",
      "label: rubbing_hands\n",
      "logits proba class\n",
      "99.69% touching_equipment\n",
      "177 15 11 ./data/images_new/test/34_20190110_frames060785\n"
     ]
    },
    {
     "name": "stderr",
     "output_type": "stream",
     "text": [
      " 12%|█▏        | 180/1552 [00:46<03:00,  7.62it/s]"
     ]
    },
    {
     "name": "stdout",
     "output_type": "stream",
     "text": [
      "rgb logits...\n",
      "flow logits...\n",
      "===== Final predictions ====\n",
      "label: rubbing_hands\n",
      "logits proba class\n",
      "44.52% touching_equipment\n",
      "178 15 12 ./data/images_new/test/34_20190110_frames060785\n",
      "rgb logits...\n",
      "flow logits...\n",
      "===== Final predictions ====\n",
      "label: rubbing_hands\n",
      "logits proba class\n",
      "89.73% other_action\n",
      "179 15 13 ./data/images_new/test/34_20190110_frames060785\n",
      "[RGB] Filling cache for index 16\n"
     ]
    },
    {
     "name": "stderr",
     "output_type": "stream",
     "text": [
      "\r",
      " 12%|█▏        | 181/1552 [00:49<21:26,  1.07it/s]"
     ]
    },
    {
     "name": "stdout",
     "output_type": "stream",
     "text": [
      "[Flow] Filling cache for index 16\n",
      "rgb logits...\n",
      "flow logits...\n",
      "===== Final predictions ====\n",
      "label: touching_equipment\n",
      "logits proba class\n",
      "99.74% touching_equipment\n",
      "180 16 0 ./data/images_new/test/17_20181203_frames134218\n"
     ]
    },
    {
     "name": "stderr",
     "output_type": "stream",
     "text": [
      "\r",
      " 12%|█▏        | 182/1552 [00:49<16:14,  1.41it/s]"
     ]
    },
    {
     "name": "stdout",
     "output_type": "stream",
     "text": [
      "rgb logits...\n",
      "flow logits...\n",
      "===== Final predictions ====\n",
      "label: touching_equipment\n",
      "logits proba class\n",
      "99.86% touching_equipment\n",
      "181 16 1 ./data/images_new/test/17_20181203_frames134218\n",
      "rgb logits...\n",
      "flow logits...\n"
     ]
    },
    {
     "name": "stderr",
     "output_type": "stream",
     "text": [
      " 12%|█▏        | 184/1552 [00:50<09:43,  2.34it/s]"
     ]
    },
    {
     "name": "stdout",
     "output_type": "stream",
     "text": [
      "===== Final predictions ====\n",
      "label: touching_equipment\n",
      "logits proba class\n",
      "99.14% touching_equipment\n",
      "182 16 2 ./data/images_new/test/17_20181203_frames134218\n",
      "rgb logits...\n",
      "flow logits...\n",
      "===== Final predictions ====\n",
      "label: touching_equipment\n",
      "logits proba class\n",
      "85.81% other_action\n",
      "183 16 3 ./data/images_new/test/17_20181203_frames134218\n"
     ]
    },
    {
     "name": "stderr",
     "output_type": "stream",
     "text": [
      " 12%|█▏        | 186/1552 [00:50<06:16,  3.63it/s]"
     ]
    },
    {
     "name": "stdout",
     "output_type": "stream",
     "text": [
      "rgb logits...\n",
      "flow logits...\n",
      "===== Final predictions ====\n",
      "label: touching_equipment\n",
      "logits proba class\n",
      "92.85% touching_equipment\n",
      "184 16 4 ./data/images_new/test/17_20181203_frames134218\n",
      "rgb logits...\n",
      "flow logits...\n",
      "===== Final predictions ====\n",
      "label: touching_equipment\n",
      "logits proba class\n",
      "67.41% touching_equipment\n",
      "185 16 5 ./data/images_new/test/17_20181203_frames134218\n"
     ]
    },
    {
     "name": "stderr",
     "output_type": "stream",
     "text": [
      " 12%|█▏        | 188/1552 [00:50<04:32,  5.00it/s]"
     ]
    },
    {
     "name": "stdout",
     "output_type": "stream",
     "text": [
      "rgb logits...\n",
      "flow logits...\n",
      "===== Final predictions ====\n",
      "label: touching_equipment\n",
      "logits proba class\n",
      "99.92% touching_equipment\n",
      "186 16 6 ./data/images_new/test/17_20181203_frames134218\n",
      "rgb logits...\n",
      "flow logits...\n",
      "===== Final predictions ====\n",
      "label: touching_equipment\n",
      "logits proba class\n",
      "99.99% touching_equipment\n",
      "187 16 7 ./data/images_new/test/17_20181203_frames134218\n"
     ]
    },
    {
     "name": "stderr",
     "output_type": "stream",
     "text": [
      " 12%|█▏        | 190/1552 [00:50<03:44,  6.07it/s]"
     ]
    },
    {
     "name": "stdout",
     "output_type": "stream",
     "text": [
      "rgb logits...\n",
      "flow logits...\n",
      "===== Final predictions ====\n",
      "label: touching_equipment\n",
      "logits proba class\n",
      "100.00% touching_equipment\n",
      "188 16 8 ./data/images_new/test/17_20181203_frames134218\n",
      "rgb logits...\n",
      "flow logits...\n",
      "===== Final predictions ====\n",
      "label: touching_equipment\n",
      "logits proba class\n",
      "99.97% touching_equipment\n",
      "189 16 9 ./data/images_new/test/17_20181203_frames134218\n"
     ]
    },
    {
     "name": "stderr",
     "output_type": "stream",
     "text": [
      " 12%|█▏        | 192/1552 [00:51<03:19,  6.83it/s]"
     ]
    },
    {
     "name": "stdout",
     "output_type": "stream",
     "text": [
      "rgb logits...\n",
      "flow logits...\n",
      "===== Final predictions ====\n",
      "label: touching_equipment\n",
      "logits proba class\n",
      "99.96% touching_equipment\n",
      "190 16 10 ./data/images_new/test/17_20181203_frames134218\n",
      "rgb logits...\n",
      "flow logits...\n",
      "===== Final predictions ====\n",
      "label: touching_equipment\n",
      "logits proba class\n",
      "99.97% touching_equipment\n",
      "191 16 11 ./data/images_new/test/17_20181203_frames134218\n"
     ]
    },
    {
     "name": "stderr",
     "output_type": "stream",
     "text": [
      " 12%|█▎        | 194/1552 [00:51<03:09,  7.17it/s]"
     ]
    },
    {
     "name": "stdout",
     "output_type": "stream",
     "text": [
      "rgb logits...\n",
      "flow logits...\n",
      "===== Final predictions ====\n",
      "label: touching_equipment\n",
      "logits proba class\n",
      "99.96% touching_equipment\n",
      "192 16 12 ./data/images_new/test/17_20181203_frames134218\n",
      "rgb logits...\n",
      "flow logits...\n",
      "===== Final predictions ====\n",
      "label: touching_equipment\n",
      "logits proba class\n",
      "99.99% touching_equipment\n",
      "193 16 13 ./data/images_new/test/17_20181203_frames134218\n"
     ]
    },
    {
     "name": "stderr",
     "output_type": "stream",
     "text": [
      " 13%|█▎        | 196/1552 [00:51<03:05,  7.29it/s]"
     ]
    },
    {
     "name": "stdout",
     "output_type": "stream",
     "text": [
      "rgb logits...\n",
      "flow logits...\n",
      "===== Final predictions ====\n",
      "label: touching_equipment\n",
      "logits proba class\n",
      "100.00% touching_equipment\n",
      "194 16 14 ./data/images_new/test/17_20181203_frames134218\n",
      "rgb logits...\n",
      "flow logits...\n",
      "===== Final predictions ====\n",
      "label: touching_equipment\n",
      "logits proba class\n",
      "100.00% touching_equipment\n",
      "195 16 15 ./data/images_new/test/17_20181203_frames134218\n"
     ]
    },
    {
     "name": "stderr",
     "output_type": "stream",
     "text": [
      " 13%|█▎        | 198/1552 [00:51<03:02,  7.43it/s]"
     ]
    },
    {
     "name": "stdout",
     "output_type": "stream",
     "text": [
      "rgb logits...\n",
      "flow logits...\n",
      "===== Final predictions ====\n",
      "label: touching_equipment\n",
      "logits proba class\n",
      "100.00% touching_equipment\n",
      "196 16 16 ./data/images_new/test/17_20181203_frames134218\n",
      "rgb logits...\n",
      "flow logits...\n",
      "===== Final predictions ====\n",
      "label: touching_equipment\n",
      "logits proba class\n",
      "100.00% touching_equipment\n",
      "197 16 17 ./data/images_new/test/17_20181203_frames134218\n"
     ]
    },
    {
     "name": "stderr",
     "output_type": "stream",
     "text": [
      " 13%|█▎        | 200/1552 [00:52<02:58,  7.59it/s]"
     ]
    },
    {
     "name": "stdout",
     "output_type": "stream",
     "text": [
      "rgb logits...\n",
      "flow logits...\n",
      "===== Final predictions ====\n",
      "label: touching_equipment\n",
      "logits proba class\n",
      "99.98% touching_equipment\n",
      "198 16 18 ./data/images_new/test/17_20181203_frames134218\n",
      "rgb logits...\n",
      "flow logits...\n",
      "===== Final predictions ====\n",
      "label: touching_equipment\n",
      "logits proba class\n",
      "99.90% touching_equipment\n",
      "199 16 19 ./data/images_new/test/17_20181203_frames134218\n"
     ]
    },
    {
     "name": "stderr",
     "output_type": "stream",
     "text": [
      " 13%|█▎        | 202/1552 [00:52<02:54,  7.73it/s]"
     ]
    },
    {
     "name": "stdout",
     "output_type": "stream",
     "text": [
      "rgb logits...\n",
      "flow logits...\n",
      "===== Final predictions ====\n",
      "label: touching_equipment\n",
      "logits proba class\n",
      "99.98% touching_equipment\n",
      "200 16 20 ./data/images_new/test/17_20181203_frames134218\n",
      "rgb logits...\n",
      "flow logits...\n",
      "===== Final predictions ====\n",
      "label: touching_equipment\n",
      "logits proba class\n",
      "100.00% touching_equipment\n",
      "201 16 21 ./data/images_new/test/17_20181203_frames134218\n"
     ]
    },
    {
     "name": "stderr",
     "output_type": "stream",
     "text": [
      " 13%|█▎        | 204/1552 [00:52<02:53,  7.76it/s]"
     ]
    },
    {
     "name": "stdout",
     "output_type": "stream",
     "text": [
      "rgb logits...\n",
      "flow logits...\n",
      "===== Final predictions ====\n",
      "label: touching_equipment\n",
      "logits proba class\n",
      "100.00% touching_equipment\n",
      "202 16 22 ./data/images_new/test/17_20181203_frames134218\n",
      "rgb logits...\n",
      "flow logits...\n",
      "===== Final predictions ====\n",
      "label: touching_equipment\n",
      "logits proba class\n",
      "100.00% touching_equipment\n",
      "203 16 23 ./data/images_new/test/17_20181203_frames134218\n"
     ]
    },
    {
     "name": "stderr",
     "output_type": "stream",
     "text": [
      " 13%|█▎        | 206/1552 [00:52<02:52,  7.81it/s]"
     ]
    },
    {
     "name": "stdout",
     "output_type": "stream",
     "text": [
      "rgb logits...\n",
      "flow logits...\n",
      "===== Final predictions ====\n",
      "label: touching_equipment\n",
      "logits proba class\n",
      "100.00% touching_equipment\n",
      "204 16 24 ./data/images_new/test/17_20181203_frames134218\n",
      "rgb logits...\n",
      "flow logits...\n",
      "===== Final predictions ====\n",
      "label: touching_equipment\n",
      "logits proba class\n",
      "100.00% touching_equipment\n",
      "205 16 25 ./data/images_new/test/17_20181203_frames134218\n"
     ]
    },
    {
     "name": "stderr",
     "output_type": "stream",
     "text": [
      " 13%|█▎        | 208/1552 [00:53<02:51,  7.83it/s]"
     ]
    },
    {
     "name": "stdout",
     "output_type": "stream",
     "text": [
      "rgb logits...\n",
      "flow logits...\n",
      "===== Final predictions ====\n",
      "label: touching_equipment\n",
      "logits proba class\n",
      "100.00% touching_equipment\n",
      "206 16 26 ./data/images_new/test/17_20181203_frames134218\n",
      "rgb logits...\n",
      "flow logits...\n",
      "===== Final predictions ====\n",
      "label: touching_equipment\n",
      "logits proba class\n",
      "99.99% touching_equipment\n",
      "207 16 27 ./data/images_new/test/17_20181203_frames134218\n"
     ]
    },
    {
     "name": "stderr",
     "output_type": "stream",
     "text": [
      " 14%|█▎        | 210/1552 [00:53<02:51,  7.84it/s]"
     ]
    },
    {
     "name": "stdout",
     "output_type": "stream",
     "text": [
      "rgb logits...\n",
      "flow logits...\n",
      "===== Final predictions ====\n",
      "label: touching_equipment\n",
      "logits proba class\n",
      "99.86% touching_equipment\n",
      "208 16 28 ./data/images_new/test/17_20181203_frames134218\n",
      "rgb logits...\n",
      "flow logits...\n",
      "===== Final predictions ====\n",
      "label: touching_equipment\n",
      "logits proba class\n",
      "99.99% touching_equipment\n",
      "209 16 29 ./data/images_new/test/17_20181203_frames134218\n"
     ]
    },
    {
     "name": "stderr",
     "output_type": "stream",
     "text": [
      " 14%|█▎        | 212/1552 [00:53<02:50,  7.86it/s]"
     ]
    },
    {
     "name": "stdout",
     "output_type": "stream",
     "text": [
      "rgb logits...\n",
      "flow logits...\n",
      "===== Final predictions ====\n",
      "label: touching_equipment\n",
      "logits proba class\n",
      "99.80% touching_equipment\n",
      "210 16 30 ./data/images_new/test/17_20181203_frames134218\n",
      "rgb logits...\n",
      "flow logits...\n",
      "===== Final predictions ====\n",
      "label: touching_equipment\n",
      "logits proba class\n",
      "96.72% touching_equipment\n",
      "211 16 31 ./data/images_new/test/17_20181203_frames134218\n"
     ]
    },
    {
     "name": "stderr",
     "output_type": "stream",
     "text": [
      " 14%|█▍        | 214/1552 [00:54<02:50,  7.83it/s]"
     ]
    },
    {
     "name": "stdout",
     "output_type": "stream",
     "text": [
      "rgb logits...\n",
      "flow logits...\n",
      "===== Final predictions ====\n",
      "label: touching_equipment\n",
      "logits proba class\n",
      "99.95% touching_equipment\n",
      "212 16 32 ./data/images_new/test/17_20181203_frames134218\n",
      "rgb logits...\n",
      "flow logits...\n",
      "===== Final predictions ====\n",
      "label: touching_equipment\n",
      "logits proba class\n",
      "99.54% touching_equipment\n",
      "213 16 33 ./data/images_new/test/17_20181203_frames134218\n"
     ]
    },
    {
     "name": "stderr",
     "output_type": "stream",
     "text": [
      " 14%|█▍        | 216/1552 [00:54<02:50,  7.83it/s]"
     ]
    },
    {
     "name": "stdout",
     "output_type": "stream",
     "text": [
      "rgb logits...\n",
      "flow logits...\n",
      "===== Final predictions ====\n",
      "label: touching_equipment\n",
      "logits proba class\n",
      "99.43% touching_equipment\n",
      "214 16 34 ./data/images_new/test/17_20181203_frames134218\n",
      "rgb logits...\n",
      "flow logits...\n",
      "===== Final predictions ====\n",
      "label: touching_equipment\n",
      "logits proba class\n",
      "99.97% touching_equipment\n",
      "215 16 35 ./data/images_new/test/17_20181203_frames134218\n"
     ]
    },
    {
     "name": "stderr",
     "output_type": "stream",
     "text": [
      " 14%|█▍        | 218/1552 [00:54<02:50,  7.81it/s]"
     ]
    },
    {
     "name": "stdout",
     "output_type": "stream",
     "text": [
      "rgb logits...\n",
      "flow logits...\n",
      "===== Final predictions ====\n",
      "label: touching_equipment\n",
      "logits proba class\n",
      "99.72% touching_equipment\n",
      "216 16 36 ./data/images_new/test/17_20181203_frames134218\n",
      "rgb logits...\n",
      "flow logits...\n",
      "===== Final predictions ====\n",
      "label: touching_equipment\n",
      "logits proba class\n",
      "99.77% touching_equipment\n",
      "217 16 37 ./data/images_new/test/17_20181203_frames134218\n"
     ]
    },
    {
     "name": "stderr",
     "output_type": "stream",
     "text": [
      " 14%|█▍        | 220/1552 [00:54<02:50,  7.81it/s]"
     ]
    },
    {
     "name": "stdout",
     "output_type": "stream",
     "text": [
      "rgb logits...\n",
      "flow logits...\n",
      "===== Final predictions ====\n",
      "label: touching_equipment\n",
      "logits proba class\n",
      "99.93% touching_equipment\n",
      "218 16 38 ./data/images_new/test/17_20181203_frames134218\n",
      "rgb logits...\n",
      "flow logits...\n",
      "===== Final predictions ====\n",
      "label: touching_equipment\n",
      "logits proba class\n",
      "99.96% touching_equipment\n",
      "219 16 39 ./data/images_new/test/17_20181203_frames134218\n"
     ]
    },
    {
     "name": "stderr",
     "output_type": "stream",
     "text": [
      " 14%|█▍        | 222/1552 [00:55<02:50,  7.78it/s]"
     ]
    },
    {
     "name": "stdout",
     "output_type": "stream",
     "text": [
      "rgb logits...\n",
      "flow logits...\n",
      "===== Final predictions ====\n",
      "label: touching_equipment\n",
      "logits proba class\n",
      "99.98% touching_equipment\n",
      "220 16 40 ./data/images_new/test/17_20181203_frames134218\n",
      "rgb logits...\n",
      "flow logits...\n",
      "===== Final predictions ====\n",
      "label: touching_equipment\n",
      "logits proba class\n",
      "99.97% touching_equipment\n",
      "221 16 41 ./data/images_new/test/17_20181203_frames134218\n",
      "[RGB] Filling cache for index 17\n",
      "[Flow] Filling cache for index 17\n",
      "rgb logits...\n"
     ]
    },
    {
     "name": "stderr",
     "output_type": "stream",
     "text": [
      " 14%|█▍        | 224/1552 [00:56<07:35,  2.92it/s]"
     ]
    },
    {
     "name": "stdout",
     "output_type": "stream",
     "text": [
      "flow logits...\n",
      "===== Final predictions ====\n",
      "label: touching_equipment\n",
      "logits proba class\n",
      "64.54% rubbing_hands\n",
      "222 17 0 ./data/images_new/test/17_20181203_frames148271\n",
      "rgb logits...\n",
      "flow logits...\n",
      "===== Final predictions ====\n",
      "label: other_action\n",
      "logits proba class\n",
      "59.21% other_action\n",
      "223 17 0 ./data/images_new/test/17_20181203_frames148271\n"
     ]
    },
    {
     "name": "stderr",
     "output_type": "stream",
     "text": [
      "\r",
      " 14%|█▍        | 225/1552 [00:56<06:20,  3.48it/s]"
     ]
    },
    {
     "name": "stdout",
     "output_type": "stream",
     "text": [
      "rgb logits...\n",
      "flow logits...\n",
      "===== Final predictions ====\n",
      "label: other_action\n",
      "logits proba class\n",
      "99.87% other_action\n",
      "224 17 0 ./data/images_new/test/17_20181203_frames148271\n",
      "[RGB] Filling cache for index 18\n"
     ]
    },
    {
     "name": "stderr",
     "output_type": "stream",
     "text": [
      "\r",
      " 15%|█▍        | 226/1552 [00:57<13:26,  1.64it/s]"
     ]
    },
    {
     "name": "stdout",
     "output_type": "stream",
     "text": [
      "[Flow] Filling cache for index 18\n",
      "rgb logits...\n",
      "flow logits...\n",
      "===== Final predictions ====\n",
      "label: touching_equipment\n",
      "logits proba class\n",
      "90.41% touching_equipment\n",
      "225 18 0 ./data/images_new/test/17_20181203_frames149561\n"
     ]
    },
    {
     "name": "stderr",
     "output_type": "stream",
     "text": [
      "\r",
      " 15%|█▍        | 227/1552 [00:57<10:32,  2.10it/s]"
     ]
    },
    {
     "name": "stdout",
     "output_type": "stream",
     "text": [
      "rgb logits...\n",
      "flow logits...\n",
      "===== Final predictions ====\n",
      "label: touching_equipment\n",
      "logits proba class\n",
      "96.08% touching_equipment\n",
      "226 18 1 ./data/images_new/test/17_20181203_frames149561\n",
      "rgb logits...\n"
     ]
    },
    {
     "name": "stderr",
     "output_type": "stream",
     "text": [
      " 15%|█▍        | 229/1552 [00:58<07:03,  3.13it/s]"
     ]
    },
    {
     "name": "stdout",
     "output_type": "stream",
     "text": [
      "flow logits...\n",
      "===== Final predictions ====\n",
      "label: touching_equipment\n",
      "logits proba class\n",
      "96.44% touching_equipment\n",
      "227 18 2 ./data/images_new/test/17_20181203_frames149561\n",
      "rgb logits...\n",
      "flow logits...\n",
      "===== Final predictions ====\n",
      "label: touching_equipment\n",
      "logits proba class\n",
      "95.75% touching_equipment\n",
      "228 18 3 ./data/images_new/test/17_20181203_frames149561\n"
     ]
    },
    {
     "name": "stderr",
     "output_type": "stream",
     "text": [
      " 15%|█▍        | 231/1552 [00:58<05:03,  4.35it/s]"
     ]
    },
    {
     "name": "stdout",
     "output_type": "stream",
     "text": [
      "rgb logits...\n",
      "flow logits...\n",
      "===== Final predictions ====\n",
      "label: touching_equipment\n",
      "logits proba class\n",
      "99.52% touching_equipment\n",
      "229 18 4 ./data/images_new/test/17_20181203_frames149561\n",
      "rgb logits...\n",
      "flow logits...\n",
      "===== Final predictions ====\n",
      "label: touching_equipment\n",
      "logits proba class\n",
      "99.54% touching_equipment\n",
      "230 18 5 ./data/images_new/test/17_20181203_frames149561\n"
     ]
    },
    {
     "name": "stderr",
     "output_type": "stream",
     "text": [
      " 15%|█▌        | 233/1552 [00:58<03:58,  5.54it/s]"
     ]
    },
    {
     "name": "stdout",
     "output_type": "stream",
     "text": [
      "rgb logits...\n",
      "flow logits...\n",
      "===== Final predictions ====\n",
      "label: touching_equipment\n",
      "logits proba class\n",
      "99.43% touching_equipment\n",
      "231 18 6 ./data/images_new/test/17_20181203_frames149561\n",
      "rgb logits...\n",
      "flow logits...\n",
      "===== Final predictions ====\n",
      "label: touching_equipment\n",
      "logits proba class\n",
      "99.28% touching_equipment\n",
      "232 18 7 ./data/images_new/test/17_20181203_frames149561\n"
     ]
    },
    {
     "name": "stderr",
     "output_type": "stream",
     "text": [
      " 15%|█▌        | 235/1552 [00:59<03:28,  6.31it/s]"
     ]
    },
    {
     "name": "stdout",
     "output_type": "stream",
     "text": [
      "rgb logits...\n",
      "flow logits...\n",
      "===== Final predictions ====\n",
      "label: touching_equipment\n",
      "logits proba class\n",
      "99.42% touching_equipment\n",
      "233 18 8 ./data/images_new/test/17_20181203_frames149561\n",
      "rgb logits...\n",
      "flow logits...\n",
      "===== Final predictions ====\n",
      "label: touching_equipment\n",
      "logits proba class\n",
      "98.88% touching_equipment\n",
      "234 18 9 ./data/images_new/test/17_20181203_frames149561\n"
     ]
    },
    {
     "name": "stderr",
     "output_type": "stream",
     "text": [
      " 15%|█▌        | 237/1552 [00:59<03:10,  6.89it/s]"
     ]
    },
    {
     "name": "stdout",
     "output_type": "stream",
     "text": [
      "rgb logits...\n",
      "flow logits...\n",
      "===== Final predictions ====\n",
      "label: touching_equipment\n",
      "logits proba class\n",
      "99.97% touching_equipment\n",
      "235 18 10 ./data/images_new/test/17_20181203_frames149561\n",
      "rgb logits...\n",
      "flow logits...\n",
      "===== Final predictions ====\n",
      "label: touching_equipment\n",
      "logits proba class\n",
      "99.97% touching_equipment\n",
      "236 18 11 ./data/images_new/test/17_20181203_frames149561\n"
     ]
    },
    {
     "name": "stderr",
     "output_type": "stream",
     "text": [
      " 15%|█▌        | 239/1552 [00:59<03:01,  7.24it/s]"
     ]
    },
    {
     "name": "stdout",
     "output_type": "stream",
     "text": [
      "rgb logits...\n",
      "flow logits...\n",
      "===== Final predictions ====\n",
      "label: touching_equipment\n",
      "logits proba class\n",
      "99.96% touching_equipment\n",
      "237 18 12 ./data/images_new/test/17_20181203_frames149561\n",
      "rgb logits...\n",
      "flow logits...\n",
      "===== Final predictions ====\n",
      "label: touching_equipment\n",
      "logits proba class\n",
      "99.97% touching_equipment\n",
      "238 18 13 ./data/images_new/test/17_20181203_frames149561\n"
     ]
    },
    {
     "name": "stderr",
     "output_type": "stream",
     "text": [
      " 16%|█▌        | 241/1552 [00:59<02:56,  7.42it/s]"
     ]
    },
    {
     "name": "stdout",
     "output_type": "stream",
     "text": [
      "rgb logits...\n",
      "flow logits...\n",
      "===== Final predictions ====\n",
      "label: touching_equipment\n",
      "logits proba class\n",
      "99.96% touching_equipment\n",
      "239 18 14 ./data/images_new/test/17_20181203_frames149561\n",
      "rgb logits...\n",
      "flow logits...\n",
      "===== Final predictions ====\n",
      "label: touching_equipment\n",
      "logits proba class\n",
      "99.72% touching_equipment\n",
      "240 18 15 ./data/images_new/test/17_20181203_frames149561\n"
     ]
    },
    {
     "name": "stderr",
     "output_type": "stream",
     "text": [
      " 16%|█▌        | 243/1552 [01:00<02:53,  7.56it/s]"
     ]
    },
    {
     "name": "stdout",
     "output_type": "stream",
     "text": [
      "rgb logits...\n",
      "flow logits...\n",
      "===== Final predictions ====\n",
      "label: touching_equipment\n",
      "logits proba class\n",
      "99.96% touching_equipment\n",
      "241 18 16 ./data/images_new/test/17_20181203_frames149561\n",
      "rgb logits...\n",
      "flow logits...\n",
      "===== Final predictions ====\n",
      "label: other_action\n",
      "logits proba class\n",
      "99.57% other_action\n",
      "242 18 0 ./data/images_new/test/17_20181203_frames149561\n"
     ]
    },
    {
     "name": "stderr",
     "output_type": "stream",
     "text": [
      " 16%|█▌        | 245/1552 [01:00<02:50,  7.67it/s]"
     ]
    },
    {
     "name": "stdout",
     "output_type": "stream",
     "text": [
      "rgb logits...\n",
      "flow logits...\n",
      "===== Final predictions ====\n",
      "label: other_action\n",
      "logits proba class\n",
      "99.42% other_action\n",
      "243 18 1 ./data/images_new/test/17_20181203_frames149561\n",
      "rgb logits...\n",
      "flow logits...\n",
      "===== Final predictions ====\n",
      "label: other_action\n",
      "logits proba class\n",
      "99.63% other_action\n",
      "244 18 2 ./data/images_new/test/17_20181203_frames149561\n"
     ]
    },
    {
     "name": "stderr",
     "output_type": "stream",
     "text": [
      " 16%|█▌        | 247/1552 [01:00<02:48,  7.73it/s]"
     ]
    },
    {
     "name": "stdout",
     "output_type": "stream",
     "text": [
      "rgb logits...\n",
      "flow logits...\n",
      "===== Final predictions ====\n",
      "label: other_action\n",
      "logits proba class\n",
      "99.79% other_action\n",
      "245 18 3 ./data/images_new/test/17_20181203_frames149561\n",
      "rgb logits...\n",
      "flow logits...\n",
      "===== Final predictions ====\n",
      "label: other_action\n",
      "logits proba class\n",
      "99.73% other_action\n",
      "246 18 4 ./data/images_new/test/17_20181203_frames149561\n"
     ]
    },
    {
     "name": "stderr",
     "output_type": "stream",
     "text": [
      " 16%|█▌        | 249/1552 [01:00<02:45,  7.88it/s]"
     ]
    },
    {
     "name": "stdout",
     "output_type": "stream",
     "text": [
      "rgb logits...\n",
      "flow logits...\n",
      "===== Final predictions ====\n",
      "label: other_action\n",
      "logits proba class\n",
      "99.62% other_action\n",
      "247 18 5 ./data/images_new/test/17_20181203_frames149561\n",
      "rgb logits...\n",
      "flow logits...\n",
      "===== Final predictions ====\n",
      "label: other_action\n",
      "logits proba class\n",
      "96.01% other_action\n",
      "248 18 0 ./data/images_new/test/17_20181203_frames149561\n"
     ]
    },
    {
     "name": "stderr",
     "output_type": "stream",
     "text": [
      " 16%|█▌        | 251/1552 [01:01<02:43,  7.96it/s]"
     ]
    },
    {
     "name": "stdout",
     "output_type": "stream",
     "text": [
      "rgb logits...\n",
      "flow logits...\n",
      "===== Final predictions ====\n",
      "label: other_action\n",
      "logits proba class\n",
      "53.93% rubbing_hands\n",
      "249 18 1 ./data/images_new/test/17_20181203_frames149561\n",
      "rgb logits...\n",
      "flow logits...\n",
      "===== Final predictions ====\n",
      "label: other_action\n",
      "logits proba class\n",
      "87.57% other_action\n",
      "250 18 2 ./data/images_new/test/17_20181203_frames149561\n"
     ]
    },
    {
     "name": "stderr",
     "output_type": "stream",
     "text": [
      " 16%|█▋        | 253/1552 [01:01<02:46,  7.78it/s]"
     ]
    },
    {
     "name": "stdout",
     "output_type": "stream",
     "text": [
      "rgb logits...\n",
      "flow logits...\n",
      "===== Final predictions ====\n",
      "label: other_action\n",
      "logits proba class\n",
      "97.74% other_action\n",
      "251 18 3 ./data/images_new/test/17_20181203_frames149561\n",
      "rgb logits...\n",
      "flow logits...\n",
      "===== Final predictions ====\n",
      "label: other_action\n",
      "logits proba class\n",
      "99.95% other_action\n",
      "252 18 4 ./data/images_new/test/17_20181203_frames149561\n"
     ]
    },
    {
     "name": "stderr",
     "output_type": "stream",
     "text": [
      " 16%|█▋        | 255/1552 [01:01<02:46,  7.78it/s]"
     ]
    },
    {
     "name": "stdout",
     "output_type": "stream",
     "text": [
      "rgb logits...\n",
      "flow logits...\n",
      "===== Final predictions ====\n",
      "label: other_action\n",
      "logits proba class\n",
      "99.93% other_action\n",
      "253 18 5 ./data/images_new/test/17_20181203_frames149561\n",
      "rgb logits...\n",
      "flow logits...\n",
      "===== Final predictions ====\n",
      "label: other_action\n",
      "logits proba class\n",
      "97.19% other_action\n",
      "254 18 0 ./data/images_new/test/17_20181203_frames149561\n"
     ]
    },
    {
     "name": "stderr",
     "output_type": "stream",
     "text": [
      " 17%|█▋        | 257/1552 [01:01<02:44,  7.85it/s]"
     ]
    },
    {
     "name": "stdout",
     "output_type": "stream",
     "text": [
      "rgb logits...\n",
      "flow logits...\n",
      "===== Final predictions ====\n",
      "label: other_action\n",
      "logits proba class\n",
      "99.55% other_action\n",
      "255 18 1 ./data/images_new/test/17_20181203_frames149561\n",
      "rgb logits...\n",
      "flow logits...\n",
      "===== Final predictions ====\n",
      "label: other_action\n",
      "logits proba class\n",
      "87.68% other_action\n",
      "256 18 2 ./data/images_new/test/17_20181203_frames149561\n"
     ]
    },
    {
     "name": "stderr",
     "output_type": "stream",
     "text": [
      " 17%|█▋        | 259/1552 [01:02<02:44,  7.84it/s]"
     ]
    },
    {
     "name": "stdout",
     "output_type": "stream",
     "text": [
      "rgb logits...\n",
      "flow logits...\n",
      "===== Final predictions ====\n",
      "label: other_action\n",
      "logits proba class\n",
      "97.80% other_action\n",
      "257 18 3 ./data/images_new/test/17_20181203_frames149561\n",
      "rgb logits...\n",
      "flow logits...\n",
      "===== Final predictions ====\n",
      "label: other_action\n",
      "logits proba class\n",
      "80.54% other_action\n",
      "258 18 4 ./data/images_new/test/17_20181203_frames149561\n"
     ]
    },
    {
     "name": "stderr",
     "output_type": "stream",
     "text": [
      "\r",
      " 17%|█▋        | 260/1552 [01:02<02:44,  7.85it/s]"
     ]
    },
    {
     "name": "stdout",
     "output_type": "stream",
     "text": [
      "rgb logits...\n",
      "flow logits...\n",
      "===== Final predictions ====\n",
      "label: other_action\n",
      "logits proba class\n",
      "99.15% other_action\n",
      "259 18 5 ./data/images_new/test/17_20181203_frames149561\n",
      "[RGB] Filling cache for index 19\n"
     ]
    },
    {
     "name": "stderr",
     "output_type": "stream",
     "text": [
      "\r",
      " 17%|█▋        | 261/1552 [01:04<14:45,  1.46it/s]"
     ]
    },
    {
     "name": "stdout",
     "output_type": "stream",
     "text": [
      "[Flow] Filling cache for index 19\n",
      "rgb logits...\n",
      "flow logits...\n",
      "===== Final predictions ====\n",
      "label: touching_equipment\n",
      "logits proba class\n",
      "64.56% other_action\n",
      "260 19 0 ./data/images_new/test/17_20181203_frames151388\n"
     ]
    },
    {
     "name": "stderr",
     "output_type": "stream",
     "text": [
      "\r",
      " 17%|█▋        | 262/1552 [01:04<11:28,  1.87it/s]"
     ]
    },
    {
     "name": "stdout",
     "output_type": "stream",
     "text": [
      "rgb logits...\n",
      "flow logits...\n",
      "===== Final predictions ====\n",
      "label: touching_equipment\n",
      "logits proba class\n",
      "67.50% touching_equipment\n",
      "261 19 1 ./data/images_new/test/17_20181203_frames151388\n",
      "rgb logits...\n",
      "flow logits...\n"
     ]
    },
    {
     "name": "stderr",
     "output_type": "stream",
     "text": [
      " 17%|█▋        | 264/1552 [01:04<07:24,  2.90it/s]"
     ]
    },
    {
     "name": "stdout",
     "output_type": "stream",
     "text": [
      "===== Final predictions ====\n",
      "label: touching_equipment\n",
      "logits proba class\n",
      "87.33% touching_equipment\n",
      "262 19 2 ./data/images_new/test/17_20181203_frames151388\n",
      "rgb logits...\n",
      "flow logits...\n",
      "===== Final predictions ====\n",
      "label: touching_equipment\n",
      "logits proba class\n",
      "83.49% touching_equipment\n",
      "263 19 3 ./data/images_new/test/17_20181203_frames151388\n"
     ]
    },
    {
     "name": "stderr",
     "output_type": "stream",
     "text": [
      " 17%|█▋        | 266/1552 [01:05<05:06,  4.20it/s]"
     ]
    },
    {
     "name": "stdout",
     "output_type": "stream",
     "text": [
      "rgb logits...\n",
      "flow logits...\n",
      "===== Final predictions ====\n",
      "label: touching_equipment\n",
      "logits proba class\n",
      "92.22% touching_equipment\n",
      "264 19 4 ./data/images_new/test/17_20181203_frames151388\n",
      "rgb logits...\n",
      "flow logits...\n",
      "===== Final predictions ====\n",
      "label: touching_equipment\n",
      "logits proba class\n",
      "87.19% touching_equipment\n",
      "265 19 5 ./data/images_new/test/17_20181203_frames151388\n"
     ]
    },
    {
     "name": "stderr",
     "output_type": "stream",
     "text": [
      " 17%|█▋        | 268/1552 [01:05<03:59,  5.36it/s]"
     ]
    },
    {
     "name": "stdout",
     "output_type": "stream",
     "text": [
      "rgb logits...\n",
      "flow logits...\n",
      "===== Final predictions ====\n",
      "label: touching_equipment\n",
      "logits proba class\n",
      "74.93% touching_equipment\n",
      "266 19 6 ./data/images_new/test/17_20181203_frames151388\n",
      "rgb logits...\n",
      "flow logits...\n",
      "===== Final predictions ====\n",
      "label: touching_equipment\n",
      "logits proba class\n",
      "72.50% touching_equipment\n",
      "267 19 7 ./data/images_new/test/17_20181203_frames151388\n"
     ]
    },
    {
     "name": "stderr",
     "output_type": "stream",
     "text": [
      " 17%|█▋        | 270/1552 [01:05<03:24,  6.26it/s]"
     ]
    },
    {
     "name": "stdout",
     "output_type": "stream",
     "text": [
      "rgb logits...\n",
      "flow logits...\n",
      "===== Final predictions ====\n",
      "label: touching_equipment\n",
      "logits proba class\n",
      "77.37% touching_equipment\n",
      "268 19 8 ./data/images_new/test/17_20181203_frames151388\n",
      "rgb logits...\n",
      "flow logits...\n",
      "===== Final predictions ====\n",
      "label: touching_equipment\n",
      "logits proba class\n",
      "57.45% touching_equipment\n",
      "269 19 9 ./data/images_new/test/17_20181203_frames151388\n"
     ]
    },
    {
     "name": "stderr",
     "output_type": "stream",
     "text": [
      " 18%|█▊        | 272/1552 [01:05<03:06,  6.85it/s]"
     ]
    },
    {
     "name": "stdout",
     "output_type": "stream",
     "text": [
      "rgb logits...\n",
      "flow logits...\n",
      "===== Final predictions ====\n",
      "label: touching_equipment\n",
      "logits proba class\n",
      "83.32% touching_equipment\n",
      "270 19 10 ./data/images_new/test/17_20181203_frames151388\n",
      "rgb logits...\n",
      "flow logits...\n",
      "===== Final predictions ====\n",
      "label: touching_equipment\n",
      "logits proba class\n",
      "87.90% touching_equipment\n",
      "271 19 11 ./data/images_new/test/17_20181203_frames151388\n"
     ]
    },
    {
     "name": "stderr",
     "output_type": "stream",
     "text": [
      " 18%|█▊        | 274/1552 [01:06<02:58,  7.16it/s]"
     ]
    },
    {
     "name": "stdout",
     "output_type": "stream",
     "text": [
      "rgb logits...\n",
      "flow logits...\n",
      "===== Final predictions ====\n",
      "label: touching_equipment\n",
      "logits proba class\n",
      "94.69% touching_equipment\n",
      "272 19 12 ./data/images_new/test/17_20181203_frames151388\n",
      "rgb logits...\n",
      "flow logits...\n",
      "===== Final predictions ====\n",
      "label: touching_equipment\n",
      "logits proba class\n",
      "83.79% touching_equipment\n",
      "273 19 13 ./data/images_new/test/17_20181203_frames151388\n",
      "[RGB] Filling cache for index 20\n",
      "[Flow] Filling cache for index 20\n",
      "rgb logits...\n",
      "flow logits...\n"
     ]
    },
    {
     "name": "stderr",
     "output_type": "stream",
     "text": [
      " 18%|█▊        | 276/1552 [01:07<08:18,  2.56it/s]"
     ]
    },
    {
     "name": "stdout",
     "output_type": "stream",
     "text": [
      "===== Final predictions ====\n",
      "label: other_action\n",
      "logits proba class\n",
      "86.49% other_action\n",
      "274 20 0 ./data/images_new/test/17_20181203_frames152754\n",
      "rgb logits...\n",
      "flow logits...\n",
      "===== Final predictions ====\n",
      "label: other_action\n",
      "logits proba class\n",
      "99.94% other_action\n",
      "275 20 0 ./data/images_new/test/17_20181203_frames152754\n"
     ]
    },
    {
     "name": "stderr",
     "output_type": "stream",
     "text": [
      "\r",
      " 18%|█▊        | 277/1552 [01:07<06:59,  3.04it/s]"
     ]
    },
    {
     "name": "stdout",
     "output_type": "stream",
     "text": [
      "rgb logits...\n",
      "flow logits...\n",
      "===== Final predictions ====\n",
      "label: touching_equipment\n",
      "logits proba class\n",
      "82.95% other_action\n",
      "276 20 0 ./data/images_new/test/17_20181203_frames152754\n",
      "rgb logits...\n",
      "flow logits...\n"
     ]
    },
    {
     "name": "stderr",
     "output_type": "stream",
     "text": [
      "\r",
      " 18%|█▊        | 278/1552 [01:08<05:55,  3.59it/s]"
     ]
    },
    {
     "name": "stdout",
     "output_type": "stream",
     "text": [
      "===== Final predictions ====\n",
      "label: touching_equipment\n",
      "logits proba class\n",
      "62.47% other_action\n",
      "277 20 1 ./data/images_new/test/17_20181203_frames152754\n",
      "[RGB] Filling cache for index 21\n",
      "[Flow] Filling cache for index 21\n",
      "rgb logits...\n",
      "flow logits...\n"
     ]
    },
    {
     "name": "stderr",
     "output_type": "stream",
     "text": [
      " 18%|█▊        | 280/1552 [01:09<08:02,  2.64it/s]"
     ]
    },
    {
     "name": "stdout",
     "output_type": "stream",
     "text": [
      "===== Final predictions ====\n",
      "label: touching_equipment\n",
      "logits proba class\n",
      "96.48% touching_equipment\n",
      "278 21 0 ./data/images_new/test/17_20181203_frames153118\n",
      "rgb logits...\n",
      "flow logits...\n",
      "===== Final predictions ====\n",
      "label: other_action\n",
      "logits proba class\n",
      "99.74% other_action\n",
      "279 21 0 ./data/images_new/test/17_20181203_frames153118\n"
     ]
    },
    {
     "name": "stderr",
     "output_type": "stream",
     "text": [
      "\r",
      " 18%|█▊        | 281/1552 [01:09<06:34,  3.22it/s]"
     ]
    },
    {
     "name": "stdout",
     "output_type": "stream",
     "text": [
      "rgb logits...\n",
      "flow logits...\n",
      "===== Final predictions ====\n",
      "label: other_action\n",
      "logits proba class\n",
      "95.89% other_action\n",
      "280 21 0 ./data/images_new/test/17_20181203_frames153118\n",
      "[RGB] Filling cache for index 22\n"
     ]
    },
    {
     "name": "stderr",
     "output_type": "stream",
     "text": [
      "\r",
      " 18%|█▊        | 282/1552 [01:14<38:49,  1.83s/it]"
     ]
    },
    {
     "name": "stdout",
     "output_type": "stream",
     "text": [
      "[Flow] Filling cache for index 22\n",
      "rgb logits...\n",
      "flow logits...\n",
      "===== Final predictions ====\n",
      "label: touching_equipment\n",
      "logits proba class\n",
      "52.32% other_action\n",
      "281 22 0 ./data/images_new/test/2_20181112_frames001128\n"
     ]
    },
    {
     "name": "stderr",
     "output_type": "stream",
     "text": [
      " 18%|█▊        | 284/1552 [01:14<20:38,  1.02it/s]"
     ]
    },
    {
     "name": "stdout",
     "output_type": "stream",
     "text": [
      "rgb logits...\n",
      "flow logits...\n",
      "===== Final predictions ====\n",
      "label: touching_equipment\n",
      "logits proba class\n",
      "71.26% touching_equipment\n",
      "282 22 1 ./data/images_new/test/2_20181112_frames001128\n",
      "rgb logits...\n",
      "flow logits...\n",
      "===== Final predictions ====\n",
      "label: touching_equipment\n",
      "logits proba class\n",
      "70.45% other_action\n",
      "283 22 2 ./data/images_new/test/2_20181112_frames001128\n"
     ]
    },
    {
     "name": "stderr",
     "output_type": "stream",
     "text": [
      " 18%|█▊        | 286/1552 [01:15<11:39,  1.81it/s]"
     ]
    },
    {
     "name": "stdout",
     "output_type": "stream",
     "text": [
      "rgb logits...\n",
      "flow logits...\n",
      "===== Final predictions ====\n",
      "label: touching_equipment\n",
      "logits proba class\n",
      "81.61% other_action\n",
      "284 22 3 ./data/images_new/test/2_20181112_frames001128\n",
      "rgb logits...\n",
      "flow logits...\n",
      "===== Final predictions ====\n",
      "label: touching_equipment\n",
      "logits proba class\n",
      "91.60% other_action\n",
      "285 22 4 ./data/images_new/test/2_20181112_frames001128\n"
     ]
    },
    {
     "name": "stderr",
     "output_type": "stream",
     "text": [
      " 19%|█▊        | 288/1552 [01:15<07:04,  2.98it/s]"
     ]
    },
    {
     "name": "stdout",
     "output_type": "stream",
     "text": [
      "rgb logits...\n",
      "flow logits...\n",
      "===== Final predictions ====\n",
      "label: touching_equipment\n",
      "logits proba class\n",
      "97.90% other_action\n",
      "286 22 5 ./data/images_new/test/2_20181112_frames001128\n",
      "rgb logits...\n",
      "flow logits...\n",
      "===== Final predictions ====\n",
      "label: touching_equipment\n",
      "logits proba class\n",
      "94.45% other_action\n",
      "287 22 6 ./data/images_new/test/2_20181112_frames001128\n"
     ]
    },
    {
     "name": "stderr",
     "output_type": "stream",
     "text": [
      " 19%|█▊        | 290/1552 [01:15<04:48,  4.37it/s]"
     ]
    },
    {
     "name": "stdout",
     "output_type": "stream",
     "text": [
      "rgb logits...\n",
      "flow logits...\n",
      "===== Final predictions ====\n",
      "label: touching_equipment\n",
      "logits proba class\n",
      "98.72% other_action\n",
      "288 22 7 ./data/images_new/test/2_20181112_frames001128\n",
      "rgb logits...\n",
      "flow logits...\n",
      "===== Final predictions ====\n",
      "label: touching_equipment\n",
      "logits proba class\n",
      "94.16% other_action\n",
      "289 22 8 ./data/images_new/test/2_20181112_frames001128\n"
     ]
    },
    {
     "name": "stderr",
     "output_type": "stream",
     "text": [
      " 19%|█▉        | 292/1552 [01:16<03:41,  5.68it/s]"
     ]
    },
    {
     "name": "stdout",
     "output_type": "stream",
     "text": [
      "rgb logits...\n",
      "flow logits...\n",
      "===== Final predictions ====\n",
      "label: touching_equipment\n",
      "logits proba class\n",
      "96.96% other_action\n",
      "290 22 9 ./data/images_new/test/2_20181112_frames001128\n",
      "rgb logits...\n",
      "flow logits...\n",
      "===== Final predictions ====\n",
      "label: touching_equipment\n",
      "logits proba class\n",
      "80.33% other_action\n",
      "291 22 10 ./data/images_new/test/2_20181112_frames001128\n"
     ]
    },
    {
     "name": "stderr",
     "output_type": "stream",
     "text": [
      " 19%|█▉        | 294/1552 [01:16<03:08,  6.66it/s]"
     ]
    },
    {
     "name": "stdout",
     "output_type": "stream",
     "text": [
      "rgb logits...\n",
      "flow logits...\n",
      "===== Final predictions ====\n",
      "label: touching_equipment\n",
      "logits proba class\n",
      "93.33% other_action\n",
      "292 22 11 ./data/images_new/test/2_20181112_frames001128\n",
      "rgb logits...\n",
      "flow logits...\n",
      "===== Final predictions ====\n",
      "label: touching_equipment\n",
      "logits proba class\n",
      "85.92% other_action\n",
      "293 22 12 ./data/images_new/test/2_20181112_frames001128\n"
     ]
    },
    {
     "name": "stderr",
     "output_type": "stream",
     "text": [
      " 19%|█▉        | 296/1552 [01:16<02:52,  7.29it/s]"
     ]
    },
    {
     "name": "stdout",
     "output_type": "stream",
     "text": [
      "rgb logits...\n",
      "flow logits...\n",
      "===== Final predictions ====\n",
      "label: touching_equipment\n",
      "logits proba class\n",
      "91.63% other_action\n",
      "294 22 13 ./data/images_new/test/2_20181112_frames001128\n",
      "rgb logits...\n",
      "flow logits...\n",
      "===== Final predictions ====\n",
      "label: touching_equipment\n",
      "logits proba class\n",
      "75.21% other_action\n",
      "295 22 14 ./data/images_new/test/2_20181112_frames001128\n"
     ]
    },
    {
     "name": "stderr",
     "output_type": "stream",
     "text": [
      " 19%|█▉        | 298/1552 [01:16<02:44,  7.63it/s]"
     ]
    },
    {
     "name": "stdout",
     "output_type": "stream",
     "text": [
      "rgb logits...\n",
      "flow logits...\n",
      "===== Final predictions ====\n",
      "label: touching_equipment\n",
      "logits proba class\n",
      "89.11% other_action\n",
      "296 22 15 ./data/images_new/test/2_20181112_frames001128\n",
      "rgb logits...\n",
      "flow logits...\n",
      "===== Final predictions ====\n",
      "label: touching_equipment\n",
      "logits proba class\n",
      "81.89% other_action\n",
      "297 22 16 ./data/images_new/test/2_20181112_frames001128\n"
     ]
    },
    {
     "name": "stderr",
     "output_type": "stream",
     "text": [
      " 19%|█▉        | 300/1552 [01:17<02:40,  7.81it/s]"
     ]
    },
    {
     "name": "stdout",
     "output_type": "stream",
     "text": [
      "rgb logits...\n",
      "flow logits...\n",
      "===== Final predictions ====\n",
      "label: touching_equipment\n",
      "logits proba class\n",
      "84.01% other_action\n",
      "298 22 17 ./data/images_new/test/2_20181112_frames001128\n",
      "rgb logits...\n",
      "flow logits...\n",
      "===== Final predictions ====\n",
      "label: touching_equipment\n",
      "logits proba class\n",
      "58.30% other_action\n",
      "299 22 18 ./data/images_new/test/2_20181112_frames001128\n"
     ]
    },
    {
     "name": "stderr",
     "output_type": "stream",
     "text": [
      " 19%|█▉        | 302/1552 [01:17<02:39,  7.85it/s]"
     ]
    },
    {
     "name": "stdout",
     "output_type": "stream",
     "text": [
      "rgb logits...\n",
      "flow logits...\n",
      "===== Final predictions ====\n",
      "label: touching_equipment\n",
      "logits proba class\n",
      "60.17% other_action\n",
      "300 22 19 ./data/images_new/test/2_20181112_frames001128\n",
      "rgb logits...\n",
      "flow logits...\n",
      "===== Final predictions ====\n",
      "label: touching_equipment\n",
      "logits proba class\n",
      "51.18% other_action\n",
      "301 22 20 ./data/images_new/test/2_20181112_frames001128\n"
     ]
    },
    {
     "name": "stderr",
     "output_type": "stream",
     "text": [
      " 20%|█▉        | 304/1552 [01:17<02:37,  7.93it/s]"
     ]
    },
    {
     "name": "stdout",
     "output_type": "stream",
     "text": [
      "rgb logits...\n",
      "flow logits...\n",
      "===== Final predictions ====\n",
      "label: touching_equipment\n",
      "logits proba class\n",
      "50.93% touching_equipment\n",
      "302 22 21 ./data/images_new/test/2_20181112_frames001128\n",
      "rgb logits...\n",
      "flow logits...\n",
      "===== Final predictions ====\n",
      "label: touching_equipment\n",
      "logits proba class\n",
      "72.75% touching_equipment\n",
      "303 22 22 ./data/images_new/test/2_20181112_frames001128\n"
     ]
    },
    {
     "name": "stderr",
     "output_type": "stream",
     "text": [
      " 20%|█▉        | 306/1552 [01:17<02:36,  7.95it/s]"
     ]
    },
    {
     "name": "stdout",
     "output_type": "stream",
     "text": [
      "rgb logits...\n",
      "flow logits...\n",
      "===== Final predictions ====\n",
      "label: touching_equipment\n",
      "logits proba class\n",
      "54.62% touching_equipment\n",
      "304 22 23 ./data/images_new/test/2_20181112_frames001128\n",
      "rgb logits...\n",
      "flow logits...\n",
      "===== Final predictions ====\n",
      "label: touching_equipment\n",
      "logits proba class\n",
      "67.63% touching_equipment\n",
      "305 22 24 ./data/images_new/test/2_20181112_frames001128\n"
     ]
    },
    {
     "name": "stderr",
     "output_type": "stream",
     "text": [
      " 20%|█▉        | 308/1552 [01:18<02:36,  7.97it/s]"
     ]
    },
    {
     "name": "stdout",
     "output_type": "stream",
     "text": [
      "rgb logits...\n",
      "flow logits...\n",
      "===== Final predictions ====\n",
      "label: touching_equipment\n",
      "logits proba class\n",
      "71.76% touching_equipment\n",
      "306 22 25 ./data/images_new/test/2_20181112_frames001128\n",
      "rgb logits...\n",
      "flow logits...\n",
      "===== Final predictions ====\n",
      "label: touching_equipment\n",
      "logits proba class\n",
      "73.94% touching_equipment\n",
      "307 22 26 ./data/images_new/test/2_20181112_frames001128\n"
     ]
    },
    {
     "name": "stderr",
     "output_type": "stream",
     "text": [
      " 20%|█▉        | 310/1552 [01:18<02:36,  7.93it/s]"
     ]
    },
    {
     "name": "stdout",
     "output_type": "stream",
     "text": [
      "rgb logits...\n",
      "flow logits...\n",
      "===== Final predictions ====\n",
      "label: touching_equipment\n",
      "logits proba class\n",
      "83.19% touching_equipment\n",
      "308 22 27 ./data/images_new/test/2_20181112_frames001128\n",
      "rgb logits...\n",
      "flow logits...\n",
      "===== Final predictions ====\n",
      "label: touching_equipment\n",
      "logits proba class\n",
      "83.05% touching_equipment\n",
      "309 22 28 ./data/images_new/test/2_20181112_frames001128\n"
     ]
    },
    {
     "name": "stderr",
     "output_type": "stream",
     "text": [
      " 20%|██        | 312/1552 [01:18<02:36,  7.93it/s]"
     ]
    },
    {
     "name": "stdout",
     "output_type": "stream",
     "text": [
      "rgb logits...\n",
      "flow logits...\n",
      "===== Final predictions ====\n",
      "label: touching_equipment\n",
      "logits proba class\n",
      "90.40% touching_equipment\n",
      "310 22 29 ./data/images_new/test/2_20181112_frames001128\n",
      "rgb logits...\n",
      "flow logits...\n",
      "===== Final predictions ====\n",
      "label: touching_equipment\n",
      "logits proba class\n",
      "58.18% touching_equipment\n",
      "311 22 30 ./data/images_new/test/2_20181112_frames001128\n"
     ]
    },
    {
     "name": "stderr",
     "output_type": "stream",
     "text": [
      " 20%|██        | 314/1552 [01:18<02:36,  7.93it/s]"
     ]
    },
    {
     "name": "stdout",
     "output_type": "stream",
     "text": [
      "rgb logits...\n",
      "flow logits...\n",
      "===== Final predictions ====\n",
      "label: touching_equipment\n",
      "logits proba class\n",
      "54.81% touching_equipment\n",
      "312 22 31 ./data/images_new/test/2_20181112_frames001128\n",
      "rgb logits...\n",
      "flow logits...\n",
      "===== Final predictions ====\n",
      "label: touching_equipment\n",
      "logits proba class\n",
      "49.79% other_action\n",
      "313 22 32 ./data/images_new/test/2_20181112_frames001128\n"
     ]
    },
    {
     "name": "stderr",
     "output_type": "stream",
     "text": [
      " 20%|██        | 316/1552 [01:19<02:35,  7.93it/s]"
     ]
    },
    {
     "name": "stdout",
     "output_type": "stream",
     "text": [
      "rgb logits...\n",
      "flow logits...\n",
      "===== Final predictions ====\n",
      "label: touching_equipment\n",
      "logits proba class\n",
      "50.29% other_action\n",
      "314 22 33 ./data/images_new/test/2_20181112_frames001128\n",
      "rgb logits...\n",
      "flow logits...\n",
      "===== Final predictions ====\n",
      "label: touching_equipment\n",
      "logits proba class\n",
      "66.54% touching_equipment\n",
      "315 22 34 ./data/images_new/test/2_20181112_frames001128\n"
     ]
    },
    {
     "name": "stderr",
     "output_type": "stream",
     "text": [
      " 20%|██        | 318/1552 [01:19<02:37,  7.84it/s]"
     ]
    },
    {
     "name": "stdout",
     "output_type": "stream",
     "text": [
      "rgb logits...\n",
      "flow logits...\n",
      "===== Final predictions ====\n",
      "label: touching_equipment\n",
      "logits proba class\n",
      "64.67% other_action\n",
      "316 22 35 ./data/images_new/test/2_20181112_frames001128\n",
      "rgb logits...\n",
      "flow logits...\n",
      "===== Final predictions ====\n",
      "label: touching_equipment\n",
      "logits proba class\n",
      "85.29% touching_equipment\n",
      "317 22 36 ./data/images_new/test/2_20181112_frames001128\n"
     ]
    },
    {
     "name": "stderr",
     "output_type": "stream",
     "text": [
      " 21%|██        | 320/1552 [01:19<02:40,  7.68it/s]"
     ]
    },
    {
     "name": "stdout",
     "output_type": "stream",
     "text": [
      "rgb logits...\n",
      "flow logits...\n",
      "===== Final predictions ====\n",
      "label: touching_equipment\n",
      "logits proba class\n",
      "65.89% other_action\n",
      "318 22 37 ./data/images_new/test/2_20181112_frames001128\n",
      "rgb logits...\n",
      "flow logits...\n",
      "===== Final predictions ====\n",
      "label: touching_equipment\n",
      "logits proba class\n",
      "71.67% touching_equipment\n",
      "319 22 38 ./data/images_new/test/2_20181112_frames001128\n"
     ]
    },
    {
     "name": "stderr",
     "output_type": "stream",
     "text": [
      " 21%|██        | 322/1552 [01:19<02:38,  7.75it/s]"
     ]
    },
    {
     "name": "stdout",
     "output_type": "stream",
     "text": [
      "rgb logits...\n",
      "flow logits...\n",
      "===== Final predictions ====\n",
      "label: touching_equipment\n",
      "logits proba class\n",
      "69.91% other_action\n",
      "320 22 39 ./data/images_new/test/2_20181112_frames001128\n",
      "rgb logits...\n",
      "flow logits...\n",
      "===== Final predictions ====\n",
      "label: touching_equipment\n",
      "logits proba class\n",
      "90.96% other_action\n",
      "321 22 40 ./data/images_new/test/2_20181112_frames001128\n"
     ]
    },
    {
     "name": "stderr",
     "output_type": "stream",
     "text": [
      " 21%|██        | 324/1552 [01:20<02:37,  7.79it/s]"
     ]
    },
    {
     "name": "stdout",
     "output_type": "stream",
     "text": [
      "rgb logits...\n",
      "flow logits...\n",
      "===== Final predictions ====\n",
      "label: touching_equipment\n",
      "logits proba class\n",
      "95.37% other_action\n",
      "322 22 41 ./data/images_new/test/2_20181112_frames001128\n",
      "rgb logits...\n",
      "flow logits...\n",
      "===== Final predictions ====\n",
      "label: touching_equipment\n",
      "logits proba class\n",
      "82.94% other_action\n",
      "323 22 42 ./data/images_new/test/2_20181112_frames001128\n"
     ]
    },
    {
     "name": "stderr",
     "output_type": "stream",
     "text": [
      " 21%|██        | 326/1552 [01:20<02:35,  7.87it/s]"
     ]
    },
    {
     "name": "stdout",
     "output_type": "stream",
     "text": [
      "rgb logits...\n",
      "flow logits...\n",
      "===== Final predictions ====\n",
      "label: touching_equipment\n",
      "logits proba class\n",
      "93.81% other_action\n",
      "324 22 43 ./data/images_new/test/2_20181112_frames001128\n",
      "rgb logits...\n",
      "flow logits...\n",
      "===== Final predictions ====\n",
      "label: touching_equipment\n",
      "logits proba class\n",
      "80.20% other_action\n",
      "325 22 44 ./data/images_new/test/2_20181112_frames001128\n"
     ]
    },
    {
     "name": "stderr",
     "output_type": "stream",
     "text": [
      " 21%|██        | 328/1552 [01:20<02:34,  7.90it/s]"
     ]
    },
    {
     "name": "stdout",
     "output_type": "stream",
     "text": [
      "rgb logits...\n",
      "flow logits...\n",
      "===== Final predictions ====\n",
      "label: touching_equipment\n",
      "logits proba class\n",
      "88.02% other_action\n",
      "326 22 45 ./data/images_new/test/2_20181112_frames001128\n",
      "rgb logits...\n",
      "flow logits...\n",
      "===== Final predictions ====\n",
      "label: touching_equipment\n",
      "logits proba class\n",
      "95.62% other_action\n",
      "327 22 46 ./data/images_new/test/2_20181112_frames001128\n"
     ]
    },
    {
     "name": "stderr",
     "output_type": "stream",
     "text": [
      " 21%|██▏       | 330/1552 [01:20<02:35,  7.84it/s]"
     ]
    },
    {
     "name": "stdout",
     "output_type": "stream",
     "text": [
      "rgb logits...\n",
      "flow logits...\n",
      "===== Final predictions ====\n",
      "label: touching_equipment\n",
      "logits proba class\n",
      "97.51% other_action\n",
      "328 22 47 ./data/images_new/test/2_20181112_frames001128\n",
      "rgb logits...\n",
      "flow logits...\n",
      "===== Final predictions ====\n",
      "label: touching_equipment\n",
      "logits proba class\n",
      "95.47% other_action\n",
      "329 22 48 ./data/images_new/test/2_20181112_frames001128\n"
     ]
    },
    {
     "name": "stderr",
     "output_type": "stream",
     "text": [
      " 21%|██▏       | 332/1552 [01:21<02:36,  7.80it/s]"
     ]
    },
    {
     "name": "stdout",
     "output_type": "stream",
     "text": [
      "rgb logits...\n",
      "flow logits...\n",
      "===== Final predictions ====\n",
      "label: touching_equipment\n",
      "logits proba class\n",
      "93.39% other_action\n",
      "330 22 49 ./data/images_new/test/2_20181112_frames001128\n",
      "rgb logits...\n",
      "flow logits...\n",
      "===== Final predictions ====\n",
      "label: touching_equipment\n",
      "logits proba class\n",
      "55.58% other_action\n",
      "331 22 50 ./data/images_new/test/2_20181112_frames001128\n"
     ]
    },
    {
     "name": "stderr",
     "output_type": "stream",
     "text": [
      " 22%|██▏       | 334/1552 [01:21<02:35,  7.85it/s]"
     ]
    },
    {
     "name": "stdout",
     "output_type": "stream",
     "text": [
      "rgb logits...\n",
      "flow logits...\n",
      "===== Final predictions ====\n",
      "label: touching_equipment\n",
      "logits proba class\n",
      "58.38% other_action\n",
      "332 22 51 ./data/images_new/test/2_20181112_frames001128\n",
      "rgb logits...\n",
      "flow logits...\n",
      "===== Final predictions ====\n",
      "label: touching_equipment\n",
      "logits proba class\n",
      "72.44% touching_equipment\n",
      "333 22 52 ./data/images_new/test/2_20181112_frames001128\n"
     ]
    },
    {
     "name": "stderr",
     "output_type": "stream",
     "text": [
      " 22%|██▏       | 336/1552 [01:21<02:34,  7.88it/s]"
     ]
    },
    {
     "name": "stdout",
     "output_type": "stream",
     "text": [
      "rgb logits...\n",
      "flow logits...\n",
      "===== Final predictions ====\n",
      "label: touching_equipment\n",
      "logits proba class\n",
      "54.79% other_action\n",
      "334 22 53 ./data/images_new/test/2_20181112_frames001128\n",
      "rgb logits...\n",
      "flow logits...\n",
      "===== Final predictions ====\n",
      "label: touching_equipment\n",
      "logits proba class\n",
      "84.62% other_action\n",
      "335 22 54 ./data/images_new/test/2_20181112_frames001128\n"
     ]
    },
    {
     "name": "stderr",
     "output_type": "stream",
     "text": [
      " 22%|██▏       | 338/1552 [01:21<02:35,  7.81it/s]"
     ]
    },
    {
     "name": "stdout",
     "output_type": "stream",
     "text": [
      "rgb logits...\n",
      "flow logits...\n",
      "===== Final predictions ====\n",
      "label: touching_equipment\n",
      "logits proba class\n",
      "62.43% other_action\n",
      "336 22 55 ./data/images_new/test/2_20181112_frames001128\n",
      "rgb logits...\n",
      "flow logits...\n",
      "===== Final predictions ====\n",
      "label: touching_equipment\n",
      "logits proba class\n",
      "88.02% other_action\n",
      "337 22 56 ./data/images_new/test/2_20181112_frames001128\n"
     ]
    },
    {
     "name": "stderr",
     "output_type": "stream",
     "text": [
      " 22%|██▏       | 340/1552 [01:22<02:35,  7.77it/s]"
     ]
    },
    {
     "name": "stdout",
     "output_type": "stream",
     "text": [
      "rgb logits...\n",
      "flow logits...\n",
      "===== Final predictions ====\n",
      "label: touching_equipment\n",
      "logits proba class\n",
      "66.13% other_action\n",
      "338 22 57 ./data/images_new/test/2_20181112_frames001128\n",
      "rgb logits...\n",
      "flow logits...\n",
      "===== Final predictions ====\n",
      "label: touching_equipment\n",
      "logits proba class\n",
      "52.36% other_action\n",
      "339 22 58 ./data/images_new/test/2_20181112_frames001128\n"
     ]
    },
    {
     "name": "stderr",
     "output_type": "stream",
     "text": [
      " 22%|██▏       | 342/1552 [01:22<02:35,  7.78it/s]"
     ]
    },
    {
     "name": "stdout",
     "output_type": "stream",
     "text": [
      "rgb logits...\n",
      "flow logits...\n",
      "===== Final predictions ====\n",
      "label: touching_equipment\n",
      "logits proba class\n",
      "55.89% touching_equipment\n",
      "340 22 59 ./data/images_new/test/2_20181112_frames001128\n",
      "rgb logits...\n",
      "flow logits...\n",
      "===== Final predictions ====\n",
      "label: touching_equipment\n",
      "logits proba class\n",
      "54.97% other_action\n",
      "341 22 60 ./data/images_new/test/2_20181112_frames001128\n"
     ]
    },
    {
     "name": "stderr",
     "output_type": "stream",
     "text": [
      " 22%|██▏       | 344/1552 [01:22<02:33,  7.86it/s]"
     ]
    },
    {
     "name": "stdout",
     "output_type": "stream",
     "text": [
      "rgb logits...\n",
      "flow logits...\n",
      "===== Final predictions ====\n",
      "label: touching_equipment\n",
      "logits proba class\n",
      "61.23% touching_equipment\n",
      "342 22 61 ./data/images_new/test/2_20181112_frames001128\n",
      "rgb logits...\n",
      "flow logits...\n",
      "===== Final predictions ====\n",
      "label: touching_equipment\n",
      "logits proba class\n",
      "79.01% touching_equipment\n",
      "343 22 62 ./data/images_new/test/2_20181112_frames001128\n"
     ]
    },
    {
     "name": "stderr",
     "output_type": "stream",
     "text": [
      " 22%|██▏       | 346/1552 [01:22<02:33,  7.88it/s]"
     ]
    },
    {
     "name": "stdout",
     "output_type": "stream",
     "text": [
      "rgb logits...\n",
      "flow logits...\n",
      "===== Final predictions ====\n",
      "label: touching_equipment\n",
      "logits proba class\n",
      "84.93% rubbing_hands\n",
      "344 22 63 ./data/images_new/test/2_20181112_frames001128\n",
      "rgb logits...\n",
      "flow logits...\n",
      "===== Final predictions ====\n",
      "label: touching_equipment\n",
      "logits proba class\n",
      "72.98% rubbing_hands\n",
      "345 22 64 ./data/images_new/test/2_20181112_frames001128\n"
     ]
    },
    {
     "name": "stderr",
     "output_type": "stream",
     "text": [
      " 22%|██▏       | 348/1552 [01:23<02:33,  7.84it/s]"
     ]
    },
    {
     "name": "stdout",
     "output_type": "stream",
     "text": [
      "rgb logits...\n",
      "flow logits...\n",
      "===== Final predictions ====\n",
      "label: touching_equipment\n",
      "logits proba class\n",
      "69.58% touching_equipment\n",
      "346 22 65 ./data/images_new/test/2_20181112_frames001128\n",
      "rgb logits...\n",
      "flow logits...\n",
      "===== Final predictions ====\n",
      "label: touching_equipment\n",
      "logits proba class\n",
      "77.24% touching_equipment\n",
      "347 22 66 ./data/images_new/test/2_20181112_frames001128\n"
     ]
    },
    {
     "name": "stderr",
     "output_type": "stream",
     "text": [
      " 23%|██▎       | 350/1552 [01:23<02:32,  7.86it/s]"
     ]
    },
    {
     "name": "stdout",
     "output_type": "stream",
     "text": [
      "rgb logits...\n",
      "flow logits...\n",
      "===== Final predictions ====\n",
      "label: touching_equipment\n",
      "logits proba class\n",
      "76.66% rubbing_hands\n",
      "348 22 67 ./data/images_new/test/2_20181112_frames001128\n",
      "rgb logits...\n",
      "flow logits...\n",
      "===== Final predictions ====\n",
      "label: touching_equipment\n",
      "logits proba class\n",
      "77.21% touching_equipment\n",
      "349 22 68 ./data/images_new/test/2_20181112_frames001128\n"
     ]
    },
    {
     "name": "stderr",
     "output_type": "stream",
     "text": [
      " 23%|██▎       | 352/1552 [01:23<02:32,  7.86it/s]"
     ]
    },
    {
     "name": "stdout",
     "output_type": "stream",
     "text": [
      "rgb logits...\n",
      "flow logits...\n",
      "===== Final predictions ====\n",
      "label: touching_equipment\n",
      "logits proba class\n",
      "50.44% rubbing_hands\n",
      "350 22 69 ./data/images_new/test/2_20181112_frames001128\n",
      "rgb logits...\n",
      "flow logits...\n",
      "===== Final predictions ====\n",
      "label: touching_equipment\n",
      "logits proba class\n",
      "92.39% touching_equipment\n",
      "351 22 70 ./data/images_new/test/2_20181112_frames001128\n"
     ]
    },
    {
     "name": "stderr",
     "output_type": "stream",
     "text": [
      " 23%|██▎       | 354/1552 [01:23<02:31,  7.91it/s]"
     ]
    },
    {
     "name": "stdout",
     "output_type": "stream",
     "text": [
      "rgb logits...\n",
      "flow logits...\n",
      "===== Final predictions ====\n",
      "label: touching_equipment\n",
      "logits proba class\n",
      "76.66% touching_equipment\n",
      "352 22 71 ./data/images_new/test/2_20181112_frames001128\n",
      "rgb logits...\n",
      "flow logits...\n",
      "===== Final predictions ====\n",
      "label: touching_equipment\n",
      "logits proba class\n",
      "88.92% touching_equipment\n",
      "353 22 72 ./data/images_new/test/2_20181112_frames001128\n"
     ]
    },
    {
     "name": "stderr",
     "output_type": "stream",
     "text": [
      " 23%|██▎       | 356/1552 [01:24<02:30,  7.93it/s]"
     ]
    },
    {
     "name": "stdout",
     "output_type": "stream",
     "text": [
      "rgb logits...\n",
      "flow logits...\n",
      "===== Final predictions ====\n",
      "label: touching_equipment\n",
      "logits proba class\n",
      "48.10% touching_equipment\n",
      "354 22 73 ./data/images_new/test/2_20181112_frames001128\n",
      "rgb logits...\n",
      "flow logits...\n",
      "===== Final predictions ====\n",
      "label: touching_equipment\n",
      "logits proba class\n",
      "94.79% touching_equipment\n",
      "355 22 74 ./data/images_new/test/2_20181112_frames001128\n"
     ]
    },
    {
     "name": "stderr",
     "output_type": "stream",
     "text": [
      " 23%|██▎       | 358/1552 [01:24<02:30,  7.95it/s]"
     ]
    },
    {
     "name": "stdout",
     "output_type": "stream",
     "text": [
      "rgb logits...\n",
      "flow logits...\n",
      "===== Final predictions ====\n",
      "label: touching_equipment\n",
      "logits proba class\n",
      "72.60% touching_equipment\n",
      "356 22 75 ./data/images_new/test/2_20181112_frames001128\n",
      "rgb logits...\n",
      "flow logits...\n",
      "===== Final predictions ====\n",
      "label: touching_equipment\n",
      "logits proba class\n",
      "92.21% touching_equipment\n",
      "357 22 76 ./data/images_new/test/2_20181112_frames001128\n"
     ]
    },
    {
     "name": "stderr",
     "output_type": "stream",
     "text": [
      " 23%|██▎       | 360/1552 [01:24<02:29,  7.96it/s]"
     ]
    },
    {
     "name": "stdout",
     "output_type": "stream",
     "text": [
      "rgb logits...\n",
      "flow logits...\n",
      "===== Final predictions ====\n",
      "label: touching_equipment\n",
      "logits proba class\n",
      "81.25% touching_equipment\n",
      "358 22 77 ./data/images_new/test/2_20181112_frames001128\n",
      "rgb logits...\n",
      "flow logits...\n",
      "===== Final predictions ====\n",
      "label: touching_equipment\n",
      "logits proba class\n",
      "87.46% touching_equipment\n",
      "359 22 78 ./data/images_new/test/2_20181112_frames001128\n"
     ]
    },
    {
     "name": "stderr",
     "output_type": "stream",
     "text": [
      "\r",
      " 23%|██▎       | 361/1552 [01:24<02:29,  7.95it/s]"
     ]
    },
    {
     "name": "stdout",
     "output_type": "stream",
     "text": [
      "rgb logits...\n",
      "flow logits...\n",
      "===== Final predictions ====\n",
      "label: touching_equipment\n",
      "logits proba class\n",
      "52.55% other_action\n",
      "360 22 79 ./data/images_new/test/2_20181112_frames001128\n",
      "rgb logits...\n",
      "flow logits...\n"
     ]
    },
    {
     "name": "stderr",
     "output_type": "stream",
     "text": [
      " 23%|██▎       | 363/1552 [01:25<02:53,  6.87it/s]"
     ]
    },
    {
     "name": "stdout",
     "output_type": "stream",
     "text": [
      "===== Final predictions ====\n",
      "label: touching_equipment\n",
      "logits proba class\n",
      "93.66% touching_equipment\n",
      "361 22 80 ./data/images_new/test/2_20181112_frames001128\n",
      "rgb logits...\n",
      "flow logits...\n",
      "===== Final predictions ====\n",
      "label: touching_equipment\n",
      "logits proba class\n",
      "65.20% touching_equipment\n",
      "362 22 81 ./data/images_new/test/2_20181112_frames001128\n"
     ]
    },
    {
     "name": "stderr",
     "output_type": "stream",
     "text": [
      " 24%|██▎       | 365/1552 [01:25<02:54,  6.80it/s]"
     ]
    },
    {
     "name": "stdout",
     "output_type": "stream",
     "text": [
      "rgb logits...\n",
      "flow logits...\n",
      "===== Final predictions ====\n",
      "label: touching_equipment\n",
      "logits proba class\n",
      "95.81% touching_equipment\n",
      "363 22 82 ./data/images_new/test/2_20181112_frames001128\n",
      "rgb logits...\n",
      "flow logits...\n",
      "===== Final predictions ====\n",
      "label: touching_equipment\n",
      "logits proba class\n",
      "95.42% other_action\n",
      "364 22 83 ./data/images_new/test/2_20181112_frames001128\n"
     ]
    },
    {
     "name": "stderr",
     "output_type": "stream",
     "text": [
      " 24%|██▎       | 367/1552 [01:25<02:41,  7.32it/s]"
     ]
    },
    {
     "name": "stdout",
     "output_type": "stream",
     "text": [
      "rgb logits...\n",
      "flow logits...\n",
      "===== Final predictions ====\n",
      "label: touching_equipment\n",
      "logits proba class\n",
      "64.77% touching_equipment\n",
      "365 22 84 ./data/images_new/test/2_20181112_frames001128\n",
      "rgb logits...\n",
      "flow logits...\n",
      "===== Final predictions ====\n",
      "label: touching_equipment\n",
      "logits proba class\n",
      "65.31% other_action\n",
      "366 22 85 ./data/images_new/test/2_20181112_frames001128\n"
     ]
    },
    {
     "name": "stderr",
     "output_type": "stream",
     "text": [
      " 24%|██▍       | 369/1552 [01:25<02:35,  7.62it/s]"
     ]
    },
    {
     "name": "stdout",
     "output_type": "stream",
     "text": [
      "rgb logits...\n",
      "flow logits...\n",
      "===== Final predictions ====\n",
      "label: touching_equipment\n",
      "logits proba class\n",
      "52.18% other_action\n",
      "367 22 86 ./data/images_new/test/2_20181112_frames001128\n",
      "rgb logits...\n",
      "flow logits...\n",
      "===== Final predictions ====\n",
      "label: touching_equipment\n",
      "logits proba class\n",
      "60.88% other_action\n",
      "368 22 87 ./data/images_new/test/2_20181112_frames001128\n"
     ]
    },
    {
     "name": "stderr",
     "output_type": "stream",
     "text": [
      " 24%|██▍       | 371/1552 [01:26<02:33,  7.69it/s]"
     ]
    },
    {
     "name": "stdout",
     "output_type": "stream",
     "text": [
      "rgb logits...\n",
      "flow logits...\n",
      "===== Final predictions ====\n",
      "label: touching_equipment\n",
      "logits proba class\n",
      "93.96% touching_equipment\n",
      "369 22 88 ./data/images_new/test/2_20181112_frames001128\n",
      "rgb logits...\n",
      "flow logits...\n",
      "===== Final predictions ====\n",
      "label: touching_equipment\n",
      "logits proba class\n",
      "98.67% touching_equipment\n",
      "370 22 89 ./data/images_new/test/2_20181112_frames001128\n"
     ]
    },
    {
     "name": "stderr",
     "output_type": "stream",
     "text": [
      " 24%|██▍       | 373/1552 [01:26<02:32,  7.73it/s]"
     ]
    },
    {
     "name": "stdout",
     "output_type": "stream",
     "text": [
      "rgb logits...\n",
      "flow logits...\n",
      "===== Final predictions ====\n",
      "label: touching_equipment\n",
      "logits proba class\n",
      "81.75% touching_equipment\n",
      "371 22 90 ./data/images_new/test/2_20181112_frames001128\n",
      "rgb logits...\n",
      "flow logits...\n",
      "===== Final predictions ====\n",
      "label: touching_equipment\n",
      "logits proba class\n",
      "96.01% touching_equipment\n",
      "372 22 91 ./data/images_new/test/2_20181112_frames001128\n"
     ]
    },
    {
     "name": "stderr",
     "output_type": "stream",
     "text": [
      " 24%|██▍       | 375/1552 [01:26<02:31,  7.79it/s]"
     ]
    },
    {
     "name": "stdout",
     "output_type": "stream",
     "text": [
      "rgb logits...\n",
      "flow logits...\n",
      "===== Final predictions ====\n",
      "label: touching_equipment\n",
      "logits proba class\n",
      "98.22% touching_equipment\n",
      "373 22 92 ./data/images_new/test/2_20181112_frames001128\n",
      "rgb logits...\n",
      "flow logits...\n",
      "===== Final predictions ====\n",
      "label: other_action\n",
      "logits proba class\n",
      "89.61% other_action\n",
      "374 22 0 ./data/images_new/test/2_20181112_frames001128\n"
     ]
    },
    {
     "name": "stderr",
     "output_type": "stream",
     "text": [
      " 24%|██▍       | 377/1552 [01:26<02:28,  7.90it/s]"
     ]
    },
    {
     "name": "stdout",
     "output_type": "stream",
     "text": [
      "rgb logits...\n",
      "flow logits...\n",
      "===== Final predictions ====\n",
      "label: other_action\n",
      "logits proba class\n",
      "96.92% other_action\n",
      "375 22 1 ./data/images_new/test/2_20181112_frames001128\n",
      "rgb logits...\n",
      "flow logits...\n",
      "===== Final predictions ====\n",
      "label: other_action\n",
      "logits proba class\n",
      "97.47% other_action\n",
      "376 22 2 ./data/images_new/test/2_20181112_frames001128\n"
     ]
    },
    {
     "name": "stderr",
     "output_type": "stream",
     "text": [
      " 24%|██▍       | 379/1552 [01:27<02:26,  8.03it/s]"
     ]
    },
    {
     "name": "stdout",
     "output_type": "stream",
     "text": [
      "rgb logits...\n",
      "flow logits...\n",
      "===== Final predictions ====\n",
      "label: other_action\n",
      "logits proba class\n",
      "97.85% other_action\n",
      "377 22 3 ./data/images_new/test/2_20181112_frames001128\n",
      "rgb logits...\n",
      "flow logits...\n",
      "===== Final predictions ====\n",
      "label: other_action\n",
      "logits proba class\n",
      "96.87% other_action\n",
      "378 22 4 ./data/images_new/test/2_20181112_frames001128\n"
     ]
    },
    {
     "name": "stderr",
     "output_type": "stream",
     "text": [
      " 25%|██▍       | 381/1552 [01:27<02:24,  8.09it/s]"
     ]
    },
    {
     "name": "stdout",
     "output_type": "stream",
     "text": [
      "rgb logits...\n",
      "flow logits...\n",
      "===== Final predictions ====\n",
      "label: other_action\n",
      "logits proba class\n",
      "96.24% other_action\n",
      "379 22 5 ./data/images_new/test/2_20181112_frames001128\n",
      "rgb logits...\n",
      "flow logits...\n",
      "===== Final predictions ====\n",
      "label: other_action\n",
      "logits proba class\n",
      "97.71% other_action\n",
      "380 22 6 ./data/images_new/test/2_20181112_frames001128\n"
     ]
    },
    {
     "name": "stderr",
     "output_type": "stream",
     "text": [
      " 25%|██▍       | 383/1552 [01:27<02:24,  8.11it/s]"
     ]
    },
    {
     "name": "stdout",
     "output_type": "stream",
     "text": [
      "rgb logits...\n",
      "flow logits...\n",
      "===== Final predictions ====\n",
      "label: other_action\n",
      "logits proba class\n",
      "99.21% other_action\n",
      "381 22 7 ./data/images_new/test/2_20181112_frames001128\n",
      "rgb logits...\n",
      "flow logits...\n",
      "===== Final predictions ====\n",
      "label: other_action\n",
      "logits proba class\n",
      "99.22% other_action\n",
      "382 22 8 ./data/images_new/test/2_20181112_frames001128\n"
     ]
    },
    {
     "name": "stderr",
     "output_type": "stream",
     "text": [
      " 25%|██▍       | 385/1552 [01:27<02:23,  8.10it/s]"
     ]
    },
    {
     "name": "stdout",
     "output_type": "stream",
     "text": [
      "rgb logits...\n",
      "flow logits...\n",
      "===== Final predictions ====\n",
      "label: other_action\n",
      "logits proba class\n",
      "98.73% other_action\n",
      "383 22 9 ./data/images_new/test/2_20181112_frames001128\n",
      "rgb logits...\n",
      "flow logits...\n",
      "===== Final predictions ====\n",
      "label: other_action\n",
      "logits proba class\n",
      "98.25% other_action\n",
      "384 22 10 ./data/images_new/test/2_20181112_frames001128\n"
     ]
    },
    {
     "name": "stderr",
     "output_type": "stream",
     "text": [
      " 25%|██▍       | 387/1552 [01:28<02:23,  8.13it/s]"
     ]
    },
    {
     "name": "stdout",
     "output_type": "stream",
     "text": [
      "rgb logits...\n",
      "flow logits...\n",
      "===== Final predictions ====\n",
      "label: other_action\n",
      "logits proba class\n",
      "98.26% other_action\n",
      "385 22 11 ./data/images_new/test/2_20181112_frames001128\n",
      "rgb logits...\n",
      "flow logits...\n",
      "===== Final predictions ====\n",
      "label: other_action\n",
      "logits proba class\n",
      "96.92% other_action\n",
      "386 22 12 ./data/images_new/test/2_20181112_frames001128\n"
     ]
    },
    {
     "name": "stderr",
     "output_type": "stream",
     "text": [
      " 25%|██▌       | 389/1552 [01:28<02:22,  8.16it/s]"
     ]
    },
    {
     "name": "stdout",
     "output_type": "stream",
     "text": [
      "rgb logits...\n",
      "flow logits...\n",
      "===== Final predictions ====\n",
      "label: other_action\n",
      "logits proba class\n",
      "97.30% other_action\n",
      "387 22 13 ./data/images_new/test/2_20181112_frames001128\n",
      "rgb logits...\n",
      "flow logits...\n",
      "===== Final predictions ====\n",
      "label: other_action\n",
      "logits proba class\n",
      "96.13% other_action\n",
      "388 22 14 ./data/images_new/test/2_20181112_frames001128\n"
     ]
    },
    {
     "name": "stderr",
     "output_type": "stream",
     "text": [
      " 25%|██▌       | 391/1552 [01:28<02:22,  8.17it/s]"
     ]
    },
    {
     "name": "stdout",
     "output_type": "stream",
     "text": [
      "rgb logits...\n",
      "flow logits...\n",
      "===== Final predictions ====\n",
      "label: other_action\n",
      "logits proba class\n",
      "95.53% other_action\n",
      "389 22 15 ./data/images_new/test/2_20181112_frames001128\n",
      "rgb logits...\n",
      "flow logits...\n",
      "===== Final predictions ====\n",
      "label: other_action\n",
      "logits proba class\n",
      "97.87% other_action\n",
      "390 22 16 ./data/images_new/test/2_20181112_frames001128\n"
     ]
    },
    {
     "name": "stderr",
     "output_type": "stream",
     "text": [
      " 25%|██▌       | 393/1552 [01:28<02:21,  8.19it/s]"
     ]
    },
    {
     "name": "stdout",
     "output_type": "stream",
     "text": [
      "rgb logits...\n",
      "flow logits...\n",
      "===== Final predictions ====\n",
      "label: other_action\n",
      "logits proba class\n",
      "97.21% other_action\n",
      "391 22 17 ./data/images_new/test/2_20181112_frames001128\n",
      "rgb logits...\n",
      "flow logits...\n",
      "===== Final predictions ====\n",
      "label: other_action\n",
      "logits proba class\n",
      "96.90% other_action\n",
      "392 22 18 ./data/images_new/test/2_20181112_frames001128\n"
     ]
    },
    {
     "name": "stderr",
     "output_type": "stream",
     "text": [
      " 25%|██▌       | 395/1552 [01:29<02:23,  8.07it/s]"
     ]
    },
    {
     "name": "stdout",
     "output_type": "stream",
     "text": [
      "rgb logits...\n",
      "flow logits...\n",
      "===== Final predictions ====\n",
      "label: other_action\n",
      "logits proba class\n",
      "95.75% other_action\n",
      "393 22 19 ./data/images_new/test/2_20181112_frames001128\n",
      "rgb logits...\n",
      "flow logits...\n",
      "===== Final predictions ====\n",
      "label: other_action\n",
      "logits proba class\n",
      "99.45% other_action\n",
      "394 22 20 ./data/images_new/test/2_20181112_frames001128\n"
     ]
    },
    {
     "name": "stderr",
     "output_type": "stream",
     "text": [
      " 26%|██▌       | 397/1552 [01:29<02:23,  8.03it/s]"
     ]
    },
    {
     "name": "stdout",
     "output_type": "stream",
     "text": [
      "rgb logits...\n",
      "flow logits...\n",
      "===== Final predictions ====\n",
      "label: other_action\n",
      "logits proba class\n",
      "99.63% other_action\n",
      "395 22 21 ./data/images_new/test/2_20181112_frames001128\n",
      "rgb logits...\n",
      "flow logits...\n",
      "===== Final predictions ====\n",
      "label: other_action\n",
      "logits proba class\n",
      "98.56% other_action\n",
      "396 22 22 ./data/images_new/test/2_20181112_frames001128\n"
     ]
    },
    {
     "name": "stderr",
     "output_type": "stream",
     "text": [
      " 26%|██▌       | 399/1552 [01:29<02:24,  7.96it/s]"
     ]
    },
    {
     "name": "stdout",
     "output_type": "stream",
     "text": [
      "rgb logits...\n",
      "flow logits...\n",
      "===== Final predictions ====\n",
      "label: other_action\n",
      "logits proba class\n",
      "99.26% other_action\n",
      "397 22 23 ./data/images_new/test/2_20181112_frames001128\n",
      "rgb logits...\n",
      "flow logits...\n",
      "===== Final predictions ====\n",
      "label: other_action\n",
      "logits proba class\n",
      "99.41% other_action\n",
      "398 22 24 ./data/images_new/test/2_20181112_frames001128\n"
     ]
    },
    {
     "name": "stderr",
     "output_type": "stream",
     "text": [
      " 26%|██▌       | 401/1552 [01:29<02:22,  8.07it/s]"
     ]
    },
    {
     "name": "stdout",
     "output_type": "stream",
     "text": [
      "rgb logits...\n",
      "flow logits...\n",
      "===== Final predictions ====\n",
      "label: other_action\n",
      "logits proba class\n",
      "97.87% other_action\n",
      "399 22 25 ./data/images_new/test/2_20181112_frames001128\n",
      "rgb logits...\n",
      "flow logits...\n",
      "===== Final predictions ====\n",
      "label: other_action\n",
      "logits proba class\n",
      "98.42% other_action\n",
      "400 22 26 ./data/images_new/test/2_20181112_frames001128\n"
     ]
    },
    {
     "name": "stderr",
     "output_type": "stream",
     "text": [
      " 26%|██▌       | 403/1552 [01:30<02:21,  8.12it/s]"
     ]
    },
    {
     "name": "stdout",
     "output_type": "stream",
     "text": [
      "rgb logits...\n",
      "flow logits...\n",
      "===== Final predictions ====\n",
      "label: other_action\n",
      "logits proba class\n",
      "98.31% other_action\n",
      "401 22 27 ./data/images_new/test/2_20181112_frames001128\n",
      "rgb logits...\n",
      "flow logits...\n",
      "===== Final predictions ====\n",
      "label: other_action\n",
      "logits proba class\n",
      "98.67% other_action\n",
      "402 22 28 ./data/images_new/test/2_20181112_frames001128\n"
     ]
    },
    {
     "name": "stderr",
     "output_type": "stream",
     "text": [
      " 26%|██▌       | 405/1552 [01:30<02:20,  8.17it/s]"
     ]
    },
    {
     "name": "stdout",
     "output_type": "stream",
     "text": [
      "rgb logits...\n",
      "flow logits...\n",
      "===== Final predictions ====\n",
      "label: other_action\n",
      "logits proba class\n",
      "99.55% other_action\n",
      "403 22 29 ./data/images_new/test/2_20181112_frames001128\n",
      "rgb logits...\n",
      "flow logits...\n",
      "===== Final predictions ====\n",
      "label: other_action\n",
      "logits proba class\n",
      "99.62% other_action\n",
      "404 22 30 ./data/images_new/test/2_20181112_frames001128\n"
     ]
    },
    {
     "name": "stderr",
     "output_type": "stream",
     "text": [
      " 26%|██▌       | 407/1552 [01:30<02:19,  8.18it/s]"
     ]
    },
    {
     "name": "stdout",
     "output_type": "stream",
     "text": [
      "rgb logits...\n",
      "flow logits...\n",
      "===== Final predictions ====\n",
      "label: other_action\n",
      "logits proba class\n",
      "88.31% other_action\n",
      "405 22 0 ./data/images_new/test/2_20181112_frames001128\n",
      "rgb logits...\n",
      "flow logits...\n",
      "===== Final predictions ====\n",
      "label: other_action\n",
      "logits proba class\n",
      "94.07% other_action\n",
      "406 22 1 ./data/images_new/test/2_20181112_frames001128\n"
     ]
    },
    {
     "name": "stderr",
     "output_type": "stream",
     "text": [
      " 26%|██▋       | 409/1552 [01:30<02:19,  8.17it/s]"
     ]
    },
    {
     "name": "stdout",
     "output_type": "stream",
     "text": [
      "rgb logits...\n",
      "flow logits...\n",
      "===== Final predictions ====\n",
      "label: other_action\n",
      "logits proba class\n",
      "96.64% other_action\n",
      "407 22 2 ./data/images_new/test/2_20181112_frames001128\n",
      "rgb logits...\n",
      "flow logits...\n",
      "===== Final predictions ====\n",
      "label: other_action\n",
      "logits proba class\n",
      "99.85% other_action\n",
      "408 22 3 ./data/images_new/test/2_20181112_frames001128\n"
     ]
    },
    {
     "name": "stderr",
     "output_type": "stream",
     "text": [
      " 26%|██▋       | 411/1552 [01:31<02:20,  8.12it/s]"
     ]
    },
    {
     "name": "stdout",
     "output_type": "stream",
     "text": [
      "rgb logits...\n",
      "flow logits...\n",
      "===== Final predictions ====\n",
      "label: other_action\n",
      "logits proba class\n",
      "99.74% other_action\n",
      "409 22 4 ./data/images_new/test/2_20181112_frames001128\n",
      "rgb logits...\n",
      "flow logits...\n",
      "===== Final predictions ====\n",
      "label: other_action\n",
      "logits proba class\n",
      "99.76% other_action\n",
      "410 22 5 ./data/images_new/test/2_20181112_frames001128\n"
     ]
    },
    {
     "name": "stderr",
     "output_type": "stream",
     "text": [
      " 27%|██▋       | 413/1552 [01:31<02:19,  8.15it/s]"
     ]
    },
    {
     "name": "stdout",
     "output_type": "stream",
     "text": [
      "rgb logits...\n",
      "flow logits...\n",
      "===== Final predictions ====\n",
      "label: other_action\n",
      "logits proba class\n",
      "99.61% other_action\n",
      "411 22 6 ./data/images_new/test/2_20181112_frames001128\n",
      "rgb logits...\n",
      "flow logits...\n",
      "===== Final predictions ====\n",
      "label: other_action\n",
      "logits proba class\n",
      "99.17% other_action\n",
      "412 22 7 ./data/images_new/test/2_20181112_frames001128\n"
     ]
    },
    {
     "name": "stderr",
     "output_type": "stream",
     "text": [
      " 27%|██▋       | 415/1552 [01:31<02:19,  8.14it/s]"
     ]
    },
    {
     "name": "stdout",
     "output_type": "stream",
     "text": [
      "rgb logits...\n",
      "flow logits...\n",
      "===== Final predictions ====\n",
      "label: other_action\n",
      "logits proba class\n",
      "99.52% other_action\n",
      "413 22 8 ./data/images_new/test/2_20181112_frames001128\n",
      "rgb logits...\n",
      "flow logits...\n",
      "===== Final predictions ====\n",
      "label: other_action\n",
      "logits proba class\n",
      "99.79% other_action\n",
      "414 22 9 ./data/images_new/test/2_20181112_frames001128\n"
     ]
    },
    {
     "name": "stderr",
     "output_type": "stream",
     "text": [
      " 27%|██▋       | 417/1552 [01:31<02:19,  8.13it/s]"
     ]
    },
    {
     "name": "stdout",
     "output_type": "stream",
     "text": [
      "rgb logits...\n",
      "flow logits...\n",
      "===== Final predictions ====\n",
      "label: other_action\n",
      "logits proba class\n",
      "99.75% other_action\n",
      "415 22 10 ./data/images_new/test/2_20181112_frames001128\n",
      "rgb logits...\n",
      "flow logits...\n",
      "===== Final predictions ====\n",
      "label: other_action\n",
      "logits proba class\n",
      "99.90% other_action\n",
      "416 22 11 ./data/images_new/test/2_20181112_frames001128\n"
     ]
    },
    {
     "name": "stderr",
     "output_type": "stream",
     "text": [
      " 27%|██▋       | 419/1552 [01:32<02:19,  8.13it/s]"
     ]
    },
    {
     "name": "stdout",
     "output_type": "stream",
     "text": [
      "rgb logits...\n",
      "flow logits...\n",
      "===== Final predictions ====\n",
      "label: other_action\n",
      "logits proba class\n",
      "99.54% other_action\n",
      "417 22 12 ./data/images_new/test/2_20181112_frames001128\n",
      "rgb logits...\n",
      "flow logits...\n",
      "===== Final predictions ====\n",
      "label: other_action\n",
      "logits proba class\n",
      "99.79% other_action\n",
      "418 22 13 ./data/images_new/test/2_20181112_frames001128\n"
     ]
    },
    {
     "name": "stderr",
     "output_type": "stream",
     "text": [
      " 27%|██▋       | 421/1552 [01:32<02:18,  8.16it/s]"
     ]
    },
    {
     "name": "stdout",
     "output_type": "stream",
     "text": [
      "rgb logits...\n",
      "flow logits...\n",
      "===== Final predictions ====\n",
      "label: other_action\n",
      "logits proba class\n",
      "99.27% other_action\n",
      "419 22 14 ./data/images_new/test/2_20181112_frames001128\n",
      "rgb logits...\n",
      "flow logits...\n",
      "===== Final predictions ====\n",
      "label: other_action\n",
      "logits proba class\n",
      "99.57% other_action\n",
      "420 22 15 ./data/images_new/test/2_20181112_frames001128\n"
     ]
    },
    {
     "name": "stderr",
     "output_type": "stream",
     "text": [
      " 27%|██▋       | 423/1552 [01:32<02:18,  8.15it/s]"
     ]
    },
    {
     "name": "stdout",
     "output_type": "stream",
     "text": [
      "rgb logits...\n",
      "flow logits...\n",
      "===== Final predictions ====\n",
      "label: other_action\n",
      "logits proba class\n",
      "99.12% other_action\n",
      "421 22 16 ./data/images_new/test/2_20181112_frames001128\n",
      "rgb logits...\n",
      "flow logits...\n",
      "===== Final predictions ====\n",
      "label: other_action\n",
      "logits proba class\n",
      "98.05% other_action\n",
      "422 22 17 ./data/images_new/test/2_20181112_frames001128\n"
     ]
    },
    {
     "name": "stderr",
     "output_type": "stream",
     "text": [
      " 27%|██▋       | 425/1552 [01:32<02:18,  8.16it/s]"
     ]
    },
    {
     "name": "stdout",
     "output_type": "stream",
     "text": [
      "rgb logits...\n",
      "flow logits...\n",
      "===== Final predictions ====\n",
      "label: other_action\n",
      "logits proba class\n",
      "93.24% other_action\n",
      "423 22 18 ./data/images_new/test/2_20181112_frames001128\n",
      "rgb logits...\n",
      "flow logits...\n",
      "===== Final predictions ====\n",
      "label: other_action\n",
      "logits proba class\n",
      "99.25% other_action\n",
      "424 22 19 ./data/images_new/test/2_20181112_frames001128\n"
     ]
    },
    {
     "name": "stderr",
     "output_type": "stream",
     "text": [
      " 28%|██▊       | 427/1552 [01:33<02:18,  8.12it/s]"
     ]
    },
    {
     "name": "stdout",
     "output_type": "stream",
     "text": [
      "rgb logits...\n",
      "flow logits...\n",
      "===== Final predictions ====\n",
      "label: other_action\n",
      "logits proba class\n",
      "98.65% other_action\n",
      "425 22 20 ./data/images_new/test/2_20181112_frames001128\n",
      "rgb logits...\n",
      "flow logits...\n",
      "===== Final predictions ====\n",
      "label: other_action\n",
      "logits proba class\n",
      "99.21% other_action\n",
      "426 22 21 ./data/images_new/test/2_20181112_frames001128\n"
     ]
    },
    {
     "name": "stderr",
     "output_type": "stream",
     "text": [
      " 28%|██▊       | 429/1552 [01:33<02:21,  7.94it/s]"
     ]
    },
    {
     "name": "stdout",
     "output_type": "stream",
     "text": [
      "rgb logits...\n",
      "flow logits...\n",
      "===== Final predictions ====\n",
      "label: other_action\n",
      "logits proba class\n",
      "99.65% other_action\n",
      "427 22 22 ./data/images_new/test/2_20181112_frames001128\n",
      "rgb logits...\n",
      "flow logits...\n",
      "===== Final predictions ====\n",
      "label: other_action\n",
      "logits proba class\n",
      "99.94% other_action\n",
      "428 22 23 ./data/images_new/test/2_20181112_frames001128\n"
     ]
    },
    {
     "name": "stderr",
     "output_type": "stream",
     "text": [
      " 28%|██▊       | 431/1552 [01:33<02:21,  7.94it/s]"
     ]
    },
    {
     "name": "stdout",
     "output_type": "stream",
     "text": [
      "rgb logits...\n",
      "flow logits...\n",
      "===== Final predictions ====\n",
      "label: other_action\n",
      "logits proba class\n",
      "99.99% other_action\n",
      "429 22 24 ./data/images_new/test/2_20181112_frames001128\n",
      "rgb logits...\n",
      "flow logits...\n",
      "===== Final predictions ====\n",
      "label: other_action\n",
      "logits proba class\n",
      "99.98% other_action\n",
      "430 22 25 ./data/images_new/test/2_20181112_frames001128\n"
     ]
    },
    {
     "name": "stderr",
     "output_type": "stream",
     "text": [
      " 28%|██▊       | 433/1552 [01:33<02:19,  8.03it/s]"
     ]
    },
    {
     "name": "stdout",
     "output_type": "stream",
     "text": [
      "rgb logits...\n",
      "flow logits...\n",
      "===== Final predictions ====\n",
      "label: other_action\n",
      "logits proba class\n",
      "99.97% other_action\n",
      "431 22 26 ./data/images_new/test/2_20181112_frames001128\n",
      "rgb logits...\n",
      "flow logits...\n",
      "===== Final predictions ====\n",
      "label: other_action\n",
      "logits proba class\n",
      "99.91% other_action\n",
      "432 22 27 ./data/images_new/test/2_20181112_frames001128\n"
     ]
    },
    {
     "name": "stderr",
     "output_type": "stream",
     "text": [
      " 28%|██▊       | 435/1552 [01:34<02:17,  8.13it/s]"
     ]
    },
    {
     "name": "stdout",
     "output_type": "stream",
     "text": [
      "rgb logits...\n",
      "flow logits...\n",
      "===== Final predictions ====\n",
      "label: other_action\n",
      "logits proba class\n",
      "99.93% other_action\n",
      "433 22 28 ./data/images_new/test/2_20181112_frames001128\n",
      "rgb logits...\n",
      "flow logits...\n",
      "===== Final predictions ====\n",
      "label: other_action\n",
      "logits proba class\n",
      "99.97% other_action\n",
      "434 22 29 ./data/images_new/test/2_20181112_frames001128\n"
     ]
    },
    {
     "name": "stderr",
     "output_type": "stream",
     "text": [
      "\r",
      " 28%|██▊       | 436/1552 [01:34<02:16,  8.15it/s]"
     ]
    },
    {
     "name": "stdout",
     "output_type": "stream",
     "text": [
      "rgb logits...\n",
      "flow logits...\n",
      "===== Final predictions ====\n",
      "label: other_action\n",
      "logits proba class\n",
      "99.90% other_action\n",
      "435 22 30 ./data/images_new/test/2_20181112_frames001128\n",
      "[RGB] Filling cache for index 23\n"
     ]
    },
    {
     "name": "stderr",
     "output_type": "stream",
     "text": [
      "\r",
      " 28%|██▊       | 437/1552 [01:38<23:20,  1.26s/it]"
     ]
    },
    {
     "name": "stdout",
     "output_type": "stream",
     "text": [
      "[Flow] Filling cache for index 23\n",
      "rgb logits...\n",
      "flow logits...\n",
      "===== Final predictions ====\n",
      "label: other_action\n",
      "logits proba class\n",
      "99.10% other_action\n",
      "436 23 0 ./data/images_new/test/2_20181112_frames001413\n"
     ]
    },
    {
     "name": "stderr",
     "output_type": "stream",
     "text": [
      " 28%|██▊       | 439/1552 [01:38<12:48,  1.45it/s]"
     ]
    },
    {
     "name": "stdout",
     "output_type": "stream",
     "text": [
      "rgb logits...\n",
      "flow logits...\n",
      "===== Final predictions ====\n",
      "label: other_action\n",
      "logits proba class\n",
      "95.50% other_action\n",
      "437 23 1 ./data/images_new/test/2_20181112_frames001413\n",
      "rgb logits...\n",
      "flow logits...\n",
      "===== Final predictions ====\n",
      "label: other_action\n",
      "logits proba class\n",
      "95.62% other_action\n",
      "438 23 2 ./data/images_new/test/2_20181112_frames001413\n"
     ]
    },
    {
     "name": "stderr",
     "output_type": "stream",
     "text": [
      " 28%|██▊       | 441/1552 [01:38<07:29,  2.47it/s]"
     ]
    },
    {
     "name": "stdout",
     "output_type": "stream",
     "text": [
      "rgb logits...\n",
      "flow logits...\n",
      "===== Final predictions ====\n",
      "label: other_action\n",
      "logits proba class\n",
      "96.43% other_action\n",
      "439 23 3 ./data/images_new/test/2_20181112_frames001413\n",
      "rgb logits...\n",
      "flow logits...\n",
      "===== Final predictions ====\n",
      "label: other_action\n",
      "logits proba class\n",
      "99.67% other_action\n",
      "440 23 4 ./data/images_new/test/2_20181112_frames001413\n"
     ]
    },
    {
     "name": "stderr",
     "output_type": "stream",
     "text": [
      " 29%|██▊       | 443/1552 [01:38<04:49,  3.83it/s]"
     ]
    },
    {
     "name": "stdout",
     "output_type": "stream",
     "text": [
      "rgb logits...\n",
      "flow logits...\n",
      "===== Final predictions ====\n",
      "label: other_action\n",
      "logits proba class\n",
      "95.99% other_action\n",
      "441 23 5 ./data/images_new/test/2_20181112_frames001413\n",
      "rgb logits...\n",
      "flow logits...\n",
      "===== Final predictions ====\n",
      "label: other_action\n",
      "logits proba class\n",
      "73.48% other_action\n",
      "442 23 6 ./data/images_new/test/2_20181112_frames001413\n"
     ]
    },
    {
     "name": "stderr",
     "output_type": "stream",
     "text": [
      " 29%|██▊       | 445/1552 [01:39<03:30,  5.25it/s]"
     ]
    },
    {
     "name": "stdout",
     "output_type": "stream",
     "text": [
      "rgb logits...\n",
      "flow logits...\n",
      "===== Final predictions ====\n",
      "label: other_action\n",
      "logits proba class\n",
      "62.57% touching_equipment\n",
      "443 23 7 ./data/images_new/test/2_20181112_frames001413\n",
      "rgb logits...\n",
      "flow logits...\n",
      "===== Final predictions ====\n",
      "label: other_action\n",
      "logits proba class\n",
      "78.10% other_action\n",
      "444 23 8 ./data/images_new/test/2_20181112_frames001413\n"
     ]
    },
    {
     "name": "stderr",
     "output_type": "stream",
     "text": [
      " 29%|██▉       | 447/1552 [01:39<02:52,  6.42it/s]"
     ]
    },
    {
     "name": "stdout",
     "output_type": "stream",
     "text": [
      "rgb logits...\n",
      "flow logits...\n",
      "===== Final predictions ====\n",
      "label: other_action\n",
      "logits proba class\n",
      "56.71% touching_equipment\n",
      "445 23 9 ./data/images_new/test/2_20181112_frames001413\n",
      "rgb logits...\n",
      "flow logits...\n",
      "===== Final predictions ====\n",
      "label: other_action\n",
      "logits proba class\n",
      "54.37% other_action\n",
      "446 23 10 ./data/images_new/test/2_20181112_frames001413\n"
     ]
    },
    {
     "name": "stderr",
     "output_type": "stream",
     "text": [
      " 29%|██▉       | 449/1552 [01:39<02:32,  7.23it/s]"
     ]
    },
    {
     "name": "stdout",
     "output_type": "stream",
     "text": [
      "rgb logits...\n",
      "flow logits...\n",
      "===== Final predictions ====\n",
      "label: other_action\n",
      "logits proba class\n",
      "60.99% touching_equipment\n",
      "447 23 11 ./data/images_new/test/2_20181112_frames001413\n",
      "rgb logits...\n",
      "flow logits...\n",
      "===== Final predictions ====\n",
      "label: other_action\n",
      "logits proba class\n",
      "76.18% other_action\n",
      "448 23 12 ./data/images_new/test/2_20181112_frames001413\n"
     ]
    },
    {
     "name": "stderr",
     "output_type": "stream",
     "text": [
      " 29%|██▉       | 451/1552 [01:39<02:23,  7.69it/s]"
     ]
    },
    {
     "name": "stdout",
     "output_type": "stream",
     "text": [
      "rgb logits...\n",
      "flow logits...\n",
      "===== Final predictions ====\n",
      "label: other_action\n",
      "logits proba class\n",
      "77.43% other_action\n",
      "449 23 13 ./data/images_new/test/2_20181112_frames001413\n",
      "rgb logits...\n",
      "flow logits...\n",
      "===== Final predictions ====\n",
      "label: other_action\n",
      "logits proba class\n",
      "72.73% other_action\n",
      "450 23 14 ./data/images_new/test/2_20181112_frames001413\n"
     ]
    },
    {
     "name": "stderr",
     "output_type": "stream",
     "text": [
      " 29%|██▉       | 453/1552 [01:40<02:22,  7.73it/s]"
     ]
    },
    {
     "name": "stdout",
     "output_type": "stream",
     "text": [
      "rgb logits...\n",
      "flow logits...\n",
      "===== Final predictions ====\n",
      "label: other_action\n",
      "logits proba class\n",
      "83.08% other_action\n",
      "451 23 15 ./data/images_new/test/2_20181112_frames001413\n",
      "rgb logits...\n",
      "flow logits...\n",
      "===== Final predictions ====\n",
      "label: other_action\n",
      "logits proba class\n",
      "99.25% other_action\n",
      "452 23 0 ./data/images_new/test/2_20181112_frames001413\n"
     ]
    },
    {
     "name": "stderr",
     "output_type": "stream",
     "text": [
      " 29%|██▉       | 455/1552 [01:40<02:25,  7.53it/s]"
     ]
    },
    {
     "name": "stdout",
     "output_type": "stream",
     "text": [
      "rgb logits...\n",
      "flow logits...\n",
      "===== Final predictions ====\n",
      "label: other_action\n",
      "logits proba class\n",
      "86.90% other_action\n",
      "453 23 1 ./data/images_new/test/2_20181112_frames001413\n",
      "rgb logits...\n",
      "flow logits...\n",
      "===== Final predictions ====\n",
      "label: other_action\n",
      "logits proba class\n",
      "99.93% other_action\n",
      "454 23 2 ./data/images_new/test/2_20181112_frames001413\n"
     ]
    },
    {
     "name": "stderr",
     "output_type": "stream",
     "text": [
      " 29%|██▉       | 457/1552 [01:40<02:29,  7.32it/s]"
     ]
    },
    {
     "name": "stdout",
     "output_type": "stream",
     "text": [
      "rgb logits...\n",
      "flow logits...\n",
      "===== Final predictions ====\n",
      "label: other_action\n",
      "logits proba class\n",
      "99.96% other_action\n",
      "455 23 3 ./data/images_new/test/2_20181112_frames001413\n",
      "rgb logits...\n",
      "flow logits...\n",
      "===== Final predictions ====\n",
      "label: other_action\n",
      "logits proba class\n",
      "63.32% other_action\n",
      "456 23 4 ./data/images_new/test/2_20181112_frames001413\n"
     ]
    },
    {
     "name": "stderr",
     "output_type": "stream",
     "text": [
      " 30%|██▉       | 459/1552 [01:40<02:32,  7.18it/s]"
     ]
    },
    {
     "name": "stdout",
     "output_type": "stream",
     "text": [
      "rgb logits...\n",
      "flow logits...\n",
      "===== Final predictions ====\n",
      "label: other_action\n",
      "logits proba class\n",
      "99.58% other_action\n",
      "457 23 5 ./data/images_new/test/2_20181112_frames001413\n",
      "rgb logits...\n",
      "flow logits...\n",
      "===== Final predictions ====\n",
      "label: other_action\n",
      "logits proba class\n",
      "91.13% touching_equipment\n",
      "458 23 6 ./data/images_new/test/2_20181112_frames001413\n"
     ]
    },
    {
     "name": "stderr",
     "output_type": "stream",
     "text": [
      "\r",
      " 30%|██▉       | 460/1552 [01:41<02:35,  7.04it/s]"
     ]
    },
    {
     "name": "stdout",
     "output_type": "stream",
     "text": [
      "rgb logits...\n",
      "flow logits...\n",
      "===== Final predictions ====\n",
      "label: other_action\n",
      "logits proba class\n",
      "94.76% touching_equipment\n",
      "459 23 7 ./data/images_new/test/2_20181112_frames001413\n",
      "rgb logits...\n",
      "flow logits...\n"
     ]
    },
    {
     "name": "stderr",
     "output_type": "stream",
     "text": [
      " 30%|██▉       | 462/1552 [01:41<02:38,  6.87it/s]"
     ]
    },
    {
     "name": "stdout",
     "output_type": "stream",
     "text": [
      "===== Final predictions ====\n",
      "label: other_action\n",
      "logits proba class\n",
      "79.63% touching_equipment\n",
      "460 23 8 ./data/images_new/test/2_20181112_frames001413\n",
      "rgb logits...\n",
      "flow logits...\n",
      "===== Final predictions ====\n",
      "label: other_action\n",
      "logits proba class\n",
      "78.31% touching_equipment\n",
      "461 23 9 ./data/images_new/test/2_20181112_frames001413\n"
     ]
    },
    {
     "name": "stderr",
     "output_type": "stream",
     "text": [
      " 30%|██▉       | 464/1552 [01:41<02:36,  6.95it/s]"
     ]
    },
    {
     "name": "stdout",
     "output_type": "stream",
     "text": [
      "rgb logits...\n",
      "flow logits...\n",
      "===== Final predictions ====\n",
      "label: other_action\n",
      "logits proba class\n",
      "69.90% touching_equipment\n",
      "462 23 10 ./data/images_new/test/2_20181112_frames001413\n",
      "rgb logits...\n",
      "flow logits...\n",
      "===== Final predictions ====\n",
      "label: other_action\n",
      "logits proba class\n",
      "99.67% touching_equipment\n",
      "463 23 11 ./data/images_new/test/2_20181112_frames001413\n"
     ]
    },
    {
     "name": "stderr",
     "output_type": "stream",
     "text": [
      " 30%|███       | 466/1552 [01:41<02:37,  6.90it/s]"
     ]
    },
    {
     "name": "stdout",
     "output_type": "stream",
     "text": [
      "rgb logits...\n",
      "flow logits...\n",
      "===== Final predictions ====\n",
      "label: other_action\n",
      "logits proba class\n",
      "99.69% touching_equipment\n",
      "464 23 12 ./data/images_new/test/2_20181112_frames001413\n",
      "rgb logits...\n",
      "flow logits...\n",
      "===== Final predictions ====\n",
      "label: other_action\n",
      "logits proba class\n",
      "99.06% touching_equipment\n",
      "465 23 13 ./data/images_new/test/2_20181112_frames001413\n"
     ]
    },
    {
     "name": "stderr",
     "output_type": "stream",
     "text": [
      " 30%|███       | 468/1552 [01:42<02:38,  6.83it/s]"
     ]
    },
    {
     "name": "stdout",
     "output_type": "stream",
     "text": [
      "rgb logits...\n",
      "flow logits...\n",
      "===== Final predictions ====\n",
      "label: other_action\n",
      "logits proba class\n",
      "99.90% touching_equipment\n",
      "466 23 14 ./data/images_new/test/2_20181112_frames001413\n",
      "rgb logits...\n",
      "flow logits...\n",
      "===== Final predictions ====\n",
      "label: other_action\n",
      "logits proba class\n",
      "99.75% touching_equipment\n",
      "467 23 15 ./data/images_new/test/2_20181112_frames001413\n"
     ]
    },
    {
     "name": "stderr",
     "output_type": "stream",
     "text": [
      " 30%|███       | 470/1552 [01:42<02:26,  7.39it/s]"
     ]
    },
    {
     "name": "stdout",
     "output_type": "stream",
     "text": [
      "rgb logits...\n",
      "flow logits...\n",
      "===== Final predictions ====\n",
      "label: other_action\n",
      "logits proba class\n",
      "99.45% other_action\n",
      "468 23 0 ./data/images_new/test/2_20181112_frames001413\n",
      "rgb logits...\n",
      "flow logits...\n",
      "===== Final predictions ====\n",
      "label: other_action\n",
      "logits proba class\n",
      "97.68% other_action\n",
      "469 23 1 ./data/images_new/test/2_20181112_frames001413\n"
     ]
    },
    {
     "name": "stderr",
     "output_type": "stream",
     "text": [
      " 30%|███       | 472/1552 [01:42<02:18,  7.79it/s]"
     ]
    },
    {
     "name": "stdout",
     "output_type": "stream",
     "text": [
      "rgb logits...\n",
      "flow logits...\n",
      "===== Final predictions ====\n",
      "label: other_action\n",
      "logits proba class\n",
      "99.16% other_action\n",
      "470 23 2 ./data/images_new/test/2_20181112_frames001413\n",
      "rgb logits...\n",
      "flow logits...\n",
      "===== Final predictions ====\n",
      "label: other_action\n",
      "logits proba class\n",
      "98.63% other_action\n",
      "471 23 3 ./data/images_new/test/2_20181112_frames001413\n"
     ]
    },
    {
     "name": "stderr",
     "output_type": "stream",
     "text": [
      " 31%|███       | 474/1552 [01:43<02:14,  8.04it/s]"
     ]
    },
    {
     "name": "stdout",
     "output_type": "stream",
     "text": [
      "rgb logits...\n",
      "flow logits...\n",
      "===== Final predictions ====\n",
      "label: other_action\n",
      "logits proba class\n",
      "98.87% other_action\n",
      "472 23 4 ./data/images_new/test/2_20181112_frames001413\n",
      "rgb logits...\n",
      "flow logits...\n",
      "===== Final predictions ====\n",
      "label: other_action\n",
      "logits proba class\n",
      "97.09% other_action\n",
      "473 23 5 ./data/images_new/test/2_20181112_frames001413\n"
     ]
    },
    {
     "name": "stderr",
     "output_type": "stream",
     "text": [
      " 31%|███       | 476/1552 [01:43<02:11,  8.16it/s]"
     ]
    },
    {
     "name": "stdout",
     "output_type": "stream",
     "text": [
      "rgb logits...\n",
      "flow logits...\n",
      "===== Final predictions ====\n",
      "label: other_action\n",
      "logits proba class\n",
      "97.89% other_action\n",
      "474 23 6 ./data/images_new/test/2_20181112_frames001413\n",
      "rgb logits...\n",
      "flow logits...\n",
      "===== Final predictions ====\n",
      "label: other_action\n",
      "logits proba class\n",
      "97.87% other_action\n",
      "475 23 7 ./data/images_new/test/2_20181112_frames001413\n"
     ]
    },
    {
     "name": "stderr",
     "output_type": "stream",
     "text": [
      " 31%|███       | 478/1552 [01:43<02:11,  8.16it/s]"
     ]
    },
    {
     "name": "stdout",
     "output_type": "stream",
     "text": [
      "rgb logits...\n",
      "flow logits...\n",
      "===== Final predictions ====\n",
      "label: other_action\n",
      "logits proba class\n",
      "97.91% other_action\n",
      "476 23 8 ./data/images_new/test/2_20181112_frames001413\n",
      "rgb logits...\n",
      "flow logits...\n",
      "===== Final predictions ====\n",
      "label: other_action\n",
      "logits proba class\n",
      "98.36% other_action\n",
      "477 23 9 ./data/images_new/test/2_20181112_frames001413\n"
     ]
    },
    {
     "name": "stderr",
     "output_type": "stream",
     "text": [
      " 31%|███       | 480/1552 [01:43<02:10,  8.20it/s]"
     ]
    },
    {
     "name": "stdout",
     "output_type": "stream",
     "text": [
      "rgb logits...\n",
      "flow logits...\n",
      "===== Final predictions ====\n",
      "label: other_action\n",
      "logits proba class\n",
      "97.75% other_action\n",
      "478 23 10 ./data/images_new/test/2_20181112_frames001413\n",
      "rgb logits...\n",
      "flow logits...\n",
      "===== Final predictions ====\n",
      "label: other_action\n",
      "logits proba class\n",
      "98.92% other_action\n",
      "479 23 11 ./data/images_new/test/2_20181112_frames001413\n"
     ]
    },
    {
     "name": "stderr",
     "output_type": "stream",
     "text": [
      " 31%|███       | 482/1552 [01:44<02:10,  8.22it/s]"
     ]
    },
    {
     "name": "stdout",
     "output_type": "stream",
     "text": [
      "rgb logits...\n",
      "flow logits...\n",
      "===== Final predictions ====\n",
      "label: other_action\n",
      "logits proba class\n",
      "98.02% other_action\n",
      "480 23 12 ./data/images_new/test/2_20181112_frames001413\n",
      "rgb logits...\n",
      "flow logits...\n",
      "===== Final predictions ====\n",
      "label: other_action\n",
      "logits proba class\n",
      "98.11% other_action\n",
      "481 23 13 ./data/images_new/test/2_20181112_frames001413\n"
     ]
    },
    {
     "name": "stderr",
     "output_type": "stream",
     "text": [
      " 31%|███       | 484/1552 [01:44<02:09,  8.23it/s]"
     ]
    },
    {
     "name": "stdout",
     "output_type": "stream",
     "text": [
      "rgb logits...\n",
      "flow logits...\n",
      "===== Final predictions ====\n",
      "label: other_action\n",
      "logits proba class\n",
      "98.60% other_action\n",
      "482 23 14 ./data/images_new/test/2_20181112_frames001413\n",
      "rgb logits...\n",
      "flow logits...\n",
      "===== Final predictions ====\n",
      "label: other_action\n",
      "logits proba class\n",
      "97.95% other_action\n",
      "483 23 15 ./data/images_new/test/2_20181112_frames001413\n"
     ]
    },
    {
     "name": "stderr",
     "output_type": "stream",
     "text": [
      " 31%|███▏      | 486/1552 [01:44<02:13,  7.96it/s]"
     ]
    },
    {
     "name": "stdout",
     "output_type": "stream",
     "text": [
      "rgb logits...\n",
      "flow logits...\n",
      "===== Final predictions ====\n",
      "label: touching_equipment\n",
      "logits proba class\n",
      "82.40% other_action\n",
      "484 23 0 ./data/images_new/test/2_20181112_frames001413\n",
      "rgb logits...\n",
      "flow logits...\n",
      "===== Final predictions ====\n",
      "label: touching_equipment\n",
      "logits proba class\n",
      "98.50% other_action\n",
      "485 23 1 ./data/images_new/test/2_20181112_frames001413\n"
     ]
    },
    {
     "name": "stderr",
     "output_type": "stream",
     "text": [
      " 31%|███▏      | 488/1552 [01:44<02:16,  7.79it/s]"
     ]
    },
    {
     "name": "stdout",
     "output_type": "stream",
     "text": [
      "rgb logits...\n",
      "flow logits...\n",
      "===== Final predictions ====\n",
      "label: touching_equipment\n",
      "logits proba class\n",
      "99.93% other_action\n",
      "486 23 2 ./data/images_new/test/2_20181112_frames001413\n",
      "rgb logits...\n",
      "flow logits...\n",
      "===== Final predictions ====\n",
      "label: touching_equipment\n",
      "logits proba class\n",
      "93.75% other_action\n",
      "487 23 3 ./data/images_new/test/2_20181112_frames001413\n"
     ]
    },
    {
     "name": "stderr",
     "output_type": "stream",
     "text": [
      " 32%|███▏      | 490/1552 [01:45<02:17,  7.70it/s]"
     ]
    },
    {
     "name": "stdout",
     "output_type": "stream",
     "text": [
      "rgb logits...\n",
      "flow logits...\n",
      "===== Final predictions ====\n",
      "label: touching_equipment\n",
      "logits proba class\n",
      "76.08% other_action\n",
      "488 23 4 ./data/images_new/test/2_20181112_frames001413\n",
      "rgb logits...\n",
      "flow logits...\n",
      "===== Final predictions ====\n",
      "label: touching_equipment\n",
      "logits proba class\n",
      "61.37% other_action\n",
      "489 23 5 ./data/images_new/test/2_20181112_frames001413\n"
     ]
    },
    {
     "name": "stderr",
     "output_type": "stream",
     "text": [
      " 32%|███▏      | 492/1552 [01:45<02:18,  7.65it/s]"
     ]
    },
    {
     "name": "stdout",
     "output_type": "stream",
     "text": [
      "rgb logits...\n",
      "flow logits...\n",
      "===== Final predictions ====\n",
      "label: touching_equipment\n",
      "logits proba class\n",
      "98.55% other_action\n",
      "490 23 6 ./data/images_new/test/2_20181112_frames001413\n",
      "rgb logits...\n",
      "flow logits...\n",
      "===== Final predictions ====\n",
      "label: touching_equipment\n",
      "logits proba class\n",
      "98.55% other_action\n",
      "491 23 7 ./data/images_new/test/2_20181112_frames001413\n"
     ]
    },
    {
     "name": "stderr",
     "output_type": "stream",
     "text": [
      " 32%|███▏      | 494/1552 [01:45<02:19,  7.58it/s]"
     ]
    },
    {
     "name": "stdout",
     "output_type": "stream",
     "text": [
      "rgb logits...\n",
      "flow logits...\n",
      "===== Final predictions ====\n",
      "label: touching_equipment\n",
      "logits proba class\n",
      "99.75% other_action\n",
      "492 23 8 ./data/images_new/test/2_20181112_frames001413\n",
      "rgb logits...\n",
      "flow logits...\n",
      "===== Final predictions ====\n",
      "label: touching_equipment\n",
      "logits proba class\n",
      "99.95% other_action\n",
      "493 23 9 ./data/images_new/test/2_20181112_frames001413\n"
     ]
    },
    {
     "name": "stderr",
     "output_type": "stream",
     "text": [
      " 32%|███▏      | 496/1552 [01:45<02:19,  7.58it/s]"
     ]
    },
    {
     "name": "stdout",
     "output_type": "stream",
     "text": [
      "rgb logits...\n",
      "flow logits...\n",
      "===== Final predictions ====\n",
      "label: touching_equipment\n",
      "logits proba class\n",
      "99.95% other_action\n",
      "494 23 10 ./data/images_new/test/2_20181112_frames001413\n",
      "rgb logits...\n",
      "flow logits...\n",
      "===== Final predictions ====\n",
      "label: touching_equipment\n",
      "logits proba class\n",
      "99.85% other_action\n",
      "495 23 11 ./data/images_new/test/2_20181112_frames001413\n"
     ]
    },
    {
     "name": "stderr",
     "output_type": "stream",
     "text": [
      " 32%|███▏      | 498/1552 [01:46<02:19,  7.57it/s]"
     ]
    },
    {
     "name": "stdout",
     "output_type": "stream",
     "text": [
      "rgb logits...\n",
      "flow logits...\n",
      "===== Final predictions ====\n",
      "label: touching_equipment\n",
      "logits proba class\n",
      "99.98% other_action\n",
      "496 23 12 ./data/images_new/test/2_20181112_frames001413\n",
      "rgb logits...\n",
      "flow logits...\n",
      "===== Final predictions ====\n",
      "label: touching_equipment\n",
      "logits proba class\n",
      "99.88% other_action\n",
      "497 23 13 ./data/images_new/test/2_20181112_frames001413\n"
     ]
    },
    {
     "name": "stderr",
     "output_type": "stream",
     "text": [
      " 32%|███▏      | 500/1552 [01:46<02:18,  7.58it/s]"
     ]
    },
    {
     "name": "stdout",
     "output_type": "stream",
     "text": [
      "rgb logits...\n",
      "flow logits...\n",
      "===== Final predictions ====\n",
      "label: touching_equipment\n",
      "logits proba class\n",
      "99.94% other_action\n",
      "498 23 14 ./data/images_new/test/2_20181112_frames001413\n",
      "rgb logits...\n",
      "flow logits...\n",
      "===== Final predictions ====\n",
      "label: touching_equipment\n",
      "logits proba class\n",
      "99.93% other_action\n",
      "499 23 15 ./data/images_new/test/2_20181112_frames001413\n"
     ]
    },
    {
     "name": "stderr",
     "output_type": "stream",
     "text": [
      " 32%|███▏      | 502/1552 [01:46<02:18,  7.57it/s]"
     ]
    },
    {
     "name": "stdout",
     "output_type": "stream",
     "text": [
      "rgb logits...\n",
      "flow logits...\n",
      "===== Final predictions ====\n",
      "label: touching_equipment\n",
      "logits proba class\n",
      "99.06% other_action\n",
      "500 23 16 ./data/images_new/test/2_20181112_frames001413\n",
      "rgb logits...\n",
      "flow logits...\n",
      "===== Final predictions ====\n",
      "label: touching_equipment\n",
      "logits proba class\n",
      "99.65% other_action\n",
      "501 23 17 ./data/images_new/test/2_20181112_frames001413\n"
     ]
    },
    {
     "name": "stderr",
     "output_type": "stream",
     "text": [
      " 32%|███▏      | 504/1552 [01:46<02:18,  7.58it/s]"
     ]
    },
    {
     "name": "stdout",
     "output_type": "stream",
     "text": [
      "rgb logits...\n",
      "flow logits...\n",
      "===== Final predictions ====\n",
      "label: touching_equipment\n",
      "logits proba class\n",
      "68.99% touching_equipment\n",
      "502 23 18 ./data/images_new/test/2_20181112_frames001413\n",
      "rgb logits...\n",
      "flow logits...\n",
      "===== Final predictions ====\n",
      "label: touching_equipment\n",
      "logits proba class\n",
      "61.74% other_action\n",
      "503 23 19 ./data/images_new/test/2_20181112_frames001413\n"
     ]
    },
    {
     "name": "stderr",
     "output_type": "stream",
     "text": [
      " 33%|███▎      | 506/1552 [01:47<02:16,  7.68it/s]"
     ]
    },
    {
     "name": "stdout",
     "output_type": "stream",
     "text": [
      "rgb logits...\n",
      "flow logits...\n",
      "===== Final predictions ====\n",
      "label: touching_equipment\n",
      "logits proba class\n",
      "59.03% other_action\n",
      "504 23 20 ./data/images_new/test/2_20181112_frames001413\n",
      "rgb logits...\n",
      "flow logits...\n",
      "===== Final predictions ====\n",
      "label: touching_equipment\n",
      "logits proba class\n",
      "56.94% other_action\n",
      "505 23 21 ./data/images_new/test/2_20181112_frames001413\n"
     ]
    },
    {
     "name": "stderr",
     "output_type": "stream",
     "text": [
      " 33%|███▎      | 508/1552 [01:47<02:14,  7.78it/s]"
     ]
    },
    {
     "name": "stdout",
     "output_type": "stream",
     "text": [
      "rgb logits...\n",
      "flow logits...\n",
      "===== Final predictions ====\n",
      "label: touching_equipment\n",
      "logits proba class\n",
      "76.48% touching_equipment\n",
      "506 23 22 ./data/images_new/test/2_20181112_frames001413\n",
      "rgb logits...\n",
      "flow logits...\n",
      "===== Final predictions ====\n",
      "label: touching_equipment\n",
      "logits proba class\n",
      "78.43% touching_equipment\n",
      "507 23 23 ./data/images_new/test/2_20181112_frames001413\n"
     ]
    },
    {
     "name": "stderr",
     "output_type": "stream",
     "text": [
      " 33%|███▎      | 510/1552 [01:47<02:13,  7.83it/s]"
     ]
    },
    {
     "name": "stdout",
     "output_type": "stream",
     "text": [
      "rgb logits...\n",
      "flow logits...\n",
      "===== Final predictions ====\n",
      "label: touching_equipment\n",
      "logits proba class\n",
      "99.44% touching_equipment\n",
      "508 23 24 ./data/images_new/test/2_20181112_frames001413\n",
      "rgb logits...\n",
      "flow logits...\n",
      "===== Final predictions ====\n",
      "label: touching_equipment\n",
      "logits proba class\n",
      "99.93% touching_equipment\n",
      "509 23 25 ./data/images_new/test/2_20181112_frames001413\n"
     ]
    },
    {
     "name": "stderr",
     "output_type": "stream",
     "text": [
      " 33%|███▎      | 512/1552 [01:47<02:12,  7.86it/s]"
     ]
    },
    {
     "name": "stdout",
     "output_type": "stream",
     "text": [
      "rgb logits...\n",
      "flow logits...\n",
      "===== Final predictions ====\n",
      "label: touching_equipment\n",
      "logits proba class\n",
      "99.59% touching_equipment\n",
      "510 23 26 ./data/images_new/test/2_20181112_frames001413\n",
      "rgb logits...\n",
      "flow logits...\n",
      "===== Final predictions ====\n",
      "label: touching_equipment\n",
      "logits proba class\n",
      "99.15% touching_equipment\n",
      "511 23 27 ./data/images_new/test/2_20181112_frames001413\n"
     ]
    },
    {
     "name": "stderr",
     "output_type": "stream",
     "text": [
      " 33%|███▎      | 514/1552 [01:48<02:11,  7.87it/s]"
     ]
    },
    {
     "name": "stdout",
     "output_type": "stream",
     "text": [
      "rgb logits...\n",
      "flow logits...\n",
      "===== Final predictions ====\n",
      "label: touching_equipment\n",
      "logits proba class\n",
      "99.05% touching_equipment\n",
      "512 23 28 ./data/images_new/test/2_20181112_frames001413\n",
      "rgb logits...\n",
      "flow logits...\n",
      "===== Final predictions ====\n",
      "label: touching_equipment\n",
      "logits proba class\n",
      "99.29% touching_equipment\n",
      "513 23 29 ./data/images_new/test/2_20181112_frames001413\n"
     ]
    },
    {
     "name": "stderr",
     "output_type": "stream",
     "text": [
      " 33%|███▎      | 516/1552 [01:48<02:11,  7.88it/s]"
     ]
    },
    {
     "name": "stdout",
     "output_type": "stream",
     "text": [
      "rgb logits...\n",
      "flow logits...\n",
      "===== Final predictions ====\n",
      "label: touching_equipment\n",
      "logits proba class\n",
      "97.81% touching_equipment\n",
      "514 23 30 ./data/images_new/test/2_20181112_frames001413\n",
      "rgb logits...\n",
      "flow logits...\n",
      "===== Final predictions ====\n",
      "label: touching_equipment\n",
      "logits proba class\n",
      "99.84% touching_equipment\n",
      "515 23 31 ./data/images_new/test/2_20181112_frames001413\n"
     ]
    },
    {
     "name": "stderr",
     "output_type": "stream",
     "text": [
      " 33%|███▎      | 518/1552 [01:48<02:11,  7.86it/s]"
     ]
    },
    {
     "name": "stdout",
     "output_type": "stream",
     "text": [
      "rgb logits...\n",
      "flow logits...\n",
      "===== Final predictions ====\n",
      "label: touching_equipment\n",
      "logits proba class\n",
      "99.54% touching_equipment\n",
      "516 23 32 ./data/images_new/test/2_20181112_frames001413\n",
      "rgb logits...\n",
      "flow logits...\n",
      "===== Final predictions ====\n",
      "label: touching_equipment\n",
      "logits proba class\n",
      "99.29% touching_equipment\n",
      "517 23 33 ./data/images_new/test/2_20181112_frames001413\n"
     ]
    },
    {
     "name": "stderr",
     "output_type": "stream",
     "text": [
      " 34%|███▎      | 520/1552 [01:48<02:11,  7.88it/s]"
     ]
    },
    {
     "name": "stdout",
     "output_type": "stream",
     "text": [
      "rgb logits...\n",
      "flow logits...\n",
      "===== Final predictions ====\n",
      "label: touching_equipment\n",
      "logits proba class\n",
      "99.75% touching_equipment\n",
      "518 23 34 ./data/images_new/test/2_20181112_frames001413\n",
      "rgb logits...\n",
      "flow logits...\n",
      "===== Final predictions ====\n",
      "label: touching_equipment\n",
      "logits proba class\n",
      "99.53% touching_equipment\n",
      "519 23 35 ./data/images_new/test/2_20181112_frames001413\n"
     ]
    },
    {
     "name": "stderr",
     "output_type": "stream",
     "text": [
      " 34%|███▎      | 522/1552 [01:49<02:10,  7.88it/s]"
     ]
    },
    {
     "name": "stdout",
     "output_type": "stream",
     "text": [
      "rgb logits...\n",
      "flow logits...\n",
      "===== Final predictions ====\n",
      "label: touching_equipment\n",
      "logits proba class\n",
      "98.53% touching_equipment\n",
      "520 23 36 ./data/images_new/test/2_20181112_frames001413\n",
      "rgb logits...\n",
      "flow logits...\n",
      "===== Final predictions ====\n",
      "label: touching_equipment\n",
      "logits proba class\n",
      "99.82% touching_equipment\n",
      "521 23 37 ./data/images_new/test/2_20181112_frames001413\n"
     ]
    },
    {
     "name": "stderr",
     "output_type": "stream",
     "text": [
      " 34%|███▍      | 524/1552 [01:49<02:10,  7.89it/s]"
     ]
    },
    {
     "name": "stdout",
     "output_type": "stream",
     "text": [
      "rgb logits...\n",
      "flow logits...\n",
      "===== Final predictions ====\n",
      "label: touching_equipment\n",
      "logits proba class\n",
      "96.96% touching_equipment\n",
      "522 23 38 ./data/images_new/test/2_20181112_frames001413\n",
      "rgb logits...\n",
      "flow logits...\n",
      "===== Final predictions ====\n",
      "label: touching_equipment\n",
      "logits proba class\n",
      "99.17% touching_equipment\n",
      "523 23 39 ./data/images_new/test/2_20181112_frames001413\n"
     ]
    },
    {
     "name": "stderr",
     "output_type": "stream",
     "text": [
      " 34%|███▍      | 526/1552 [01:49<02:09,  7.90it/s]"
     ]
    },
    {
     "name": "stdout",
     "output_type": "stream",
     "text": [
      "rgb logits...\n",
      "flow logits...\n",
      "===== Final predictions ====\n",
      "label: touching_equipment\n",
      "logits proba class\n",
      "70.12% touching_equipment\n",
      "524 23 40 ./data/images_new/test/2_20181112_frames001413\n",
      "rgb logits...\n",
      "flow logits...\n",
      "===== Final predictions ====\n",
      "label: touching_equipment\n",
      "logits proba class\n",
      "97.43% touching_equipment\n",
      "525 23 41 ./data/images_new/test/2_20181112_frames001413\n"
     ]
    },
    {
     "name": "stderr",
     "output_type": "stream",
     "text": [
      " 34%|███▍      | 528/1552 [01:49<02:09,  7.91it/s]"
     ]
    },
    {
     "name": "stdout",
     "output_type": "stream",
     "text": [
      "rgb logits...\n",
      "flow logits...\n",
      "===== Final predictions ====\n",
      "label: touching_equipment\n",
      "logits proba class\n",
      "99.79% touching_equipment\n",
      "526 23 42 ./data/images_new/test/2_20181112_frames001413\n",
      "rgb logits...\n",
      "flow logits...\n",
      "===== Final predictions ====\n",
      "label: touching_equipment\n",
      "logits proba class\n",
      "99.97% touching_equipment\n",
      "527 23 43 ./data/images_new/test/2_20181112_frames001413\n"
     ]
    },
    {
     "name": "stderr",
     "output_type": "stream",
     "text": [
      " 34%|███▍      | 530/1552 [01:50<02:10,  7.86it/s]"
     ]
    },
    {
     "name": "stdout",
     "output_type": "stream",
     "text": [
      "rgb logits...\n",
      "flow logits...\n",
      "===== Final predictions ====\n",
      "label: touching_equipment\n",
      "logits proba class\n",
      "99.62% touching_equipment\n",
      "528 23 44 ./data/images_new/test/2_20181112_frames001413\n",
      "rgb logits...\n",
      "flow logits...\n",
      "===== Final predictions ====\n",
      "label: touching_equipment\n",
      "logits proba class\n",
      "99.97% touching_equipment\n",
      "529 23 45 ./data/images_new/test/2_20181112_frames001413\n",
      "[RGB] Filling cache for index 24\n"
     ]
    },
    {
     "name": "stderr",
     "output_type": "stream",
     "text": [
      "\r",
      " 34%|███▍      | 531/1552 [01:52<12:21,  1.38it/s]"
     ]
    },
    {
     "name": "stdout",
     "output_type": "stream",
     "text": [
      "[Flow] Filling cache for index 24\n",
      "rgb logits...\n",
      "flow logits...\n",
      "===== Final predictions ====\n",
      "label: other_action\n",
      "logits proba class\n",
      "99.15% other_action\n",
      "530 24 0 ./data/images_new/test/2_20181112_frames001545\n"
     ]
    },
    {
     "name": "stderr",
     "output_type": "stream",
     "text": [
      " 34%|███▍      | 533/1552 [01:52<07:18,  2.32it/s]"
     ]
    },
    {
     "name": "stdout",
     "output_type": "stream",
     "text": [
      "rgb logits...\n",
      "flow logits...\n",
      "===== Final predictions ====\n",
      "label: other_action\n",
      "logits proba class\n",
      "99.13% other_action\n",
      "531 24 1 ./data/images_new/test/2_20181112_frames001545\n",
      "rgb logits...\n",
      "flow logits...\n",
      "===== Final predictions ====\n",
      "label: other_action\n",
      "logits proba class\n",
      "99.20% other_action\n",
      "532 24 2 ./data/images_new/test/2_20181112_frames001545\n"
     ]
    },
    {
     "name": "stderr",
     "output_type": "stream",
     "text": [
      " 34%|███▍      | 535/1552 [01:52<04:49,  3.51it/s]"
     ]
    },
    {
     "name": "stdout",
     "output_type": "stream",
     "text": [
      "rgb logits...\n",
      "flow logits...\n",
      "===== Final predictions ====\n",
      "label: other_action\n",
      "logits proba class\n",
      "99.23% other_action\n",
      "533 24 3 ./data/images_new/test/2_20181112_frames001545\n",
      "rgb logits...\n",
      "flow logits...\n",
      "===== Final predictions ====\n",
      "label: other_action\n",
      "logits proba class\n",
      "98.79% other_action\n",
      "534 24 4 ./data/images_new/test/2_20181112_frames001545\n"
     ]
    },
    {
     "name": "stderr",
     "output_type": "stream",
     "text": [
      "\r",
      " 35%|███▍      | 536/1552 [01:53<04:15,  3.98it/s]"
     ]
    },
    {
     "name": "stdout",
     "output_type": "stream",
     "text": [
      "rgb logits...\n",
      "flow logits...\n",
      "===== Final predictions ====\n",
      "label: other_action\n",
      "logits proba class\n",
      "85.72% other_action\n",
      "535 24 0 ./data/images_new/test/2_20181112_frames001545\n",
      "rgb logits...\n",
      "flow logits...\n"
     ]
    },
    {
     "name": "stderr",
     "output_type": "stream",
     "text": [
      " 35%|███▍      | 538/1552 [01:53<03:32,  4.77it/s]"
     ]
    },
    {
     "name": "stdout",
     "output_type": "stream",
     "text": [
      "===== Final predictions ====\n",
      "label: other_action\n",
      "logits proba class\n",
      "87.86% other_action\n",
      "536 24 1 ./data/images_new/test/2_20181112_frames001545\n",
      "rgb logits...\n",
      "flow logits...\n",
      "===== Final predictions ====\n",
      "label: other_action\n",
      "logits proba class\n",
      "93.37% other_action\n",
      "537 24 2 ./data/images_new/test/2_20181112_frames001545\n"
     ]
    },
    {
     "name": "stderr",
     "output_type": "stream",
     "text": [
      " 35%|███▍      | 540/1552 [01:53<03:00,  5.62it/s]"
     ]
    },
    {
     "name": "stdout",
     "output_type": "stream",
     "text": [
      "rgb logits...\n",
      "flow logits...\n",
      "===== Final predictions ====\n",
      "label: other_action\n",
      "logits proba class\n",
      "85.65% other_action\n",
      "538 24 3 ./data/images_new/test/2_20181112_frames001545\n",
      "rgb logits...\n",
      "flow logits...\n",
      "===== Final predictions ====\n",
      "label: other_action\n",
      "logits proba class\n",
      "95.24% other_action\n",
      "539 24 4 ./data/images_new/test/2_20181112_frames001545\n"
     ]
    },
    {
     "name": "stderr",
     "output_type": "stream",
     "text": [
      "\r",
      " 35%|███▍      | 541/1552 [01:53<02:54,  5.80it/s]"
     ]
    },
    {
     "name": "stdout",
     "output_type": "stream",
     "text": [
      "rgb logits...\n",
      "flow logits...\n",
      "===== Final predictions ====\n",
      "label: touching_equipment\n",
      "logits proba class\n",
      "99.28% touching_equipment\n",
      "540 24 0 ./data/images_new/test/2_20181112_frames001545\n",
      "rgb logits...\n"
     ]
    },
    {
     "name": "stderr",
     "output_type": "stream",
     "text": [
      " 35%|███▍      | 543/1552 [01:54<02:54,  5.79it/s]"
     ]
    },
    {
     "name": "stdout",
     "output_type": "stream",
     "text": [
      "flow logits...\n",
      "===== Final predictions ====\n",
      "label: touching_equipment\n",
      "logits proba class\n",
      "99.97% touching_equipment\n",
      "541 24 1 ./data/images_new/test/2_20181112_frames001545\n",
      "rgb logits...\n",
      "flow logits...\n",
      "===== Final predictions ====\n",
      "label: touching_equipment\n",
      "logits proba class\n",
      "75.48% touching_equipment\n",
      "542 24 2 ./data/images_new/test/2_20181112_frames001545\n"
     ]
    },
    {
     "name": "stderr",
     "output_type": "stream",
     "text": [
      "\r",
      " 35%|███▌      | 544/1552 [01:54<02:48,  5.99it/s]"
     ]
    },
    {
     "name": "stdout",
     "output_type": "stream",
     "text": [
      "rgb logits...\n",
      "flow logits...\n",
      "===== Final predictions ====\n",
      "label: touching_equipment\n",
      "logits proba class\n",
      "93.34% other_action\n",
      "543 24 3 ./data/images_new/test/2_20181112_frames001545\n",
      "rgb logits...\n",
      "flow logits...\n",
      "===== Final predictions ====\n",
      "label: touching_equipment\n",
      "logits proba class\n"
     ]
    },
    {
     "name": "stderr",
     "output_type": "stream",
     "text": [
      " 35%|███▌      | 546/1552 [01:54<02:40,  6.25it/s]"
     ]
    },
    {
     "name": "stdout",
     "output_type": "stream",
     "text": [
      "98.87% other_action\n",
      "544 24 4 ./data/images_new/test/2_20181112_frames001545\n",
      "rgb logits...\n",
      "flow logits...\n",
      "===== Final predictions ====\n",
      "label: touching_equipment\n",
      "logits proba class\n",
      "96.47% other_action\n",
      "545 24 5 ./data/images_new/test/2_20181112_frames001545\n"
     ]
    },
    {
     "name": "stderr",
     "output_type": "stream",
     "text": [
      " 35%|███▌      | 548/1552 [01:54<02:24,  6.93it/s]"
     ]
    },
    {
     "name": "stdout",
     "output_type": "stream",
     "text": [
      "rgb logits...\n",
      "flow logits...\n",
      "===== Final predictions ====\n",
      "label: touching_equipment\n",
      "logits proba class\n",
      "95.33% other_action\n",
      "546 24 6 ./data/images_new/test/2_20181112_frames001545\n",
      "rgb logits...\n",
      "flow logits...\n",
      "===== Final predictions ====\n",
      "label: touching_equipment\n",
      "logits proba class\n",
      "89.65% other_action\n",
      "547 24 7 ./data/images_new/test/2_20181112_frames001545\n"
     ]
    },
    {
     "name": "stderr",
     "output_type": "stream",
     "text": [
      " 35%|███▌      | 550/1552 [01:55<02:17,  7.31it/s]"
     ]
    },
    {
     "name": "stdout",
     "output_type": "stream",
     "text": [
      "rgb logits...\n",
      "flow logits...\n",
      "===== Final predictions ====\n",
      "label: touching_equipment\n",
      "logits proba class\n",
      "87.60% other_action\n",
      "548 24 8 ./data/images_new/test/2_20181112_frames001545\n",
      "rgb logits...\n",
      "flow logits...\n",
      "===== Final predictions ====\n",
      "label: touching_equipment\n",
      "logits proba class\n",
      "83.21% other_action\n",
      "549 24 9 ./data/images_new/test/2_20181112_frames001545\n"
     ]
    },
    {
     "name": "stderr",
     "output_type": "stream",
     "text": [
      " 36%|███▌      | 552/1552 [01:55<02:13,  7.48it/s]"
     ]
    },
    {
     "name": "stdout",
     "output_type": "stream",
     "text": [
      "rgb logits...\n",
      "flow logits...\n",
      "===== Final predictions ====\n",
      "label: touching_equipment\n",
      "logits proba class\n",
      "92.48% other_action\n",
      "550 24 10 ./data/images_new/test/2_20181112_frames001545\n",
      "rgb logits...\n",
      "flow logits...\n",
      "===== Final predictions ====\n",
      "label: touching_equipment\n",
      "logits proba class\n",
      "73.97% other_action\n",
      "551 24 11 ./data/images_new/test/2_20181112_frames001545\n"
     ]
    },
    {
     "name": "stderr",
     "output_type": "stream",
     "text": [
      " 36%|███▌      | 554/1552 [01:55<02:12,  7.53it/s]"
     ]
    },
    {
     "name": "stdout",
     "output_type": "stream",
     "text": [
      "rgb logits...\n",
      "flow logits...\n",
      "===== Final predictions ====\n",
      "label: touching_equipment\n",
      "logits proba class\n",
      "80.72% other_action\n",
      "552 24 12 ./data/images_new/test/2_20181112_frames001545\n",
      "rgb logits...\n",
      "flow logits...\n",
      "===== Final predictions ====\n",
      "label: touching_equipment\n",
      "logits proba class\n",
      "98.35% other_action\n",
      "553 24 13 ./data/images_new/test/2_20181112_frames001545\n"
     ]
    },
    {
     "name": "stderr",
     "output_type": "stream",
     "text": [
      " 36%|███▌      | 556/1552 [01:55<02:11,  7.57it/s]"
     ]
    },
    {
     "name": "stdout",
     "output_type": "stream",
     "text": [
      "rgb logits...\n",
      "flow logits...\n",
      "===== Final predictions ====\n",
      "label: other_action\n",
      "logits proba class\n",
      "53.68% other_action\n",
      "554 24 0 ./data/images_new/test/2_20181112_frames001545\n",
      "rgb logits...\n",
      "flow logits...\n",
      "===== Final predictions ====\n",
      "label: other_action\n",
      "logits proba class\n",
      "61.80% other_action\n",
      "555 24 1 ./data/images_new/test/2_20181112_frames001545\n"
     ]
    },
    {
     "name": "stderr",
     "output_type": "stream",
     "text": [
      " 36%|███▌      | 558/1552 [01:56<02:10,  7.64it/s]"
     ]
    },
    {
     "name": "stdout",
     "output_type": "stream",
     "text": [
      "rgb logits...\n",
      "flow logits...\n",
      "===== Final predictions ====\n",
      "label: other_action\n",
      "logits proba class\n",
      "82.54% other_action\n",
      "556 24 2 ./data/images_new/test/2_20181112_frames001545\n",
      "rgb logits...\n",
      "flow logits...\n",
      "===== Final predictions ====\n",
      "label: other_action\n",
      "logits proba class\n",
      "85.22% other_action\n",
      "557 24 3 ./data/images_new/test/2_20181112_frames001545\n"
     ]
    },
    {
     "name": "stderr",
     "output_type": "stream",
     "text": [
      "\r",
      " 36%|███▌      | 559/1552 [01:56<02:09,  7.68it/s]"
     ]
    },
    {
     "name": "stdout",
     "output_type": "stream",
     "text": [
      "rgb logits...\n",
      "flow logits...\n",
      "===== Final predictions ====\n",
      "label: other_action\n",
      "logits proba class\n",
      "87.94% other_action\n",
      "558 24 4 ./data/images_new/test/2_20181112_frames001545\n",
      "[RGB] Filling cache for index 25\n"
     ]
    },
    {
     "name": "stderr",
     "output_type": "stream",
     "text": [
      "\r",
      " 36%|███▌      | 560/1552 [01:58<12:39,  1.31it/s]"
     ]
    },
    {
     "name": "stdout",
     "output_type": "stream",
     "text": [
      "[Flow] Filling cache for index 25\n",
      "rgb logits...\n",
      "flow logits...\n",
      "===== Final predictions ====\n",
      "label: other_action\n",
      "logits proba class\n",
      "63.23% other_action\n",
      "559 25 0 ./data/images_new/test/2_20181112_frames002282\n"
     ]
    },
    {
     "name": "stderr",
     "output_type": "stream",
     "text": [
      "\r",
      " 36%|███▌      | 561/1552 [01:58<09:35,  1.72it/s]"
     ]
    },
    {
     "name": "stdout",
     "output_type": "stream",
     "text": [
      "rgb logits...\n",
      "flow logits...\n",
      "===== Final predictions ====\n",
      "label: other_action\n",
      "logits proba class\n",
      "72.78% other_action\n",
      "560 25 1 ./data/images_new/test/2_20181112_frames002282\n",
      "rgb logits...\n",
      "flow logits...\n"
     ]
    },
    {
     "name": "stderr",
     "output_type": "stream",
     "text": [
      " 36%|███▋      | 563/1552 [01:59<06:02,  2.73it/s]"
     ]
    },
    {
     "name": "stdout",
     "output_type": "stream",
     "text": [
      "===== Final predictions ====\n",
      "label: other_action\n",
      "logits proba class\n",
      "63.70% other_action\n",
      "561 25 2 ./data/images_new/test/2_20181112_frames002282\n",
      "rgb logits...\n",
      "flow logits...\n",
      "===== Final predictions ====\n",
      "label: other_action\n",
      "logits proba class\n",
      "80.87% other_action\n",
      "562 25 3 ./data/images_new/test/2_20181112_frames002282\n"
     ]
    },
    {
     "name": "stderr",
     "output_type": "stream",
     "text": [
      " 36%|███▋      | 565/1552 [01:59<04:04,  4.03it/s]"
     ]
    },
    {
     "name": "stdout",
     "output_type": "stream",
     "text": [
      "rgb logits...\n",
      "flow logits...\n",
      "===== Final predictions ====\n",
      "label: other_action\n",
      "logits proba class\n",
      "50.39% touching_equipment\n",
      "563 25 4 ./data/images_new/test/2_20181112_frames002282\n",
      "rgb logits...\n",
      "flow logits...\n",
      "===== Final predictions ====\n",
      "label: other_action\n",
      "logits proba class\n",
      "76.45% other_action\n",
      "564 25 5 ./data/images_new/test/2_20181112_frames002282\n"
     ]
    },
    {
     "name": "stderr",
     "output_type": "stream",
     "text": [
      " 37%|███▋      | 567/1552 [01:59<03:05,  5.32it/s]"
     ]
    },
    {
     "name": "stdout",
     "output_type": "stream",
     "text": [
      "rgb logits...\n",
      "flow logits...\n",
      "===== Final predictions ====\n",
      "label: other_action\n",
      "logits proba class\n",
      "96.06% other_action\n",
      "565 25 6 ./data/images_new/test/2_20181112_frames002282\n",
      "rgb logits...\n",
      "flow logits...\n",
      "===== Final predictions ====\n",
      "label: other_action\n",
      "logits proba class\n",
      "98.99% other_action\n",
      "566 25 0 ./data/images_new/test/2_20181112_frames002282\n"
     ]
    },
    {
     "name": "stderr",
     "output_type": "stream",
     "text": [
      " 37%|███▋      | 569/1552 [01:59<02:32,  6.43it/s]"
     ]
    },
    {
     "name": "stdout",
     "output_type": "stream",
     "text": [
      "rgb logits...\n",
      "flow logits...\n",
      "===== Final predictions ====\n",
      "label: other_action\n",
      "logits proba class\n",
      "82.89% other_action\n",
      "567 25 1 ./data/images_new/test/2_20181112_frames002282\n",
      "rgb logits...\n",
      "flow logits...\n",
      "===== Final predictions ====\n",
      "label: other_action\n",
      "logits proba class\n",
      "87.68% other_action\n",
      "568 25 2 ./data/images_new/test/2_20181112_frames002282\n"
     ]
    },
    {
     "name": "stderr",
     "output_type": "stream",
     "text": [
      " 37%|███▋      | 571/1552 [02:00<02:17,  7.12it/s]"
     ]
    },
    {
     "name": "stdout",
     "output_type": "stream",
     "text": [
      "rgb logits...\n",
      "flow logits...\n",
      "===== Final predictions ====\n",
      "label: other_action\n",
      "logits proba class\n",
      "89.99% other_action\n",
      "569 25 3 ./data/images_new/test/2_20181112_frames002282\n",
      "rgb logits...\n",
      "flow logits...\n",
      "===== Final predictions ====\n",
      "label: other_action\n",
      "logits proba class\n",
      "73.13% other_action\n",
      "570 25 4 ./data/images_new/test/2_20181112_frames002282\n"
     ]
    },
    {
     "name": "stderr",
     "output_type": "stream",
     "text": [
      " 37%|███▋      | 573/1552 [02:00<02:09,  7.54it/s]"
     ]
    },
    {
     "name": "stdout",
     "output_type": "stream",
     "text": [
      "rgb logits...\n",
      "flow logits...\n",
      "===== Final predictions ====\n",
      "label: other_action\n",
      "logits proba class\n",
      "86.94% other_action\n",
      "571 25 5 ./data/images_new/test/2_20181112_frames002282\n",
      "rgb logits...\n",
      "flow logits...\n",
      "===== Final predictions ====\n",
      "label: other_action\n",
      "logits proba class\n",
      "96.52% other_action\n",
      "572 25 6 ./data/images_new/test/2_20181112_frames002282\n"
     ]
    },
    {
     "name": "stderr",
     "output_type": "stream",
     "text": [
      " 37%|███▋      | 575/1552 [02:00<02:05,  7.80it/s]"
     ]
    },
    {
     "name": "stdout",
     "output_type": "stream",
     "text": [
      "rgb logits...\n",
      "flow logits...\n",
      "===== Final predictions ====\n",
      "label: other_action\n",
      "logits proba class\n",
      "99.36% other_action\n",
      "573 25 0 ./data/images_new/test/2_20181112_frames002282\n",
      "rgb logits...\n",
      "flow logits...\n",
      "===== Final predictions ====\n",
      "label: other_action\n",
      "logits proba class\n",
      "99.77% other_action\n",
      "574 25 1 ./data/images_new/test/2_20181112_frames002282\n"
     ]
    },
    {
     "name": "stderr",
     "output_type": "stream",
     "text": [
      " 37%|███▋      | 577/1552 [02:00<02:02,  7.96it/s]"
     ]
    },
    {
     "name": "stdout",
     "output_type": "stream",
     "text": [
      "rgb logits...\n",
      "flow logits...\n",
      "===== Final predictions ====\n",
      "label: other_action\n",
      "logits proba class\n",
      "99.82% other_action\n",
      "575 25 2 ./data/images_new/test/2_20181112_frames002282\n",
      "rgb logits...\n",
      "flow logits...\n",
      "===== Final predictions ====\n",
      "label: other_action\n",
      "logits proba class\n",
      "99.58% other_action\n",
      "576 25 3 ./data/images_new/test/2_20181112_frames002282\n"
     ]
    },
    {
     "name": "stderr",
     "output_type": "stream",
     "text": [
      " 37%|███▋      | 579/1552 [02:01<02:02,  7.94it/s]"
     ]
    },
    {
     "name": "stdout",
     "output_type": "stream",
     "text": [
      "rgb logits...\n",
      "flow logits...\n",
      "===== Final predictions ====\n",
      "label: other_action\n",
      "logits proba class\n",
      "99.46% other_action\n",
      "577 25 4 ./data/images_new/test/2_20181112_frames002282\n",
      "rgb logits...\n",
      "flow logits...\n",
      "===== Final predictions ====\n",
      "label: other_action\n",
      "logits proba class\n",
      "98.86% other_action\n",
      "578 25 5 ./data/images_new/test/2_20181112_frames002282\n"
     ]
    },
    {
     "name": "stderr",
     "output_type": "stream",
     "text": [
      " 37%|███▋      | 581/1552 [02:01<02:02,  7.95it/s]"
     ]
    },
    {
     "name": "stdout",
     "output_type": "stream",
     "text": [
      "rgb logits...\n",
      "flow logits...\n",
      "===== Final predictions ====\n",
      "label: other_action\n",
      "logits proba class\n",
      "98.78% other_action\n",
      "579 25 6 ./data/images_new/test/2_20181112_frames002282\n",
      "rgb logits...\n",
      "flow logits...\n",
      "===== Final predictions ====\n",
      "label: other_action\n",
      "logits proba class\n",
      "50.81% other_action\n",
      "580 25 0 ./data/images_new/test/2_20181112_frames002282\n"
     ]
    },
    {
     "name": "stderr",
     "output_type": "stream",
     "text": [
      " 38%|███▊      | 583/1552 [02:01<02:02,  7.93it/s]"
     ]
    },
    {
     "name": "stdout",
     "output_type": "stream",
     "text": [
      "rgb logits...\n",
      "flow logits...\n",
      "===== Final predictions ====\n",
      "label: other_action\n",
      "logits proba class\n",
      "92.20% other_action\n",
      "581 25 1 ./data/images_new/test/2_20181112_frames002282\n",
      "rgb logits...\n",
      "flow logits...\n",
      "===== Final predictions ====\n",
      "label: other_action\n",
      "logits proba class\n",
      "90.71% other_action\n",
      "582 25 2 ./data/images_new/test/2_20181112_frames002282\n"
     ]
    },
    {
     "name": "stderr",
     "output_type": "stream",
     "text": [
      " 38%|███▊      | 585/1552 [02:01<02:01,  7.94it/s]"
     ]
    },
    {
     "name": "stdout",
     "output_type": "stream",
     "text": [
      "rgb logits...\n",
      "flow logits...\n",
      "===== Final predictions ====\n",
      "label: other_action\n",
      "logits proba class\n",
      "88.61% touching_equipment\n",
      "583 25 3 ./data/images_new/test/2_20181112_frames002282\n",
      "rgb logits...\n",
      "flow logits...\n",
      "===== Final predictions ====\n",
      "label: other_action\n",
      "logits proba class\n",
      "62.75% other_action\n",
      "584 25 4 ./data/images_new/test/2_20181112_frames002282\n"
     ]
    },
    {
     "name": "stderr",
     "output_type": "stream",
     "text": [
      " 38%|███▊      | 587/1552 [02:02<02:02,  7.89it/s]"
     ]
    },
    {
     "name": "stdout",
     "output_type": "stream",
     "text": [
      "rgb logits...\n",
      "flow logits...\n",
      "===== Final predictions ====\n",
      "label: other_action\n",
      "logits proba class\n",
      "54.93% touching_equipment\n",
      "585 25 5 ./data/images_new/test/2_20181112_frames002282\n",
      "rgb logits...\n",
      "flow logits...\n",
      "===== Final predictions ====\n",
      "label: other_action\n",
      "logits proba class\n",
      "53.25% touching_equipment\n",
      "586 25 6 ./data/images_new/test/2_20181112_frames002282\n"
     ]
    },
    {
     "name": "stderr",
     "output_type": "stream",
     "text": [
      " 38%|███▊      | 589/1552 [02:02<02:05,  7.65it/s]"
     ]
    },
    {
     "name": "stdout",
     "output_type": "stream",
     "text": [
      "rgb logits...\n",
      "flow logits...\n",
      "===== Final predictions ====\n",
      "label: touching_equipment\n",
      "logits proba class\n",
      "93.58% touching_equipment\n",
      "587 25 0 ./data/images_new/test/2_20181112_frames002282\n",
      "rgb logits...\n",
      "flow logits...\n",
      "===== Final predictions ====\n",
      "label: touching_equipment\n",
      "logits proba class\n",
      "98.13% touching_equipment\n",
      "588 25 1 ./data/images_new/test/2_20181112_frames002282\n"
     ]
    },
    {
     "name": "stderr",
     "output_type": "stream",
     "text": [
      " 38%|███▊      | 591/1552 [02:02<02:07,  7.56it/s]"
     ]
    },
    {
     "name": "stdout",
     "output_type": "stream",
     "text": [
      "rgb logits...\n",
      "flow logits...\n",
      "===== Final predictions ====\n",
      "label: touching_equipment\n",
      "logits proba class\n",
      "62.38% other_action\n",
      "589 25 2 ./data/images_new/test/2_20181112_frames002282\n",
      "rgb logits...\n",
      "flow logits...\n",
      "===== Final predictions ====\n",
      "label: touching_equipment\n",
      "logits proba class\n",
      "92.38% touching_equipment\n",
      "590 25 3 ./data/images_new/test/2_20181112_frames002282\n"
     ]
    },
    {
     "name": "stderr",
     "output_type": "stream",
     "text": [
      " 38%|███▊      | 593/1552 [02:02<02:07,  7.50it/s]"
     ]
    },
    {
     "name": "stdout",
     "output_type": "stream",
     "text": [
      "rgb logits...\n",
      "flow logits...\n",
      "===== Final predictions ====\n",
      "label: touching_equipment\n",
      "logits proba class\n",
      "64.10% other_action\n",
      "591 25 4 ./data/images_new/test/2_20181112_frames002282\n",
      "rgb logits...\n",
      "flow logits...\n",
      "===== Final predictions ====\n",
      "label: touching_equipment\n",
      "logits proba class\n",
      "64.41% touching_equipment\n",
      "592 25 5 ./data/images_new/test/2_20181112_frames002282\n"
     ]
    },
    {
     "name": "stderr",
     "output_type": "stream",
     "text": [
      " 38%|███▊      | 595/1552 [02:03<02:08,  7.46it/s]"
     ]
    },
    {
     "name": "stdout",
     "output_type": "stream",
     "text": [
      "rgb logits...\n",
      "flow logits...\n",
      "===== Final predictions ====\n",
      "label: touching_equipment\n",
      "logits proba class\n",
      "91.28% touching_equipment\n",
      "593 25 6 ./data/images_new/test/2_20181112_frames002282\n",
      "rgb logits...\n",
      "flow logits...\n",
      "===== Final predictions ====\n",
      "label: touching_equipment\n",
      "logits proba class\n",
      "89.10% touching_equipment\n",
      "594 25 7 ./data/images_new/test/2_20181112_frames002282\n"
     ]
    },
    {
     "name": "stderr",
     "output_type": "stream",
     "text": [
      " 38%|███▊      | 597/1552 [02:03<02:08,  7.40it/s]"
     ]
    },
    {
     "name": "stdout",
     "output_type": "stream",
     "text": [
      "rgb logits...\n",
      "flow logits...\n",
      "===== Final predictions ====\n",
      "label: touching_equipment\n",
      "logits proba class\n",
      "79.44% touching_equipment\n",
      "595 25 8 ./data/images_new/test/2_20181112_frames002282\n",
      "rgb logits...\n",
      "flow logits...\n",
      "===== Final predictions ====\n",
      "label: touching_equipment\n",
      "logits proba class\n",
      "82.67% touching_equipment\n",
      "596 25 9 ./data/images_new/test/2_20181112_frames002282\n"
     ]
    },
    {
     "name": "stderr",
     "output_type": "stream",
     "text": [
      " 39%|███▊      | 599/1552 [02:03<02:08,  7.41it/s]"
     ]
    },
    {
     "name": "stdout",
     "output_type": "stream",
     "text": [
      "rgb logits...\n",
      "flow logits...\n",
      "===== Final predictions ====\n",
      "label: touching_equipment\n",
      "logits proba class\n",
      "61.42% touching_equipment\n",
      "597 25 10 ./data/images_new/test/2_20181112_frames002282\n",
      "rgb logits...\n",
      "flow logits...\n",
      "===== Final predictions ====\n",
      "label: touching_equipment\n",
      "logits proba class\n",
      "97.99% touching_equipment\n",
      "598 25 11 ./data/images_new/test/2_20181112_frames002282\n"
     ]
    },
    {
     "name": "stderr",
     "output_type": "stream",
     "text": [
      " 39%|███▊      | 601/1552 [02:04<02:08,  7.42it/s]"
     ]
    },
    {
     "name": "stdout",
     "output_type": "stream",
     "text": [
      "rgb logits...\n",
      "flow logits...\n",
      "===== Final predictions ====\n",
      "label: touching_equipment\n",
      "logits proba class\n",
      "81.11% touching_equipment\n",
      "599 25 12 ./data/images_new/test/2_20181112_frames002282\n",
      "rgb logits...\n",
      "flow logits...\n",
      "===== Final predictions ====\n",
      "label: touching_equipment\n",
      "logits proba class\n",
      "99.78% touching_equipment\n",
      "600 25 13 ./data/images_new/test/2_20181112_frames002282\n"
     ]
    },
    {
     "name": "stderr",
     "output_type": "stream",
     "text": [
      " 39%|███▉      | 603/1552 [02:04<02:08,  7.41it/s]"
     ]
    },
    {
     "name": "stdout",
     "output_type": "stream",
     "text": [
      "rgb logits...\n",
      "flow logits...\n",
      "===== Final predictions ====\n",
      "label: touching_equipment\n",
      "logits proba class\n",
      "94.03% touching_equipment\n",
      "601 25 14 ./data/images_new/test/2_20181112_frames002282\n",
      "rgb logits...\n",
      "flow logits...\n",
      "===== Final predictions ====\n",
      "label: touching_equipment\n",
      "logits proba class\n",
      "94.91% touching_equipment\n",
      "602 25 15 ./data/images_new/test/2_20181112_frames002282\n"
     ]
    },
    {
     "name": "stderr",
     "output_type": "stream",
     "text": [
      " 39%|███▉      | 605/1552 [02:04<02:07,  7.41it/s]"
     ]
    },
    {
     "name": "stdout",
     "output_type": "stream",
     "text": [
      "rgb logits...\n",
      "flow logits...\n",
      "===== Final predictions ====\n",
      "label: touching_equipment\n",
      "logits proba class\n",
      "75.18% touching_equipment\n",
      "603 25 16 ./data/images_new/test/2_20181112_frames002282\n",
      "rgb logits...\n",
      "flow logits...\n",
      "===== Final predictions ====\n",
      "label: touching_equipment\n",
      "logits proba class\n",
      "88.53% touching_equipment\n",
      "604 25 17 ./data/images_new/test/2_20181112_frames002282\n"
     ]
    },
    {
     "name": "stderr",
     "output_type": "stream",
     "text": [
      " 39%|███▉      | 607/1552 [02:04<02:07,  7.40it/s]"
     ]
    },
    {
     "name": "stdout",
     "output_type": "stream",
     "text": [
      "rgb logits...\n",
      "flow logits...\n",
      "===== Final predictions ====\n",
      "label: touching_equipment\n",
      "logits proba class\n",
      "67.57% touching_equipment\n",
      "605 25 18 ./data/images_new/test/2_20181112_frames002282\n",
      "rgb logits...\n",
      "flow logits...\n",
      "===== Final predictions ====\n",
      "label: touching_equipment\n",
      "logits proba class\n",
      "87.24% touching_equipment\n",
      "606 25 19 ./data/images_new/test/2_20181112_frames002282\n"
     ]
    },
    {
     "name": "stderr",
     "output_type": "stream",
     "text": [
      "\r",
      " 39%|███▉      | 608/1552 [02:04<02:07,  7.38it/s]"
     ]
    },
    {
     "name": "stdout",
     "output_type": "stream",
     "text": [
      "rgb logits...\n",
      "flow logits...\n",
      "===== Final predictions ====\n",
      "label: touching_equipment\n",
      "logits proba class\n",
      "75.70% touching_equipment\n",
      "607 25 20 ./data/images_new/test/2_20181112_frames002282\n",
      "[RGB] Filling cache for index 26\n",
      "[Flow] Filling cache for index 26\n"
     ]
    },
    {
     "name": "stderr",
     "output_type": "stream",
     "text": [
      " 39%|███▉      | 610/1552 [02:08<14:16,  1.10it/s]"
     ]
    },
    {
     "name": "stdout",
     "output_type": "stream",
     "text": [
      "rgb logits...\n",
      "flow logits...\n",
      "===== Final predictions ====\n",
      "label: other_action\n",
      "logits proba class\n",
      "62.96% other_action\n",
      "608 26 0 ./data/images_new/test/2_20181112_frames002347\n",
      "rgb logits...\n",
      "flow logits...\n",
      "===== Final predictions ====\n",
      "label: other_action\n",
      "logits proba class\n",
      "84.00% other_action\n",
      "609 26 1 ./data/images_new/test/2_20181112_frames002347\n"
     ]
    },
    {
     "name": "stderr",
     "output_type": "stream",
     "text": [
      " 39%|███▉      | 612/1552 [02:09<08:05,  1.94it/s]"
     ]
    },
    {
     "name": "stdout",
     "output_type": "stream",
     "text": [
      "rgb logits...\n",
      "flow logits...\n",
      "===== Final predictions ====\n",
      "label: other_action\n",
      "logits proba class\n",
      "75.22% other_action\n",
      "610 26 2 ./data/images_new/test/2_20181112_frames002347\n",
      "rgb logits...\n",
      "flow logits...\n",
      "===== Final predictions ====\n",
      "label: other_action\n",
      "logits proba class\n",
      "94.44% other_action\n",
      "611 26 3 ./data/images_new/test/2_20181112_frames002347\n"
     ]
    },
    {
     "name": "stderr",
     "output_type": "stream",
     "text": [
      " 40%|███▉      | 614/1552 [02:09<04:56,  3.16it/s]"
     ]
    },
    {
     "name": "stdout",
     "output_type": "stream",
     "text": [
      "rgb logits...\n",
      "flow logits...\n",
      "===== Final predictions ====\n",
      "label: other_action\n",
      "logits proba class\n",
      "91.33% other_action\n",
      "612 26 4 ./data/images_new/test/2_20181112_frames002347\n",
      "rgb logits...\n",
      "flow logits...\n",
      "===== Final predictions ====\n",
      "label: other_action\n",
      "logits proba class\n",
      "97.20% other_action\n",
      "613 26 5 ./data/images_new/test/2_20181112_frames002347\n"
     ]
    },
    {
     "name": "stderr",
     "output_type": "stream",
     "text": [
      " 40%|███▉      | 616/1552 [02:09<03:24,  4.59it/s]"
     ]
    },
    {
     "name": "stdout",
     "output_type": "stream",
     "text": [
      "rgb logits...\n",
      "flow logits...\n",
      "===== Final predictions ====\n",
      "label: other_action\n",
      "logits proba class\n",
      "97.14% other_action\n",
      "614 26 6 ./data/images_new/test/2_20181112_frames002347\n",
      "rgb logits...\n",
      "flow logits...\n",
      "===== Final predictions ====\n",
      "label: other_action\n",
      "logits proba class\n",
      "97.08% other_action\n",
      "615 26 7 ./data/images_new/test/2_20181112_frames002347\n"
     ]
    },
    {
     "name": "stderr",
     "output_type": "stream",
     "text": [
      " 40%|███▉      | 618/1552 [02:09<02:40,  5.81it/s]"
     ]
    },
    {
     "name": "stdout",
     "output_type": "stream",
     "text": [
      "rgb logits...\n",
      "flow logits...\n",
      "===== Final predictions ====\n",
      "label: other_action\n",
      "logits proba class\n",
      "97.24% other_action\n",
      "616 26 8 ./data/images_new/test/2_20181112_frames002347\n",
      "rgb logits...\n",
      "flow logits...\n",
      "===== Final predictions ====\n",
      "label: other_action\n",
      "logits proba class\n",
      "96.49% other_action\n",
      "617 26 9 ./data/images_new/test/2_20181112_frames002347\n"
     ]
    },
    {
     "name": "stderr",
     "output_type": "stream",
     "text": [
      "\r",
      " 40%|███▉      | 619/1552 [02:10<02:29,  6.25it/s]"
     ]
    },
    {
     "name": "stdout",
     "output_type": "stream",
     "text": [
      "rgb logits...\n",
      "flow logits...\n",
      "===== Final predictions ====\n",
      "label: other_action\n",
      "logits proba class\n",
      "97.78% other_action\n",
      "618 26 10 ./data/images_new/test/2_20181112_frames002347\n",
      "rgb logits...\n",
      "flow logits...\n"
     ]
    },
    {
     "name": "stderr",
     "output_type": "stream",
     "text": [
      " 40%|████      | 621/1552 [02:10<02:35,  5.98it/s]"
     ]
    },
    {
     "name": "stdout",
     "output_type": "stream",
     "text": [
      "===== Final predictions ====\n",
      "label: other_action\n",
      "logits proba class\n",
      "96.36% other_action\n",
      "619 26 11 ./data/images_new/test/2_20181112_frames002347\n",
      "rgb logits...\n",
      "flow logits...\n",
      "===== Final predictions ====\n",
      "label: other_action\n",
      "logits proba class\n",
      "99.02% other_action\n",
      "620 26 12 ./data/images_new/test/2_20181112_frames002347\n"
     ]
    },
    {
     "name": "stderr",
     "output_type": "stream",
     "text": [
      " 40%|████      | 623/1552 [02:10<02:30,  6.19it/s]"
     ]
    },
    {
     "name": "stdout",
     "output_type": "stream",
     "text": [
      "rgb logits...\n",
      "flow logits...\n",
      "===== Final predictions ====\n",
      "label: other_action\n",
      "logits proba class\n",
      "95.41% other_action\n",
      "621 26 13 ./data/images_new/test/2_20181112_frames002347\n",
      "rgb logits...\n",
      "flow logits...\n",
      "===== Final predictions ====\n",
      "label: other_action\n",
      "logits proba class\n",
      "87.40% other_action\n",
      "622 26 14 ./data/images_new/test/2_20181112_frames002347\n"
     ]
    },
    {
     "name": "stderr",
     "output_type": "stream",
     "text": [
      " 40%|████      | 625/1552 [02:11<02:23,  6.45it/s]"
     ]
    },
    {
     "name": "stdout",
     "output_type": "stream",
     "text": [
      "rgb logits...\n",
      "flow logits...\n",
      "===== Final predictions ====\n",
      "label: other_action\n",
      "logits proba class\n",
      "85.30% other_action\n",
      "623 26 15 ./data/images_new/test/2_20181112_frames002347\n",
      "rgb logits...\n",
      "flow logits...\n",
      "===== Final predictions ====\n",
      "label: other_action\n",
      "logits proba class\n",
      "78.68% other_action\n",
      "624 26 16 ./data/images_new/test/2_20181112_frames002347\n"
     ]
    },
    {
     "name": "stderr",
     "output_type": "stream",
     "text": [
      " 40%|████      | 627/1552 [02:11<02:10,  7.07it/s]"
     ]
    },
    {
     "name": "stdout",
     "output_type": "stream",
     "text": [
      "rgb logits...\n",
      "flow logits...\n",
      "===== Final predictions ====\n",
      "label: other_action\n",
      "logits proba class\n",
      "82.62% other_action\n",
      "625 26 17 ./data/images_new/test/2_20181112_frames002347\n",
      "rgb logits...\n",
      "flow logits...\n",
      "===== Final predictions ====\n",
      "label: other_action\n",
      "logits proba class\n",
      "76.52% other_action\n",
      "626 26 18 ./data/images_new/test/2_20181112_frames002347\n"
     ]
    },
    {
     "name": "stderr",
     "output_type": "stream",
     "text": [
      " 41%|████      | 629/1552 [02:11<02:06,  7.28it/s]"
     ]
    },
    {
     "name": "stdout",
     "output_type": "stream",
     "text": [
      "rgb logits...\n",
      "flow logits...\n",
      "===== Final predictions ====\n",
      "label: other_action\n",
      "logits proba class\n",
      "91.88% other_action\n",
      "627 26 19 ./data/images_new/test/2_20181112_frames002347\n",
      "rgb logits...\n",
      "flow logits...\n",
      "===== Final predictions ====\n",
      "label: touching_equipment\n",
      "logits proba class\n",
      "82.29% touching_equipment\n",
      "628 26 0 ./data/images_new/test/2_20181112_frames002347\n"
     ]
    },
    {
     "name": "stderr",
     "output_type": "stream",
     "text": [
      " 41%|████      | 631/1552 [02:11<02:05,  7.34it/s]"
     ]
    },
    {
     "name": "stdout",
     "output_type": "stream",
     "text": [
      "rgb logits...\n",
      "flow logits...\n",
      "===== Final predictions ====\n",
      "label: touching_equipment\n",
      "logits proba class\n",
      "99.28% touching_equipment\n",
      "629 26 1 ./data/images_new/test/2_20181112_frames002347\n",
      "rgb logits...\n",
      "flow logits...\n",
      "===== Final predictions ====\n",
      "label: touching_equipment\n",
      "logits proba class\n",
      "88.38% touching_equipment\n",
      "630 26 2 ./data/images_new/test/2_20181112_frames002347\n"
     ]
    },
    {
     "name": "stderr",
     "output_type": "stream",
     "text": [
      " 41%|████      | 633/1552 [02:12<02:04,  7.40it/s]"
     ]
    },
    {
     "name": "stdout",
     "output_type": "stream",
     "text": [
      "rgb logits...\n",
      "flow logits...\n",
      "===== Final predictions ====\n",
      "label: touching_equipment\n",
      "logits proba class\n",
      "97.25% touching_equipment\n",
      "631 26 3 ./data/images_new/test/2_20181112_frames002347\n",
      "rgb logits...\n",
      "flow logits...\n",
      "===== Final predictions ====\n",
      "label: touching_equipment\n",
      "logits proba class\n",
      "84.77% touching_equipment\n",
      "632 26 4 ./data/images_new/test/2_20181112_frames002347\n"
     ]
    },
    {
     "name": "stderr",
     "output_type": "stream",
     "text": [
      " 41%|████      | 635/1552 [02:12<02:03,  7.42it/s]"
     ]
    },
    {
     "name": "stdout",
     "output_type": "stream",
     "text": [
      "rgb logits...\n",
      "flow logits...\n",
      "===== Final predictions ====\n",
      "label: touching_equipment\n",
      "logits proba class\n",
      "52.55% touching_equipment\n",
      "633 26 5 ./data/images_new/test/2_20181112_frames002347\n",
      "rgb logits...\n",
      "flow logits...\n",
      "===== Final predictions ====\n",
      "label: touching_equipment\n",
      "logits proba class\n",
      "64.21% touching_equipment\n",
      "634 26 6 ./data/images_new/test/2_20181112_frames002347\n"
     ]
    },
    {
     "name": "stderr",
     "output_type": "stream",
     "text": [
      " 41%|████      | 637/1552 [02:12<02:04,  7.36it/s]"
     ]
    },
    {
     "name": "stdout",
     "output_type": "stream",
     "text": [
      "rgb logits...\n",
      "flow logits...\n",
      "===== Final predictions ====\n",
      "label: touching_equipment\n",
      "logits proba class\n",
      "93.50% touching_equipment\n",
      "635 26 7 ./data/images_new/test/2_20181112_frames002347\n",
      "rgb logits...\n",
      "flow logits...\n",
      "===== Final predictions ====\n",
      "label: touching_equipment\n",
      "logits proba class\n",
      "96.30% touching_equipment\n",
      "636 26 8 ./data/images_new/test/2_20181112_frames002347\n"
     ]
    },
    {
     "name": "stderr",
     "output_type": "stream",
     "text": [
      " 41%|████      | 639/1552 [02:12<02:03,  7.41it/s]"
     ]
    },
    {
     "name": "stdout",
     "output_type": "stream",
     "text": [
      "rgb logits...\n",
      "flow logits...\n",
      "===== Final predictions ====\n",
      "label: touching_equipment\n",
      "logits proba class\n",
      "99.80% touching_equipment\n",
      "637 26 9 ./data/images_new/test/2_20181112_frames002347\n",
      "rgb logits...\n",
      "flow logits...\n",
      "===== Final predictions ====\n",
      "label: touching_equipment\n",
      "logits proba class\n",
      "99.57% touching_equipment\n",
      "638 26 10 ./data/images_new/test/2_20181112_frames002347\n"
     ]
    },
    {
     "name": "stderr",
     "output_type": "stream",
     "text": [
      " 41%|████▏     | 641/1552 [02:13<02:02,  7.44it/s]"
     ]
    },
    {
     "name": "stdout",
     "output_type": "stream",
     "text": [
      "rgb logits...\n",
      "flow logits...\n",
      "===== Final predictions ====\n",
      "label: touching_equipment\n",
      "logits proba class\n",
      "99.73% touching_equipment\n",
      "639 26 11 ./data/images_new/test/2_20181112_frames002347\n",
      "rgb logits...\n",
      "flow logits...\n",
      "===== Final predictions ====\n",
      "label: touching_equipment\n",
      "logits proba class\n",
      "95.37% touching_equipment\n",
      "640 26 12 ./data/images_new/test/2_20181112_frames002347\n"
     ]
    },
    {
     "name": "stderr",
     "output_type": "stream",
     "text": [
      " 41%|████▏     | 643/1552 [02:13<02:01,  7.45it/s]"
     ]
    },
    {
     "name": "stdout",
     "output_type": "stream",
     "text": [
      "rgb logits...\n",
      "flow logits...\n",
      "===== Final predictions ====\n",
      "label: touching_equipment\n",
      "logits proba class\n",
      "98.53% touching_equipment\n",
      "641 26 13 ./data/images_new/test/2_20181112_frames002347\n",
      "rgb logits...\n",
      "flow logits...\n",
      "===== Final predictions ====\n",
      "label: touching_equipment\n",
      "logits proba class\n",
      "99.79% touching_equipment\n",
      "642 26 14 ./data/images_new/test/2_20181112_frames002347\n"
     ]
    },
    {
     "name": "stderr",
     "output_type": "stream",
     "text": [
      " 42%|████▏     | 645/1552 [02:13<02:01,  7.45it/s]"
     ]
    },
    {
     "name": "stdout",
     "output_type": "stream",
     "text": [
      "rgb logits...\n",
      "flow logits...\n",
      "===== Final predictions ====\n",
      "label: touching_equipment\n",
      "logits proba class\n",
      "99.64% touching_equipment\n",
      "643 26 15 ./data/images_new/test/2_20181112_frames002347\n",
      "rgb logits...\n",
      "flow logits...\n",
      "===== Final predictions ====\n",
      "label: touching_equipment\n",
      "logits proba class\n",
      "99.58% touching_equipment\n",
      "644 26 16 ./data/images_new/test/2_20181112_frames002347\n"
     ]
    },
    {
     "name": "stderr",
     "output_type": "stream",
     "text": [
      " 42%|████▏     | 647/1552 [02:13<02:01,  7.42it/s]"
     ]
    },
    {
     "name": "stdout",
     "output_type": "stream",
     "text": [
      "rgb logits...\n",
      "flow logits...\n",
      "===== Final predictions ====\n",
      "label: touching_equipment\n",
      "logits proba class\n",
      "99.82% touching_equipment\n",
      "645 26 17 ./data/images_new/test/2_20181112_frames002347\n",
      "rgb logits...\n",
      "flow logits...\n",
      "===== Final predictions ====\n",
      "label: touching_equipment\n",
      "logits proba class\n",
      "99.47% touching_equipment\n",
      "646 26 18 ./data/images_new/test/2_20181112_frames002347\n"
     ]
    },
    {
     "name": "stderr",
     "output_type": "stream",
     "text": [
      " 42%|████▏     | 649/1552 [02:14<02:01,  7.40it/s]"
     ]
    },
    {
     "name": "stdout",
     "output_type": "stream",
     "text": [
      "rgb logits...\n",
      "flow logits...\n",
      "===== Final predictions ====\n",
      "label: touching_equipment\n",
      "logits proba class\n",
      "99.65% touching_equipment\n",
      "647 26 19 ./data/images_new/test/2_20181112_frames002347\n",
      "rgb logits...\n",
      "flow logits...\n",
      "===== Final predictions ====\n",
      "label: touching_equipment\n",
      "logits proba class\n",
      "99.56% touching_equipment\n",
      "648 26 20 ./data/images_new/test/2_20181112_frames002347\n"
     ]
    },
    {
     "name": "stderr",
     "output_type": "stream",
     "text": [
      " 42%|████▏     | 651/1552 [02:14<02:02,  7.38it/s]"
     ]
    },
    {
     "name": "stdout",
     "output_type": "stream",
     "text": [
      "rgb logits...\n",
      "flow logits...\n",
      "===== Final predictions ====\n",
      "label: touching_equipment\n",
      "logits proba class\n",
      "97.92% touching_equipment\n",
      "649 26 21 ./data/images_new/test/2_20181112_frames002347\n",
      "rgb logits...\n",
      "flow logits...\n",
      "===== Final predictions ====\n",
      "label: touching_equipment\n",
      "logits proba class\n",
      "97.03% touching_equipment\n",
      "650 26 22 ./data/images_new/test/2_20181112_frames002347\n"
     ]
    },
    {
     "name": "stderr",
     "output_type": "stream",
     "text": [
      " 42%|████▏     | 653/1552 [02:14<02:01,  7.38it/s]"
     ]
    },
    {
     "name": "stdout",
     "output_type": "stream",
     "text": [
      "rgb logits...\n",
      "flow logits...\n",
      "===== Final predictions ====\n",
      "label: touching_equipment\n",
      "logits proba class\n",
      "99.18% touching_equipment\n",
      "651 26 23 ./data/images_new/test/2_20181112_frames002347\n",
      "rgb logits...\n",
      "flow logits...\n",
      "===== Final predictions ====\n",
      "label: touching_equipment\n",
      "logits proba class\n",
      "99.60% touching_equipment\n",
      "652 26 24 ./data/images_new/test/2_20181112_frames002347\n"
     ]
    },
    {
     "name": "stderr",
     "output_type": "stream",
     "text": [
      " 42%|████▏     | 655/1552 [02:15<02:01,  7.39it/s]"
     ]
    },
    {
     "name": "stdout",
     "output_type": "stream",
     "text": [
      "rgb logits...\n",
      "flow logits...\n",
      "===== Final predictions ====\n",
      "label: touching_equipment\n",
      "logits proba class\n",
      "99.64% touching_equipment\n",
      "653 26 25 ./data/images_new/test/2_20181112_frames002347\n",
      "rgb logits...\n",
      "flow logits...\n",
      "===== Final predictions ====\n",
      "label: touching_equipment\n",
      "logits proba class\n",
      "99.29% touching_equipment\n",
      "654 26 26 ./data/images_new/test/2_20181112_frames002347\n"
     ]
    },
    {
     "name": "stderr",
     "output_type": "stream",
     "text": [
      " 42%|████▏     | 657/1552 [02:15<02:01,  7.39it/s]"
     ]
    },
    {
     "name": "stdout",
     "output_type": "stream",
     "text": [
      "rgb logits...\n",
      "flow logits...\n",
      "===== Final predictions ====\n",
      "label: touching_equipment\n",
      "logits proba class\n",
      "97.52% touching_equipment\n",
      "655 26 27 ./data/images_new/test/2_20181112_frames002347\n",
      "rgb logits...\n",
      "flow logits...\n",
      "===== Final predictions ====\n",
      "label: touching_equipment\n",
      "logits proba class\n",
      "99.95% touching_equipment\n",
      "656 26 28 ./data/images_new/test/2_20181112_frames002347\n"
     ]
    },
    {
     "name": "stderr",
     "output_type": "stream",
     "text": [
      " 42%|████▏     | 659/1552 [02:15<02:01,  7.36it/s]"
     ]
    },
    {
     "name": "stdout",
     "output_type": "stream",
     "text": [
      "rgb logits...\n",
      "flow logits...\n",
      "===== Final predictions ====\n",
      "label: touching_equipment\n",
      "logits proba class\n",
      "99.97% touching_equipment\n",
      "657 26 29 ./data/images_new/test/2_20181112_frames002347\n",
      "rgb logits...\n",
      "flow logits...\n",
      "===== Final predictions ====\n",
      "label: touching_equipment\n",
      "logits proba class\n",
      "99.99% touching_equipment\n",
      "658 26 30 ./data/images_new/test/2_20181112_frames002347\n"
     ]
    },
    {
     "name": "stderr",
     "output_type": "stream",
     "text": [
      " 43%|████▎     | 661/1552 [02:15<02:01,  7.34it/s]"
     ]
    },
    {
     "name": "stdout",
     "output_type": "stream",
     "text": [
      "rgb logits...\n",
      "flow logits...\n",
      "===== Final predictions ====\n",
      "label: touching_equipment\n",
      "logits proba class\n",
      "99.97% touching_equipment\n",
      "659 26 31 ./data/images_new/test/2_20181112_frames002347\n",
      "rgb logits...\n",
      "flow logits...\n",
      "===== Final predictions ====\n",
      "label: touching_equipment\n",
      "logits proba class\n",
      "99.95% touching_equipment\n",
      "660 26 32 ./data/images_new/test/2_20181112_frames002347\n"
     ]
    },
    {
     "name": "stderr",
     "output_type": "stream",
     "text": [
      " 43%|████▎     | 663/1552 [02:16<02:01,  7.29it/s]"
     ]
    },
    {
     "name": "stdout",
     "output_type": "stream",
     "text": [
      "rgb logits...\n",
      "flow logits...\n",
      "===== Final predictions ====\n",
      "label: touching_equipment\n",
      "logits proba class\n",
      "99.99% touching_equipment\n",
      "661 26 33 ./data/images_new/test/2_20181112_frames002347\n",
      "rgb logits...\n",
      "flow logits...\n",
      "===== Final predictions ====\n",
      "label: touching_equipment\n",
      "logits proba class\n",
      "99.99% touching_equipment\n",
      "662 26 34 ./data/images_new/test/2_20181112_frames002347\n"
     ]
    },
    {
     "name": "stderr",
     "output_type": "stream",
     "text": [
      " 43%|████▎     | 665/1552 [02:16<02:02,  7.22it/s]"
     ]
    },
    {
     "name": "stdout",
     "output_type": "stream",
     "text": [
      "rgb logits...\n",
      "flow logits...\n",
      "===== Final predictions ====\n",
      "label: touching_equipment\n",
      "logits proba class\n",
      "99.99% touching_equipment\n",
      "663 26 35 ./data/images_new/test/2_20181112_frames002347\n",
      "rgb logits...\n",
      "flow logits...\n",
      "===== Final predictions ====\n",
      "label: touching_equipment\n",
      "logits proba class\n",
      "99.94% touching_equipment\n",
      "664 26 36 ./data/images_new/test/2_20181112_frames002347\n"
     ]
    },
    {
     "name": "stderr",
     "output_type": "stream",
     "text": [
      " 43%|████▎     | 667/1552 [02:16<02:02,  7.21it/s]"
     ]
    },
    {
     "name": "stdout",
     "output_type": "stream",
     "text": [
      "rgb logits...\n",
      "flow logits...\n",
      "===== Final predictions ====\n",
      "label: touching_equipment\n",
      "logits proba class\n",
      "99.94% touching_equipment\n",
      "665 26 37 ./data/images_new/test/2_20181112_frames002347\n",
      "rgb logits...\n",
      "flow logits...\n",
      "===== Final predictions ====\n",
      "label: touching_equipment\n",
      "logits proba class\n",
      "97.47% touching_equipment\n",
      "666 26 38 ./data/images_new/test/2_20181112_frames002347\n"
     ]
    },
    {
     "name": "stderr",
     "output_type": "stream",
     "text": [
      " 43%|████▎     | 669/1552 [02:17<02:10,  6.78it/s]"
     ]
    },
    {
     "name": "stdout",
     "output_type": "stream",
     "text": [
      "rgb logits...\n",
      "flow logits...\n",
      "===== Final predictions ====\n",
      "label: touching_equipment\n",
      "logits proba class\n",
      "99.39% touching_equipment\n",
      "667 26 39 ./data/images_new/test/2_20181112_frames002347\n",
      "rgb logits...\n",
      "flow logits...\n",
      "===== Final predictions ====\n",
      "label: touching_equipment\n",
      "logits proba class\n",
      "99.25% touching_equipment\n",
      "668 26 40 ./data/images_new/test/2_20181112_frames002347\n"
     ]
    },
    {
     "name": "stderr",
     "output_type": "stream",
     "text": [
      " 43%|████▎     | 671/1552 [02:17<02:09,  6.81it/s]"
     ]
    },
    {
     "name": "stdout",
     "output_type": "stream",
     "text": [
      "rgb logits...\n",
      "flow logits...\n",
      "===== Final predictions ====\n",
      "label: touching_equipment\n",
      "logits proba class\n",
      "97.50% touching_equipment\n",
      "669 26 41 ./data/images_new/test/2_20181112_frames002347\n",
      "rgb logits...\n",
      "flow logits...\n",
      "===== Final predictions ====\n",
      "label: touching_equipment\n",
      "logits proba class\n",
      "97.90% touching_equipment\n",
      "670 26 42 ./data/images_new/test/2_20181112_frames002347\n"
     ]
    },
    {
     "name": "stderr",
     "output_type": "stream",
     "text": [
      " 43%|████▎     | 673/1552 [02:17<02:05,  6.98it/s]"
     ]
    },
    {
     "name": "stdout",
     "output_type": "stream",
     "text": [
      "rgb logits...\n",
      "flow logits...\n",
      "===== Final predictions ====\n",
      "label: touching_equipment\n",
      "logits proba class\n",
      "98.11% touching_equipment\n",
      "671 26 43 ./data/images_new/test/2_20181112_frames002347\n",
      "rgb logits...\n",
      "flow logits...\n",
      "===== Final predictions ====\n",
      "label: touching_equipment\n",
      "logits proba class\n",
      "91.58% touching_equipment\n",
      "672 26 44 ./data/images_new/test/2_20181112_frames002347\n"
     ]
    },
    {
     "name": "stderr",
     "output_type": "stream",
     "text": [
      " 43%|████▎     | 675/1552 [02:17<02:05,  7.00it/s]"
     ]
    },
    {
     "name": "stdout",
     "output_type": "stream",
     "text": [
      "rgb logits...\n",
      "flow logits...\n",
      "===== Final predictions ====\n",
      "label: touching_equipment\n",
      "logits proba class\n",
      "98.93% touching_equipment\n",
      "673 26 45 ./data/images_new/test/2_20181112_frames002347\n",
      "rgb logits...\n",
      "flow logits...\n",
      "===== Final predictions ====\n",
      "label: touching_equipment\n",
      "logits proba class\n",
      "99.71% touching_equipment\n",
      "674 26 46 ./data/images_new/test/2_20181112_frames002347\n"
     ]
    },
    {
     "name": "stderr",
     "output_type": "stream",
     "text": [
      " 44%|████▎     | 677/1552 [02:18<02:01,  7.18it/s]"
     ]
    },
    {
     "name": "stdout",
     "output_type": "stream",
     "text": [
      "rgb logits...\n",
      "flow logits...\n",
      "===== Final predictions ====\n",
      "label: touching_equipment\n",
      "logits proba class\n",
      "99.48% touching_equipment\n",
      "675 26 47 ./data/images_new/test/2_20181112_frames002347\n",
      "rgb logits...\n",
      "flow logits...\n",
      "===== Final predictions ====\n",
      "label: touching_equipment\n",
      "logits proba class\n",
      "89.85% touching_equipment\n",
      "676 26 48 ./data/images_new/test/2_20181112_frames002347\n"
     ]
    },
    {
     "name": "stderr",
     "output_type": "stream",
     "text": [
      " 44%|████▍     | 679/1552 [02:18<01:59,  7.31it/s]"
     ]
    },
    {
     "name": "stdout",
     "output_type": "stream",
     "text": [
      "rgb logits...\n",
      "flow logits...\n",
      "===== Final predictions ====\n",
      "label: touching_equipment\n",
      "logits proba class\n",
      "97.74% touching_equipment\n",
      "677 26 49 ./data/images_new/test/2_20181112_frames002347\n",
      "rgb logits...\n",
      "flow logits...\n",
      "===== Final predictions ====\n",
      "label: touching_equipment\n",
      "logits proba class\n",
      "98.56% touching_equipment\n",
      "678 26 50 ./data/images_new/test/2_20181112_frames002347\n"
     ]
    },
    {
     "name": "stderr",
     "output_type": "stream",
     "text": [
      " 44%|████▍     | 681/1552 [02:18<01:57,  7.41it/s]"
     ]
    },
    {
     "name": "stdout",
     "output_type": "stream",
     "text": [
      "rgb logits...\n",
      "flow logits...\n",
      "===== Final predictions ====\n",
      "label: touching_equipment\n",
      "logits proba class\n",
      "99.63% touching_equipment\n",
      "679 26 51 ./data/images_new/test/2_20181112_frames002347\n",
      "rgb logits...\n",
      "flow logits...\n",
      "===== Final predictions ====\n",
      "label: touching_equipment\n",
      "logits proba class\n",
      "99.89% touching_equipment\n",
      "680 26 52 ./data/images_new/test/2_20181112_frames002347\n"
     ]
    },
    {
     "name": "stderr",
     "output_type": "stream",
     "text": [
      " 44%|████▍     | 683/1552 [02:18<01:56,  7.46it/s]"
     ]
    },
    {
     "name": "stdout",
     "output_type": "stream",
     "text": [
      "rgb logits...\n",
      "flow logits...\n",
      "===== Final predictions ====\n",
      "label: touching_equipment\n",
      "logits proba class\n",
      "99.91% touching_equipment\n",
      "681 26 53 ./data/images_new/test/2_20181112_frames002347\n",
      "rgb logits...\n",
      "flow logits...\n",
      "===== Final predictions ====\n",
      "label: touching_equipment\n",
      "logits proba class\n",
      "99.87% touching_equipment\n",
      "682 26 54 ./data/images_new/test/2_20181112_frames002347\n"
     ]
    },
    {
     "name": "stderr",
     "output_type": "stream",
     "text": [
      " 44%|████▍     | 685/1552 [02:19<01:56,  7.46it/s]"
     ]
    },
    {
     "name": "stdout",
     "output_type": "stream",
     "text": [
      "rgb logits...\n",
      "flow logits...\n",
      "===== Final predictions ====\n",
      "label: touching_equipment\n",
      "logits proba class\n",
      "99.95% touching_equipment\n",
      "683 26 55 ./data/images_new/test/2_20181112_frames002347\n",
      "rgb logits...\n",
      "flow logits...\n",
      "===== Final predictions ====\n",
      "label: touching_equipment\n",
      "logits proba class\n",
      "99.88% touching_equipment\n",
      "684 26 56 ./data/images_new/test/2_20181112_frames002347\n"
     ]
    },
    {
     "name": "stderr",
     "output_type": "stream",
     "text": [
      " 44%|████▍     | 687/1552 [02:19<01:56,  7.40it/s]"
     ]
    },
    {
     "name": "stdout",
     "output_type": "stream",
     "text": [
      "rgb logits...\n",
      "flow logits...\n",
      "===== Final predictions ====\n",
      "label: touching_equipment\n",
      "logits proba class\n",
      "99.95% touching_equipment\n",
      "685 26 57 ./data/images_new/test/2_20181112_frames002347\n",
      "rgb logits...\n",
      "flow logits...\n",
      "===== Final predictions ====\n",
      "label: touching_equipment\n",
      "logits proba class\n",
      "95.05% touching_equipment\n",
      "686 26 0 ./data/images_new/test/2_20181112_frames002347\n"
     ]
    },
    {
     "name": "stderr",
     "output_type": "stream",
     "text": [
      " 44%|████▍     | 689/1552 [02:19<01:54,  7.51it/s]"
     ]
    },
    {
     "name": "stdout",
     "output_type": "stream",
     "text": [
      "rgb logits...\n",
      "flow logits...\n",
      "===== Final predictions ====\n",
      "label: touching_equipment\n",
      "logits proba class\n",
      "96.58% touching_equipment\n",
      "687 26 1 ./data/images_new/test/2_20181112_frames002347\n",
      "rgb logits...\n",
      "flow logits...\n",
      "===== Final predictions ====\n",
      "label: touching_equipment\n",
      "logits proba class\n",
      "99.50% touching_equipment\n",
      "688 26 2 ./data/images_new/test/2_20181112_frames002347\n"
     ]
    },
    {
     "name": "stderr",
     "output_type": "stream",
     "text": [
      " 45%|████▍     | 691/1552 [02:20<01:53,  7.59it/s]"
     ]
    },
    {
     "name": "stdout",
     "output_type": "stream",
     "text": [
      "rgb logits...\n",
      "flow logits...\n",
      "===== Final predictions ====\n",
      "label: touching_equipment\n",
      "logits proba class\n",
      "92.91% touching_equipment\n",
      "689 26 3 ./data/images_new/test/2_20181112_frames002347\n",
      "rgb logits...\n",
      "flow logits...\n",
      "===== Final predictions ====\n",
      "label: touching_equipment\n",
      "logits proba class\n",
      "98.66% touching_equipment\n",
      "690 26 4 ./data/images_new/test/2_20181112_frames002347\n"
     ]
    },
    {
     "name": "stderr",
     "output_type": "stream",
     "text": [
      " 45%|████▍     | 693/1552 [02:20<01:52,  7.64it/s]"
     ]
    },
    {
     "name": "stdout",
     "output_type": "stream",
     "text": [
      "rgb logits...\n",
      "flow logits...\n",
      "===== Final predictions ====\n",
      "label: touching_equipment\n",
      "logits proba class\n",
      "95.65% touching_equipment\n",
      "691 26 5 ./data/images_new/test/2_20181112_frames002347\n",
      "rgb logits...\n",
      "flow logits...\n",
      "===== Final predictions ====\n",
      "label: touching_equipment\n",
      "logits proba class\n",
      "97.97% touching_equipment\n",
      "692 26 6 ./data/images_new/test/2_20181112_frames002347\n"
     ]
    },
    {
     "name": "stderr",
     "output_type": "stream",
     "text": [
      " 45%|████▍     | 695/1552 [02:20<01:51,  7.67it/s]"
     ]
    },
    {
     "name": "stdout",
     "output_type": "stream",
     "text": [
      "rgb logits...\n",
      "flow logits...\n",
      "===== Final predictions ====\n",
      "label: touching_equipment\n",
      "logits proba class\n",
      "86.18% touching_equipment\n",
      "693 26 7 ./data/images_new/test/2_20181112_frames002347\n",
      "rgb logits...\n",
      "flow logits...\n",
      "===== Final predictions ====\n",
      "label: touching_equipment\n",
      "logits proba class\n",
      "99.93% touching_equipment\n",
      "694 26 8 ./data/images_new/test/2_20181112_frames002347\n"
     ]
    },
    {
     "name": "stderr",
     "output_type": "stream",
     "text": [
      " 45%|████▍     | 697/1552 [02:20<01:51,  7.67it/s]"
     ]
    },
    {
     "name": "stdout",
     "output_type": "stream",
     "text": [
      "rgb logits...\n",
      "flow logits...\n",
      "===== Final predictions ====\n",
      "label: touching_equipment\n",
      "logits proba class\n",
      "97.97% touching_equipment\n",
      "695 26 9 ./data/images_new/test/2_20181112_frames002347\n",
      "rgb logits...\n",
      "flow logits...\n",
      "===== Final predictions ====\n",
      "label: touching_equipment\n",
      "logits proba class\n",
      "98.68% touching_equipment\n",
      "696 26 10 ./data/images_new/test/2_20181112_frames002347\n"
     ]
    },
    {
     "name": "stderr",
     "output_type": "stream",
     "text": [
      " 45%|████▌     | 699/1552 [02:21<01:51,  7.67it/s]"
     ]
    },
    {
     "name": "stdout",
     "output_type": "stream",
     "text": [
      "rgb logits...\n",
      "flow logits...\n",
      "===== Final predictions ====\n",
      "label: touching_equipment\n",
      "logits proba class\n",
      "87.75% touching_equipment\n",
      "697 26 11 ./data/images_new/test/2_20181112_frames002347\n",
      "rgb logits...\n",
      "flow logits...\n",
      "===== Final predictions ====\n",
      "label: touching_equipment\n",
      "logits proba class\n",
      "84.82% touching_equipment\n",
      "698 26 12 ./data/images_new/test/2_20181112_frames002347\n"
     ]
    },
    {
     "name": "stderr",
     "output_type": "stream",
     "text": [
      " 45%|████▌     | 701/1552 [02:21<01:51,  7.65it/s]"
     ]
    },
    {
     "name": "stdout",
     "output_type": "stream",
     "text": [
      "rgb logits...\n",
      "flow logits...\n",
      "===== Final predictions ====\n",
      "label: touching_equipment\n",
      "logits proba class\n",
      "67.17% touching_equipment\n",
      "699 26 13 ./data/images_new/test/2_20181112_frames002347\n",
      "rgb logits...\n",
      "flow logits...\n",
      "===== Final predictions ====\n",
      "label: touching_equipment\n",
      "logits proba class\n",
      "75.96% touching_equipment\n",
      "700 26 14 ./data/images_new/test/2_20181112_frames002347\n"
     ]
    },
    {
     "name": "stderr",
     "output_type": "stream",
     "text": [
      " 45%|████▌     | 703/1552 [02:21<01:51,  7.61it/s]"
     ]
    },
    {
     "name": "stdout",
     "output_type": "stream",
     "text": [
      "rgb logits...\n",
      "flow logits...\n",
      "===== Final predictions ====\n",
      "label: touching_equipment\n",
      "logits proba class\n",
      "83.87% touching_equipment\n",
      "701 26 15 ./data/images_new/test/2_20181112_frames002347\n",
      "rgb logits...\n",
      "flow logits...\n",
      "===== Final predictions ====\n",
      "label: touching_equipment\n",
      "logits proba class\n",
      "98.59% touching_equipment\n",
      "702 26 16 ./data/images_new/test/2_20181112_frames002347\n"
     ]
    },
    {
     "name": "stderr",
     "output_type": "stream",
     "text": [
      " 45%|████▌     | 705/1552 [02:21<01:50,  7.63it/s]"
     ]
    },
    {
     "name": "stdout",
     "output_type": "stream",
     "text": [
      "rgb logits...\n",
      "flow logits...\n",
      "===== Final predictions ====\n",
      "label: touching_equipment\n",
      "logits proba class\n",
      "99.85% touching_equipment\n",
      "703 26 17 ./data/images_new/test/2_20181112_frames002347\n",
      "rgb logits...\n",
      "flow logits...\n",
      "===== Final predictions ====\n",
      "label: touching_equipment\n",
      "logits proba class\n",
      "99.89% touching_equipment\n",
      "704 26 18 ./data/images_new/test/2_20181112_frames002347\n"
     ]
    },
    {
     "name": "stderr",
     "output_type": "stream",
     "text": [
      " 46%|████▌     | 707/1552 [02:22<01:50,  7.63it/s]"
     ]
    },
    {
     "name": "stdout",
     "output_type": "stream",
     "text": [
      "rgb logits...\n",
      "flow logits...\n",
      "===== Final predictions ====\n",
      "label: touching_equipment\n",
      "logits proba class\n",
      "99.94% touching_equipment\n",
      "705 26 19 ./data/images_new/test/2_20181112_frames002347\n",
      "rgb logits...\n",
      "flow logits...\n",
      "===== Final predictions ====\n",
      "label: touching_equipment\n",
      "logits proba class\n",
      "99.96% touching_equipment\n",
      "706 26 20 ./data/images_new/test/2_20181112_frames002347\n"
     ]
    },
    {
     "name": "stderr",
     "output_type": "stream",
     "text": [
      " 46%|████▌     | 709/1552 [02:22<01:50,  7.66it/s]"
     ]
    },
    {
     "name": "stdout",
     "output_type": "stream",
     "text": [
      "rgb logits...\n",
      "flow logits...\n",
      "===== Final predictions ====\n",
      "label: touching_equipment\n",
      "logits proba class\n",
      "99.97% touching_equipment\n",
      "707 26 21 ./data/images_new/test/2_20181112_frames002347\n",
      "rgb logits...\n",
      "flow logits...\n",
      "===== Final predictions ====\n",
      "label: touching_equipment\n",
      "logits proba class\n",
      "95.33% touching_equipment\n",
      "708 26 22 ./data/images_new/test/2_20181112_frames002347\n"
     ]
    },
    {
     "name": "stderr",
     "output_type": "stream",
     "text": [
      " 46%|████▌     | 711/1552 [02:22<01:49,  7.66it/s]"
     ]
    },
    {
     "name": "stdout",
     "output_type": "stream",
     "text": [
      "rgb logits...\n",
      "flow logits...\n",
      "===== Final predictions ====\n",
      "label: touching_equipment\n",
      "logits proba class\n",
      "99.54% touching_equipment\n",
      "709 26 23 ./data/images_new/test/2_20181112_frames002347\n",
      "rgb logits...\n",
      "flow logits...\n",
      "===== Final predictions ====\n",
      "label: touching_equipment\n",
      "logits proba class\n",
      "99.54% touching_equipment\n",
      "710 26 24 ./data/images_new/test/2_20181112_frames002347\n"
     ]
    },
    {
     "name": "stderr",
     "output_type": "stream",
     "text": [
      " 46%|████▌     | 713/1552 [02:22<01:50,  7.62it/s]"
     ]
    },
    {
     "name": "stdout",
     "output_type": "stream",
     "text": [
      "rgb logits...\n",
      "flow logits...\n",
      "===== Final predictions ====\n",
      "label: touching_equipment\n",
      "logits proba class\n",
      "99.08% touching_equipment\n",
      "711 26 25 ./data/images_new/test/2_20181112_frames002347\n",
      "rgb logits...\n",
      "flow logits...\n",
      "===== Final predictions ====\n",
      "label: touching_equipment\n",
      "logits proba class\n",
      "99.38% touching_equipment\n",
      "712 26 26 ./data/images_new/test/2_20181112_frames002347\n"
     ]
    },
    {
     "name": "stderr",
     "output_type": "stream",
     "text": [
      " 46%|████▌     | 715/1552 [02:23<01:50,  7.57it/s]"
     ]
    },
    {
     "name": "stdout",
     "output_type": "stream",
     "text": [
      "rgb logits...\n",
      "flow logits...\n",
      "===== Final predictions ====\n",
      "label: touching_equipment\n",
      "logits proba class\n",
      "99.32% touching_equipment\n",
      "713 26 27 ./data/images_new/test/2_20181112_frames002347\n",
      "rgb logits...\n",
      "flow logits...\n",
      "===== Final predictions ====\n",
      "label: touching_equipment\n",
      "logits proba class\n",
      "99.79% touching_equipment\n",
      "714 26 28 ./data/images_new/test/2_20181112_frames002347\n"
     ]
    },
    {
     "name": "stderr",
     "output_type": "stream",
     "text": [
      " 46%|████▌     | 717/1552 [02:23<01:52,  7.42it/s]"
     ]
    },
    {
     "name": "stdout",
     "output_type": "stream",
     "text": [
      "rgb logits...\n",
      "flow logits...\n",
      "===== Final predictions ====\n",
      "label: touching_equipment\n",
      "logits proba class\n",
      "99.90% touching_equipment\n",
      "715 26 29 ./data/images_new/test/2_20181112_frames002347\n",
      "rgb logits...\n",
      "flow logits...\n",
      "===== Final predictions ====\n",
      "label: touching_equipment\n",
      "logits proba class\n",
      "99.78% touching_equipment\n",
      "716 26 30 ./data/images_new/test/2_20181112_frames002347\n"
     ]
    },
    {
     "name": "stderr",
     "output_type": "stream",
     "text": [
      " 46%|████▋     | 719/1552 [02:23<01:50,  7.57it/s]"
     ]
    },
    {
     "name": "stdout",
     "output_type": "stream",
     "text": [
      "rgb logits...\n",
      "flow logits...\n",
      "===== Final predictions ====\n",
      "label: touching_equipment\n",
      "logits proba class\n",
      "99.85% touching_equipment\n",
      "717 26 31 ./data/images_new/test/2_20181112_frames002347\n",
      "rgb logits...\n",
      "flow logits...\n",
      "===== Final predictions ====\n",
      "label: touching_equipment\n",
      "logits proba class\n",
      "99.54% touching_equipment\n",
      "718 26 32 ./data/images_new/test/2_20181112_frames002347\n"
     ]
    },
    {
     "name": "stderr",
     "output_type": "stream",
     "text": [
      "\r",
      " 46%|████▋     | 720/1552 [02:23<01:58,  7.00it/s]"
     ]
    },
    {
     "name": "stdout",
     "output_type": "stream",
     "text": [
      "rgb logits...\n",
      "flow logits...\n",
      "===== Final predictions ====\n",
      "label: touching_equipment\n",
      "logits proba class\n",
      "99.21% touching_equipment\n",
      "719 26 33 ./data/images_new/test/2_20181112_frames002347\n",
      "rgb logits...\n"
     ]
    },
    {
     "name": "stderr",
     "output_type": "stream",
     "text": [
      " 47%|████▋     | 722/1552 [02:24<02:00,  6.88it/s]"
     ]
    },
    {
     "name": "stdout",
     "output_type": "stream",
     "text": [
      "flow logits...\n",
      "===== Final predictions ====\n",
      "label: touching_equipment\n",
      "logits proba class\n",
      "98.29% touching_equipment\n",
      "720 26 34 ./data/images_new/test/2_20181112_frames002347\n",
      "rgb logits...\n",
      "flow logits...\n",
      "===== Final predictions ====\n",
      "label: touching_equipment\n",
      "logits proba class\n",
      "98.84% touching_equipment\n",
      "721 26 35 ./data/images_new/test/2_20181112_frames002347\n"
     ]
    },
    {
     "name": "stderr",
     "output_type": "stream",
     "text": [
      " 47%|████▋     | 724/1552 [02:24<01:53,  7.30it/s]"
     ]
    },
    {
     "name": "stdout",
     "output_type": "stream",
     "text": [
      "rgb logits...\n",
      "flow logits...\n",
      "===== Final predictions ====\n",
      "label: touching_equipment\n",
      "logits proba class\n",
      "99.32% touching_equipment\n",
      "722 26 36 ./data/images_new/test/2_20181112_frames002347\n",
      "rgb logits...\n",
      "flow logits...\n",
      "===== Final predictions ====\n",
      "label: touching_equipment\n",
      "logits proba class\n",
      "90.10% touching_equipment\n",
      "723 26 37 ./data/images_new/test/2_20181112_frames002347\n"
     ]
    },
    {
     "name": "stderr",
     "output_type": "stream",
     "text": [
      " 47%|████▋     | 726/1552 [02:24<01:49,  7.57it/s]"
     ]
    },
    {
     "name": "stdout",
     "output_type": "stream",
     "text": [
      "rgb logits...\n",
      "flow logits...\n",
      "===== Final predictions ====\n",
      "label: touching_equipment\n",
      "logits proba class\n",
      "91.20% touching_equipment\n",
      "724 26 38 ./data/images_new/test/2_20181112_frames002347\n",
      "rgb logits...\n",
      "flow logits...\n",
      "===== Final predictions ====\n",
      "label: touching_equipment\n",
      "logits proba class\n",
      "97.52% touching_equipment\n",
      "725 26 39 ./data/images_new/test/2_20181112_frames002347\n"
     ]
    },
    {
     "name": "stderr",
     "output_type": "stream",
     "text": [
      " 47%|████▋     | 728/1552 [02:24<01:46,  7.71it/s]"
     ]
    },
    {
     "name": "stdout",
     "output_type": "stream",
     "text": [
      "rgb logits...\n",
      "flow logits...\n",
      "===== Final predictions ====\n",
      "label: touching_equipment\n",
      "logits proba class\n",
      "87.60% touching_equipment\n",
      "726 26 40 ./data/images_new/test/2_20181112_frames002347\n",
      "rgb logits...\n",
      "flow logits...\n",
      "===== Final predictions ====\n",
      "label: touching_equipment\n",
      "logits proba class\n",
      "98.73% touching_equipment\n",
      "727 26 41 ./data/images_new/test/2_20181112_frames002347\n"
     ]
    },
    {
     "name": "stderr",
     "output_type": "stream",
     "text": [
      "\r",
      " 47%|████▋     | 729/1552 [02:25<01:58,  6.96it/s]"
     ]
    },
    {
     "name": "stdout",
     "output_type": "stream",
     "text": [
      "rgb logits...\n",
      "flow logits...\n",
      "===== Final predictions ====\n",
      "label: touching_equipment\n",
      "logits proba class\n",
      "97.20% touching_equipment\n",
      "728 26 42 ./data/images_new/test/2_20181112_frames002347\n",
      "rgb logits...\n"
     ]
    },
    {
     "name": "stderr",
     "output_type": "stream",
     "text": [
      " 47%|████▋     | 731/1552 [02:25<02:12,  6.19it/s]"
     ]
    },
    {
     "name": "stdout",
     "output_type": "stream",
     "text": [
      "flow logits...\n",
      "===== Final predictions ====\n",
      "label: touching_equipment\n",
      "logits proba class\n",
      "98.55% touching_equipment\n",
      "729 26 43 ./data/images_new/test/2_20181112_frames002347\n",
      "rgb logits...\n",
      "flow logits...\n",
      "===== Final predictions ====\n",
      "label: touching_equipment\n",
      "logits proba class\n",
      "85.62% touching_equipment\n",
      "730 26 44 ./data/images_new/test/2_20181112_frames002347\n"
     ]
    },
    {
     "name": "stderr",
     "output_type": "stream",
     "text": [
      "\r",
      " 47%|████▋     | 732/1552 [02:25<02:11,  6.26it/s]"
     ]
    },
    {
     "name": "stdout",
     "output_type": "stream",
     "text": [
      "rgb logits...\n",
      "flow logits...\n",
      "===== Final predictions ====\n",
      "label: touching_equipment\n",
      "logits proba class\n",
      "91.57% touching_equipment\n",
      "731 26 45 ./data/images_new/test/2_20181112_frames002347\n",
      "rgb logits...\n",
      "flow logits...\n",
      "===== Final predictions ====\n",
      "label: touching_equipment\n",
      "logits proba class\n"
     ]
    },
    {
     "name": "stderr",
     "output_type": "stream",
     "text": [
      " 47%|████▋     | 734/1552 [02:25<02:18,  5.89it/s]"
     ]
    },
    {
     "name": "stdout",
     "output_type": "stream",
     "text": [
      "98.71% touching_equipment\n",
      "732 26 46 ./data/images_new/test/2_20181112_frames002347\n",
      "rgb logits...\n",
      "flow logits...\n",
      "===== Final predictions ====\n",
      "label: touching_equipment\n",
      "logits proba class\n",
      "97.18% touching_equipment\n",
      "733 26 47 ./data/images_new/test/2_20181112_frames002347\n"
     ]
    },
    {
     "name": "stderr",
     "output_type": "stream",
     "text": [
      "\r",
      " 47%|████▋     | 735/1552 [02:26<02:20,  5.81it/s]"
     ]
    },
    {
     "name": "stdout",
     "output_type": "stream",
     "text": [
      "rgb logits...\n",
      "flow logits...\n",
      "===== Final predictions ====\n",
      "label: touching_equipment\n",
      "logits proba class\n",
      "93.52% touching_equipment\n",
      "734 26 48 ./data/images_new/test/2_20181112_frames002347\n",
      "rgb logits...\n",
      "flow logits...\n",
      "===== Final predictions ====\n",
      "label: touching_equipment\n",
      "logits proba class\n"
     ]
    },
    {
     "name": "stderr",
     "output_type": "stream",
     "text": [
      " 47%|████▋     | 737/1552 [02:26<02:12,  6.15it/s]"
     ]
    },
    {
     "name": "stdout",
     "output_type": "stream",
     "text": [
      "88.13% touching_equipment\n",
      "735 26 49 ./data/images_new/test/2_20181112_frames002347\n",
      "rgb logits...\n",
      "flow logits...\n",
      "===== Final predictions ====\n",
      "label: touching_equipment\n",
      "logits proba class\n",
      "85.20% touching_equipment\n",
      "736 26 50 ./data/images_new/test/2_20181112_frames002347\n"
     ]
    },
    {
     "name": "stderr",
     "output_type": "stream",
     "text": [
      " 48%|████▊     | 739/1552 [02:26<02:08,  6.34it/s]"
     ]
    },
    {
     "name": "stdout",
     "output_type": "stream",
     "text": [
      "rgb logits...\n",
      "flow logits...\n",
      "===== Final predictions ====\n",
      "label: touching_equipment\n",
      "logits proba class\n",
      "94.44% touching_equipment\n",
      "737 26 51 ./data/images_new/test/2_20181112_frames002347\n",
      "rgb logits...\n",
      "flow logits...\n",
      "===== Final predictions ====\n",
      "label: touching_equipment\n",
      "logits proba class\n",
      "98.18% touching_equipment\n",
      "738 26 52 ./data/images_new/test/2_20181112_frames002347\n"
     ]
    },
    {
     "name": "stderr",
     "output_type": "stream",
     "text": [
      " 48%|████▊     | 741/1552 [02:27<01:57,  6.90it/s]"
     ]
    },
    {
     "name": "stdout",
     "output_type": "stream",
     "text": [
      "rgb logits...\n",
      "flow logits...\n",
      "===== Final predictions ====\n",
      "label: touching_equipment\n",
      "logits proba class\n",
      "99.68% touching_equipment\n",
      "739 26 53 ./data/images_new/test/2_20181112_frames002347\n",
      "rgb logits...\n",
      "flow logits...\n",
      "===== Final predictions ====\n",
      "label: touching_equipment\n",
      "logits proba class\n",
      "98.50% touching_equipment\n",
      "740 26 54 ./data/images_new/test/2_20181112_frames002347\n"
     ]
    },
    {
     "name": "stderr",
     "output_type": "stream",
     "text": [
      " 48%|████▊     | 743/1552 [02:27<01:51,  7.23it/s]"
     ]
    },
    {
     "name": "stdout",
     "output_type": "stream",
     "text": [
      "rgb logits...\n",
      "flow logits...\n",
      "===== Final predictions ====\n",
      "label: touching_equipment\n",
      "logits proba class\n",
      "99.41% touching_equipment\n",
      "741 26 55 ./data/images_new/test/2_20181112_frames002347\n",
      "rgb logits...\n",
      "flow logits...\n",
      "===== Final predictions ====\n",
      "label: touching_equipment\n",
      "logits proba class\n",
      "99.94% touching_equipment\n",
      "742 26 56 ./data/images_new/test/2_20181112_frames002347\n"
     ]
    },
    {
     "name": "stderr",
     "output_type": "stream",
     "text": [
      "\r",
      " 48%|████▊     | 744/1552 [02:27<01:52,  7.21it/s]"
     ]
    },
    {
     "name": "stdout",
     "output_type": "stream",
     "text": [
      "rgb logits...\n",
      "flow logits...\n",
      "===== Final predictions ====\n",
      "label: touching_equipment\n",
      "logits proba class\n",
      "99.98% touching_equipment\n",
      "743 26 57 ./data/images_new/test/2_20181112_frames002347\n",
      "[RGB] Filling cache for index 27\n"
     ]
    },
    {
     "name": "stderr",
     "output_type": "stream",
     "text": [
      "\r",
      " 48%|████▊     | 745/1552 [02:30<13:15,  1.01it/s]"
     ]
    },
    {
     "name": "stdout",
     "output_type": "stream",
     "text": [
      "[Flow] Filling cache for index 27\n",
      "rgb logits...\n",
      "flow logits...\n",
      "===== Final predictions ====\n",
      "label: other_action\n",
      "logits proba class\n",
      "99.36% other_action\n",
      "744 27 0 ./data/images_new/test/2_20181112_frames001279\n"
     ]
    },
    {
     "name": "stderr",
     "output_type": "stream",
     "text": [
      " 48%|████▊     | 747/1552 [02:30<07:28,  1.79it/s]"
     ]
    },
    {
     "name": "stdout",
     "output_type": "stream",
     "text": [
      "rgb logits...\n",
      "flow logits...\n",
      "===== Final predictions ====\n",
      "label: other_action\n",
      "logits proba class\n",
      "98.51% other_action\n",
      "745 27 1 ./data/images_new/test/2_20181112_frames001279\n",
      "rgb logits...\n",
      "flow logits...\n",
      "===== Final predictions ====\n",
      "label: other_action\n",
      "logits proba class\n",
      "98.10% other_action\n",
      "746 27 2 ./data/images_new/test/2_20181112_frames001279\n"
     ]
    },
    {
     "name": "stderr",
     "output_type": "stream",
     "text": [
      " 48%|████▊     | 749/1552 [02:30<04:36,  2.91it/s]"
     ]
    },
    {
     "name": "stdout",
     "output_type": "stream",
     "text": [
      "rgb logits...\n",
      "flow logits...\n",
      "===== Final predictions ====\n",
      "label: other_action\n",
      "logits proba class\n",
      "94.24% other_action\n",
      "747 27 3 ./data/images_new/test/2_20181112_frames001279\n",
      "rgb logits...\n",
      "flow logits...\n",
      "===== Final predictions ====\n",
      "label: other_action\n",
      "logits proba class\n",
      "97.62% other_action\n",
      "748 27 4 ./data/images_new/test/2_20181112_frames001279\n"
     ]
    },
    {
     "name": "stderr",
     "output_type": "stream",
     "text": [
      " 48%|████▊     | 751/1552 [02:31<03:04,  4.34it/s]"
     ]
    },
    {
     "name": "stdout",
     "output_type": "stream",
     "text": [
      "rgb logits...\n",
      "flow logits...\n",
      "===== Final predictions ====\n",
      "label: other_action\n",
      "logits proba class\n",
      "96.27% other_action\n",
      "749 27 5 ./data/images_new/test/2_20181112_frames001279\n",
      "rgb logits...\n",
      "flow logits...\n",
      "===== Final predictions ====\n",
      "label: other_action\n",
      "logits proba class\n",
      "97.31% other_action\n",
      "750 27 6 ./data/images_new/test/2_20181112_frames001279\n"
     ]
    },
    {
     "name": "stderr",
     "output_type": "stream",
     "text": [
      " 49%|████▊     | 753/1552 [02:31<02:19,  5.73it/s]"
     ]
    },
    {
     "name": "stdout",
     "output_type": "stream",
     "text": [
      "rgb logits...\n",
      "flow logits...\n",
      "===== Final predictions ====\n",
      "label: other_action\n",
      "logits proba class\n",
      "96.54% other_action\n",
      "751 27 7 ./data/images_new/test/2_20181112_frames001279\n",
      "rgb logits...\n",
      "flow logits...\n",
      "===== Final predictions ====\n",
      "label: other_action\n",
      "logits proba class\n",
      "96.19% other_action\n",
      "752 27 8 ./data/images_new/test/2_20181112_frames001279\n"
     ]
    },
    {
     "name": "stderr",
     "output_type": "stream",
     "text": [
      " 49%|████▊     | 755/1552 [02:31<02:00,  6.62it/s]"
     ]
    },
    {
     "name": "stdout",
     "output_type": "stream",
     "text": [
      "rgb logits...\n",
      "flow logits...\n",
      "===== Final predictions ====\n",
      "label: other_action\n",
      "logits proba class\n",
      "94.63% other_action\n",
      "753 27 0 ./data/images_new/test/2_20181112_frames001279\n",
      "rgb logits...\n",
      "flow logits...\n",
      "===== Final predictions ====\n",
      "label: other_action\n",
      "logits proba class\n",
      "97.51% other_action\n",
      "754 27 1 ./data/images_new/test/2_20181112_frames001279\n"
     ]
    },
    {
     "name": "stderr",
     "output_type": "stream",
     "text": [
      "\r",
      " 49%|████▊     | 756/1552 [02:31<01:53,  7.03it/s]"
     ]
    },
    {
     "name": "stdout",
     "output_type": "stream",
     "text": [
      "rgb logits...\n",
      "flow logits...\n",
      "===== Final predictions ====\n",
      "label: other_action\n",
      "logits proba class\n",
      "99.34% other_action\n",
      "755 27 2 ./data/images_new/test/2_20181112_frames001279\n",
      "rgb logits...\n",
      "flow logits...\n"
     ]
    },
    {
     "name": "stderr",
     "output_type": "stream",
     "text": [
      " 49%|████▉     | 758/1552 [02:32<02:04,  6.36it/s]"
     ]
    },
    {
     "name": "stdout",
     "output_type": "stream",
     "text": [
      "===== Final predictions ====\n",
      "label: other_action\n",
      "logits proba class\n",
      "99.83% other_action\n",
      "756 27 3 ./data/images_new/test/2_20181112_frames001279\n",
      "rgb logits...\n",
      "flow logits...\n",
      "===== Final predictions ====\n",
      "label: other_action\n",
      "logits proba class\n",
      "98.95% other_action\n",
      "757 27 4 ./data/images_new/test/2_20181112_frames001279\n"
     ]
    },
    {
     "name": "stderr",
     "output_type": "stream",
     "text": [
      "\r",
      " 49%|████▉     | 759/1552 [02:32<02:15,  5.87it/s]"
     ]
    },
    {
     "name": "stdout",
     "output_type": "stream",
     "text": [
      "rgb logits...\n",
      "flow logits...\n",
      "===== Final predictions ====\n",
      "label: other_action\n",
      "logits proba class\n",
      "85.90% other_action\n",
      "758 27 5 ./data/images_new/test/2_20181112_frames001279\n",
      "rgb logits...\n",
      "flow logits...\n"
     ]
    },
    {
     "name": "stderr",
     "output_type": "stream",
     "text": [
      " 49%|████▉     | 761/1552 [02:32<01:57,  6.72it/s]"
     ]
    },
    {
     "name": "stdout",
     "output_type": "stream",
     "text": [
      "===== Final predictions ====\n",
      "label: other_action\n",
      "logits proba class\n",
      "97.97% other_action\n",
      "759 27 6 ./data/images_new/test/2_20181112_frames001279\n",
      "rgb logits...\n",
      "flow logits...\n",
      "===== Final predictions ====\n",
      "label: other_action\n",
      "logits proba class\n",
      "97.88% other_action\n",
      "760 27 7 ./data/images_new/test/2_20181112_frames001279\n"
     ]
    },
    {
     "name": "stderr",
     "output_type": "stream",
     "text": [
      " 49%|████▉     | 763/1552 [02:32<01:47,  7.35it/s]"
     ]
    },
    {
     "name": "stdout",
     "output_type": "stream",
     "text": [
      "rgb logits...\n",
      "flow logits...\n",
      "===== Final predictions ====\n",
      "label: other_action\n",
      "logits proba class\n",
      "99.03% other_action\n",
      "761 27 8 ./data/images_new/test/2_20181112_frames001279\n",
      "rgb logits...\n",
      "flow logits...\n",
      "===== Final predictions ====\n",
      "label: rubbing_hands\n",
      "logits proba class\n",
      "96.80% rubbing_hands\n",
      "762 27 0 ./data/images_new/test/2_20181112_frames001279\n"
     ]
    },
    {
     "name": "stderr",
     "output_type": "stream",
     "text": [
      " 49%|████▉     | 765/1552 [02:33<01:42,  7.71it/s]"
     ]
    },
    {
     "name": "stdout",
     "output_type": "stream",
     "text": [
      "rgb logits...\n",
      "flow logits...\n",
      "===== Final predictions ====\n",
      "label: rubbing_hands\n",
      "logits proba class\n",
      "99.83% rubbing_hands\n",
      "763 27 1 ./data/images_new/test/2_20181112_frames001279\n",
      "rgb logits...\n",
      "flow logits...\n",
      "===== Final predictions ====\n",
      "label: rubbing_hands\n",
      "logits proba class\n",
      "99.75% rubbing_hands\n",
      "764 27 2 ./data/images_new/test/2_20181112_frames001279\n"
     ]
    },
    {
     "name": "stderr",
     "output_type": "stream",
     "text": [
      "\r",
      " 49%|████▉     | 766/1552 [02:33<01:40,  7.81it/s]"
     ]
    },
    {
     "name": "stdout",
     "output_type": "stream",
     "text": [
      "rgb logits...\n",
      "flow logits...\n",
      "===== Final predictions ====\n",
      "label: rubbing_hands\n",
      "logits proba class\n",
      "99.93% rubbing_hands\n",
      "765 27 3 ./data/images_new/test/2_20181112_frames001279\n",
      "rgb logits...\n",
      "flow logits...\n"
     ]
    },
    {
     "name": "stderr",
     "output_type": "stream",
     "text": [
      " 49%|████▉     | 768/1552 [02:33<01:51,  7.00it/s]"
     ]
    },
    {
     "name": "stdout",
     "output_type": "stream",
     "text": [
      "===== Final predictions ====\n",
      "label: rubbing_hands\n",
      "logits proba class\n",
      "99.97% rubbing_hands\n",
      "766 27 4 ./data/images_new/test/2_20181112_frames001279\n",
      "rgb logits...\n",
      "flow logits...\n",
      "===== Final predictions ====\n",
      "label: rubbing_hands\n",
      "logits proba class\n",
      "99.91% rubbing_hands\n",
      "767 27 5 ./data/images_new/test/2_20181112_frames001279\n"
     ]
    },
    {
     "name": "stderr",
     "output_type": "stream",
     "text": [
      " 50%|████▉     | 770/1552 [02:33<01:54,  6.84it/s]"
     ]
    },
    {
     "name": "stdout",
     "output_type": "stream",
     "text": [
      "rgb logits...\n",
      "flow logits...\n",
      "===== Final predictions ====\n",
      "label: rubbing_hands\n",
      "logits proba class\n",
      "85.76% rubbing_hands\n",
      "768 27 6 ./data/images_new/test/2_20181112_frames001279\n",
      "rgb logits...\n",
      "flow logits...\n",
      "===== Final predictions ====\n",
      "label: rubbing_hands\n",
      "logits proba class\n",
      "65.60% rubbing_hands\n",
      "769 27 7 ./data/images_new/test/2_20181112_frames001279\n"
     ]
    },
    {
     "name": "stderr",
     "output_type": "stream",
     "text": [
      " 50%|████▉     | 772/1552 [02:34<01:49,  7.09it/s]"
     ]
    },
    {
     "name": "stdout",
     "output_type": "stream",
     "text": [
      "rgb logits...\n",
      "flow logits...\n",
      "===== Final predictions ====\n",
      "label: rubbing_hands\n",
      "logits proba class\n",
      "78.64% other_action\n",
      "770 27 8 ./data/images_new/test/2_20181112_frames001279\n",
      "rgb logits...\n",
      "flow logits...\n",
      "===== Final predictions ====\n",
      "label: rubbing_hands\n",
      "logits proba class\n",
      "79.29% other_action\n",
      "771 27 9 ./data/images_new/test/2_20181112_frames001279\n"
     ]
    },
    {
     "name": "stderr",
     "output_type": "stream",
     "text": [
      "\r",
      " 50%|████▉     | 773/1552 [02:34<01:45,  7.36it/s]"
     ]
    },
    {
     "name": "stdout",
     "output_type": "stream",
     "text": [
      "rgb logits...\n",
      "flow logits...\n",
      "===== Final predictions ====\n",
      "label: rubbing_hands\n",
      "logits proba class\n",
      "95.48% other_action\n",
      "772 27 10 ./data/images_new/test/2_20181112_frames001279\n",
      "rgb logits...\n",
      "flow logits...\n",
      "===== Final predictions ====\n",
      "label: rubbing_hands\n",
      "logits proba class\n",
      "65.41% rubbing_hands\n"
     ]
    },
    {
     "name": "stderr",
     "output_type": "stream",
     "text": [
      " 50%|████▉     | 775/1552 [02:34<01:58,  6.54it/s]"
     ]
    },
    {
     "name": "stdout",
     "output_type": "stream",
     "text": [
      "773 27 11 ./data/images_new/test/2_20181112_frames001279\n",
      "rgb logits...\n",
      "flow logits...\n",
      "===== Final predictions ====\n",
      "label: rubbing_hands\n",
      "logits proba class\n",
      "67.62% other_action\n",
      "774 27 12 ./data/images_new/test/2_20181112_frames001279\n"
     ]
    },
    {
     "name": "stderr",
     "output_type": "stream",
     "text": [
      " 50%|█████     | 777/1552 [02:34<01:56,  6.64it/s]"
     ]
    },
    {
     "name": "stdout",
     "output_type": "stream",
     "text": [
      "rgb logits...\n",
      "flow logits...\n",
      "===== Final predictions ====\n",
      "label: rubbing_hands\n",
      "logits proba class\n",
      "59.54% rubbing_hands\n",
      "775 27 13 ./data/images_new/test/2_20181112_frames001279\n",
      "rgb logits...\n",
      "flow logits...\n",
      "===== Final predictions ====\n",
      "label: rubbing_hands\n",
      "logits proba class\n",
      "57.51% rubbing_hands\n",
      "776 27 14 ./data/images_new/test/2_20181112_frames001279\n"
     ]
    },
    {
     "name": "stderr",
     "output_type": "stream",
     "text": [
      " 50%|█████     | 779/1552 [02:35<01:55,  6.71it/s]"
     ]
    },
    {
     "name": "stdout",
     "output_type": "stream",
     "text": [
      "rgb logits...\n",
      "flow logits...\n",
      "===== Final predictions ====\n",
      "label: rubbing_hands\n",
      "logits proba class\n",
      "82.08% other_action\n",
      "777 27 15 ./data/images_new/test/2_20181112_frames001279\n",
      "rgb logits...\n",
      "flow logits...\n",
      "===== Final predictions ====\n",
      "label: rubbing_hands\n",
      "logits proba class\n",
      "77.82% rubbing_hands\n",
      "778 27 16 ./data/images_new/test/2_20181112_frames001279\n"
     ]
    },
    {
     "name": "stderr",
     "output_type": "stream",
     "text": [
      " 50%|█████     | 781/1552 [02:35<01:46,  7.27it/s]"
     ]
    },
    {
     "name": "stdout",
     "output_type": "stream",
     "text": [
      "rgb logits...\n",
      "flow logits...\n",
      "===== Final predictions ====\n",
      "label: rubbing_hands\n",
      "logits proba class\n",
      "93.05% rubbing_hands\n",
      "779 27 17 ./data/images_new/test/2_20181112_frames001279\n",
      "rgb logits...\n",
      "flow logits...\n",
      "===== Final predictions ====\n",
      "label: rubbing_hands\n",
      "logits proba class\n",
      "96.39% rubbing_hands\n",
      "780 27 18 ./data/images_new/test/2_20181112_frames001279\n"
     ]
    },
    {
     "name": "stderr",
     "output_type": "stream",
     "text": [
      " 50%|█████     | 783/1552 [02:35<01:40,  7.68it/s]"
     ]
    },
    {
     "name": "stdout",
     "output_type": "stream",
     "text": [
      "rgb logits...\n",
      "flow logits...\n",
      "===== Final predictions ====\n",
      "label: rubbing_hands\n",
      "logits proba class\n",
      "96.78% rubbing_hands\n",
      "781 27 19 ./data/images_new/test/2_20181112_frames001279\n",
      "rgb logits...\n",
      "flow logits...\n",
      "===== Final predictions ====\n",
      "label: rubbing_hands\n",
      "logits proba class\n",
      "88.98% rubbing_hands\n",
      "782 27 20 ./data/images_new/test/2_20181112_frames001279\n"
     ]
    },
    {
     "name": "stderr",
     "output_type": "stream",
     "text": [
      " 51%|█████     | 785/1552 [02:35<01:37,  7.84it/s]"
     ]
    },
    {
     "name": "stdout",
     "output_type": "stream",
     "text": [
      "rgb logits...\n",
      "flow logits...\n",
      "===== Final predictions ====\n",
      "label: rubbing_hands\n",
      "logits proba class\n",
      "99.91% rubbing_hands\n",
      "783 27 21 ./data/images_new/test/2_20181112_frames001279\n",
      "rgb logits...\n",
      "flow logits...\n",
      "===== Final predictions ====\n",
      "label: rubbing_hands\n",
      "logits proba class\n",
      "99.55% rubbing_hands\n",
      "784 27 22 ./data/images_new/test/2_20181112_frames001279\n"
     ]
    },
    {
     "name": "stderr",
     "output_type": "stream",
     "text": [
      "\r",
      " 51%|█████     | 786/1552 [02:36<01:49,  7.01it/s]"
     ]
    },
    {
     "name": "stdout",
     "output_type": "stream",
     "text": [
      "rgb logits...\n",
      "flow logits...\n",
      "===== Final predictions ====\n",
      "label: rubbing_hands\n",
      "logits proba class\n",
      "95.95% rubbing_hands\n",
      "785 27 23 ./data/images_new/test/2_20181112_frames001279\n",
      "rgb logits...\n",
      "flow logits...\n"
     ]
    },
    {
     "name": "stderr",
     "output_type": "stream",
     "text": [
      "\r",
      " 51%|█████     | 787/1552 [02:36<01:52,  6.81it/s]"
     ]
    },
    {
     "name": "stdout",
     "output_type": "stream",
     "text": [
      "===== Final predictions ====\n",
      "label: rubbing_hands\n",
      "logits proba class\n",
      "100.00% rubbing_hands\n",
      "786 27 24 ./data/images_new/test/2_20181112_frames001279\n",
      "[RGB] Filling cache for index 28\n"
     ]
    },
    {
     "name": "stderr",
     "output_type": "stream",
     "text": [
      "\r",
      " 51%|█████     | 788/1552 [02:37<06:09,  2.07it/s]"
     ]
    },
    {
     "name": "stdout",
     "output_type": "stream",
     "text": [
      "[Flow] Filling cache for index 28\n",
      "rgb logits...\n",
      "flow logits...\n",
      "===== Final predictions ====\n",
      "label: other_action\n",
      "logits proba class\n",
      "96.27% other_action\n",
      "787 28 0 ./data/images_new/test/2_20181112_frames001356\n"
     ]
    },
    {
     "name": "stderr",
     "output_type": "stream",
     "text": [
      " 51%|█████     | 790/1552 [02:37<03:58,  3.19it/s]"
     ]
    },
    {
     "name": "stdout",
     "output_type": "stream",
     "text": [
      "rgb logits...\n",
      "flow logits...\n",
      "===== Final predictions ====\n",
      "label: other_action\n",
      "logits proba class\n",
      "96.47% other_action\n",
      "788 28 0 ./data/images_new/test/2_20181112_frames001356\n",
      "rgb logits...\n",
      "flow logits...\n",
      "===== Final predictions ====\n",
      "label: rubbing_hands\n",
      "logits proba class\n",
      "99.39% rubbing_hands\n",
      "789 28 0 ./data/images_new/test/2_20181112_frames001356\n"
     ]
    },
    {
     "name": "stderr",
     "output_type": "stream",
     "text": [
      " 51%|█████     | 792/1552 [02:38<02:46,  4.57it/s]"
     ]
    },
    {
     "name": "stdout",
     "output_type": "stream",
     "text": [
      "rgb logits...\n",
      "flow logits...\n",
      "===== Final predictions ====\n",
      "label: rubbing_hands\n",
      "logits proba class\n",
      "85.92% rubbing_hands\n",
      "790 28 1 ./data/images_new/test/2_20181112_frames001356\n",
      "rgb logits...\n",
      "flow logits...\n",
      "===== Final predictions ====\n",
      "label: rubbing_hands\n",
      "logits proba class\n",
      "79.47% rubbing_hands\n",
      "791 28 2 ./data/images_new/test/2_20181112_frames001356\n"
     ]
    },
    {
     "name": "stderr",
     "output_type": "stream",
     "text": [
      "\r",
      " 51%|█████     | 793/1552 [02:38<02:26,  5.19it/s]"
     ]
    },
    {
     "name": "stdout",
     "output_type": "stream",
     "text": [
      "rgb logits...\n",
      "flow logits...\n",
      "===== Final predictions ====\n",
      "label: other_action\n",
      "logits proba class\n",
      "97.54% touching_equipment\n",
      "792 28 0 ./data/images_new/test/2_20181112_frames001356\n",
      "[RGB] Filling cache for index 29\n"
     ]
    },
    {
     "name": "stderr",
     "output_type": "stream",
     "text": [
      "\r",
      " 51%|█████     | 794/1552 [02:40<10:14,  1.23it/s]"
     ]
    },
    {
     "name": "stdout",
     "output_type": "stream",
     "text": [
      "[Flow] Filling cache for index 29\n",
      "rgb logits...\n",
      "flow logits...\n",
      "===== Final predictions ====\n",
      "label: rubbing_hands\n",
      "logits proba class\n",
      "88.38% other_action\n",
      "793 29 0 ./data/images_new/test/2_20181112_frames001485\n"
     ]
    },
    {
     "name": "stderr",
     "output_type": "stream",
     "text": [
      " 51%|█████▏    | 796/1552 [02:40<05:59,  2.10it/s]"
     ]
    },
    {
     "name": "stdout",
     "output_type": "stream",
     "text": [
      "rgb logits...\n",
      "flow logits...\n",
      "===== Final predictions ====\n",
      "label: rubbing_hands\n",
      "logits proba class\n",
      "64.91% rubbing_hands\n",
      "794 29 1 ./data/images_new/test/2_20181112_frames001485\n",
      "rgb logits...\n",
      "flow logits...\n",
      "===== Final predictions ====\n",
      "label: rubbing_hands\n",
      "logits proba class\n",
      "65.40% rubbing_hands\n",
      "795 29 2 ./data/images_new/test/2_20181112_frames001485\n"
     ]
    },
    {
     "name": "stderr",
     "output_type": "stream",
     "text": [
      " 51%|█████▏    | 798/1552 [02:41<03:54,  3.22it/s]"
     ]
    },
    {
     "name": "stdout",
     "output_type": "stream",
     "text": [
      "rgb logits...\n",
      "flow logits...\n",
      "===== Final predictions ====\n",
      "label: rubbing_hands\n",
      "logits proba class\n",
      "74.17% other_action\n",
      "796 29 3 ./data/images_new/test/2_20181112_frames001485\n",
      "rgb logits...\n",
      "flow logits...\n",
      "===== Final predictions ====\n",
      "label: rubbing_hands\n",
      "logits proba class\n",
      "70.68% other_action\n",
      "797 29 4 ./data/images_new/test/2_20181112_frames001485\n"
     ]
    },
    {
     "name": "stderr",
     "output_type": "stream",
     "text": [
      " 52%|█████▏    | 800/1552 [02:41<02:42,  4.62it/s]"
     ]
    },
    {
     "name": "stdout",
     "output_type": "stream",
     "text": [
      "rgb logits...\n",
      "flow logits...\n",
      "===== Final predictions ====\n",
      "label: rubbing_hands\n",
      "logits proba class\n",
      "81.50% other_action\n",
      "798 29 5 ./data/images_new/test/2_20181112_frames001485\n",
      "rgb logits...\n",
      "flow logits...\n",
      "===== Final predictions ====\n",
      "label: rubbing_hands\n",
      "logits proba class\n",
      "81.97% other_action\n",
      "799 29 6 ./data/images_new/test/2_20181112_frames001485\n"
     ]
    },
    {
     "name": "stderr",
     "output_type": "stream",
     "text": [
      " 52%|█████▏    | 802/1552 [02:41<02:07,  5.87it/s]"
     ]
    },
    {
     "name": "stdout",
     "output_type": "stream",
     "text": [
      "rgb logits...\n",
      "flow logits...\n",
      "===== Final predictions ====\n",
      "label: rubbing_hands\n",
      "logits proba class\n",
      "48.85% other_action\n",
      "800 29 7 ./data/images_new/test/2_20181112_frames001485\n",
      "rgb logits...\n",
      "flow logits...\n",
      "===== Final predictions ====\n",
      "label: rubbing_hands\n",
      "logits proba class\n",
      "61.89% rubbing_hands\n",
      "801 29 8 ./data/images_new/test/2_20181112_frames001485\n"
     ]
    },
    {
     "name": "stderr",
     "output_type": "stream",
     "text": [
      " 52%|█████▏    | 804/1552 [02:41<01:50,  6.76it/s]"
     ]
    },
    {
     "name": "stdout",
     "output_type": "stream",
     "text": [
      "rgb logits...\n",
      "flow logits...\n",
      "===== Final predictions ====\n",
      "label: rubbing_hands\n",
      "logits proba class\n",
      "50.48% other_action\n",
      "802 29 9 ./data/images_new/test/2_20181112_frames001485\n",
      "rgb logits...\n",
      "flow logits...\n",
      "===== Final predictions ====\n",
      "label: rubbing_hands\n",
      "logits proba class\n",
      "54.66% other_action\n",
      "803 29 10 ./data/images_new/test/2_20181112_frames001485\n"
     ]
    },
    {
     "name": "stderr",
     "output_type": "stream",
     "text": [
      " 52%|█████▏    | 806/1552 [02:42<01:41,  7.37it/s]"
     ]
    },
    {
     "name": "stdout",
     "output_type": "stream",
     "text": [
      "rgb logits...\n",
      "flow logits...\n",
      "===== Final predictions ====\n",
      "label: rubbing_hands\n",
      "logits proba class\n",
      "68.96% other_action\n",
      "804 29 11 ./data/images_new/test/2_20181112_frames001485\n",
      "rgb logits...\n",
      "flow logits...\n",
      "===== Final predictions ====\n",
      "label: rubbing_hands\n",
      "logits proba class\n",
      "56.26% rubbing_hands\n",
      "805 29 12 ./data/images_new/test/2_20181112_frames001485\n"
     ]
    },
    {
     "name": "stderr",
     "output_type": "stream",
     "text": [
      "\r",
      " 52%|█████▏    | 807/1552 [02:42<01:38,  7.58it/s]"
     ]
    },
    {
     "name": "stdout",
     "output_type": "stream",
     "text": [
      "rgb logits...\n",
      "flow logits...\n",
      "===== Final predictions ====\n",
      "label: rubbing_hands\n",
      "logits proba class\n",
      "56.34% rubbing_hands\n",
      "806 29 13 ./data/images_new/test/2_20181112_frames001485\n",
      "rgb logits...\n",
      "flow logits...\n"
     ]
    },
    {
     "name": "stderr",
     "output_type": "stream",
     "text": [
      " 52%|█████▏    | 809/1552 [02:42<01:50,  6.69it/s]"
     ]
    },
    {
     "name": "stdout",
     "output_type": "stream",
     "text": [
      "===== Final predictions ====\n",
      "label: rubbing_hands\n",
      "logits proba class\n",
      "64.76% rubbing_hands\n",
      "807 29 14 ./data/images_new/test/2_20181112_frames001485\n",
      "rgb logits...\n",
      "flow logits...\n",
      "===== Final predictions ====\n",
      "label: rubbing_hands\n",
      "logits proba class\n",
      "49.02% rubbing_hands\n",
      "808 29 15 ./data/images_new/test/2_20181112_frames001485\n"
     ]
    },
    {
     "name": "stderr",
     "output_type": "stream",
     "text": [
      " 52%|█████▏    | 811/1552 [02:42<01:41,  7.32it/s]"
     ]
    },
    {
     "name": "stdout",
     "output_type": "stream",
     "text": [
      "rgb logits...\n",
      "flow logits...\n",
      "===== Final predictions ====\n",
      "label: rubbing_hands\n",
      "logits proba class\n",
      "82.90% rubbing_hands\n",
      "809 29 16 ./data/images_new/test/2_20181112_frames001485\n",
      "rgb logits...\n",
      "flow logits...\n",
      "===== Final predictions ====\n",
      "label: rubbing_hands\n",
      "logits proba class\n",
      "57.65% other_action\n",
      "810 29 17 ./data/images_new/test/2_20181112_frames001485\n"
     ]
    },
    {
     "name": "stderr",
     "output_type": "stream",
     "text": [
      "\r",
      " 52%|█████▏    | 812/1552 [02:42<01:44,  7.06it/s]"
     ]
    },
    {
     "name": "stdout",
     "output_type": "stream",
     "text": [
      "rgb logits...\n",
      "flow logits...\n",
      "===== Final predictions ====\n",
      "label: rubbing_hands\n",
      "logits proba class\n",
      "86.25% rubbing_hands\n",
      "811 29 18 ./data/images_new/test/2_20181112_frames001485\n",
      "rgb logits...\n"
     ]
    },
    {
     "name": "stderr",
     "output_type": "stream",
     "text": [
      " 52%|█████▏    | 814/1552 [02:43<01:45,  7.02it/s]"
     ]
    },
    {
     "name": "stdout",
     "output_type": "stream",
     "text": [
      "flow logits...\n",
      "===== Final predictions ====\n",
      "label: rubbing_hands\n",
      "logits proba class\n",
      "63.26% other_action\n",
      "812 29 19 ./data/images_new/test/2_20181112_frames001485\n",
      "rgb logits...\n",
      "flow logits...\n",
      "===== Final predictions ====\n",
      "label: rubbing_hands\n",
      "logits proba class\n",
      "52.54% other_action\n",
      "813 29 20 ./data/images_new/test/2_20181112_frames001485\n"
     ]
    },
    {
     "name": "stderr",
     "output_type": "stream",
     "text": [
      " 53%|█████▎    | 816/1552 [02:43<01:37,  7.54it/s]"
     ]
    },
    {
     "name": "stdout",
     "output_type": "stream",
     "text": [
      "rgb logits...\n",
      "flow logits...\n",
      "===== Final predictions ====\n",
      "label: rubbing_hands\n",
      "logits proba class\n",
      "77.05% rubbing_hands\n",
      "814 29 21 ./data/images_new/test/2_20181112_frames001485\n",
      "rgb logits...\n",
      "flow logits...\n",
      "===== Final predictions ====\n",
      "label: rubbing_hands\n",
      "logits proba class\n",
      "93.05% rubbing_hands\n",
      "815 29 22 ./data/images_new/test/2_20181112_frames001485\n"
     ]
    },
    {
     "name": "stderr",
     "output_type": "stream",
     "text": [
      " 53%|█████▎    | 818/1552 [02:43<01:33,  7.84it/s]"
     ]
    },
    {
     "name": "stdout",
     "output_type": "stream",
     "text": [
      "rgb logits...\n",
      "flow logits...\n",
      "===== Final predictions ====\n",
      "label: other_action\n",
      "logits proba class\n",
      "98.84% other_action\n",
      "816 29 0 ./data/images_new/test/2_20181112_frames001485\n",
      "rgb logits...\n",
      "flow logits...\n",
      "===== Final predictions ====\n",
      "label: other_action\n",
      "logits proba class\n",
      "98.41% other_action\n",
      "817 29 1 ./data/images_new/test/2_20181112_frames001485\n"
     ]
    },
    {
     "name": "stderr",
     "output_type": "stream",
     "text": [
      " 53%|█████▎    | 820/1552 [02:44<01:31,  7.99it/s]"
     ]
    },
    {
     "name": "stdout",
     "output_type": "stream",
     "text": [
      "rgb logits...\n",
      "flow logits...\n",
      "===== Final predictions ====\n",
      "label: other_action\n",
      "logits proba class\n",
      "85.11% other_action\n",
      "818 29 2 ./data/images_new/test/2_20181112_frames001485\n",
      "rgb logits...\n",
      "flow logits...\n",
      "===== Final predictions ====\n",
      "label: other_action\n",
      "logits proba class\n",
      "66.14% touching_equipment\n",
      "819 29 3 ./data/images_new/test/2_20181112_frames001485\n"
     ]
    },
    {
     "name": "stderr",
     "output_type": "stream",
     "text": [
      " 53%|█████▎    | 822/1552 [02:44<01:30,  8.09it/s]"
     ]
    },
    {
     "name": "stdout",
     "output_type": "stream",
     "text": [
      "rgb logits...\n",
      "flow logits...\n",
      "===== Final predictions ====\n",
      "label: other_action\n",
      "logits proba class\n",
      "94.81% other_action\n",
      "820 29 4 ./data/images_new/test/2_20181112_frames001485\n",
      "rgb logits...\n",
      "flow logits...\n",
      "===== Final predictions ====\n",
      "label: other_action\n",
      "logits proba class\n",
      "93.51% other_action\n",
      "821 29 5 ./data/images_new/test/2_20181112_frames001485\n"
     ]
    },
    {
     "name": "stderr",
     "output_type": "stream",
     "text": [
      " 53%|█████▎    | 824/1552 [02:44<01:30,  8.02it/s]"
     ]
    },
    {
     "name": "stdout",
     "output_type": "stream",
     "text": [
      "rgb logits...\n",
      "flow logits...\n",
      "===== Final predictions ====\n",
      "label: other_action\n",
      "logits proba class\n",
      "96.73% other_action\n",
      "822 29 6 ./data/images_new/test/2_20181112_frames001485\n",
      "rgb logits...\n",
      "flow logits...\n",
      "===== Final predictions ====\n",
      "label: other_action\n",
      "logits proba class\n",
      "99.94% other_action\n",
      "823 29 7 ./data/images_new/test/2_20181112_frames001485\n"
     ]
    },
    {
     "name": "stderr",
     "output_type": "stream",
     "text": [
      " 53%|█████▎    | 826/1552 [02:44<01:35,  7.64it/s]"
     ]
    },
    {
     "name": "stdout",
     "output_type": "stream",
     "text": [
      "rgb logits...\n",
      "flow logits...\n",
      "===== Final predictions ====\n",
      "label: other_action\n",
      "logits proba class\n",
      "96.81% touching_equipment\n",
      "824 29 0 ./data/images_new/test/2_20181112_frames001485\n",
      "rgb logits...\n",
      "flow logits...\n",
      "===== Final predictions ====\n",
      "label: other_action\n",
      "logits proba class\n",
      "91.73% other_action\n",
      "825 29 1 ./data/images_new/test/2_20181112_frames001485\n"
     ]
    },
    {
     "name": "stderr",
     "output_type": "stream",
     "text": [
      " 53%|█████▎    | 828/1552 [02:45<01:36,  7.53it/s]"
     ]
    },
    {
     "name": "stdout",
     "output_type": "stream",
     "text": [
      "rgb logits...\n",
      "flow logits...\n",
      "===== Final predictions ====\n",
      "label: other_action\n",
      "logits proba class\n",
      "96.41% other_action\n",
      "826 29 2 ./data/images_new/test/2_20181112_frames001485\n",
      "rgb logits...\n",
      "flow logits...\n",
      "===== Final predictions ====\n",
      "label: other_action\n",
      "logits proba class\n",
      "99.19% other_action\n",
      "827 29 3 ./data/images_new/test/2_20181112_frames001485\n"
     ]
    },
    {
     "name": "stderr",
     "output_type": "stream",
     "text": [
      " 53%|█████▎    | 830/1552 [02:45<01:35,  7.57it/s]"
     ]
    },
    {
     "name": "stdout",
     "output_type": "stream",
     "text": [
      "rgb logits...\n",
      "flow logits...\n",
      "===== Final predictions ====\n",
      "label: other_action\n",
      "logits proba class\n",
      "96.66% other_action\n",
      "828 29 4 ./data/images_new/test/2_20181112_frames001485\n",
      "rgb logits...\n",
      "flow logits...\n",
      "===== Final predictions ====\n",
      "label: other_action\n",
      "logits proba class\n",
      "99.68% other_action\n",
      "829 29 5 ./data/images_new/test/2_20181112_frames001485\n"
     ]
    },
    {
     "name": "stderr",
     "output_type": "stream",
     "text": [
      " 54%|█████▎    | 832/1552 [02:45<01:34,  7.64it/s]"
     ]
    },
    {
     "name": "stdout",
     "output_type": "stream",
     "text": [
      "rgb logits...\n",
      "flow logits...\n",
      "===== Final predictions ====\n",
      "label: other_action\n",
      "logits proba class\n",
      "99.99% other_action\n",
      "830 29 6 ./data/images_new/test/2_20181112_frames001485\n",
      "rgb logits...\n",
      "flow logits...\n",
      "===== Final predictions ====\n",
      "label: other_action\n",
      "logits proba class\n",
      "99.99% other_action\n",
      "831 29 7 ./data/images_new/test/2_20181112_frames001485\n"
     ]
    },
    {
     "name": "stderr",
     "output_type": "stream",
     "text": [
      " 54%|█████▎    | 834/1552 [02:45<01:30,  7.90it/s]"
     ]
    },
    {
     "name": "stdout",
     "output_type": "stream",
     "text": [
      "rgb logits...\n",
      "flow logits...\n",
      "===== Final predictions ====\n",
      "label: other_action\n",
      "logits proba class\n",
      "97.77% other_action\n",
      "832 29 0 ./data/images_new/test/2_20181112_frames001485\n",
      "rgb logits...\n",
      "flow logits...\n",
      "===== Final predictions ====\n",
      "label: other_action\n",
      "logits proba class\n",
      "97.92% other_action\n",
      "833 29 1 ./data/images_new/test/2_20181112_frames001485\n"
     ]
    },
    {
     "name": "stderr",
     "output_type": "stream",
     "text": [
      " 54%|█████▍    | 836/1552 [02:46<01:29,  8.03it/s]"
     ]
    },
    {
     "name": "stdout",
     "output_type": "stream",
     "text": [
      "rgb logits...\n",
      "flow logits...\n",
      "===== Final predictions ====\n",
      "label: other_action\n",
      "logits proba class\n",
      "96.60% other_action\n",
      "834 29 2 ./data/images_new/test/2_20181112_frames001485\n",
      "rgb logits...\n",
      "flow logits...\n",
      "===== Final predictions ====\n",
      "label: other_action\n",
      "logits proba class\n",
      "99.34% other_action\n",
      "835 29 3 ./data/images_new/test/2_20181112_frames001485\n"
     ]
    },
    {
     "name": "stderr",
     "output_type": "stream",
     "text": [
      " 54%|█████▍    | 838/1552 [02:46<01:28,  8.05it/s]"
     ]
    },
    {
     "name": "stdout",
     "output_type": "stream",
     "text": [
      "rgb logits...\n",
      "flow logits...\n",
      "===== Final predictions ====\n",
      "label: other_action\n",
      "logits proba class\n",
      "99.69% other_action\n",
      "836 29 4 ./data/images_new/test/2_20181112_frames001485\n",
      "rgb logits...\n",
      "flow logits...\n",
      "===== Final predictions ====\n",
      "label: other_action\n",
      "logits proba class\n",
      "99.64% other_action\n",
      "837 29 5 ./data/images_new/test/2_20181112_frames001485\n"
     ]
    },
    {
     "name": "stderr",
     "output_type": "stream",
     "text": [
      " 54%|█████▍    | 840/1552 [02:46<01:28,  8.05it/s]"
     ]
    },
    {
     "name": "stdout",
     "output_type": "stream",
     "text": [
      "rgb logits...\n",
      "flow logits...\n",
      "===== Final predictions ====\n",
      "label: other_action\n",
      "logits proba class\n",
      "99.61% other_action\n",
      "838 29 6 ./data/images_new/test/2_20181112_frames001485\n",
      "rgb logits...\n",
      "flow logits...\n",
      "===== Final predictions ====\n",
      "label: other_action\n",
      "logits proba class\n",
      "99.83% other_action\n",
      "839 29 7 ./data/images_new/test/2_20181112_frames001485\n",
      "[RGB] Filling cache for index 30\n"
     ]
    },
    {
     "name": "stderr",
     "output_type": "stream",
     "text": [
      "\r",
      " 54%|█████▍    | 841/1552 [02:48<09:25,  1.26it/s]"
     ]
    },
    {
     "name": "stdout",
     "output_type": "stream",
     "text": [
      "[Flow] Filling cache for index 30\n",
      "rgb logits...\n",
      "flow logits...\n",
      "===== Final predictions ====\n",
      "label: other_action\n",
      "logits proba class\n",
      "100.00% other_action\n",
      "840 30 0 ./data/images_new/test/31_20181231_frames000179\n"
     ]
    },
    {
     "name": "stderr",
     "output_type": "stream",
     "text": [
      "\r",
      " 54%|█████▍    | 842/1552 [02:49<07:14,  1.63it/s]"
     ]
    },
    {
     "name": "stdout",
     "output_type": "stream",
     "text": [
      "rgb logits...\n",
      "flow logits...\n",
      "===== Final predictions ====\n",
      "label: other_action\n",
      "logits proba class\n",
      "100.00% other_action\n",
      "841 30 1 ./data/images_new/test/31_20181231_frames000179\n",
      "rgb logits...\n",
      "flow logits...\n"
     ]
    },
    {
     "name": "stderr",
     "output_type": "stream",
     "text": [
      " 54%|█████▍    | 844/1552 [02:49<04:29,  2.62it/s]"
     ]
    },
    {
     "name": "stdout",
     "output_type": "stream",
     "text": [
      "===== Final predictions ====\n",
      "label: other_action\n",
      "logits proba class\n",
      "99.87% other_action\n",
      "842 30 2 ./data/images_new/test/31_20181231_frames000179\n",
      "rgb logits...\n",
      "flow logits...\n",
      "===== Final predictions ====\n",
      "label: other_action\n",
      "logits proba class\n",
      "99.96% other_action\n",
      "843 30 3 ./data/images_new/test/31_20181231_frames000179\n"
     ]
    },
    {
     "name": "stderr",
     "output_type": "stream",
     "text": [
      " 55%|█████▍    | 846/1552 [02:49<03:00,  3.91it/s]"
     ]
    },
    {
     "name": "stdout",
     "output_type": "stream",
     "text": [
      "rgb logits...\n",
      "flow logits...\n",
      "===== Final predictions ====\n",
      "label: other_action\n",
      "logits proba class\n",
      "99.77% other_action\n",
      "844 30 4 ./data/images_new/test/31_20181231_frames000179\n",
      "rgb logits...\n",
      "flow logits...\n",
      "===== Final predictions ====\n",
      "label: other_action\n",
      "logits proba class\n",
      "94.33% other_action\n",
      "845 30 5 ./data/images_new/test/31_20181231_frames000179\n"
     ]
    },
    {
     "name": "stderr",
     "output_type": "stream",
     "text": [
      " 55%|█████▍    | 848/1552 [02:49<02:15,  5.19it/s]"
     ]
    },
    {
     "name": "stdout",
     "output_type": "stream",
     "text": [
      "rgb logits...\n",
      "flow logits...\n",
      "===== Final predictions ====\n",
      "label: other_action\n",
      "logits proba class\n",
      "83.90% other_action\n",
      "846 30 6 ./data/images_new/test/31_20181231_frames000179\n",
      "rgb logits...\n",
      "flow logits...\n",
      "===== Final predictions ====\n",
      "label: other_action\n",
      "logits proba class\n",
      "96.12% rubbing_hands\n",
      "847 30 7 ./data/images_new/test/31_20181231_frames000179\n"
     ]
    },
    {
     "name": "stderr",
     "output_type": "stream",
     "text": [
      " 55%|█████▍    | 850/1552 [02:50<01:54,  6.15it/s]"
     ]
    },
    {
     "name": "stdout",
     "output_type": "stream",
     "text": [
      "rgb logits...\n",
      "flow logits...\n",
      "===== Final predictions ====\n",
      "label: other_action\n",
      "logits proba class\n",
      "94.38% rubbing_hands\n",
      "848 30 8 ./data/images_new/test/31_20181231_frames000179\n",
      "rgb logits...\n",
      "flow logits...\n",
      "===== Final predictions ====\n",
      "label: other_action\n",
      "logits proba class\n",
      "98.79% rubbing_hands\n",
      "849 30 0 ./data/images_new/test/31_20181231_frames000179\n"
     ]
    },
    {
     "name": "stderr",
     "output_type": "stream",
     "text": [
      " 55%|█████▍    | 852/1552 [02:50<01:41,  6.87it/s]"
     ]
    },
    {
     "name": "stdout",
     "output_type": "stream",
     "text": [
      "rgb logits...\n",
      "flow logits...\n",
      "===== Final predictions ====\n",
      "label: other_action\n",
      "logits proba class\n",
      "42.01% touching_equipment\n",
      "850 30 1 ./data/images_new/test/31_20181231_frames000179\n",
      "rgb logits...\n",
      "flow logits...\n",
      "===== Final predictions ====\n",
      "label: other_action\n",
      "logits proba class\n",
      "97.48% rubbing_hands\n",
      "851 30 2 ./data/images_new/test/31_20181231_frames000179\n"
     ]
    },
    {
     "name": "stderr",
     "output_type": "stream",
     "text": [
      " 55%|█████▌    | 854/1552 [02:50<01:35,  7.29it/s]"
     ]
    },
    {
     "name": "stdout",
     "output_type": "stream",
     "text": [
      "rgb logits...\n",
      "flow logits...\n",
      "===== Final predictions ====\n",
      "label: other_action\n",
      "logits proba class\n",
      "85.56% rubbing_hands\n",
      "852 30 3 ./data/images_new/test/31_20181231_frames000179\n",
      "rgb logits...\n",
      "flow logits...\n",
      "===== Final predictions ====\n",
      "label: other_action\n",
      "logits proba class\n",
      "99.71% rubbing_hands\n",
      "853 30 4 ./data/images_new/test/31_20181231_frames000179\n"
     ]
    },
    {
     "name": "stderr",
     "output_type": "stream",
     "text": [
      " 55%|█████▌    | 856/1552 [02:50<01:32,  7.56it/s]"
     ]
    },
    {
     "name": "stdout",
     "output_type": "stream",
     "text": [
      "rgb logits...\n",
      "flow logits...\n",
      "===== Final predictions ====\n",
      "label: other_action\n",
      "logits proba class\n",
      "97.92% rubbing_hands\n",
      "854 30 5 ./data/images_new/test/31_20181231_frames000179\n",
      "rgb logits...\n",
      "flow logits...\n",
      "===== Final predictions ====\n",
      "label: other_action\n",
      "logits proba class\n",
      "95.31% rubbing_hands\n",
      "855 30 6 ./data/images_new/test/31_20181231_frames000179\n"
     ]
    },
    {
     "name": "stderr",
     "output_type": "stream",
     "text": [
      " 55%|█████▌    | 858/1552 [02:51<01:29,  7.73it/s]"
     ]
    },
    {
     "name": "stdout",
     "output_type": "stream",
     "text": [
      "rgb logits...\n",
      "flow logits...\n",
      "===== Final predictions ====\n",
      "label: other_action\n",
      "logits proba class\n",
      "98.74% rubbing_hands\n",
      "856 30 7 ./data/images_new/test/31_20181231_frames000179\n",
      "rgb logits...\n",
      "flow logits...\n",
      "===== Final predictions ====\n",
      "label: other_action\n",
      "logits proba class\n",
      "82.44% rubbing_hands\n",
      "857 30 8 ./data/images_new/test/31_20181231_frames000179\n"
     ]
    },
    {
     "name": "stderr",
     "output_type": "stream",
     "text": [
      " 55%|█████▌    | 860/1552 [02:51<01:27,  7.87it/s]"
     ]
    },
    {
     "name": "stdout",
     "output_type": "stream",
     "text": [
      "rgb logits...\n",
      "flow logits...\n",
      "===== Final predictions ====\n",
      "label: rubbing_hands\n",
      "logits proba class\n",
      "100.00% rubbing_hands\n",
      "858 30 0 ./data/images_new/test/31_20181231_frames000179\n",
      "rgb logits...\n",
      "flow logits...\n",
      "===== Final predictions ====\n",
      "label: rubbing_hands\n",
      "logits proba class\n",
      "99.96% rubbing_hands\n",
      "859 30 1 ./data/images_new/test/31_20181231_frames000179\n"
     ]
    },
    {
     "name": "stderr",
     "output_type": "stream",
     "text": [
      " 56%|█████▌    | 862/1552 [02:51<01:26,  7.95it/s]"
     ]
    },
    {
     "name": "stdout",
     "output_type": "stream",
     "text": [
      "rgb logits...\n",
      "flow logits...\n",
      "===== Final predictions ====\n",
      "label: rubbing_hands\n",
      "logits proba class\n",
      "100.00% rubbing_hands\n",
      "860 30 2 ./data/images_new/test/31_20181231_frames000179\n",
      "rgb logits...\n",
      "flow logits...\n",
      "===== Final predictions ====\n",
      "label: rubbing_hands\n",
      "logits proba class\n",
      "99.97% rubbing_hands\n",
      "861 30 3 ./data/images_new/test/31_20181231_frames000179\n"
     ]
    },
    {
     "name": "stderr",
     "output_type": "stream",
     "text": [
      " 56%|█████▌    | 864/1552 [02:51<01:26,  7.99it/s]"
     ]
    },
    {
     "name": "stdout",
     "output_type": "stream",
     "text": [
      "rgb logits...\n",
      "flow logits...\n",
      "===== Final predictions ====\n",
      "label: rubbing_hands\n",
      "logits proba class\n",
      "99.92% rubbing_hands\n",
      "862 30 4 ./data/images_new/test/31_20181231_frames000179\n",
      "rgb logits...\n",
      "flow logits...\n",
      "===== Final predictions ====\n",
      "label: rubbing_hands\n",
      "logits proba class\n",
      "99.97% rubbing_hands\n",
      "863 30 5 ./data/images_new/test/31_20181231_frames000179\n"
     ]
    },
    {
     "name": "stderr",
     "output_type": "stream",
     "text": [
      " 56%|█████▌    | 866/1552 [02:52<01:25,  8.01it/s]"
     ]
    },
    {
     "name": "stdout",
     "output_type": "stream",
     "text": [
      "rgb logits...\n",
      "flow logits...\n",
      "===== Final predictions ====\n",
      "label: rubbing_hands\n",
      "logits proba class\n",
      "99.99% rubbing_hands\n",
      "864 30 6 ./data/images_new/test/31_20181231_frames000179\n",
      "rgb logits...\n",
      "flow logits...\n",
      "===== Final predictions ====\n",
      "label: rubbing_hands\n",
      "logits proba class\n",
      "99.99% rubbing_hands\n",
      "865 30 7 ./data/images_new/test/31_20181231_frames000179\n"
     ]
    },
    {
     "name": "stderr",
     "output_type": "stream",
     "text": [
      " 56%|█████▌    | 868/1552 [02:52<01:25,  8.01it/s]"
     ]
    },
    {
     "name": "stdout",
     "output_type": "stream",
     "text": [
      "rgb logits...\n",
      "flow logits...\n",
      "===== Final predictions ====\n",
      "label: rubbing_hands\n",
      "logits proba class\n",
      "100.00% rubbing_hands\n",
      "866 30 8 ./data/images_new/test/31_20181231_frames000179\n",
      "rgb logits...\n",
      "flow logits...\n",
      "===== Final predictions ====\n",
      "label: rubbing_hands\n",
      "logits proba class\n",
      "100.00% rubbing_hands\n",
      "867 30 9 ./data/images_new/test/31_20181231_frames000179\n"
     ]
    },
    {
     "name": "stderr",
     "output_type": "stream",
     "text": [
      " 56%|█████▌    | 870/1552 [02:52<01:25,  8.02it/s]"
     ]
    },
    {
     "name": "stdout",
     "output_type": "stream",
     "text": [
      "rgb logits...\n",
      "flow logits...\n",
      "===== Final predictions ====\n",
      "label: rubbing_hands\n",
      "logits proba class\n",
      "99.99% rubbing_hands\n",
      "868 30 10 ./data/images_new/test/31_20181231_frames000179\n",
      "rgb logits...\n",
      "flow logits...\n",
      "===== Final predictions ====\n",
      "label: rubbing_hands\n",
      "logits proba class\n",
      "100.00% rubbing_hands\n",
      "869 30 11 ./data/images_new/test/31_20181231_frames000179\n"
     ]
    },
    {
     "name": "stderr",
     "output_type": "stream",
     "text": [
      " 56%|█████▌    | 872/1552 [02:52<01:24,  8.03it/s]"
     ]
    },
    {
     "name": "stdout",
     "output_type": "stream",
     "text": [
      "rgb logits...\n",
      "flow logits...\n",
      "===== Final predictions ====\n",
      "label: rubbing_hands\n",
      "logits proba class\n",
      "100.00% rubbing_hands\n",
      "870 30 12 ./data/images_new/test/31_20181231_frames000179\n",
      "rgb logits...\n",
      "flow logits...\n",
      "===== Final predictions ====\n",
      "label: rubbing_hands\n",
      "logits proba class\n",
      "100.00% rubbing_hands\n",
      "871 30 13 ./data/images_new/test/31_20181231_frames000179\n"
     ]
    },
    {
     "name": "stderr",
     "output_type": "stream",
     "text": [
      " 56%|█████▋    | 874/1552 [02:53<01:24,  8.03it/s]"
     ]
    },
    {
     "name": "stdout",
     "output_type": "stream",
     "text": [
      "rgb logits...\n",
      "flow logits...\n",
      "===== Final predictions ====\n",
      "label: rubbing_hands\n",
      "logits proba class\n",
      "99.99% rubbing_hands\n",
      "872 30 14 ./data/images_new/test/31_20181231_frames000179\n",
      "rgb logits...\n",
      "flow logits...\n",
      "===== Final predictions ====\n",
      "label: rubbing_hands\n",
      "logits proba class\n",
      "100.00% rubbing_hands\n",
      "873 30 15 ./data/images_new/test/31_20181231_frames000179\n"
     ]
    },
    {
     "name": "stderr",
     "output_type": "stream",
     "text": [
      " 56%|█████▋    | 876/1552 [02:53<01:24,  8.03it/s]"
     ]
    },
    {
     "name": "stdout",
     "output_type": "stream",
     "text": [
      "rgb logits...\n",
      "flow logits...\n",
      "===== Final predictions ====\n",
      "label: rubbing_hands\n",
      "logits proba class\n",
      "100.00% rubbing_hands\n",
      "874 30 16 ./data/images_new/test/31_20181231_frames000179\n",
      "rgb logits...\n",
      "flow logits...\n",
      "===== Final predictions ====\n",
      "label: rubbing_hands\n",
      "logits proba class\n",
      "100.00% rubbing_hands\n",
      "875 30 17 ./data/images_new/test/31_20181231_frames000179\n"
     ]
    },
    {
     "name": "stderr",
     "output_type": "stream",
     "text": [
      " 57%|█████▋    | 878/1552 [02:53<01:24,  7.97it/s]"
     ]
    },
    {
     "name": "stdout",
     "output_type": "stream",
     "text": [
      "rgb logits...\n",
      "flow logits...\n",
      "===== Final predictions ====\n",
      "label: rubbing_hands\n",
      "logits proba class\n",
      "99.93% rubbing_hands\n",
      "876 30 18 ./data/images_new/test/31_20181231_frames000179\n",
      "rgb logits...\n",
      "flow logits...\n",
      "===== Final predictions ====\n",
      "label: rubbing_hands\n",
      "logits proba class\n",
      "100.00% rubbing_hands\n",
      "877 30 19 ./data/images_new/test/31_20181231_frames000179\n"
     ]
    },
    {
     "name": "stderr",
     "output_type": "stream",
     "text": [
      " 57%|█████▋    | 880/1552 [02:53<01:24,  7.98it/s]"
     ]
    },
    {
     "name": "stdout",
     "output_type": "stream",
     "text": [
      "rgb logits...\n",
      "flow logits...\n",
      "===== Final predictions ====\n",
      "label: rubbing_hands\n",
      "logits proba class\n",
      "100.00% rubbing_hands\n",
      "878 30 20 ./data/images_new/test/31_20181231_frames000179\n",
      "rgb logits...\n",
      "flow logits...\n",
      "===== Final predictions ====\n",
      "label: rubbing_hands\n",
      "logits proba class\n",
      "100.00% rubbing_hands\n",
      "879 30 21 ./data/images_new/test/31_20181231_frames000179\n"
     ]
    },
    {
     "name": "stderr",
     "output_type": "stream",
     "text": [
      " 57%|█████▋    | 882/1552 [02:54<01:23,  7.98it/s]"
     ]
    },
    {
     "name": "stdout",
     "output_type": "stream",
     "text": [
      "rgb logits...\n",
      "flow logits...\n",
      "===== Final predictions ====\n",
      "label: rubbing_hands\n",
      "logits proba class\n",
      "99.98% rubbing_hands\n",
      "880 30 22 ./data/images_new/test/31_20181231_frames000179\n",
      "rgb logits...\n",
      "flow logits...\n",
      "===== Final predictions ====\n",
      "label: rubbing_hands\n",
      "logits proba class\n",
      "99.99% rubbing_hands\n",
      "881 30 23 ./data/images_new/test/31_20181231_frames000179\n"
     ]
    },
    {
     "name": "stderr",
     "output_type": "stream",
     "text": [
      "\r",
      " 57%|█████▋    | 883/1552 [02:54<01:23,  7.97it/s]"
     ]
    },
    {
     "name": "stdout",
     "output_type": "stream",
     "text": [
      "rgb logits...\n",
      "flow logits...\n",
      "===== Final predictions ====\n",
      "label: rubbing_hands\n",
      "logits proba class\n",
      "99.98% rubbing_hands\n",
      "882 30 24 ./data/images_new/test/31_20181231_frames000179\n",
      "[RGB] Filling cache for index 31\n"
     ]
    },
    {
     "name": "stderr",
     "output_type": "stream",
     "text": [
      "\r",
      " 57%|█████▋    | 884/1552 [02:55<06:11,  1.80it/s]"
     ]
    },
    {
     "name": "stdout",
     "output_type": "stream",
     "text": [
      "[Flow] Filling cache for index 31\n",
      "rgb logits...\n",
      "flow logits...\n",
      "===== Final predictions ====\n",
      "label: other_action\n",
      "logits proba class\n",
      "95.47% other_action\n",
      "883 31 0 ./data/images_new/test/31_20181231_frames019965\n"
     ]
    },
    {
     "name": "stderr",
     "output_type": "stream",
     "text": [
      " 57%|█████▋    | 886/1552 [02:56<03:44,  2.97it/s]"
     ]
    },
    {
     "name": "stdout",
     "output_type": "stream",
     "text": [
      "rgb logits...\n",
      "flow logits...\n",
      "===== Final predictions ====\n",
      "label: other_action\n",
      "logits proba class\n",
      "96.57% other_action\n",
      "884 31 1 ./data/images_new/test/31_20181231_frames019965\n",
      "rgb logits...\n",
      "flow logits...\n",
      "===== Final predictions ====\n",
      "label: other_action\n",
      "logits proba class\n",
      "96.40% other_action\n",
      "885 31 2 ./data/images_new/test/31_20181231_frames019965\n"
     ]
    },
    {
     "name": "stderr",
     "output_type": "stream",
     "text": [
      " 57%|█████▋    | 888/1552 [02:56<02:32,  4.37it/s]"
     ]
    },
    {
     "name": "stdout",
     "output_type": "stream",
     "text": [
      "rgb logits...\n",
      "flow logits...\n",
      "===== Final predictions ====\n",
      "label: other_action\n",
      "logits proba class\n",
      "94.14% other_action\n",
      "886 31 0 ./data/images_new/test/31_20181231_frames019965\n",
      "rgb logits...\n",
      "flow logits...\n",
      "===== Final predictions ====\n",
      "label: other_action\n",
      "logits proba class\n",
      "96.15% other_action\n",
      "887 31 1 ./data/images_new/test/31_20181231_frames019965\n"
     ]
    },
    {
     "name": "stderr",
     "output_type": "stream",
     "text": [
      " 57%|█████▋    | 890/1552 [02:56<01:56,  5.69it/s]"
     ]
    },
    {
     "name": "stdout",
     "output_type": "stream",
     "text": [
      "rgb logits...\n",
      "flow logits...\n",
      "===== Final predictions ====\n",
      "label: other_action\n",
      "logits proba class\n",
      "95.35% other_action\n",
      "888 31 2 ./data/images_new/test/31_20181231_frames019965\n",
      "rgb logits...\n",
      "flow logits...\n",
      "===== Final predictions ====\n",
      "label: rubbing_hands\n",
      "logits proba class\n",
      "99.90% rubbing_hands\n",
      "889 31 0 ./data/images_new/test/31_20181231_frames019965\n"
     ]
    },
    {
     "name": "stderr",
     "output_type": "stream",
     "text": [
      " 57%|█████▋    | 892/1552 [02:56<01:38,  6.68it/s]"
     ]
    },
    {
     "name": "stdout",
     "output_type": "stream",
     "text": [
      "rgb logits...\n",
      "flow logits...\n",
      "===== Final predictions ====\n",
      "label: rubbing_hands\n",
      "logits proba class\n",
      "99.99% rubbing_hands\n",
      "890 31 1 ./data/images_new/test/31_20181231_frames019965\n",
      "rgb logits...\n",
      "flow logits...\n",
      "===== Final predictions ====\n",
      "label: rubbing_hands\n",
      "logits proba class\n",
      "99.73% rubbing_hands\n",
      "891 31 2 ./data/images_new/test/31_20181231_frames019965\n"
     ]
    },
    {
     "name": "stderr",
     "output_type": "stream",
     "text": [
      " 58%|█████▊    | 894/1552 [02:57<01:30,  7.24it/s]"
     ]
    },
    {
     "name": "stdout",
     "output_type": "stream",
     "text": [
      "rgb logits...\n",
      "flow logits...\n",
      "===== Final predictions ====\n",
      "label: rubbing_hands\n",
      "logits proba class\n",
      "61.17% rubbing_hands\n",
      "892 31 3 ./data/images_new/test/31_20181231_frames019965\n",
      "rgb logits...\n",
      "flow logits...\n",
      "===== Final predictions ====\n",
      "label: rubbing_hands\n",
      "logits proba class\n",
      "65.41% rubbing_hands\n",
      "893 31 4 ./data/images_new/test/31_20181231_frames019965\n"
     ]
    },
    {
     "name": "stderr",
     "output_type": "stream",
     "text": [
      " 58%|█████▊    | 896/1552 [02:57<01:26,  7.59it/s]"
     ]
    },
    {
     "name": "stdout",
     "output_type": "stream",
     "text": [
      "rgb logits...\n",
      "flow logits...\n",
      "===== Final predictions ====\n",
      "label: rubbing_hands\n",
      "logits proba class\n",
      "99.31% rubbing_hands\n",
      "894 31 5 ./data/images_new/test/31_20181231_frames019965\n",
      "rgb logits...\n",
      "flow logits...\n",
      "===== Final predictions ====\n",
      "label: rubbing_hands\n",
      "logits proba class\n",
      "98.49% rubbing_hands\n",
      "895 31 6 ./data/images_new/test/31_20181231_frames019965\n"
     ]
    },
    {
     "name": "stderr",
     "output_type": "stream",
     "text": [
      " 58%|█████▊    | 898/1552 [02:57<01:24,  7.76it/s]"
     ]
    },
    {
     "name": "stdout",
     "output_type": "stream",
     "text": [
      "rgb logits...\n",
      "flow logits...\n",
      "===== Final predictions ====\n",
      "label: rubbing_hands\n",
      "logits proba class\n",
      "99.99% rubbing_hands\n",
      "896 31 7 ./data/images_new/test/31_20181231_frames019965\n",
      "rgb logits...\n",
      "flow logits...\n",
      "===== Final predictions ====\n",
      "label: rubbing_hands\n",
      "logits proba class\n",
      "99.98% rubbing_hands\n",
      "897 31 8 ./data/images_new/test/31_20181231_frames019965\n"
     ]
    },
    {
     "name": "stderr",
     "output_type": "stream",
     "text": [
      " 58%|█████▊    | 900/1552 [02:57<01:26,  7.54it/s]"
     ]
    },
    {
     "name": "stdout",
     "output_type": "stream",
     "text": [
      "rgb logits...\n",
      "flow logits...\n",
      "===== Final predictions ====\n",
      "label: other_action\n",
      "logits proba class\n",
      "99.04% other_action\n",
      "898 31 0 ./data/images_new/test/31_20181231_frames019965\n",
      "rgb logits...\n",
      "flow logits...\n",
      "===== Final predictions ====\n",
      "label: other_action\n",
      "logits proba class\n",
      "99.31% other_action\n",
      "899 31 1 ./data/images_new/test/31_20181231_frames019965\n"
     ]
    },
    {
     "name": "stderr",
     "output_type": "stream",
     "text": [
      "\r",
      " 58%|█████▊    | 901/1552 [02:58<01:26,  7.55it/s]"
     ]
    },
    {
     "name": "stdout",
     "output_type": "stream",
     "text": [
      "rgb logits...\n",
      "flow logits...\n",
      "===== Final predictions ====\n",
      "label: other_action\n",
      "logits proba class\n",
      "99.50% other_action\n",
      "900 31 2 ./data/images_new/test/31_20181231_frames019965\n",
      "[RGB] Filling cache for index 32\n",
      "[Flow] Filling cache for index 32\n"
     ]
    },
    {
     "name": "stderr",
     "output_type": "stream",
     "text": [
      "\r",
      " 58%|█████▊    | 902/1552 [03:00<08:26,  1.28it/s]"
     ]
    },
    {
     "name": "stdout",
     "output_type": "stream",
     "text": [
      "rgb logits...\n",
      "flow logits...\n",
      "===== Final predictions ====\n",
      "label: rubbing_hands\n",
      "logits proba class\n",
      "99.98% rubbing_hands\n",
      "901 32 0 ./data/images_new/test/31_20181231_frames025175\n",
      "rgb logits...\n"
     ]
    },
    {
     "name": "stderr",
     "output_type": "stream",
     "text": [
      " 58%|█████▊    | 904/1552 [03:00<05:03,  2.13it/s]"
     ]
    },
    {
     "name": "stdout",
     "output_type": "stream",
     "text": [
      "flow logits...\n",
      "===== Final predictions ====\n",
      "label: rubbing_hands\n",
      "logits proba class\n",
      "98.59% rubbing_hands\n",
      "902 32 1 ./data/images_new/test/31_20181231_frames025175\n",
      "rgb logits...\n",
      "flow logits...\n",
      "===== Final predictions ====\n",
      "label: rubbing_hands\n",
      "logits proba class\n",
      "100.00% rubbing_hands\n",
      "903 32 2 ./data/images_new/test/31_20181231_frames025175\n"
     ]
    },
    {
     "name": "stderr",
     "output_type": "stream",
     "text": [
      " 58%|█████▊    | 906/1552 [03:01<03:15,  3.31it/s]"
     ]
    },
    {
     "name": "stdout",
     "output_type": "stream",
     "text": [
      "rgb logits...\n",
      "flow logits...\n",
      "===== Final predictions ====\n",
      "label: rubbing_hands\n",
      "logits proba class\n",
      "99.68% rubbing_hands\n",
      "904 32 3 ./data/images_new/test/31_20181231_frames025175\n",
      "rgb logits...\n",
      "flow logits...\n",
      "===== Final predictions ====\n",
      "label: rubbing_hands\n",
      "logits proba class\n",
      "99.92% rubbing_hands\n",
      "905 32 4 ./data/images_new/test/31_20181231_frames025175\n"
     ]
    },
    {
     "name": "stderr",
     "output_type": "stream",
     "text": [
      " 59%|█████▊    | 908/1552 [03:01<02:19,  4.62it/s]"
     ]
    },
    {
     "name": "stdout",
     "output_type": "stream",
     "text": [
      "rgb logits...\n",
      "flow logits...\n",
      "===== Final predictions ====\n",
      "label: rubbing_hands\n",
      "logits proba class\n",
      "99.90% rubbing_hands\n",
      "906 32 5 ./data/images_new/test/31_20181231_frames025175\n",
      "rgb logits...\n",
      "flow logits...\n",
      "===== Final predictions ====\n",
      "label: rubbing_hands\n",
      "logits proba class\n",
      "99.99% rubbing_hands\n",
      "907 32 6 ./data/images_new/test/31_20181231_frames025175\n"
     ]
    },
    {
     "name": "stderr",
     "output_type": "stream",
     "text": [
      " 59%|█████▊    | 910/1552 [03:01<01:51,  5.78it/s]"
     ]
    },
    {
     "name": "stdout",
     "output_type": "stream",
     "text": [
      "rgb logits...\n",
      "flow logits...\n",
      "===== Final predictions ====\n",
      "label: rubbing_hands\n",
      "logits proba class\n",
      "99.99% rubbing_hands\n",
      "908 32 7 ./data/images_new/test/31_20181231_frames025175\n",
      "rgb logits...\n",
      "flow logits...\n",
      "===== Final predictions ====\n",
      "label: rubbing_hands\n",
      "logits proba class\n",
      "99.94% rubbing_hands\n",
      "909 32 8 ./data/images_new/test/31_20181231_frames025175\n"
     ]
    },
    {
     "name": "stderr",
     "output_type": "stream",
     "text": [
      " 59%|█████▉    | 912/1552 [03:01<01:37,  6.58it/s]"
     ]
    },
    {
     "name": "stdout",
     "output_type": "stream",
     "text": [
      "rgb logits...\n",
      "flow logits...\n",
      "===== Final predictions ====\n",
      "label: rubbing_hands\n",
      "logits proba class\n",
      "98.72% rubbing_hands\n",
      "910 32 9 ./data/images_new/test/31_20181231_frames025175\n",
      "rgb logits...\n",
      "flow logits...\n",
      "===== Final predictions ====\n",
      "label: rubbing_hands\n",
      "logits proba class\n",
      "99.95% rubbing_hands\n",
      "911 32 10 ./data/images_new/test/31_20181231_frames025175\n"
     ]
    },
    {
     "name": "stderr",
     "output_type": "stream",
     "text": [
      " 59%|█████▉    | 914/1552 [03:02<01:30,  7.07it/s]"
     ]
    },
    {
     "name": "stdout",
     "output_type": "stream",
     "text": [
      "rgb logits...\n",
      "flow logits...\n",
      "===== Final predictions ====\n",
      "label: rubbing_hands\n",
      "logits proba class\n",
      "99.95% rubbing_hands\n",
      "912 32 11 ./data/images_new/test/31_20181231_frames025175\n",
      "rgb logits...\n",
      "flow logits...\n",
      "===== Final predictions ====\n",
      "label: rubbing_hands\n",
      "logits proba class\n",
      "99.41% rubbing_hands\n",
      "913 32 12 ./data/images_new/test/31_20181231_frames025175\n"
     ]
    },
    {
     "name": "stderr",
     "output_type": "stream",
     "text": [
      " 59%|█████▉    | 916/1552 [03:02<01:27,  7.23it/s]"
     ]
    },
    {
     "name": "stdout",
     "output_type": "stream",
     "text": [
      "rgb logits...\n",
      "flow logits...\n",
      "===== Final predictions ====\n",
      "label: rubbing_hands\n",
      "logits proba class\n",
      "99.95% rubbing_hands\n",
      "914 32 13 ./data/images_new/test/31_20181231_frames025175\n",
      "rgb logits...\n",
      "flow logits...\n",
      "===== Final predictions ====\n",
      "label: rubbing_hands\n",
      "logits proba class\n",
      "99.87% rubbing_hands\n",
      "915 32 14 ./data/images_new/test/31_20181231_frames025175\n"
     ]
    },
    {
     "name": "stderr",
     "output_type": "stream",
     "text": [
      " 59%|█████▉    | 918/1552 [03:02<01:28,  7.20it/s]"
     ]
    },
    {
     "name": "stdout",
     "output_type": "stream",
     "text": [
      "rgb logits...\n",
      "flow logits...\n",
      "===== Final predictions ====\n",
      "label: rubbing_hands\n",
      "logits proba class\n",
      "99.97% rubbing_hands\n",
      "916 32 15 ./data/images_new/test/31_20181231_frames025175\n",
      "rgb logits...\n",
      "flow logits...\n",
      "===== Final predictions ====\n",
      "label: rubbing_hands\n",
      "logits proba class\n",
      "83.97% rubbing_hands\n",
      "917 32 16 ./data/images_new/test/31_20181231_frames025175\n"
     ]
    },
    {
     "name": "stderr",
     "output_type": "stream",
     "text": [
      " 59%|█████▉    | 920/1552 [03:02<01:28,  7.14it/s]"
     ]
    },
    {
     "name": "stdout",
     "output_type": "stream",
     "text": [
      "rgb logits...\n",
      "flow logits...\n",
      "===== Final predictions ====\n",
      "label: rubbing_hands\n",
      "logits proba class\n",
      "99.16% rubbing_hands\n",
      "918 32 17 ./data/images_new/test/31_20181231_frames025175\n",
      "rgb logits...\n",
      "flow logits...\n",
      "===== Final predictions ====\n",
      "label: rubbing_hands\n",
      "logits proba class\n",
      "92.66% rubbing_hands\n",
      "919 32 18 ./data/images_new/test/31_20181231_frames025175\n"
     ]
    },
    {
     "name": "stderr",
     "output_type": "stream",
     "text": [
      " 59%|█████▉    | 922/1552 [03:03<01:26,  7.31it/s]"
     ]
    },
    {
     "name": "stdout",
     "output_type": "stream",
     "text": [
      "rgb logits...\n",
      "flow logits...\n",
      "===== Final predictions ====\n",
      "label: rubbing_hands\n",
      "logits proba class\n",
      "99.34% rubbing_hands\n",
      "920 32 19 ./data/images_new/test/31_20181231_frames025175\n",
      "rgb logits...\n",
      "flow logits...\n",
      "===== Final predictions ====\n",
      "label: other_action\n",
      "logits proba class\n",
      "95.91% other_action\n",
      "921 32 0 ./data/images_new/test/31_20181231_frames025175\n"
     ]
    },
    {
     "name": "stderr",
     "output_type": "stream",
     "text": [
      " 60%|█████▉    | 924/1552 [03:03<01:22,  7.59it/s]"
     ]
    },
    {
     "name": "stdout",
     "output_type": "stream",
     "text": [
      "rgb logits...\n",
      "flow logits...\n",
      "===== Final predictions ====\n",
      "label: other_action\n",
      "logits proba class\n",
      "96.07% other_action\n",
      "922 32 1 ./data/images_new/test/31_20181231_frames025175\n",
      "rgb logits...\n",
      "flow logits...\n",
      "===== Final predictions ====\n",
      "label: other_action\n",
      "logits proba class\n",
      "96.82% other_action\n",
      "923 32 2 ./data/images_new/test/31_20181231_frames025175\n"
     ]
    },
    {
     "name": "stderr",
     "output_type": "stream",
     "text": [
      " 60%|█████▉    | 926/1552 [03:03<01:20,  7.77it/s]"
     ]
    },
    {
     "name": "stdout",
     "output_type": "stream",
     "text": [
      "rgb logits...\n",
      "flow logits...\n",
      "===== Final predictions ====\n",
      "label: other_action\n",
      "logits proba class\n",
      "96.26% other_action\n",
      "924 32 3 ./data/images_new/test/31_20181231_frames025175\n",
      "rgb logits...\n",
      "flow logits...\n",
      "===== Final predictions ====\n",
      "label: other_action\n",
      "logits proba class\n",
      "86.28% other_action\n",
      "925 32 4 ./data/images_new/test/31_20181231_frames025175\n"
     ]
    },
    {
     "name": "stderr",
     "output_type": "stream",
     "text": [
      " 60%|█████▉    | 928/1552 [03:03<01:19,  7.87it/s]"
     ]
    },
    {
     "name": "stdout",
     "output_type": "stream",
     "text": [
      "rgb logits...\n",
      "flow logits...\n",
      "===== Final predictions ====\n",
      "label: other_action\n",
      "logits proba class\n",
      "57.20% rubbing_hands\n",
      "926 32 5 ./data/images_new/test/31_20181231_frames025175\n",
      "rgb logits...\n",
      "flow logits...\n",
      "===== Final predictions ====\n",
      "label: other_action\n",
      "logits proba class\n",
      "78.54% other_action\n",
      "927 32 6 ./data/images_new/test/31_20181231_frames025175\n",
      "[RGB] Filling cache for index 33\n"
     ]
    },
    {
     "name": "stderr",
     "output_type": "stream",
     "text": [
      "\r",
      " 60%|█████▉    | 929/1552 [03:06<08:51,  1.17it/s]"
     ]
    },
    {
     "name": "stdout",
     "output_type": "stream",
     "text": [
      "[Flow] Filling cache for index 33\n",
      "rgb logits...\n",
      "flow logits...\n",
      "===== Final predictions ====\n",
      "label: other_action\n",
      "logits proba class\n",
      "100.00% other_action\n",
      "928 33 0 ./data/images_new/test/31_20181231_frames053543\n"
     ]
    },
    {
     "name": "stderr",
     "output_type": "stream",
     "text": [
      "\r",
      " 60%|█████▉    | 930/1552 [03:06<06:41,  1.55it/s]"
     ]
    },
    {
     "name": "stdout",
     "output_type": "stream",
     "text": [
      "rgb logits...\n",
      "flow logits...\n",
      "===== Final predictions ====\n",
      "label: other_action\n",
      "logits proba class\n",
      "99.67% other_action\n",
      "929 33 1 ./data/images_new/test/31_20181231_frames053543\n",
      "rgb logits...\n",
      "flow logits...\n"
     ]
    },
    {
     "name": "stderr",
     "output_type": "stream",
     "text": [
      " 60%|██████    | 932/1552 [03:06<04:05,  2.52it/s]"
     ]
    },
    {
     "name": "stdout",
     "output_type": "stream",
     "text": [
      "===== Final predictions ====\n",
      "label: other_action\n",
      "logits proba class\n",
      "99.95% other_action\n",
      "930 33 2 ./data/images_new/test/31_20181231_frames053543\n",
      "rgb logits...\n",
      "flow logits...\n",
      "===== Final predictions ====\n",
      "label: other_action\n",
      "logits proba class\n",
      "93.13% rubbing_hands\n",
      "931 33 0 ./data/images_new/test/31_20181231_frames053543\n"
     ]
    },
    {
     "name": "stderr",
     "output_type": "stream",
     "text": [
      " 60%|██████    | 934/1552 [03:07<02:41,  3.83it/s]"
     ]
    },
    {
     "name": "stdout",
     "output_type": "stream",
     "text": [
      "rgb logits...\n",
      "flow logits...\n",
      "===== Final predictions ====\n",
      "label: other_action\n",
      "logits proba class\n",
      "98.81% rubbing_hands\n",
      "932 33 1 ./data/images_new/test/31_20181231_frames053543\n",
      "rgb logits...\n",
      "flow logits...\n",
      "===== Final predictions ====\n",
      "label: other_action\n",
      "logits proba class\n",
      "98.45% rubbing_hands\n",
      "933 33 2 ./data/images_new/test/31_20181231_frames053543\n"
     ]
    },
    {
     "name": "stderr",
     "output_type": "stream",
     "text": [
      " 60%|██████    | 936/1552 [03:07<01:59,  5.13it/s]"
     ]
    },
    {
     "name": "stdout",
     "output_type": "stream",
     "text": [
      "rgb logits...\n",
      "flow logits...\n",
      "===== Final predictions ====\n",
      "label: other_action\n",
      "logits proba class\n",
      "98.41% touching_equipment\n",
      "934 33 0 ./data/images_new/test/31_20181231_frames053543\n",
      "rgb logits...\n",
      "flow logits...\n",
      "===== Final predictions ====\n",
      "label: other_action\n",
      "logits proba class\n",
      "89.88% touching_equipment\n",
      "935 33 1 ./data/images_new/test/31_20181231_frames053543\n"
     ]
    },
    {
     "name": "stderr",
     "output_type": "stream",
     "text": [
      " 60%|██████    | 938/1552 [03:07<01:40,  6.09it/s]"
     ]
    },
    {
     "name": "stdout",
     "output_type": "stream",
     "text": [
      "rgb logits...\n",
      "flow logits...\n",
      "===== Final predictions ====\n",
      "label: other_action\n",
      "logits proba class\n",
      "94.73% touching_equipment\n",
      "936 33 2 ./data/images_new/test/31_20181231_frames053543\n",
      "rgb logits...\n",
      "flow logits...\n",
      "===== Final predictions ====\n",
      "label: rubbing_hands\n",
      "logits proba class\n",
      "72.49% other_action\n",
      "937 33 0 ./data/images_new/test/31_20181231_frames053543\n"
     ]
    },
    {
     "name": "stderr",
     "output_type": "stream",
     "text": [
      " 61%|██████    | 940/1552 [03:08<01:32,  6.61it/s]"
     ]
    },
    {
     "name": "stdout",
     "output_type": "stream",
     "text": [
      "rgb logits...\n",
      "flow logits...\n",
      "===== Final predictions ====\n",
      "label: rubbing_hands\n",
      "logits proba class\n",
      "89.95% rubbing_hands\n",
      "938 33 1 ./data/images_new/test/31_20181231_frames053543\n",
      "rgb logits...\n",
      "flow logits...\n",
      "===== Final predictions ====\n",
      "label: rubbing_hands\n",
      "logits proba class\n",
      "91.02% rubbing_hands\n",
      "939 33 2 ./data/images_new/test/31_20181231_frames053543\n"
     ]
    },
    {
     "name": "stderr",
     "output_type": "stream",
     "text": [
      "\r",
      " 61%|██████    | 941/1552 [03:08<01:29,  6.81it/s]"
     ]
    },
    {
     "name": "stdout",
     "output_type": "stream",
     "text": [
      "rgb logits...\n",
      "flow logits...\n",
      "===== Final predictions ====\n",
      "label: rubbing_hands\n",
      "logits proba class\n",
      "90.88% rubbing_hands\n",
      "940 33 3 ./data/images_new/test/31_20181231_frames053543\n",
      "rgb logits...\n",
      "flow logits...\n"
     ]
    },
    {
     "name": "stderr",
     "output_type": "stream",
     "text": [
      " 61%|██████    | 943/1552 [03:08<01:40,  6.09it/s]"
     ]
    },
    {
     "name": "stdout",
     "output_type": "stream",
     "text": [
      "===== Final predictions ====\n",
      "label: rubbing_hands\n",
      "logits proba class\n",
      "85.79% rubbing_hands\n",
      "941 33 4 ./data/images_new/test/31_20181231_frames053543\n",
      "rgb logits...\n",
      "flow logits...\n",
      "===== Final predictions ====\n",
      "label: rubbing_hands\n",
      "logits proba class\n",
      "85.86% rubbing_hands\n",
      "942 33 5 ./data/images_new/test/31_20181231_frames053543\n"
     ]
    },
    {
     "name": "stderr",
     "output_type": "stream",
     "text": [
      "\r",
      " 61%|██████    | 944/1552 [03:08<01:58,  5.15it/s]"
     ]
    },
    {
     "name": "stdout",
     "output_type": "stream",
     "text": [
      "rgb logits...\n",
      "flow logits...\n",
      "===== Final predictions ====\n",
      "label: rubbing_hands\n",
      "logits proba class\n",
      "78.19% rubbing_hands\n",
      "943 33 6 ./data/images_new/test/31_20181231_frames053543\n"
     ]
    },
    {
     "name": "stderr",
     "output_type": "stream",
     "text": [
      "\r",
      " 61%|██████    | 945/1552 [03:08<01:58,  5.12it/s]"
     ]
    },
    {
     "name": "stdout",
     "output_type": "stream",
     "text": [
      "rgb logits...\n",
      "flow logits...\n",
      "===== Final predictions ====\n",
      "label: rubbing_hands\n",
      "logits proba class\n",
      "90.80% rubbing_hands\n",
      "944 33 7 ./data/images_new/test/31_20181231_frames053543\n",
      "[RGB] Filling cache for index 34\n"
     ]
    },
    {
     "name": "stderr",
     "output_type": "stream",
     "text": [
      "\r",
      " 61%|██████    | 946/1552 [03:12<11:42,  1.16s/it]"
     ]
    },
    {
     "name": "stdout",
     "output_type": "stream",
     "text": [
      "[Flow] Filling cache for index 34\n",
      "rgb logits...\n",
      "flow logits...\n",
      "===== Final predictions ====\n",
      "label: other_action\n",
      "logits proba class\n",
      "99.99% other_action\n",
      "945 34 0 ./data/images_new/test/31_20181231_frames053580\n"
     ]
    },
    {
     "name": "stderr",
     "output_type": "stream",
     "text": [
      "\r",
      " 61%|██████    | 947/1552 [03:12<08:42,  1.16it/s]"
     ]
    },
    {
     "name": "stdout",
     "output_type": "stream",
     "text": [
      "rgb logits...\n",
      "flow logits...\n",
      "===== Final predictions ====\n",
      "label: other_action\n",
      "logits proba class\n",
      "100.00% other_action\n",
      "946 34 1 ./data/images_new/test/31_20181231_frames053580\n"
     ]
    },
    {
     "name": "stderr",
     "output_type": "stream",
     "text": [
      "\r",
      " 61%|██████    | 948/1552 [03:12<06:44,  1.49it/s]"
     ]
    },
    {
     "name": "stdout",
     "output_type": "stream",
     "text": [
      "rgb logits...\n",
      "flow logits...\n",
      "===== Final predictions ====\n",
      "label: other_action\n",
      "logits proba class\n",
      "99.97% other_action\n",
      "947 34 2 ./data/images_new/test/31_20181231_frames053580\n"
     ]
    },
    {
     "name": "stderr",
     "output_type": "stream",
     "text": [
      "\r",
      " 61%|██████    | 949/1552 [03:12<05:19,  1.89it/s]"
     ]
    },
    {
     "name": "stdout",
     "output_type": "stream",
     "text": [
      "rgb logits...\n",
      "flow logits...\n",
      "===== Final predictions ====\n",
      "label: other_action\n",
      "logits proba class\n",
      "99.99% other_action\n",
      "948 34 3 ./data/images_new/test/31_20181231_frames053580\n",
      "rgb logits...\n"
     ]
    },
    {
     "name": "stderr",
     "output_type": "stream",
     "text": [
      "\r",
      " 61%|██████    | 950/1552 [03:13<04:18,  2.33it/s]"
     ]
    },
    {
     "name": "stdout",
     "output_type": "stream",
     "text": [
      "flow logits...\n",
      "===== Final predictions ====\n",
      "label: other_action\n",
      "logits proba class\n",
      "99.99% other_action\n",
      "949 34 4 ./data/images_new/test/31_20181231_frames053580\n",
      "rgb logits...\n",
      "flow logits...\n",
      "===== Final predictions ====\n",
      "label: other_action\n",
      "logits proba class\n"
     ]
    },
    {
     "name": "stderr",
     "output_type": "stream",
     "text": [
      " 61%|██████▏   | 952/1552 [03:13<02:58,  3.37it/s]"
     ]
    },
    {
     "name": "stdout",
     "output_type": "stream",
     "text": [
      "99.99% other_action\n",
      "950 34 5 ./data/images_new/test/31_20181231_frames053580\n",
      "rgb logits...\n",
      "flow logits...\n",
      "===== Final predictions ====\n",
      "label: other_action\n",
      "logits proba class\n",
      "99.98% other_action\n",
      "951 34 6 ./data/images_new/test/31_20181231_frames053580\n"
     ]
    },
    {
     "name": "stderr",
     "output_type": "stream",
     "text": [
      "\r",
      " 61%|██████▏   | 953/1552 [03:13<02:33,  3.89it/s]"
     ]
    },
    {
     "name": "stdout",
     "output_type": "stream",
     "text": [
      "rgb logits...\n",
      "flow logits...\n",
      "===== Final predictions ====\n",
      "label: other_action\n",
      "logits proba class\n",
      "99.97% other_action\n",
      "952 34 7 ./data/images_new/test/31_20181231_frames053580\n",
      "rgb logits...\n",
      "flow logits...\n"
     ]
    },
    {
     "name": "stderr",
     "output_type": "stream",
     "text": [
      " 62%|██████▏   | 955/1552 [03:14<02:04,  4.79it/s]"
     ]
    },
    {
     "name": "stdout",
     "output_type": "stream",
     "text": [
      "===== Final predictions ====\n",
      "label: other_action\n",
      "logits proba class\n",
      "99.99% other_action\n",
      "953 34 8 ./data/images_new/test/31_20181231_frames053580\n",
      "rgb logits...\n",
      "flow logits...\n",
      "===== Final predictions ====\n",
      "label: other_action\n",
      "logits proba class\n",
      "99.88% other_action\n",
      "954 34 9 ./data/images_new/test/31_20181231_frames053580\n"
     ]
    },
    {
     "name": "stderr",
     "output_type": "stream",
     "text": [
      "\r",
      " 62%|██████▏   | 956/1552 [03:14<01:53,  5.26it/s]"
     ]
    },
    {
     "name": "stdout",
     "output_type": "stream",
     "text": [
      "rgb logits...\n",
      "flow logits...\n",
      "===== Final predictions ====\n",
      "label: other_action\n",
      "logits proba class\n",
      "99.98% other_action\n",
      "955 34 10 ./data/images_new/test/31_20181231_frames053580\n",
      "rgb logits...\n",
      "flow logits...\n"
     ]
    },
    {
     "name": "stderr",
     "output_type": "stream",
     "text": [
      " 62%|██████▏   | 958/1552 [03:14<01:49,  5.41it/s]"
     ]
    },
    {
     "name": "stdout",
     "output_type": "stream",
     "text": [
      "===== Final predictions ====\n",
      "label: other_action\n",
      "logits proba class\n",
      "99.97% other_action\n",
      "956 34 11 ./data/images_new/test/31_20181231_frames053580\n",
      "rgb logits...\n",
      "flow logits...\n",
      "===== Final predictions ====\n",
      "label: other_action\n",
      "logits proba class\n",
      "99.76% other_action\n",
      "957 34 0 ./data/images_new/test/31_20181231_frames053580\n"
     ]
    },
    {
     "name": "stderr",
     "output_type": "stream",
     "text": [
      "\r",
      " 62%|██████▏   | 959/1552 [03:14<01:46,  5.57it/s]"
     ]
    },
    {
     "name": "stdout",
     "output_type": "stream",
     "text": [
      "rgb logits...\n",
      "flow logits...\n",
      "===== Final predictions ====\n",
      "label: other_action\n",
      "logits proba class\n",
      "99.71% other_action\n",
      "958 34 1 ./data/images_new/test/31_20181231_frames053580\n",
      "rgb logits...\n",
      "flow logits...\n"
     ]
    },
    {
     "name": "stderr",
     "output_type": "stream",
     "text": [
      " 62%|██████▏   | 961/1552 [03:15<01:41,  5.85it/s]"
     ]
    },
    {
     "name": "stdout",
     "output_type": "stream",
     "text": [
      "===== Final predictions ====\n",
      "label: other_action\n",
      "logits proba class\n",
      "99.67% other_action\n",
      "959 34 2 ./data/images_new/test/31_20181231_frames053580\n",
      "rgb logits...\n",
      "flow logits...\n",
      "===== Final predictions ====\n",
      "label: other_action\n",
      "logits proba class\n",
      "99.79% other_action\n",
      "960 34 3 ./data/images_new/test/31_20181231_frames053580\n"
     ]
    },
    {
     "name": "stderr",
     "output_type": "stream",
     "text": [
      "\r",
      " 62%|██████▏   | 962/1552 [03:15<01:44,  5.66it/s]"
     ]
    },
    {
     "name": "stdout",
     "output_type": "stream",
     "text": [
      "rgb logits...\n",
      "flow logits...\n",
      "===== Final predictions ====\n",
      "label: other_action\n",
      "logits proba class\n",
      "99.93% other_action\n",
      "961 34 4 ./data/images_new/test/31_20181231_frames053580\n",
      "rgb logits...\n"
     ]
    },
    {
     "name": "stderr",
     "output_type": "stream",
     "text": [
      "\r",
      " 62%|██████▏   | 963/1552 [03:15<01:46,  5.51it/s]"
     ]
    },
    {
     "name": "stdout",
     "output_type": "stream",
     "text": [
      "flow logits...\n",
      "===== Final predictions ====\n",
      "label: other_action\n",
      "logits proba class\n",
      "99.85% other_action\n",
      "962 34 5 ./data/images_new/test/31_20181231_frames053580\n",
      "rgb logits...\n",
      "flow logits...\n"
     ]
    },
    {
     "name": "stderr",
     "output_type": "stream",
     "text": [
      " 62%|██████▏   | 965/1552 [03:15<01:43,  5.69it/s]"
     ]
    },
    {
     "name": "stdout",
     "output_type": "stream",
     "text": [
      "===== Final predictions ====\n",
      "label: other_action\n",
      "logits proba class\n",
      "99.78% other_action\n",
      "963 34 6 ./data/images_new/test/31_20181231_frames053580\n",
      "rgb logits...\n",
      "flow logits...\n",
      "===== Final predictions ====\n",
      "label: other_action\n",
      "logits proba class\n",
      "99.71% other_action\n",
      "964 34 7 ./data/images_new/test/31_20181231_frames053580\n"
     ]
    },
    {
     "name": "stderr",
     "output_type": "stream",
     "text": [
      "\r",
      " 62%|██████▏   | 966/1552 [03:15<01:41,  5.80it/s]"
     ]
    },
    {
     "name": "stdout",
     "output_type": "stream",
     "text": [
      "rgb logits...\n",
      "flow logits...\n",
      "===== Final predictions ====\n",
      "label: other_action\n",
      "logits proba class\n",
      "99.31% other_action\n",
      "965 34 8 ./data/images_new/test/31_20181231_frames053580\n",
      "rgb logits...\n",
      "flow logits...\n"
     ]
    },
    {
     "name": "stderr",
     "output_type": "stream",
     "text": [
      " 62%|██████▏   | 968/1552 [03:16<01:37,  5.98it/s]"
     ]
    },
    {
     "name": "stdout",
     "output_type": "stream",
     "text": [
      "===== Final predictions ====\n",
      "label: other_action\n",
      "logits proba class\n",
      "99.57% other_action\n",
      "966 34 9 ./data/images_new/test/31_20181231_frames053580\n",
      "rgb logits...\n",
      "flow logits...\n",
      "===== Final predictions ====\n",
      "label: other_action\n",
      "logits proba class\n",
      "99.18% other_action\n",
      "967 34 10 ./data/images_new/test/31_20181231_frames053580\n"
     ]
    },
    {
     "name": "stderr",
     "output_type": "stream",
     "text": [
      " 62%|██████▎   | 970/1552 [03:16<01:31,  6.38it/s]"
     ]
    },
    {
     "name": "stdout",
     "output_type": "stream",
     "text": [
      "rgb logits...\n",
      "flow logits...\n",
      "===== Final predictions ====\n",
      "label: other_action\n",
      "logits proba class\n",
      "99.94% other_action\n",
      "968 34 11 ./data/images_new/test/31_20181231_frames053580\n",
      "rgb logits...\n",
      "flow logits...\n",
      "===== Final predictions ====\n",
      "label: other_action\n",
      "logits proba class\n",
      "74.19% other_action\n",
      "969 34 0 ./data/images_new/test/31_20181231_frames053580\n"
     ]
    },
    {
     "name": "stderr",
     "output_type": "stream",
     "text": [
      "\r",
      " 63%|██████▎   | 971/1552 [03:16<01:33,  6.25it/s]"
     ]
    },
    {
     "name": "stdout",
     "output_type": "stream",
     "text": [
      "rgb logits...\n",
      "flow logits...\n",
      "===== Final predictions ====\n",
      "label: other_action\n",
      "logits proba class\n",
      "91.10% touching_equipment\n",
      "970 34 1 ./data/images_new/test/31_20181231_frames053580\n",
      "rgb logits...\n",
      "flow logits...\n"
     ]
    },
    {
     "name": "stderr",
     "output_type": "stream",
     "text": [
      " 63%|██████▎   | 973/1552 [03:17<01:39,  5.85it/s]"
     ]
    },
    {
     "name": "stdout",
     "output_type": "stream",
     "text": [
      "===== Final predictions ====\n",
      "label: other_action\n",
      "logits proba class\n",
      "99.19% touching_equipment\n",
      "971 34 2 ./data/images_new/test/31_20181231_frames053580\n",
      "rgb logits...\n",
      "flow logits...\n",
      "===== Final predictions ====\n",
      "label: other_action\n",
      "logits proba class\n",
      "98.73% touching_equipment\n",
      "972 34 3 ./data/images_new/test/31_20181231_frames053580\n"
     ]
    },
    {
     "name": "stderr",
     "output_type": "stream",
     "text": [
      "\r",
      " 63%|██████▎   | 974/1552 [03:17<01:36,  5.97it/s]"
     ]
    },
    {
     "name": "stdout",
     "output_type": "stream",
     "text": [
      "rgb logits...\n",
      "flow logits...\n",
      "===== Final predictions ====\n",
      "label: other_action\n",
      "logits proba class\n",
      "99.42% touching_equipment\n",
      "973 34 4 ./data/images_new/test/31_20181231_frames053580\n",
      "rgb logits...\n",
      "flow logits...\n"
     ]
    },
    {
     "name": "stderr",
     "output_type": "stream",
     "text": [
      "\r",
      " 63%|██████▎   | 975/1552 [03:17<01:35,  6.06it/s]"
     ]
    },
    {
     "name": "stdout",
     "output_type": "stream",
     "text": [
      "===== Final predictions ====\n",
      "label: other_action\n",
      "logits proba class\n",
      "89.66% touching_equipment\n",
      "974 34 5 ./data/images_new/test/31_20181231_frames053580\n",
      "rgb logits...\n",
      "flow logits...\n"
     ]
    },
    {
     "name": "stderr",
     "output_type": "stream",
     "text": [
      " 63%|██████▎   | 977/1552 [03:17<01:39,  5.77it/s]"
     ]
    },
    {
     "name": "stdout",
     "output_type": "stream",
     "text": [
      "===== Final predictions ====\n",
      "label: other_action\n",
      "logits proba class\n",
      "96.40% touching_equipment\n",
      "975 34 6 ./data/images_new/test/31_20181231_frames053580\n",
      "rgb logits...\n",
      "flow logits...\n",
      "===== Final predictions ====\n",
      "label: other_action\n",
      "logits proba class\n",
      "98.28% touching_equipment\n",
      "976 34 7 ./data/images_new/test/31_20181231_frames053580\n"
     ]
    },
    {
     "name": "stderr",
     "output_type": "stream",
     "text": [
      "\r",
      " 63%|██████▎   | 978/1552 [03:17<01:44,  5.47it/s]"
     ]
    },
    {
     "name": "stdout",
     "output_type": "stream",
     "text": [
      "rgb logits...\n",
      "flow logits...\n",
      "===== Final predictions ====\n",
      "label: other_action\n",
      "logits proba class\n",
      "98.34% touching_equipment\n",
      "977 34 8 ./data/images_new/test/31_20181231_frames053580\n"
     ]
    },
    {
     "name": "stderr",
     "output_type": "stream",
     "text": [
      "\r",
      " 63%|██████▎   | 979/1552 [03:18<01:57,  4.87it/s]"
     ]
    },
    {
     "name": "stdout",
     "output_type": "stream",
     "text": [
      "rgb logits...\n",
      "flow logits...\n",
      "===== Final predictions ====\n",
      "label: other_action\n",
      "logits proba class\n",
      "77.53% touching_equipment\n",
      "978 34 9 ./data/images_new/test/31_20181231_frames053580\n",
      "rgb logits...\n",
      "flow logits...\n"
     ]
    },
    {
     "name": "stderr",
     "output_type": "stream",
     "text": [
      "\r",
      " 63%|██████▎   | 980/1552 [03:18<01:52,  5.06it/s]"
     ]
    },
    {
     "name": "stdout",
     "output_type": "stream",
     "text": [
      "===== Final predictions ====\n",
      "label: other_action\n",
      "logits proba class\n",
      "84.28% rubbing_hands\n",
      "979 34 10 ./data/images_new/test/31_20181231_frames053580\n"
     ]
    },
    {
     "name": "stderr",
     "output_type": "stream",
     "text": [
      "\r",
      " 63%|██████▎   | 981/1552 [03:18<02:08,  4.44it/s]"
     ]
    },
    {
     "name": "stdout",
     "output_type": "stream",
     "text": [
      "rgb logits...\n",
      "flow logits...\n",
      "===== Final predictions ====\n",
      "label: other_action\n",
      "logits proba class\n",
      "98.75% rubbing_hands\n",
      "980 34 11 ./data/images_new/test/31_20181231_frames053580\n"
     ]
    },
    {
     "name": "stderr",
     "output_type": "stream",
     "text": [
      "\r",
      " 63%|██████▎   | 982/1552 [03:18<02:04,  4.59it/s]"
     ]
    },
    {
     "name": "stdout",
     "output_type": "stream",
     "text": [
      "rgb logits...\n",
      "flow logits...\n",
      "===== Final predictions ====\n",
      "label: rubbing_hands\n",
      "logits proba class\n",
      "61.06% other_action\n",
      "981 34 0 ./data/images_new/test/31_20181231_frames053580\n",
      "rgb logits...\n"
     ]
    },
    {
     "name": "stderr",
     "output_type": "stream",
     "text": [
      " 63%|██████▎   | 984/1552 [03:19<01:51,  5.08it/s]"
     ]
    },
    {
     "name": "stdout",
     "output_type": "stream",
     "text": [
      "flow logits...\n",
      "===== Final predictions ====\n",
      "label: rubbing_hands\n",
      "logits proba class\n",
      "69.18% other_action\n",
      "982 34 1 ./data/images_new/test/31_20181231_frames053580\n",
      "rgb logits...\n",
      "flow logits...\n",
      "===== Final predictions ====\n",
      "label: rubbing_hands\n",
      "logits proba class\n",
      "50.29% other_action\n",
      "983 34 2 ./data/images_new/test/31_20181231_frames053580\n"
     ]
    },
    {
     "name": "stderr",
     "output_type": "stream",
     "text": [
      " 64%|██████▎   | 986/1552 [03:19<01:40,  5.66it/s]"
     ]
    },
    {
     "name": "stdout",
     "output_type": "stream",
     "text": [
      "rgb logits...\n",
      "flow logits...\n",
      "===== Final predictions ====\n",
      "label: rubbing_hands\n",
      "logits proba class\n",
      "85.38% other_action\n",
      "984 34 3 ./data/images_new/test/31_20181231_frames053580\n",
      "rgb logits...\n",
      "flow logits...\n",
      "===== Final predictions ====\n",
      "label: rubbing_hands\n",
      "logits proba class\n",
      "72.68% other_action\n",
      "985 34 4 ./data/images_new/test/31_20181231_frames053580\n"
     ]
    },
    {
     "name": "stderr",
     "output_type": "stream",
     "text": [
      "\r",
      " 64%|██████▎   | 987/1552 [03:19<01:34,  6.01it/s]"
     ]
    },
    {
     "name": "stdout",
     "output_type": "stream",
     "text": [
      "rgb logits...\n",
      "flow logits...\n",
      "===== Final predictions ====\n",
      "label: rubbing_hands\n",
      "logits proba class\n",
      "91.91% rubbing_hands\n",
      "986 34 5 ./data/images_new/test/31_20181231_frames053580\n",
      "rgb logits...\n",
      "flow logits...\n"
     ]
    },
    {
     "name": "stderr",
     "output_type": "stream",
     "text": [
      "\r",
      " 64%|██████▎   | 988/1552 [03:19<01:34,  5.97it/s]"
     ]
    },
    {
     "name": "stdout",
     "output_type": "stream",
     "text": [
      "===== Final predictions ====\n",
      "label: rubbing_hands\n",
      "logits proba class\n",
      "88.77% rubbing_hands\n",
      "987 34 6 ./data/images_new/test/31_20181231_frames053580\n",
      "rgb logits...\n",
      "flow logits...\n"
     ]
    },
    {
     "name": "stderr",
     "output_type": "stream",
     "text": [
      " 64%|██████▍   | 990/1552 [03:20<01:38,  5.70it/s]"
     ]
    },
    {
     "name": "stdout",
     "output_type": "stream",
     "text": [
      "===== Final predictions ====\n",
      "label: rubbing_hands\n",
      "logits proba class\n",
      "95.95% rubbing_hands\n",
      "988 34 7 ./data/images_new/test/31_20181231_frames053580\n",
      "rgb logits...\n",
      "flow logits...\n",
      "===== Final predictions ====\n",
      "label: rubbing_hands\n",
      "logits proba class\n",
      "95.51% other_action\n",
      "989 34 8 ./data/images_new/test/31_20181231_frames053580\n"
     ]
    },
    {
     "name": "stderr",
     "output_type": "stream",
     "text": [
      " 64%|██████▍   | 992/1552 [03:20<01:28,  6.33it/s]"
     ]
    },
    {
     "name": "stdout",
     "output_type": "stream",
     "text": [
      "rgb logits...\n",
      "flow logits...\n",
      "===== Final predictions ====\n",
      "label: rubbing_hands\n",
      "logits proba class\n",
      "82.19% rubbing_hands\n",
      "990 34 9 ./data/images_new/test/31_20181231_frames053580\n",
      "rgb logits...\n",
      "flow logits...\n",
      "===== Final predictions ====\n",
      "label: rubbing_hands\n",
      "logits proba class\n",
      "51.36% other_action\n",
      "991 34 10 ./data/images_new/test/31_20181231_frames053580\n"
     ]
    },
    {
     "name": "stderr",
     "output_type": "stream",
     "text": [
      " 64%|██████▍   | 994/1552 [03:20<01:26,  6.47it/s]"
     ]
    },
    {
     "name": "stdout",
     "output_type": "stream",
     "text": [
      "rgb logits...\n",
      "flow logits...\n",
      "===== Final predictions ====\n",
      "label: rubbing_hands\n",
      "logits proba class\n",
      "77.73% rubbing_hands\n",
      "992 34 11 ./data/images_new/test/31_20181231_frames053580\n",
      "rgb logits...\n",
      "flow logits...\n",
      "===== Final predictions ====\n",
      "label: rubbing_hands\n",
      "logits proba class\n",
      "60.66% rubbing_hands\n",
      "993 34 12 ./data/images_new/test/31_20181231_frames053580\n"
     ]
    },
    {
     "name": "stderr",
     "output_type": "stream",
     "text": [
      " 64%|██████▍   | 996/1552 [03:21<01:22,  6.71it/s]"
     ]
    },
    {
     "name": "stdout",
     "output_type": "stream",
     "text": [
      "rgb logits...\n",
      "flow logits...\n",
      "===== Final predictions ====\n",
      "label: rubbing_hands\n",
      "logits proba class\n",
      "85.14% rubbing_hands\n",
      "994 34 13 ./data/images_new/test/31_20181231_frames053580\n",
      "rgb logits...\n",
      "flow logits...\n",
      "===== Final predictions ====\n",
      "label: rubbing_hands\n",
      "logits proba class\n",
      "97.38% other_action\n",
      "995 34 14 ./data/images_new/test/31_20181231_frames053580\n"
     ]
    },
    {
     "name": "stderr",
     "output_type": "stream",
     "text": [
      " 64%|██████▍   | 998/1552 [03:21<01:22,  6.74it/s]"
     ]
    },
    {
     "name": "stdout",
     "output_type": "stream",
     "text": [
      "rgb logits...\n",
      "flow logits...\n",
      "===== Final predictions ====\n",
      "label: rubbing_hands\n",
      "logits proba class\n",
      "62.21% other_action\n",
      "996 34 15 ./data/images_new/test/31_20181231_frames053580\n",
      "rgb logits...\n",
      "flow logits...\n",
      "===== Final predictions ====\n",
      "label: rubbing_hands\n",
      "logits proba class\n",
      "55.97% other_action\n",
      "997 34 16 ./data/images_new/test/31_20181231_frames053580\n"
     ]
    },
    {
     "name": "stderr",
     "output_type": "stream",
     "text": [
      " 64%|██████▍   | 1000/1552 [03:21<01:18,  7.02it/s]"
     ]
    },
    {
     "name": "stdout",
     "output_type": "stream",
     "text": [
      "rgb logits...\n",
      "flow logits...\n",
      "===== Final predictions ====\n",
      "label: rubbing_hands\n",
      "logits proba class\n",
      "97.20% rubbing_hands\n",
      "998 34 17 ./data/images_new/test/31_20181231_frames053580\n",
      "rgb logits...\n",
      "flow logits...\n",
      "===== Final predictions ====\n",
      "label: rubbing_hands\n",
      "logits proba class\n",
      "98.27% rubbing_hands\n",
      "999 34 18 ./data/images_new/test/31_20181231_frames053580\n"
     ]
    },
    {
     "name": "stderr",
     "output_type": "stream",
     "text": [
      " 65%|██████▍   | 1002/1552 [03:21<01:16,  7.18it/s]"
     ]
    },
    {
     "name": "stdout",
     "output_type": "stream",
     "text": [
      "rgb logits...\n",
      "flow logits...\n",
      "===== Final predictions ====\n",
      "label: rubbing_hands\n",
      "logits proba class\n",
      "97.74% rubbing_hands\n",
      "1000 34 19 ./data/images_new/test/31_20181231_frames053580\n",
      "rgb logits...\n",
      "flow logits...\n",
      "===== Final predictions ====\n",
      "label: rubbing_hands\n",
      "logits proba class\n",
      "94.18% rubbing_hands\n",
      "1001 34 20 ./data/images_new/test/31_20181231_frames053580\n"
     ]
    },
    {
     "name": "stderr",
     "output_type": "stream",
     "text": [
      " 65%|██████▍   | 1004/1552 [03:22<01:15,  7.28it/s]"
     ]
    },
    {
     "name": "stdout",
     "output_type": "stream",
     "text": [
      "rgb logits...\n",
      "flow logits...\n",
      "===== Final predictions ====\n",
      "label: rubbing_hands\n",
      "logits proba class\n",
      "97.49% rubbing_hands\n",
      "1002 34 21 ./data/images_new/test/31_20181231_frames053580\n",
      "rgb logits...\n",
      "flow logits...\n",
      "===== Final predictions ====\n",
      "label: rubbing_hands\n",
      "logits proba class\n",
      "95.87% rubbing_hands\n",
      "1003 34 22 ./data/images_new/test/31_20181231_frames053580\n"
     ]
    },
    {
     "name": "stderr",
     "output_type": "stream",
     "text": [
      " 65%|██████▍   | 1006/1552 [03:22<01:14,  7.29it/s]"
     ]
    },
    {
     "name": "stdout",
     "output_type": "stream",
     "text": [
      "rgb logits...\n",
      "flow logits...\n",
      "===== Final predictions ====\n",
      "label: rubbing_hands\n",
      "logits proba class\n",
      "88.12% rubbing_hands\n",
      "1004 34 23 ./data/images_new/test/31_20181231_frames053580\n",
      "rgb logits...\n",
      "flow logits...\n",
      "===== Final predictions ====\n",
      "label: rubbing_hands\n",
      "logits proba class\n",
      "99.69% rubbing_hands\n",
      "1005 34 24 ./data/images_new/test/31_20181231_frames053580\n"
     ]
    },
    {
     "name": "stderr",
     "output_type": "stream",
     "text": [
      " 65%|██████▍   | 1008/1552 [03:22<01:14,  7.26it/s]"
     ]
    },
    {
     "name": "stdout",
     "output_type": "stream",
     "text": [
      "rgb logits...\n",
      "flow logits...\n",
      "===== Final predictions ====\n",
      "label: rubbing_hands\n",
      "logits proba class\n",
      "75.66% rubbing_hands\n",
      "1006 34 25 ./data/images_new/test/31_20181231_frames053580\n",
      "rgb logits...\n",
      "flow logits...\n",
      "===== Final predictions ====\n",
      "label: rubbing_hands\n",
      "logits proba class\n",
      "88.03% rubbing_hands\n",
      "1007 34 26 ./data/images_new/test/31_20181231_frames053580\n"
     ]
    },
    {
     "name": "stderr",
     "output_type": "stream",
     "text": [
      " 65%|██████▌   | 1010/1552 [03:23<01:14,  7.25it/s]"
     ]
    },
    {
     "name": "stdout",
     "output_type": "stream",
     "text": [
      "rgb logits...\n",
      "flow logits...\n",
      "===== Final predictions ====\n",
      "label: rubbing_hands\n",
      "logits proba class\n",
      "84.35% other_action\n",
      "1008 34 27 ./data/images_new/test/31_20181231_frames053580\n",
      "rgb logits...\n",
      "flow logits...\n",
      "===== Final predictions ====\n",
      "label: rubbing_hands\n",
      "logits proba class\n",
      "88.74% other_action\n",
      "1009 34 28 ./data/images_new/test/31_20181231_frames053580\n"
     ]
    },
    {
     "name": "stderr",
     "output_type": "stream",
     "text": [
      " 65%|██████▌   | 1012/1552 [03:23<01:16,  7.10it/s]"
     ]
    },
    {
     "name": "stdout",
     "output_type": "stream",
     "text": [
      "rgb logits...\n",
      "flow logits...\n",
      "===== Final predictions ====\n",
      "label: rubbing_hands\n",
      "logits proba class\n",
      "78.36% rubbing_hands\n",
      "1010 34 29 ./data/images_new/test/31_20181231_frames053580\n",
      "rgb logits...\n",
      "flow logits...\n",
      "===== Final predictions ====\n",
      "label: rubbing_hands\n",
      "logits proba class\n",
      "93.04% rubbing_hands\n",
      "1011 34 30 ./data/images_new/test/31_20181231_frames053580\n"
     ]
    },
    {
     "name": "stderr",
     "output_type": "stream",
     "text": [
      "\r",
      " 65%|██████▌   | 1013/1552 [03:23<01:16,  7.04it/s]"
     ]
    },
    {
     "name": "stdout",
     "output_type": "stream",
     "text": [
      "rgb logits...\n",
      "flow logits...\n",
      "===== Final predictions ====\n",
      "label: rubbing_hands\n",
      "logits proba class\n",
      "77.33% rubbing_hands\n",
      "1012 34 31 ./data/images_new/test/31_20181231_frames053580\n",
      "rgb logits...\n",
      "flow logits...\n"
     ]
    },
    {
     "name": "stderr",
     "output_type": "stream",
     "text": [
      " 65%|██████▌   | 1015/1552 [03:23<01:22,  6.53it/s]"
     ]
    },
    {
     "name": "stdout",
     "output_type": "stream",
     "text": [
      "===== Final predictions ====\n",
      "label: rubbing_hands\n",
      "logits proba class\n",
      "94.35% rubbing_hands\n",
      "1013 34 32 ./data/images_new/test/31_20181231_frames053580\n",
      "rgb logits...\n",
      "flow logits...\n",
      "===== Final predictions ====\n",
      "label: rubbing_hands\n",
      "logits proba class\n",
      "98.70% rubbing_hands\n",
      "1014 34 33 ./data/images_new/test/31_20181231_frames053580\n"
     ]
    },
    {
     "name": "stderr",
     "output_type": "stream",
     "text": [
      "\r",
      " 65%|██████▌   | 1016/1552 [03:23<01:27,  6.15it/s]"
     ]
    },
    {
     "name": "stdout",
     "output_type": "stream",
     "text": [
      "rgb logits...\n",
      "flow logits...\n",
      "===== Final predictions ====\n",
      "label: rubbing_hands\n",
      "logits proba class\n",
      "99.77% rubbing_hands\n",
      "1015 34 34 ./data/images_new/test/31_20181231_frames053580\n",
      "[RGB] Filling cache for index 35\n"
     ]
    },
    {
     "name": "stderr",
     "output_type": "stream",
     "text": [
      "\r",
      " 66%|██████▌   | 1017/1552 [03:26<07:50,  1.14it/s]"
     ]
    },
    {
     "name": "stdout",
     "output_type": "stream",
     "text": [
      "[Flow] Filling cache for index 35\n",
      "rgb logits...\n",
      "flow logits...\n",
      "===== Final predictions ====\n",
      "label: rubbing_hands\n",
      "logits proba class\n",
      "94.83% touching_equipment\n",
      "1016 35 0 ./data/images_new/test/31_20181231_frames059954\n"
     ]
    },
    {
     "name": "stderr",
     "output_type": "stream",
     "text": [
      "\r",
      " 66%|██████▌   | 1018/1552 [03:26<05:53,  1.51it/s]"
     ]
    },
    {
     "name": "stdout",
     "output_type": "stream",
     "text": [
      "rgb logits...\n",
      "flow logits...\n",
      "===== Final predictions ====\n",
      "label: rubbing_hands\n",
      "logits proba class\n",
      "99.91% other_action\n",
      "1017 35 1 ./data/images_new/test/31_20181231_frames059954\n",
      "rgb logits...\n",
      "flow logits...\n"
     ]
    },
    {
     "name": "stderr",
     "output_type": "stream",
     "text": [
      " 66%|██████▌   | 1020/1552 [03:27<03:35,  2.47it/s]"
     ]
    },
    {
     "name": "stdout",
     "output_type": "stream",
     "text": [
      "===== Final predictions ====\n",
      "label: rubbing_hands\n",
      "logits proba class\n",
      "99.33% touching_equipment\n",
      "1018 35 2 ./data/images_new/test/31_20181231_frames059954\n",
      "rgb logits...\n",
      "flow logits...\n",
      "===== Final predictions ====\n",
      "label: rubbing_hands\n",
      "logits proba class\n",
      "99.07% rubbing_hands\n",
      "1019 35 3 ./data/images_new/test/31_20181231_frames059954\n"
     ]
    },
    {
     "name": "stderr",
     "output_type": "stream",
     "text": [
      " 66%|██████▌   | 1022/1552 [03:27<02:21,  3.74it/s]"
     ]
    },
    {
     "name": "stdout",
     "output_type": "stream",
     "text": [
      "rgb logits...\n",
      "flow logits...\n",
      "===== Final predictions ====\n",
      "label: rubbing_hands\n",
      "logits proba class\n",
      "63.16% other_action\n",
      "1020 35 4 ./data/images_new/test/31_20181231_frames059954\n",
      "rgb logits...\n",
      "flow logits...\n",
      "===== Final predictions ====\n",
      "label: rubbing_hands\n",
      "logits proba class\n",
      "47.27% other_action\n",
      "1021 35 5 ./data/images_new/test/31_20181231_frames059954\n"
     ]
    },
    {
     "name": "stderr",
     "output_type": "stream",
     "text": [
      " 66%|██████▌   | 1024/1552 [03:27<01:45,  5.00it/s]"
     ]
    },
    {
     "name": "stdout",
     "output_type": "stream",
     "text": [
      "rgb logits...\n",
      "flow logits...\n",
      "===== Final predictions ====\n",
      "label: rubbing_hands\n",
      "logits proba class\n",
      "79.80% rubbing_hands\n",
      "1022 35 6 ./data/images_new/test/31_20181231_frames059954\n",
      "rgb logits...\n",
      "flow logits...\n",
      "===== Final predictions ====\n",
      "label: rubbing_hands\n",
      "logits proba class\n",
      "74.84% rubbing_hands\n",
      "1023 35 7 ./data/images_new/test/31_20181231_frames059954\n"
     ]
    },
    {
     "name": "stderr",
     "output_type": "stream",
     "text": [
      "\r",
      " 66%|██████▌   | 1025/1552 [03:27<01:34,  5.59it/s]"
     ]
    },
    {
     "name": "stdout",
     "output_type": "stream",
     "text": [
      "rgb logits...\n",
      "flow logits...\n",
      "===== Final predictions ====\n",
      "label: rubbing_hands\n",
      "logits proba class\n",
      "65.31% touching_equipment\n",
      "1024 35 8 ./data/images_new/test/31_20181231_frames059954\n",
      "rgb logits...\n",
      "flow logits...\n"
     ]
    },
    {
     "name": "stderr",
     "output_type": "stream",
     "text": [
      " 66%|██████▌   | 1027/1552 [03:28<01:33,  5.64it/s]"
     ]
    },
    {
     "name": "stdout",
     "output_type": "stream",
     "text": [
      "===== Final predictions ====\n",
      "label: rubbing_hands\n",
      "logits proba class\n",
      "93.38% rubbing_hands\n",
      "1025 35 9 ./data/images_new/test/31_20181231_frames059954\n",
      "rgb logits...\n",
      "flow logits...\n",
      "===== Final predictions ====\n",
      "label: rubbing_hands\n",
      "logits proba class\n",
      "94.37% rubbing_hands\n",
      "1026 35 10 ./data/images_new/test/31_20181231_frames059954\n"
     ]
    },
    {
     "name": "stderr",
     "output_type": "stream",
     "text": [
      "\r",
      " 66%|██████▌   | 1028/1552 [03:28<01:35,  5.47it/s]"
     ]
    },
    {
     "name": "stdout",
     "output_type": "stream",
     "text": [
      "rgb logits...\n",
      "flow logits...\n",
      "===== Final predictions ====\n",
      "label: rubbing_hands\n",
      "logits proba class\n",
      "66.18% other_action\n",
      "1027 35 11 ./data/images_new/test/31_20181231_frames059954\n",
      "rgb logits...\n",
      "flow logits...\n"
     ]
    },
    {
     "name": "stderr",
     "output_type": "stream",
     "text": [
      " 66%|██████▋   | 1030/1552 [03:28<01:32,  5.62it/s]"
     ]
    },
    {
     "name": "stdout",
     "output_type": "stream",
     "text": [
      "===== Final predictions ====\n",
      "label: rubbing_hands\n",
      "logits proba class\n",
      "99.40% other_action\n",
      "1028 35 12 ./data/images_new/test/31_20181231_frames059954\n",
      "rgb logits...\n",
      "flow logits...\n",
      "===== Final predictions ====\n",
      "label: rubbing_hands\n",
      "logits proba class\n",
      "98.22% other_action\n",
      "1029 35 13 ./data/images_new/test/31_20181231_frames059954\n"
     ]
    },
    {
     "name": "stderr",
     "output_type": "stream",
     "text": [
      "\r",
      " 66%|██████▋   | 1031/1552 [03:28<01:32,  5.64it/s]"
     ]
    },
    {
     "name": "stdout",
     "output_type": "stream",
     "text": [
      "rgb logits...\n",
      "flow logits...\n",
      "===== Final predictions ====\n",
      "label: rubbing_hands\n",
      "logits proba class\n",
      "99.99% other_action\n",
      "1030 35 14 ./data/images_new/test/31_20181231_frames059954\n",
      "rgb logits...\n"
     ]
    },
    {
     "name": "stderr",
     "output_type": "stream",
     "text": [
      " 67%|██████▋   | 1033/1552 [03:29<01:28,  5.88it/s]"
     ]
    },
    {
     "name": "stdout",
     "output_type": "stream",
     "text": [
      "flow logits...\n",
      "===== Final predictions ====\n",
      "label: rubbing_hands\n",
      "logits proba class\n",
      "93.18% other_action\n",
      "1031 35 15 ./data/images_new/test/31_20181231_frames059954\n",
      "rgb logits...\n",
      "flow logits...\n",
      "===== Final predictions ====\n",
      "label: rubbing_hands\n",
      "logits proba class\n",
      "56.41% other_action\n",
      "1032 35 16 ./data/images_new/test/31_20181231_frames059954\n"
     ]
    },
    {
     "name": "stderr",
     "output_type": "stream",
     "text": [
      " 67%|██████▋   | 1035/1552 [03:29<01:23,  6.22it/s]"
     ]
    },
    {
     "name": "stdout",
     "output_type": "stream",
     "text": [
      "rgb logits...\n",
      "flow logits...\n",
      "===== Final predictions ====\n",
      "label: rubbing_hands\n",
      "logits proba class\n",
      "93.73% other_action\n",
      "1033 35 17 ./data/images_new/test/31_20181231_frames059954\n",
      "rgb logits...\n",
      "flow logits...\n",
      "===== Final predictions ====\n",
      "label: rubbing_hands\n",
      "logits proba class\n",
      "71.47% other_action\n",
      "1034 35 18 ./data/images_new/test/31_20181231_frames059954\n"
     ]
    },
    {
     "name": "stderr",
     "output_type": "stream",
     "text": [
      " 67%|██████▋   | 1037/1552 [03:29<01:20,  6.36it/s]"
     ]
    },
    {
     "name": "stdout",
     "output_type": "stream",
     "text": [
      "rgb logits...\n",
      "flow logits...\n",
      "===== Final predictions ====\n",
      "label: rubbing_hands\n",
      "logits proba class\n",
      "99.62% other_action\n",
      "1035 35 19 ./data/images_new/test/31_20181231_frames059954\n",
      "rgb logits...\n",
      "flow logits...\n",
      "===== Final predictions ====\n",
      "label: rubbing_hands\n",
      "logits proba class\n",
      "94.54% other_action\n",
      "1036 35 20 ./data/images_new/test/31_20181231_frames059954\n"
     ]
    },
    {
     "name": "stderr",
     "output_type": "stream",
     "text": [
      "\r",
      " 67%|██████▋   | 1038/1552 [03:29<01:19,  6.45it/s]"
     ]
    },
    {
     "name": "stdout",
     "output_type": "stream",
     "text": [
      "rgb logits...\n",
      "flow logits...\n",
      "===== Final predictions ====\n",
      "label: rubbing_hands\n",
      "logits proba class\n",
      "96.51% other_action\n",
      "1037 35 21 ./data/images_new/test/31_20181231_frames059954\n",
      "rgb logits...\n",
      "flow logits...\n"
     ]
    },
    {
     "name": "stderr",
     "output_type": "stream",
     "text": [
      " 67%|██████▋   | 1040/1552 [03:30<01:21,  6.31it/s]"
     ]
    },
    {
     "name": "stdout",
     "output_type": "stream",
     "text": [
      "===== Final predictions ====\n",
      "label: rubbing_hands\n",
      "logits proba class\n",
      "96.60% touching_equipment\n",
      "1038 35 22 ./data/images_new/test/31_20181231_frames059954\n",
      "rgb logits...\n",
      "flow logits...\n",
      "===== Final predictions ====\n",
      "label: rubbing_hands\n",
      "logits proba class\n",
      "58.50% other_action\n",
      "1039 35 23 ./data/images_new/test/31_20181231_frames059954\n"
     ]
    },
    {
     "name": "stderr",
     "output_type": "stream",
     "text": [
      " 67%|██████▋   | 1042/1552 [03:30<01:16,  6.67it/s]"
     ]
    },
    {
     "name": "stdout",
     "output_type": "stream",
     "text": [
      "rgb logits...\n",
      "flow logits...\n",
      "===== Final predictions ====\n",
      "label: rubbing_hands\n",
      "logits proba class\n",
      "91.10% touching_equipment\n",
      "1040 35 24 ./data/images_new/test/31_20181231_frames059954\n",
      "rgb logits...\n",
      "flow logits...\n",
      "===== Final predictions ====\n",
      "label: rubbing_hands\n",
      "logits proba class\n",
      "79.79% other_action\n",
      "1041 35 25 ./data/images_new/test/31_20181231_frames059954\n"
     ]
    },
    {
     "name": "stderr",
     "output_type": "stream",
     "text": [
      "\r",
      " 67%|██████▋   | 1043/1552 [03:30<01:14,  6.87it/s]"
     ]
    },
    {
     "name": "stdout",
     "output_type": "stream",
     "text": [
      "rgb logits...\n",
      "flow logits...\n",
      "===== Final predictions ====\n",
      "label: rubbing_hands\n",
      "logits proba class\n",
      "91.71% other_action\n",
      "1042 35 26 ./data/images_new/test/31_20181231_frames059954\n",
      "[RGB] Filling cache for index 36\n"
     ]
    },
    {
     "name": "stderr",
     "output_type": "stream",
     "text": [
      "\r",
      " 67%|██████▋   | 1044/1552 [03:32<05:42,  1.48it/s]"
     ]
    },
    {
     "name": "stdout",
     "output_type": "stream",
     "text": [
      "[Flow] Filling cache for index 36\n",
      "rgb logits...\n",
      "flow logits...\n",
      "===== Final predictions ====\n",
      "label: rubbing_hands\n",
      "logits proba class\n",
      "79.17% rubbing_hands\n",
      "1043 36 0 ./data/images_new/test/31_20181231_frames105393\n"
     ]
    },
    {
     "name": "stderr",
     "output_type": "stream",
     "text": [
      "\r",
      " 67%|██████▋   | 1045/1552 [03:32<04:23,  1.92it/s]"
     ]
    },
    {
     "name": "stdout",
     "output_type": "stream",
     "text": [
      "rgb logits...\n",
      "flow logits...\n",
      "===== Final predictions ====\n",
      "label: rubbing_hands\n",
      "logits proba class\n",
      "94.94% other_action\n",
      "1044 36 1 ./data/images_new/test/31_20181231_frames105393\n",
      "rgb logits...\n",
      "flow logits...\n"
     ]
    },
    {
     "name": "stderr",
     "output_type": "stream",
     "text": [
      " 67%|██████▋   | 1047/1552 [03:32<02:48,  3.00it/s]"
     ]
    },
    {
     "name": "stdout",
     "output_type": "stream",
     "text": [
      "===== Final predictions ====\n",
      "label: rubbing_hands\n",
      "logits proba class\n",
      "77.07% other_action\n",
      "1045 36 2 ./data/images_new/test/31_20181231_frames105393\n",
      "rgb logits...\n",
      "flow logits...\n",
      "===== Final predictions ====\n",
      "label: rubbing_hands\n",
      "logits proba class\n",
      "64.00% other_action\n",
      "1046 36 3 ./data/images_new/test/31_20181231_frames105393\n",
      "[RGB] Filling cache for index 37\n"
     ]
    },
    {
     "name": "stderr",
     "output_type": "stream",
     "text": [
      "\r",
      " 68%|██████▊   | 1048/1552 [03:34<04:35,  1.83it/s]"
     ]
    },
    {
     "name": "stdout",
     "output_type": "stream",
     "text": [
      "[Flow] Filling cache for index 37\n",
      "rgb logits...\n",
      "flow logits...\n",
      "===== Final predictions ====\n",
      "label: rubbing_hands\n",
      "logits proba class\n",
      "97.44% rubbing_hands\n",
      "1047 37 0 ./data/images_new/test/31_20181231_frames105489\n"
     ]
    },
    {
     "name": "stderr",
     "output_type": "stream",
     "text": [
      " 68%|██████▊   | 1050/1552 [03:34<02:54,  2.87it/s]"
     ]
    },
    {
     "name": "stdout",
     "output_type": "stream",
     "text": [
      "rgb logits...\n",
      "flow logits...\n",
      "===== Final predictions ====\n",
      "label: rubbing_hands\n",
      "logits proba class\n",
      "99.86% rubbing_hands\n",
      "1048 37 1 ./data/images_new/test/31_20181231_frames105489\n",
      "rgb logits...\n",
      "flow logits...\n",
      "===== Final predictions ====\n",
      "label: rubbing_hands\n",
      "logits proba class\n",
      "99.96% rubbing_hands\n",
      "1049 37 2 ./data/images_new/test/31_20181231_frames105489\n"
     ]
    },
    {
     "name": "stderr",
     "output_type": "stream",
     "text": [
      " 68%|██████▊   | 1052/1552 [03:34<02:03,  4.06it/s]"
     ]
    },
    {
     "name": "stdout",
     "output_type": "stream",
     "text": [
      "rgb logits...\n",
      "flow logits...\n",
      "===== Final predictions ====\n",
      "label: rubbing_hands\n",
      "logits proba class\n",
      "99.99% rubbing_hands\n",
      "1050 37 3 ./data/images_new/test/31_20181231_frames105489\n",
      "rgb logits...\n",
      "flow logits...\n",
      "===== Final predictions ====\n",
      "label: rubbing_hands\n",
      "logits proba class\n",
      "100.00% rubbing_hands\n",
      "1051 37 4 ./data/images_new/test/31_20181231_frames105489\n"
     ]
    },
    {
     "name": "stderr",
     "output_type": "stream",
     "text": [
      " 68%|██████▊   | 1054/1552 [03:34<01:32,  5.40it/s]"
     ]
    },
    {
     "name": "stdout",
     "output_type": "stream",
     "text": [
      "rgb logits...\n",
      "flow logits...\n",
      "===== Final predictions ====\n",
      "label: rubbing_hands\n",
      "logits proba class\n",
      "99.96% rubbing_hands\n",
      "1052 37 5 ./data/images_new/test/31_20181231_frames105489\n",
      "rgb logits...\n",
      "flow logits...\n",
      "===== Final predictions ====\n",
      "label: rubbing_hands\n",
      "logits proba class\n",
      "81.87% rubbing_hands\n",
      "1053 37 6 ./data/images_new/test/31_20181231_frames105489\n",
      "[RGB] Filling cache for index 38\n"
     ]
    },
    {
     "name": "stderr",
     "output_type": "stream",
     "text": [
      "\r",
      " 68%|██████▊   | 1055/1552 [03:36<04:20,  1.91it/s]"
     ]
    },
    {
     "name": "stdout",
     "output_type": "stream",
     "text": [
      "[Flow] Filling cache for index 38\n",
      "rgb logits...\n",
      "flow logits...\n",
      "===== Final predictions ====\n",
      "label: rubbing_hands\n",
      "logits proba class\n",
      "99.99% other_action\n",
      "1054 38 0 ./data/images_new/test/31_20181231_frames122413\n"
     ]
    },
    {
     "name": "stderr",
     "output_type": "stream",
     "text": [
      "\r",
      " 68%|██████▊   | 1056/1552 [03:36<03:29,  2.37it/s]"
     ]
    },
    {
     "name": "stdout",
     "output_type": "stream",
     "text": [
      "rgb logits...\n",
      "flow logits...\n",
      "===== Final predictions ====\n",
      "label: other_action\n",
      "logits proba class\n",
      "53.65% other_action\n",
      "1055 38 0 ./data/images_new/test/31_20181231_frames122413\n",
      "rgb logits...\n",
      "flow logits...\n"
     ]
    },
    {
     "name": "stderr",
     "output_type": "stream",
     "text": [
      "\r",
      " 68%|██████▊   | 1057/1552 [03:36<02:50,  2.90it/s]"
     ]
    },
    {
     "name": "stdout",
     "output_type": "stream",
     "text": [
      "===== Final predictions ====\n",
      "label: other_action\n",
      "logits proba class\n",
      "99.18% other_action\n",
      "1056 38 0 ./data/images_new/test/31_20181231_frames122413\n",
      "[RGB] Filling cache for index 39\n"
     ]
    },
    {
     "name": "stderr",
     "output_type": "stream",
     "text": [
      "\r",
      " 68%|██████▊   | 1058/1552 [03:41<13:01,  1.58s/it]"
     ]
    },
    {
     "name": "stdout",
     "output_type": "stream",
     "text": [
      "[Flow] Filling cache for index 39\n",
      "rgb logits...\n",
      "flow logits...\n",
      "===== Final predictions ====\n",
      "label: other_action\n",
      "logits proba class\n",
      "93.47% touching_equipment\n",
      "1057 39 0 ./data/images_new/test/34_20190110_frames110304\n"
     ]
    },
    {
     "name": "stderr",
     "output_type": "stream",
     "text": [
      "\r",
      " 68%|██████▊   | 1059/1552 [03:41<09:30,  1.16s/it]"
     ]
    },
    {
     "name": "stdout",
     "output_type": "stream",
     "text": [
      "rgb logits...\n",
      "flow logits...\n",
      "===== Final predictions ====\n",
      "label: other_action\n",
      "logits proba class\n",
      "84.57% touching_equipment\n",
      "1058 39 1 ./data/images_new/test/34_20190110_frames110304\n",
      "rgb logits...\n",
      "flow logits...\n"
     ]
    },
    {
     "name": "stderr",
     "output_type": "stream",
     "text": [
      " 68%|██████▊   | 1061/1552 [03:41<05:17,  1.55it/s]"
     ]
    },
    {
     "name": "stdout",
     "output_type": "stream",
     "text": [
      "===== Final predictions ====\n",
      "label: other_action\n",
      "logits proba class\n",
      "65.33% other_action\n",
      "1059 39 2 ./data/images_new/test/34_20190110_frames110304\n",
      "rgb logits...\n",
      "flow logits...\n",
      "===== Final predictions ====\n",
      "label: other_action\n",
      "logits proba class\n",
      "52.12% other_action\n",
      "1060 39 3 ./data/images_new/test/34_20190110_frames110304\n"
     ]
    },
    {
     "name": "stderr",
     "output_type": "stream",
     "text": [
      " 68%|██████▊   | 1063/1552 [03:41<03:07,  2.60it/s]"
     ]
    },
    {
     "name": "stdout",
     "output_type": "stream",
     "text": [
      "rgb logits...\n",
      "flow logits...\n",
      "===== Final predictions ====\n",
      "label: other_action\n",
      "logits proba class\n",
      "99.47% rubbing_hands\n",
      "1061 39 4 ./data/images_new/test/34_20190110_frames110304\n",
      "rgb logits...\n",
      "flow logits...\n",
      "===== Final predictions ====\n",
      "label: other_action\n",
      "logits proba class\n",
      "99.99% rubbing_hands\n",
      "1062 39 5 ./data/images_new/test/34_20190110_frames110304\n"
     ]
    },
    {
     "name": "stderr",
     "output_type": "stream",
     "text": [
      " 69%|██████▊   | 1065/1552 [03:41<02:02,  3.98it/s]"
     ]
    },
    {
     "name": "stdout",
     "output_type": "stream",
     "text": [
      "rgb logits...\n",
      "flow logits...\n",
      "===== Final predictions ====\n",
      "label: other_action\n",
      "logits proba class\n",
      "99.85% rubbing_hands\n",
      "1063 39 6 ./data/images_new/test/34_20190110_frames110304\n",
      "rgb logits...\n",
      "flow logits...\n",
      "===== Final predictions ====\n",
      "label: other_action\n",
      "logits proba class\n",
      "99.93% rubbing_hands\n",
      "1064 39 7 ./data/images_new/test/34_20190110_frames110304\n"
     ]
    },
    {
     "name": "stderr",
     "output_type": "stream",
     "text": [
      " 69%|██████▉   | 1067/1552 [03:42<01:30,  5.34it/s]"
     ]
    },
    {
     "name": "stdout",
     "output_type": "stream",
     "text": [
      "rgb logits...\n",
      "flow logits...\n",
      "===== Final predictions ====\n",
      "label: other_action\n",
      "logits proba class\n",
      "84.48% rubbing_hands\n",
      "1065 39 8 ./data/images_new/test/34_20190110_frames110304\n",
      "rgb logits...\n",
      "flow logits...\n",
      "===== Final predictions ====\n",
      "label: other_action\n",
      "logits proba class\n",
      "71.56% rubbing_hands\n",
      "1066 39 9 ./data/images_new/test/34_20190110_frames110304\n"
     ]
    },
    {
     "name": "stderr",
     "output_type": "stream",
     "text": [
      " 69%|██████▉   | 1069/1552 [03:42<01:17,  6.27it/s]"
     ]
    },
    {
     "name": "stdout",
     "output_type": "stream",
     "text": [
      "rgb logits...\n",
      "flow logits...\n",
      "===== Final predictions ====\n",
      "label: other_action\n",
      "logits proba class\n",
      "81.73% other_action\n",
      "1067 39 10 ./data/images_new/test/34_20190110_frames110304\n",
      "rgb logits...\n",
      "flow logits...\n",
      "===== Final predictions ====\n",
      "label: other_action\n",
      "logits proba class\n",
      "99.67% other_action\n",
      "1068 39 11 ./data/images_new/test/34_20190110_frames110304\n"
     ]
    },
    {
     "name": "stderr",
     "output_type": "stream",
     "text": [
      " 69%|██████▉   | 1071/1552 [03:42<01:11,  6.72it/s]"
     ]
    },
    {
     "name": "stdout",
     "output_type": "stream",
     "text": [
      "rgb logits...\n",
      "flow logits...\n",
      "===== Final predictions ====\n",
      "label: other_action\n",
      "logits proba class\n",
      "100.00% other_action\n",
      "1069 39 12 ./data/images_new/test/34_20190110_frames110304\n",
      "rgb logits...\n",
      "flow logits...\n",
      "===== Final predictions ====\n",
      "label: other_action\n",
      "logits proba class\n",
      "99.57% other_action\n",
      "1070 39 13 ./data/images_new/test/34_20190110_frames110304\n"
     ]
    },
    {
     "name": "stderr",
     "output_type": "stream",
     "text": [
      " 69%|██████▉   | 1073/1552 [03:43<01:08,  6.99it/s]"
     ]
    },
    {
     "name": "stdout",
     "output_type": "stream",
     "text": [
      "rgb logits...\n",
      "flow logits...\n",
      "===== Final predictions ====\n",
      "label: other_action\n",
      "logits proba class\n",
      "100.00% other_action\n",
      "1071 39 14 ./data/images_new/test/34_20190110_frames110304\n",
      "rgb logits...\n",
      "flow logits...\n",
      "===== Final predictions ====\n",
      "label: other_action\n",
      "logits proba class\n",
      "99.80% other_action\n",
      "1072 39 15 ./data/images_new/test/34_20190110_frames110304\n"
     ]
    },
    {
     "name": "stderr",
     "output_type": "stream",
     "text": [
      " 69%|██████▉   | 1075/1552 [03:43<01:05,  7.29it/s]"
     ]
    },
    {
     "name": "stdout",
     "output_type": "stream",
     "text": [
      "rgb logits...\n",
      "flow logits...\n",
      "===== Final predictions ====\n",
      "label: other_action\n",
      "logits proba class\n",
      "99.48% other_action\n",
      "1073 39 16 ./data/images_new/test/34_20190110_frames110304\n",
      "rgb logits...\n",
      "flow logits...\n",
      "===== Final predictions ====\n",
      "label: other_action\n",
      "logits proba class\n",
      "90.92% rubbing_hands\n",
      "1074 39 0 ./data/images_new/test/34_20190110_frames110304\n"
     ]
    },
    {
     "name": "stderr",
     "output_type": "stream",
     "text": [
      " 69%|██████▉   | 1077/1552 [03:43<01:02,  7.62it/s]"
     ]
    },
    {
     "name": "stdout",
     "output_type": "stream",
     "text": [
      "rgb logits...\n",
      "flow logits...\n",
      "===== Final predictions ====\n",
      "label: other_action\n",
      "logits proba class\n",
      "75.33% other_action\n",
      "1075 39 1 ./data/images_new/test/34_20190110_frames110304\n",
      "rgb logits...\n",
      "flow logits...\n",
      "===== Final predictions ====\n",
      "label: other_action\n",
      "logits proba class\n",
      "82.53% other_action\n",
      "1076 39 2 ./data/images_new/test/34_20190110_frames110304\n"
     ]
    },
    {
     "name": "stderr",
     "output_type": "stream",
     "text": [
      " 70%|██████▉   | 1079/1552 [03:43<01:00,  7.79it/s]"
     ]
    },
    {
     "name": "stdout",
     "output_type": "stream",
     "text": [
      "rgb logits...\n",
      "flow logits...\n",
      "===== Final predictions ====\n",
      "label: other_action\n",
      "logits proba class\n",
      "94.75% rubbing_hands\n",
      "1077 39 3 ./data/images_new/test/34_20190110_frames110304\n",
      "rgb logits...\n",
      "flow logits...\n",
      "===== Final predictions ====\n",
      "label: other_action\n",
      "logits proba class\n",
      "93.66% rubbing_hands\n",
      "1078 39 4 ./data/images_new/test/34_20190110_frames110304\n"
     ]
    },
    {
     "name": "stderr",
     "output_type": "stream",
     "text": [
      " 70%|██████▉   | 1081/1552 [03:44<00:59,  7.87it/s]"
     ]
    },
    {
     "name": "stdout",
     "output_type": "stream",
     "text": [
      "rgb logits...\n",
      "flow logits...\n",
      "===== Final predictions ====\n",
      "label: other_action\n",
      "logits proba class\n",
      "99.62% rubbing_hands\n",
      "1079 39 5 ./data/images_new/test/34_20190110_frames110304\n",
      "rgb logits...\n",
      "flow logits...\n",
      "===== Final predictions ====\n",
      "label: other_action\n",
      "logits proba class\n",
      "99.92% rubbing_hands\n",
      "1080 39 6 ./data/images_new/test/34_20190110_frames110304\n"
     ]
    },
    {
     "name": "stderr",
     "output_type": "stream",
     "text": [
      " 70%|██████▉   | 1083/1552 [03:44<00:59,  7.87it/s]"
     ]
    },
    {
     "name": "stdout",
     "output_type": "stream",
     "text": [
      "rgb logits...\n",
      "flow logits...\n",
      "===== Final predictions ====\n",
      "label: other_action\n",
      "logits proba class\n",
      "99.97% rubbing_hands\n",
      "1081 39 7 ./data/images_new/test/34_20190110_frames110304\n",
      "rgb logits...\n",
      "flow logits...\n",
      "===== Final predictions ====\n",
      "label: other_action\n",
      "logits proba class\n",
      "100.00% rubbing_hands\n",
      "1082 39 8 ./data/images_new/test/34_20190110_frames110304\n"
     ]
    },
    {
     "name": "stderr",
     "output_type": "stream",
     "text": [
      " 70%|██████▉   | 1085/1552 [03:44<00:59,  7.89it/s]"
     ]
    },
    {
     "name": "stdout",
     "output_type": "stream",
     "text": [
      "rgb logits...\n",
      "flow logits...\n",
      "===== Final predictions ====\n",
      "label: other_action\n",
      "logits proba class\n",
      "99.86% rubbing_hands\n",
      "1083 39 9 ./data/images_new/test/34_20190110_frames110304\n",
      "rgb logits...\n",
      "flow logits...\n",
      "===== Final predictions ====\n",
      "label: other_action\n",
      "logits proba class\n",
      "99.99% rubbing_hands\n",
      "1084 39 10 ./data/images_new/test/34_20190110_frames110304\n"
     ]
    },
    {
     "name": "stderr",
     "output_type": "stream",
     "text": [
      " 70%|███████   | 1087/1552 [03:44<00:58,  7.89it/s]"
     ]
    },
    {
     "name": "stdout",
     "output_type": "stream",
     "text": [
      "rgb logits...\n",
      "flow logits...\n",
      "===== Final predictions ====\n",
      "label: other_action\n",
      "logits proba class\n",
      "100.00% rubbing_hands\n",
      "1085 39 11 ./data/images_new/test/34_20190110_frames110304\n",
      "rgb logits...\n",
      "flow logits...\n",
      "===== Final predictions ====\n",
      "label: other_action\n",
      "logits proba class\n",
      "99.99% rubbing_hands\n",
      "1086 39 12 ./data/images_new/test/34_20190110_frames110304\n"
     ]
    },
    {
     "name": "stderr",
     "output_type": "stream",
     "text": [
      " 70%|███████   | 1089/1552 [03:45<00:59,  7.83it/s]"
     ]
    },
    {
     "name": "stdout",
     "output_type": "stream",
     "text": [
      "rgb logits...\n",
      "flow logits...\n",
      "===== Final predictions ====\n",
      "label: other_action\n",
      "logits proba class\n",
      "97.80% rubbing_hands\n",
      "1087 39 13 ./data/images_new/test/34_20190110_frames110304\n",
      "rgb logits...\n",
      "flow logits...\n",
      "===== Final predictions ====\n",
      "label: other_action\n",
      "logits proba class\n",
      "98.15% rubbing_hands\n",
      "1088 39 14 ./data/images_new/test/34_20190110_frames110304\n"
     ]
    },
    {
     "name": "stderr",
     "output_type": "stream",
     "text": [
      " 70%|███████   | 1091/1552 [03:45<00:59,  7.74it/s]"
     ]
    },
    {
     "name": "stdout",
     "output_type": "stream",
     "text": [
      "rgb logits...\n",
      "flow logits...\n",
      "===== Final predictions ====\n",
      "label: other_action\n",
      "logits proba class\n",
      "99.70% rubbing_hands\n",
      "1089 39 15 ./data/images_new/test/34_20190110_frames110304\n",
      "rgb logits...\n",
      "flow logits...\n",
      "===== Final predictions ====\n",
      "label: other_action\n",
      "logits proba class\n",
      "99.96% rubbing_hands\n",
      "1090 39 16 ./data/images_new/test/34_20190110_frames110304\n"
     ]
    },
    {
     "name": "stderr",
     "output_type": "stream",
     "text": [
      " 70%|███████   | 1093/1552 [03:45<00:59,  7.66it/s]"
     ]
    },
    {
     "name": "stdout",
     "output_type": "stream",
     "text": [
      "rgb logits...\n",
      "flow logits...\n",
      "===== Final predictions ====\n",
      "label: rubbing_hands\n",
      "logits proba class\n",
      "99.72% rubbing_hands\n",
      "1091 39 0 ./data/images_new/test/34_20190110_frames110304\n",
      "rgb logits...\n",
      "flow logits...\n",
      "===== Final predictions ====\n",
      "label: rubbing_hands\n",
      "logits proba class\n",
      "64.33% rubbing_hands\n",
      "1092 39 1 ./data/images_new/test/34_20190110_frames110304\n"
     ]
    },
    {
     "name": "stderr",
     "output_type": "stream",
     "text": [
      " 71%|███████   | 1095/1552 [03:45<00:59,  7.69it/s]"
     ]
    },
    {
     "name": "stdout",
     "output_type": "stream",
     "text": [
      "rgb logits...\n",
      "flow logits...\n",
      "===== Final predictions ====\n",
      "label: rubbing_hands\n",
      "logits proba class\n",
      "99.94% rubbing_hands\n",
      "1093 39 2 ./data/images_new/test/34_20190110_frames110304\n",
      "rgb logits...\n",
      "flow logits...\n",
      "===== Final predictions ====\n",
      "label: rubbing_hands\n",
      "logits proba class\n",
      "99.88% rubbing_hands\n",
      "1094 39 3 ./data/images_new/test/34_20190110_frames110304\n"
     ]
    },
    {
     "name": "stderr",
     "output_type": "stream",
     "text": [
      " 71%|███████   | 1097/1552 [03:46<00:59,  7.65it/s]"
     ]
    },
    {
     "name": "stdout",
     "output_type": "stream",
     "text": [
      "rgb logits...\n",
      "flow logits...\n",
      "===== Final predictions ====\n",
      "label: rubbing_hands\n",
      "logits proba class\n",
      "70.81% other_action\n",
      "1095 39 4 ./data/images_new/test/34_20190110_frames110304\n",
      "rgb logits...\n",
      "flow logits...\n",
      "===== Final predictions ====\n",
      "label: rubbing_hands\n",
      "logits proba class\n",
      "63.08% other_action\n",
      "1096 39 5 ./data/images_new/test/34_20190110_frames110304\n"
     ]
    },
    {
     "name": "stderr",
     "output_type": "stream",
     "text": [
      " 71%|███████   | 1099/1552 [03:46<00:59,  7.67it/s]"
     ]
    },
    {
     "name": "stdout",
     "output_type": "stream",
     "text": [
      "rgb logits...\n",
      "flow logits...\n",
      "===== Final predictions ====\n",
      "label: rubbing_hands\n",
      "logits proba class\n",
      "83.00% rubbing_hands\n",
      "1097 39 6 ./data/images_new/test/34_20190110_frames110304\n",
      "rgb logits...\n",
      "flow logits...\n",
      "===== Final predictions ====\n",
      "label: rubbing_hands\n",
      "logits proba class\n",
      "84.59% rubbing_hands\n",
      "1098 39 7 ./data/images_new/test/34_20190110_frames110304\n"
     ]
    },
    {
     "name": "stderr",
     "output_type": "stream",
     "text": [
      " 71%|███████   | 1101/1552 [03:46<00:58,  7.68it/s]"
     ]
    },
    {
     "name": "stdout",
     "output_type": "stream",
     "text": [
      "rgb logits...\n",
      "flow logits...\n",
      "===== Final predictions ====\n",
      "label: rubbing_hands\n",
      "logits proba class\n",
      "93.54% rubbing_hands\n",
      "1099 39 8 ./data/images_new/test/34_20190110_frames110304\n",
      "rgb logits...\n",
      "flow logits...\n",
      "===== Final predictions ====\n",
      "label: rubbing_hands\n",
      "logits proba class\n",
      "95.92% rubbing_hands\n",
      "1100 39 9 ./data/images_new/test/34_20190110_frames110304\n"
     ]
    },
    {
     "name": "stderr",
     "output_type": "stream",
     "text": [
      " 71%|███████   | 1103/1552 [03:46<00:58,  7.65it/s]"
     ]
    },
    {
     "name": "stdout",
     "output_type": "stream",
     "text": [
      "rgb logits...\n",
      "flow logits...\n",
      "===== Final predictions ====\n",
      "label: rubbing_hands\n",
      "logits proba class\n",
      "99.82% rubbing_hands\n",
      "1101 39 10 ./data/images_new/test/34_20190110_frames110304\n",
      "rgb logits...\n",
      "flow logits...\n",
      "===== Final predictions ====\n",
      "label: rubbing_hands\n",
      "logits proba class\n",
      "63.00% rubbing_hands\n",
      "1102 39 11 ./data/images_new/test/34_20190110_frames110304\n"
     ]
    },
    {
     "name": "stderr",
     "output_type": "stream",
     "text": [
      " 71%|███████   | 1105/1552 [03:47<00:58,  7.63it/s]"
     ]
    },
    {
     "name": "stdout",
     "output_type": "stream",
     "text": [
      "rgb logits...\n",
      "flow logits...\n",
      "===== Final predictions ====\n",
      "label: rubbing_hands\n",
      "logits proba class\n",
      "80.15% rubbing_hands\n",
      "1103 39 12 ./data/images_new/test/34_20190110_frames110304\n",
      "rgb logits...\n",
      "flow logits...\n",
      "===== Final predictions ====\n",
      "label: rubbing_hands\n",
      "logits proba class\n",
      "64.93% rubbing_hands\n",
      "1104 39 13 ./data/images_new/test/34_20190110_frames110304\n"
     ]
    },
    {
     "name": "stderr",
     "output_type": "stream",
     "text": [
      " 71%|███████▏  | 1107/1552 [03:47<00:58,  7.63it/s]"
     ]
    },
    {
     "name": "stdout",
     "output_type": "stream",
     "text": [
      "rgb logits...\n",
      "flow logits...\n",
      "===== Final predictions ====\n",
      "label: rubbing_hands\n",
      "logits proba class\n",
      "54.02% rubbing_hands\n",
      "1105 39 14 ./data/images_new/test/34_20190110_frames110304\n",
      "rgb logits...\n",
      "flow logits...\n",
      "===== Final predictions ====\n",
      "label: rubbing_hands\n",
      "logits proba class\n",
      "95.62% other_action\n",
      "1106 39 15 ./data/images_new/test/34_20190110_frames110304\n"
     ]
    },
    {
     "name": "stderr",
     "output_type": "stream",
     "text": [
      " 71%|███████▏  | 1109/1552 [03:47<00:58,  7.63it/s]"
     ]
    },
    {
     "name": "stdout",
     "output_type": "stream",
     "text": [
      "rgb logits...\n",
      "flow logits...\n",
      "===== Final predictions ====\n",
      "label: rubbing_hands\n",
      "logits proba class\n",
      "95.67% rubbing_hands\n",
      "1107 39 16 ./data/images_new/test/34_20190110_frames110304\n",
      "rgb logits...\n",
      "flow logits...\n",
      "===== Final predictions ====\n",
      "label: rubbing_hands\n",
      "logits proba class\n",
      "84.06% touching_equipment\n",
      "1108 39 17 ./data/images_new/test/34_20190110_frames110304\n"
     ]
    },
    {
     "name": "stderr",
     "output_type": "stream",
     "text": [
      " 72%|███████▏  | 1111/1552 [03:47<00:57,  7.69it/s]"
     ]
    },
    {
     "name": "stdout",
     "output_type": "stream",
     "text": [
      "rgb logits...\n",
      "flow logits...\n",
      "===== Final predictions ====\n",
      "label: rubbing_hands\n",
      "logits proba class\n",
      "96.97% rubbing_hands\n",
      "1109 39 18 ./data/images_new/test/34_20190110_frames110304\n",
      "rgb logits...\n",
      "flow logits...\n",
      "===== Final predictions ====\n",
      "label: rubbing_hands\n",
      "logits proba class\n",
      "90.22% rubbing_hands\n",
      "1110 39 19 ./data/images_new/test/34_20190110_frames110304\n"
     ]
    },
    {
     "name": "stderr",
     "output_type": "stream",
     "text": [
      " 72%|███████▏  | 1113/1552 [03:48<00:58,  7.49it/s]"
     ]
    },
    {
     "name": "stdout",
     "output_type": "stream",
     "text": [
      "rgb logits...\n",
      "flow logits...\n",
      "===== Final predictions ====\n",
      "label: rubbing_hands\n",
      "logits proba class\n",
      "99.63% rubbing_hands\n",
      "1111 39 20 ./data/images_new/test/34_20190110_frames110304\n",
      "rgb logits...\n",
      "flow logits...\n",
      "===== Final predictions ====\n",
      "label: rubbing_hands\n",
      "logits proba class\n",
      "98.26% rubbing_hands\n",
      "1112 39 21 ./data/images_new/test/34_20190110_frames110304\n"
     ]
    },
    {
     "name": "stderr",
     "output_type": "stream",
     "text": [
      " 72%|███████▏  | 1115/1552 [03:48<00:56,  7.69it/s]"
     ]
    },
    {
     "name": "stdout",
     "output_type": "stream",
     "text": [
      "rgb logits...\n",
      "flow logits...\n",
      "===== Final predictions ====\n",
      "label: rubbing_hands\n",
      "logits proba class\n",
      "99.71% rubbing_hands\n",
      "1113 39 22 ./data/images_new/test/34_20190110_frames110304\n",
      "rgb logits...\n",
      "flow logits...\n",
      "===== Final predictions ====\n",
      "label: rubbing_hands\n",
      "logits proba class\n",
      "99.13% rubbing_hands\n",
      "1114 39 23 ./data/images_new/test/34_20190110_frames110304\n"
     ]
    },
    {
     "name": "stderr",
     "output_type": "stream",
     "text": [
      " 72%|███████▏  | 1117/1552 [03:48<00:55,  7.77it/s]"
     ]
    },
    {
     "name": "stdout",
     "output_type": "stream",
     "text": [
      "rgb logits...\n",
      "flow logits...\n",
      "===== Final predictions ====\n",
      "label: rubbing_hands\n",
      "logits proba class\n",
      "99.99% rubbing_hands\n",
      "1115 39 24 ./data/images_new/test/34_20190110_frames110304\n",
      "rgb logits...\n",
      "flow logits...\n",
      "===== Final predictions ====\n",
      "label: rubbing_hands\n",
      "logits proba class\n",
      "99.71% rubbing_hands\n",
      "1116 39 25 ./data/images_new/test/34_20190110_frames110304\n"
     ]
    },
    {
     "name": "stderr",
     "output_type": "stream",
     "text": [
      " 72%|███████▏  | 1119/1552 [03:49<00:55,  7.77it/s]"
     ]
    },
    {
     "name": "stdout",
     "output_type": "stream",
     "text": [
      "rgb logits...\n",
      "flow logits...\n",
      "===== Final predictions ====\n",
      "label: rubbing_hands\n",
      "logits proba class\n",
      "99.63% rubbing_hands\n",
      "1117 39 26 ./data/images_new/test/34_20190110_frames110304\n",
      "rgb logits...\n",
      "flow logits...\n",
      "===== Final predictions ====\n",
      "label: rubbing_hands\n",
      "logits proba class\n",
      "95.58% rubbing_hands\n",
      "1118 39 27 ./data/images_new/test/34_20190110_frames110304\n"
     ]
    },
    {
     "name": "stderr",
     "output_type": "stream",
     "text": [
      " 72%|███████▏  | 1121/1552 [03:49<00:55,  7.83it/s]"
     ]
    },
    {
     "name": "stdout",
     "output_type": "stream",
     "text": [
      "rgb logits...\n",
      "flow logits...\n",
      "===== Final predictions ====\n",
      "label: rubbing_hands\n",
      "logits proba class\n",
      "99.81% rubbing_hands\n",
      "1119 39 28 ./data/images_new/test/34_20190110_frames110304\n",
      "rgb logits...\n",
      "flow logits...\n",
      "===== Final predictions ====\n",
      "label: rubbing_hands\n",
      "logits proba class\n",
      "99.47% rubbing_hands\n",
      "1120 39 29 ./data/images_new/test/34_20190110_frames110304\n"
     ]
    },
    {
     "name": "stderr",
     "output_type": "stream",
     "text": [
      "\r",
      " 72%|███████▏  | 1122/1552 [03:49<00:54,  7.85it/s]"
     ]
    },
    {
     "name": "stdout",
     "output_type": "stream",
     "text": [
      "rgb logits...\n",
      "flow logits...\n",
      "===== Final predictions ====\n",
      "label: rubbing_hands\n",
      "logits proba class\n",
      "99.83% rubbing_hands\n",
      "1121 39 30 ./data/images_new/test/34_20190110_frames110304\n",
      "rgb logits...\n",
      "flow logits...\n",
      "===== Final predictions ====\n"
     ]
    },
    {
     "name": "stderr",
     "output_type": "stream",
     "text": [
      " 72%|███████▏  | 1124/1552 [03:49<01:03,  6.71it/s]"
     ]
    },
    {
     "name": "stdout",
     "output_type": "stream",
     "text": [
      "label: rubbing_hands\n",
      "logits proba class\n",
      "98.02% rubbing_hands\n",
      "1122 39 31 ./data/images_new/test/34_20190110_frames110304\n",
      "rgb logits...\n",
      "flow logits...\n",
      "===== Final predictions ====\n",
      "label: rubbing_hands\n",
      "logits proba class\n",
      "96.84% rubbing_hands\n",
      "1123 39 32 ./data/images_new/test/34_20190110_frames110304\n"
     ]
    },
    {
     "name": "stderr",
     "output_type": "stream",
     "text": [
      " 73%|███████▎  | 1126/1552 [03:50<01:03,  6.67it/s]"
     ]
    },
    {
     "name": "stdout",
     "output_type": "stream",
     "text": [
      "rgb logits...\n",
      "flow logits...\n",
      "===== Final predictions ====\n",
      "label: rubbing_hands\n",
      "logits proba class\n",
      "98.59% rubbing_hands\n",
      "1124 39 33 ./data/images_new/test/34_20190110_frames110304\n",
      "rgb logits...\n",
      "flow logits...\n",
      "===== Final predictions ====\n",
      "label: rubbing_hands\n",
      "logits proba class\n",
      "95.13% rubbing_hands\n",
      "1125 39 34 ./data/images_new/test/34_20190110_frames110304\n"
     ]
    },
    {
     "name": "stderr",
     "output_type": "stream",
     "text": [
      " 73%|███████▎  | 1128/1552 [03:50<01:03,  6.64it/s]"
     ]
    },
    {
     "name": "stdout",
     "output_type": "stream",
     "text": [
      "rgb logits...\n",
      "flow logits...\n",
      "===== Final predictions ====\n",
      "label: rubbing_hands\n",
      "logits proba class\n",
      "85.57% rubbing_hands\n",
      "1126 39 35 ./data/images_new/test/34_20190110_frames110304\n",
      "rgb logits...\n",
      "flow logits...\n",
      "===== Final predictions ====\n",
      "label: rubbing_hands\n",
      "logits proba class\n",
      "77.46% rubbing_hands\n",
      "1127 39 36 ./data/images_new/test/34_20190110_frames110304\n"
     ]
    },
    {
     "name": "stderr",
     "output_type": "stream",
     "text": [
      " 73%|███████▎  | 1130/1552 [03:50<00:59,  7.09it/s]"
     ]
    },
    {
     "name": "stdout",
     "output_type": "stream",
     "text": [
      "rgb logits...\n",
      "flow logits...\n",
      "===== Final predictions ====\n",
      "label: rubbing_hands\n",
      "logits proba class\n",
      "93.38% rubbing_hands\n",
      "1128 39 37 ./data/images_new/test/34_20190110_frames110304\n",
      "rgb logits...\n",
      "flow logits...\n",
      "===== Final predictions ====\n",
      "label: rubbing_hands\n",
      "logits proba class\n",
      "79.74% rubbing_hands\n",
      "1129 39 38 ./data/images_new/test/34_20190110_frames110304\n"
     ]
    },
    {
     "name": "stderr",
     "output_type": "stream",
     "text": [
      " 73%|███████▎  | 1132/1552 [03:50<00:56,  7.42it/s]"
     ]
    },
    {
     "name": "stdout",
     "output_type": "stream",
     "text": [
      "rgb logits...\n",
      "flow logits...\n",
      "===== Final predictions ====\n",
      "label: rubbing_hands\n",
      "logits proba class\n",
      "98.23% rubbing_hands\n",
      "1130 39 39 ./data/images_new/test/34_20190110_frames110304\n",
      "rgb logits...\n",
      "flow logits...\n",
      "===== Final predictions ====\n",
      "label: rubbing_hands\n",
      "logits proba class\n",
      "95.05% rubbing_hands\n",
      "1131 39 40 ./data/images_new/test/34_20190110_frames110304\n"
     ]
    },
    {
     "name": "stderr",
     "output_type": "stream",
     "text": [
      " 73%|███████▎  | 1134/1552 [03:51<00:54,  7.61it/s]"
     ]
    },
    {
     "name": "stdout",
     "output_type": "stream",
     "text": [
      "rgb logits...\n",
      "flow logits...\n",
      "===== Final predictions ====\n",
      "label: rubbing_hands\n",
      "logits proba class\n",
      "67.43% rubbing_hands\n",
      "1132 39 41 ./data/images_new/test/34_20190110_frames110304\n",
      "rgb logits...\n",
      "flow logits...\n",
      "===== Final predictions ====\n",
      "label: rubbing_hands\n",
      "logits proba class\n",
      "42.75% touching_equipment\n",
      "1133 39 42 ./data/images_new/test/34_20190110_frames110304\n"
     ]
    },
    {
     "name": "stderr",
     "output_type": "stream",
     "text": [
      " 73%|███████▎  | 1136/1552 [03:51<00:54,  7.66it/s]"
     ]
    },
    {
     "name": "stdout",
     "output_type": "stream",
     "text": [
      "rgb logits...\n",
      "flow logits...\n",
      "===== Final predictions ====\n",
      "label: rubbing_hands\n",
      "logits proba class\n",
      "71.91% rubbing_hands\n",
      "1134 39 43 ./data/images_new/test/34_20190110_frames110304\n",
      "rgb logits...\n",
      "flow logits...\n",
      "===== Final predictions ====\n",
      "label: rubbing_hands\n",
      "logits proba class\n",
      "53.34% rubbing_hands\n",
      "1135 39 44 ./data/images_new/test/34_20190110_frames110304\n"
     ]
    },
    {
     "name": "stderr",
     "output_type": "stream",
     "text": [
      " 73%|███████▎  | 1138/1552 [03:51<00:53,  7.68it/s]"
     ]
    },
    {
     "name": "stdout",
     "output_type": "stream",
     "text": [
      "rgb logits...\n",
      "flow logits...\n",
      "===== Final predictions ====\n",
      "label: rubbing_hands\n",
      "logits proba class\n",
      "82.02% rubbing_hands\n",
      "1136 39 45 ./data/images_new/test/34_20190110_frames110304\n",
      "rgb logits...\n",
      "flow logits...\n",
      "===== Final predictions ====\n",
      "label: rubbing_hands\n",
      "logits proba class\n",
      "46.32% rubbing_hands\n",
      "1137 39 46 ./data/images_new/test/34_20190110_frames110304\n"
     ]
    },
    {
     "name": "stderr",
     "output_type": "stream",
     "text": [
      " 73%|███████▎  | 1140/1552 [03:51<00:53,  7.70it/s]"
     ]
    },
    {
     "name": "stdout",
     "output_type": "stream",
     "text": [
      "rgb logits...\n",
      "flow logits...\n",
      "===== Final predictions ====\n",
      "label: rubbing_hands\n",
      "logits proba class\n",
      "94.56% rubbing_hands\n",
      "1138 39 47 ./data/images_new/test/34_20190110_frames110304\n",
      "rgb logits...\n",
      "flow logits...\n",
      "===== Final predictions ====\n",
      "label: rubbing_hands\n",
      "logits proba class\n",
      "98.41% rubbing_hands\n",
      "1139 39 48 ./data/images_new/test/34_20190110_frames110304\n"
     ]
    },
    {
     "name": "stderr",
     "output_type": "stream",
     "text": [
      "\r",
      " 74%|███████▎  | 1141/1552 [03:52<00:53,  7.65it/s]"
     ]
    },
    {
     "name": "stdout",
     "output_type": "stream",
     "text": [
      "rgb logits...\n",
      "flow logits...\n",
      "===== Final predictions ====\n",
      "label: rubbing_hands\n",
      "logits proba class\n",
      "96.53% rubbing_hands\n",
      "1140 39 49 ./data/images_new/test/34_20190110_frames110304\n",
      "[RGB] Filling cache for index 40\n"
     ]
    },
    {
     "name": "stderr",
     "output_type": "stream",
     "text": [
      "\r",
      " 74%|███████▎  | 1142/1552 [03:54<05:01,  1.36it/s]"
     ]
    },
    {
     "name": "stdout",
     "output_type": "stream",
     "text": [
      "[Flow] Filling cache for index 40\n",
      "rgb logits...\n",
      "flow logits...\n",
      "===== Final predictions ====\n",
      "label: rubbing_hands\n",
      "logits proba class\n",
      "80.20% touching_equipment\n",
      "1141 40 0 ./data/images_new/test/34_20190110_frames103839\n"
     ]
    },
    {
     "name": "stderr",
     "output_type": "stream",
     "text": [
      "\r",
      " 74%|███████▎  | 1143/1552 [03:54<03:50,  1.77it/s]"
     ]
    },
    {
     "name": "stdout",
     "output_type": "stream",
     "text": [
      "rgb logits...\n",
      "flow logits...\n",
      "===== Final predictions ====\n",
      "label: rubbing_hands\n",
      "logits proba class\n",
      "77.56% rubbing_hands\n",
      "1142 40 1 ./data/images_new/test/34_20190110_frames103839\n",
      "rgb logits...\n",
      "flow logits...\n"
     ]
    },
    {
     "name": "stderr",
     "output_type": "stream",
     "text": [
      " 74%|███████▍  | 1145/1552 [03:54<02:25,  2.80it/s]"
     ]
    },
    {
     "name": "stdout",
     "output_type": "stream",
     "text": [
      "===== Final predictions ====\n",
      "label: rubbing_hands\n",
      "logits proba class\n",
      "77.29% rubbing_hands\n",
      "1143 40 2 ./data/images_new/test/34_20190110_frames103839\n",
      "rgb logits...\n",
      "flow logits...\n",
      "===== Final predictions ====\n",
      "label: rubbing_hands\n",
      "logits proba class\n",
      "98.85% rubbing_hands\n",
      "1144 40 3 ./data/images_new/test/34_20190110_frames103839\n"
     ]
    },
    {
     "name": "stderr",
     "output_type": "stream",
     "text": [
      " 74%|███████▍  | 1147/1552 [03:54<01:38,  4.12it/s]"
     ]
    },
    {
     "name": "stdout",
     "output_type": "stream",
     "text": [
      "rgb logits...\n",
      "flow logits...\n",
      "===== Final predictions ====\n",
      "label: rubbing_hands\n",
      "logits proba class\n",
      "99.77% rubbing_hands\n",
      "1145 40 4 ./data/images_new/test/34_20190110_frames103839\n",
      "rgb logits...\n",
      "flow logits...\n",
      "===== Final predictions ====\n",
      "label: rubbing_hands\n",
      "logits proba class\n",
      "99.75% rubbing_hands\n",
      "1146 40 5 ./data/images_new/test/34_20190110_frames103839\n"
     ]
    },
    {
     "name": "stderr",
     "output_type": "stream",
     "text": [
      " 74%|███████▍  | 1149/1552 [03:55<01:14,  5.39it/s]"
     ]
    },
    {
     "name": "stdout",
     "output_type": "stream",
     "text": [
      "rgb logits...\n",
      "flow logits...\n",
      "===== Final predictions ====\n",
      "label: rubbing_hands\n",
      "logits proba class\n",
      "99.43% rubbing_hands\n",
      "1147 40 6 ./data/images_new/test/34_20190110_frames103839\n",
      "rgb logits...\n",
      "flow logits...\n",
      "===== Final predictions ====\n",
      "label: rubbing_hands\n",
      "logits proba class\n",
      "100.00% rubbing_hands\n",
      "1148 40 7 ./data/images_new/test/34_20190110_frames103839\n"
     ]
    },
    {
     "name": "stderr",
     "output_type": "stream",
     "text": [
      " 74%|███████▍  | 1151/1552 [03:55<01:02,  6.39it/s]"
     ]
    },
    {
     "name": "stdout",
     "output_type": "stream",
     "text": [
      "rgb logits...\n",
      "flow logits...\n",
      "===== Final predictions ====\n",
      "label: rubbing_hands\n",
      "logits proba class\n",
      "100.00% rubbing_hands\n",
      "1149 40 8 ./data/images_new/test/34_20190110_frames103839\n",
      "rgb logits...\n",
      "flow logits...\n",
      "===== Final predictions ====\n",
      "label: rubbing_hands\n",
      "logits proba class\n",
      "100.00% rubbing_hands\n",
      "1150 40 9 ./data/images_new/test/34_20190110_frames103839\n"
     ]
    },
    {
     "name": "stderr",
     "output_type": "stream",
     "text": [
      " 74%|███████▍  | 1153/1552 [03:55<00:56,  7.05it/s]"
     ]
    },
    {
     "name": "stdout",
     "output_type": "stream",
     "text": [
      "rgb logits...\n",
      "flow logits...\n",
      "===== Final predictions ====\n",
      "label: rubbing_hands\n",
      "logits proba class\n",
      "100.00% rubbing_hands\n",
      "1151 40 10 ./data/images_new/test/34_20190110_frames103839\n",
      "rgb logits...\n",
      "flow logits...\n",
      "===== Final predictions ====\n",
      "label: rubbing_hands\n",
      "logits proba class\n",
      "100.00% rubbing_hands\n",
      "1152 40 11 ./data/images_new/test/34_20190110_frames103839\n"
     ]
    },
    {
     "name": "stderr",
     "output_type": "stream",
     "text": [
      " 74%|███████▍  | 1155/1552 [03:55<00:53,  7.44it/s]"
     ]
    },
    {
     "name": "stdout",
     "output_type": "stream",
     "text": [
      "rgb logits...\n",
      "flow logits...\n",
      "===== Final predictions ====\n",
      "label: rubbing_hands\n",
      "logits proba class\n",
      "100.00% rubbing_hands\n",
      "1153 40 12 ./data/images_new/test/34_20190110_frames103839\n",
      "rgb logits...\n",
      "flow logits...\n",
      "===== Final predictions ====\n",
      "label: rubbing_hands\n",
      "logits proba class\n",
      "99.99% rubbing_hands\n",
      "1154 40 13 ./data/images_new/test/34_20190110_frames103839\n"
     ]
    },
    {
     "name": "stderr",
     "output_type": "stream",
     "text": [
      " 75%|███████▍  | 1157/1552 [03:56<00:52,  7.48it/s]"
     ]
    },
    {
     "name": "stdout",
     "output_type": "stream",
     "text": [
      "rgb logits...\n",
      "flow logits...\n",
      "===== Final predictions ====\n",
      "label: rubbing_hands\n",
      "logits proba class\n",
      "99.99% rubbing_hands\n",
      "1155 40 14 ./data/images_new/test/34_20190110_frames103839\n",
      "rgb logits...\n",
      "flow logits...\n",
      "===== Final predictions ====\n",
      "label: rubbing_hands\n",
      "logits proba class\n",
      "100.00% rubbing_hands\n",
      "1156 40 15 ./data/images_new/test/34_20190110_frames103839\n"
     ]
    },
    {
     "name": "stderr",
     "output_type": "stream",
     "text": [
      " 75%|███████▍  | 1159/1552 [03:56<00:51,  7.61it/s]"
     ]
    },
    {
     "name": "stdout",
     "output_type": "stream",
     "text": [
      "rgb logits...\n",
      "flow logits...\n",
      "===== Final predictions ====\n",
      "label: rubbing_hands\n",
      "logits proba class\n",
      "99.99% rubbing_hands\n",
      "1157 40 16 ./data/images_new/test/34_20190110_frames103839\n",
      "rgb logits...\n",
      "flow logits...\n",
      "===== Final predictions ====\n",
      "label: rubbing_hands\n",
      "logits proba class\n",
      "99.96% rubbing_hands\n",
      "1158 40 17 ./data/images_new/test/34_20190110_frames103839\n"
     ]
    },
    {
     "name": "stderr",
     "output_type": "stream",
     "text": [
      " 75%|███████▍  | 1161/1552 [03:56<00:51,  7.58it/s]"
     ]
    },
    {
     "name": "stdout",
     "output_type": "stream",
     "text": [
      "rgb logits...\n",
      "flow logits...\n",
      "===== Final predictions ====\n",
      "label: rubbing_hands\n",
      "logits proba class\n",
      "99.70% rubbing_hands\n",
      "1159 40 18 ./data/images_new/test/34_20190110_frames103839\n",
      "rgb logits...\n",
      "flow logits...\n",
      "===== Final predictions ====\n",
      "label: rubbing_hands\n",
      "logits proba class\n",
      "99.98% rubbing_hands\n",
      "1160 40 19 ./data/images_new/test/34_20190110_frames103839\n"
     ]
    },
    {
     "name": "stderr",
     "output_type": "stream",
     "text": [
      " 75%|███████▍  | 1163/1552 [03:57<00:51,  7.59it/s]"
     ]
    },
    {
     "name": "stdout",
     "output_type": "stream",
     "text": [
      "rgb logits...\n",
      "flow logits...\n",
      "===== Final predictions ====\n",
      "label: rubbing_hands\n",
      "logits proba class\n",
      "98.93% rubbing_hands\n",
      "1161 40 20 ./data/images_new/test/34_20190110_frames103839\n",
      "rgb logits...\n",
      "flow logits...\n",
      "===== Final predictions ====\n",
      "label: rubbing_hands\n",
      "logits proba class\n",
      "99.50% rubbing_hands\n",
      "1162 40 21 ./data/images_new/test/34_20190110_frames103839\n"
     ]
    },
    {
     "name": "stderr",
     "output_type": "stream",
     "text": [
      " 75%|███████▌  | 1165/1552 [03:57<00:50,  7.60it/s]"
     ]
    },
    {
     "name": "stdout",
     "output_type": "stream",
     "text": [
      "rgb logits...\n",
      "flow logits...\n",
      "===== Final predictions ====\n",
      "label: rubbing_hands\n",
      "logits proba class\n",
      "99.40% rubbing_hands\n",
      "1163 40 22 ./data/images_new/test/34_20190110_frames103839\n",
      "rgb logits...\n",
      "flow logits...\n",
      "===== Final predictions ====\n",
      "label: rubbing_hands\n",
      "logits proba class\n",
      "99.96% rubbing_hands\n",
      "1164 40 23 ./data/images_new/test/34_20190110_frames103839\n"
     ]
    },
    {
     "name": "stderr",
     "output_type": "stream",
     "text": [
      " 75%|███████▌  | 1167/1552 [03:57<00:51,  7.53it/s]"
     ]
    },
    {
     "name": "stdout",
     "output_type": "stream",
     "text": [
      "rgb logits...\n",
      "flow logits...\n",
      "===== Final predictions ====\n",
      "label: rubbing_hands\n",
      "logits proba class\n",
      "99.83% rubbing_hands\n",
      "1165 40 24 ./data/images_new/test/34_20190110_frames103839\n",
      "rgb logits...\n",
      "flow logits...\n",
      "===== Final predictions ====\n",
      "label: rubbing_hands\n",
      "logits proba class\n",
      "100.00% rubbing_hands\n",
      "1166 40 25 ./data/images_new/test/34_20190110_frames103839\n"
     ]
    },
    {
     "name": "stderr",
     "output_type": "stream",
     "text": [
      "\r",
      " 75%|███████▌  | 1168/1552 [03:57<00:50,  7.64it/s]"
     ]
    },
    {
     "name": "stdout",
     "output_type": "stream",
     "text": [
      "rgb logits...\n",
      "flow logits...\n",
      "===== Final predictions ====\n",
      "label: rubbing_hands\n",
      "logits proba class\n",
      "99.97% rubbing_hands\n",
      "1167 40 26 ./data/images_new/test/34_20190110_frames103839\n",
      "[RGB] Filling cache for index 41\n"
     ]
    },
    {
     "name": "stderr",
     "output_type": "stream",
     "text": [
      "\r",
      " 75%|███████▌  | 1169/1552 [04:00<05:42,  1.12it/s]"
     ]
    },
    {
     "name": "stdout",
     "output_type": "stream",
     "text": [
      "[Flow] Filling cache for index 41\n",
      "rgb logits...\n",
      "flow logits...\n",
      "===== Final predictions ====\n",
      "label: rubbing_hands\n",
      "logits proba class\n",
      "89.37% rubbing_hands\n",
      "1168 41 0 ./data/images_new/test/34_20190110_frames200890\n"
     ]
    },
    {
     "name": "stderr",
     "output_type": "stream",
     "text": [
      " 75%|███████▌  | 1171/1552 [04:00<03:16,  1.93it/s]"
     ]
    },
    {
     "name": "stdout",
     "output_type": "stream",
     "text": [
      "rgb logits...\n",
      "flow logits...\n",
      "===== Final predictions ====\n",
      "label: rubbing_hands\n",
      "logits proba class\n",
      "77.86% touching_equipment\n",
      "1169 41 1 ./data/images_new/test/34_20190110_frames200890\n",
      "rgb logits...\n",
      "flow logits...\n",
      "===== Final predictions ====\n",
      "label: rubbing_hands\n",
      "logits proba class\n",
      "48.18% rubbing_hands\n",
      "1170 41 2 ./data/images_new/test/34_20190110_frames200890\n"
     ]
    },
    {
     "name": "stderr",
     "output_type": "stream",
     "text": [
      " 76%|███████▌  | 1173/1552 [04:00<02:05,  3.02it/s]"
     ]
    },
    {
     "name": "stdout",
     "output_type": "stream",
     "text": [
      "rgb logits...\n",
      "flow logits...\n",
      "===== Final predictions ====\n",
      "label: rubbing_hands\n",
      "logits proba class\n",
      "78.94% touching_equipment\n",
      "1171 41 3 ./data/images_new/test/34_20190110_frames200890\n",
      "rgb logits...\n",
      "flow logits...\n",
      "===== Final predictions ====\n",
      "label: rubbing_hands\n",
      "logits proba class\n",
      "77.37% rubbing_hands\n",
      "1172 41 4 ./data/images_new/test/34_20190110_frames200890\n"
     ]
    },
    {
     "name": "stderr",
     "output_type": "stream",
     "text": [
      " 76%|███████▌  | 1175/1552 [04:01<01:26,  4.38it/s]"
     ]
    },
    {
     "name": "stdout",
     "output_type": "stream",
     "text": [
      "rgb logits...\n",
      "flow logits...\n",
      "===== Final predictions ====\n",
      "label: rubbing_hands\n",
      "logits proba class\n",
      "92.21% touching_equipment\n",
      "1173 41 5 ./data/images_new/test/34_20190110_frames200890\n",
      "rgb logits...\n",
      "flow logits...\n",
      "===== Final predictions ====\n",
      "label: rubbing_hands\n",
      "logits proba class\n",
      "95.61% rubbing_hands\n",
      "1174 41 6 ./data/images_new/test/34_20190110_frames200890\n"
     ]
    },
    {
     "name": "stderr",
     "output_type": "stream",
     "text": [
      " 76%|███████▌  | 1177/1552 [04:01<01:06,  5.62it/s]"
     ]
    },
    {
     "name": "stdout",
     "output_type": "stream",
     "text": [
      "rgb logits...\n",
      "flow logits...\n",
      "===== Final predictions ====\n",
      "label: rubbing_hands\n",
      "logits proba class\n",
      "65.27% rubbing_hands\n",
      "1175 41 7 ./data/images_new/test/34_20190110_frames200890\n",
      "rgb logits...\n",
      "flow logits...\n",
      "===== Final predictions ====\n",
      "label: rubbing_hands\n",
      "logits proba class\n",
      "91.21% rubbing_hands\n",
      "1176 41 8 ./data/images_new/test/34_20190110_frames200890\n"
     ]
    },
    {
     "name": "stderr",
     "output_type": "stream",
     "text": [
      " 76%|███████▌  | 1179/1552 [04:01<00:57,  6.51it/s]"
     ]
    },
    {
     "name": "stdout",
     "output_type": "stream",
     "text": [
      "rgb logits...\n",
      "flow logits...\n",
      "===== Final predictions ====\n",
      "label: rubbing_hands\n",
      "logits proba class\n",
      "65.07% touching_equipment\n",
      "1177 41 9 ./data/images_new/test/34_20190110_frames200890\n",
      "rgb logits...\n",
      "flow logits...\n",
      "===== Final predictions ====\n",
      "label: rubbing_hands\n",
      "logits proba class\n",
      "74.29% touching_equipment\n",
      "1178 41 10 ./data/images_new/test/34_20190110_frames200890\n"
     ]
    },
    {
     "name": "stderr",
     "output_type": "stream",
     "text": [
      " 76%|███████▌  | 1181/1552 [04:02<00:52,  7.07it/s]"
     ]
    },
    {
     "name": "stdout",
     "output_type": "stream",
     "text": [
      "rgb logits...\n",
      "flow logits...\n",
      "===== Final predictions ====\n",
      "label: rubbing_hands\n",
      "logits proba class\n",
      "66.19% rubbing_hands\n",
      "1179 41 11 ./data/images_new/test/34_20190110_frames200890\n",
      "rgb logits...\n",
      "flow logits...\n",
      "===== Final predictions ====\n",
      "label: rubbing_hands\n",
      "logits proba class\n",
      "86.17% rubbing_hands\n",
      "1180 41 12 ./data/images_new/test/34_20190110_frames200890\n"
     ]
    },
    {
     "name": "stderr",
     "output_type": "stream",
     "text": [
      " 76%|███████▌  | 1183/1552 [04:02<00:50,  7.36it/s]"
     ]
    },
    {
     "name": "stdout",
     "output_type": "stream",
     "text": [
      "rgb logits...\n",
      "flow logits...\n",
      "===== Final predictions ====\n",
      "label: rubbing_hands\n",
      "logits proba class\n",
      "65.41% rubbing_hands\n",
      "1181 41 13 ./data/images_new/test/34_20190110_frames200890\n",
      "rgb logits...\n",
      "flow logits...\n",
      "===== Final predictions ====\n",
      "label: rubbing_hands\n",
      "logits proba class\n",
      "56.22% touching_equipment\n",
      "1182 41 14 ./data/images_new/test/34_20190110_frames200890\n"
     ]
    },
    {
     "name": "stderr",
     "output_type": "stream",
     "text": [
      "\r",
      " 76%|███████▋  | 1184/1552 [04:02<00:49,  7.44it/s]"
     ]
    },
    {
     "name": "stdout",
     "output_type": "stream",
     "text": [
      "rgb logits...\n",
      "flow logits...\n",
      "===== Final predictions ====\n",
      "label: rubbing_hands\n",
      "logits proba class\n",
      "92.96% touching_equipment\n",
      "1183 41 15 ./data/images_new/test/34_20190110_frames200890\n",
      "rgb logits...\n"
     ]
    },
    {
     "name": "stderr",
     "output_type": "stream",
     "text": [
      " 76%|███████▋  | 1186/1552 [04:02<00:57,  6.35it/s]"
     ]
    },
    {
     "name": "stdout",
     "output_type": "stream",
     "text": [
      "flow logits...\n",
      "===== Final predictions ====\n",
      "label: rubbing_hands\n",
      "logits proba class\n",
      "56.92% touching_equipment\n",
      "1184 41 16 ./data/images_new/test/34_20190110_frames200890\n",
      "rgb logits...\n",
      "flow logits...\n",
      "===== Final predictions ====\n",
      "label: rubbing_hands\n",
      "logits proba class\n",
      "74.15% touching_equipment\n",
      "1185 41 17 ./data/images_new/test/34_20190110_frames200890\n"
     ]
    },
    {
     "name": "stderr",
     "output_type": "stream",
     "text": [
      "\r",
      " 76%|███████▋  | 1187/1552 [04:02<00:57,  6.36it/s]"
     ]
    },
    {
     "name": "stdout",
     "output_type": "stream",
     "text": [
      "rgb logits...\n",
      "flow logits...\n",
      "===== Final predictions ====\n",
      "label: rubbing_hands\n",
      "logits proba class\n",
      "75.77% touching_equipment\n",
      "1186 41 18 ./data/images_new/test/34_20190110_frames200890\n",
      "rgb logits...\n",
      "flow logits...\n"
     ]
    },
    {
     "name": "stderr",
     "output_type": "stream",
     "text": [
      " 77%|███████▋  | 1189/1552 [04:03<00:55,  6.50it/s]"
     ]
    },
    {
     "name": "stdout",
     "output_type": "stream",
     "text": [
      "===== Final predictions ====\n",
      "label: rubbing_hands\n",
      "logits proba class\n",
      "75.05% rubbing_hands\n",
      "1187 41 19 ./data/images_new/test/34_20190110_frames200890\n",
      "rgb logits...\n",
      "flow logits...\n",
      "===== Final predictions ====\n",
      "label: rubbing_hands\n",
      "logits proba class\n",
      "95.40% rubbing_hands\n",
      "1188 41 20 ./data/images_new/test/34_20190110_frames200890\n"
     ]
    },
    {
     "name": "stderr",
     "output_type": "stream",
     "text": [
      " 77%|███████▋  | 1191/1552 [04:03<00:51,  7.07it/s]"
     ]
    },
    {
     "name": "stdout",
     "output_type": "stream",
     "text": [
      "rgb logits...\n",
      "flow logits...\n",
      "===== Final predictions ====\n",
      "label: rubbing_hands\n",
      "logits proba class\n",
      "85.28% touching_equipment\n",
      "1189 41 21 ./data/images_new/test/34_20190110_frames200890\n",
      "rgb logits...\n",
      "flow logits...\n",
      "===== Final predictions ====\n",
      "label: rubbing_hands\n",
      "logits proba class\n",
      "85.91% rubbing_hands\n",
      "1190 41 22 ./data/images_new/test/34_20190110_frames200890\n"
     ]
    },
    {
     "name": "stderr",
     "output_type": "stream",
     "text": [
      " 77%|███████▋  | 1193/1552 [04:03<00:48,  7.38it/s]"
     ]
    },
    {
     "name": "stdout",
     "output_type": "stream",
     "text": [
      "rgb logits...\n",
      "flow logits...\n",
      "===== Final predictions ====\n",
      "label: rubbing_hands\n",
      "logits proba class\n",
      "79.07% rubbing_hands\n",
      "1191 41 23 ./data/images_new/test/34_20190110_frames200890\n",
      "rgb logits...\n",
      "flow logits...\n",
      "===== Final predictions ====\n",
      "label: rubbing_hands\n",
      "logits proba class\n",
      "99.50% rubbing_hands\n",
      "1192 41 24 ./data/images_new/test/34_20190110_frames200890\n"
     ]
    },
    {
     "name": "stderr",
     "output_type": "stream",
     "text": [
      " 77%|███████▋  | 1195/1552 [04:03<00:47,  7.55it/s]"
     ]
    },
    {
     "name": "stdout",
     "output_type": "stream",
     "text": [
      "rgb logits...\n",
      "flow logits...\n",
      "===== Final predictions ====\n",
      "label: rubbing_hands\n",
      "logits proba class\n",
      "80.03% rubbing_hands\n",
      "1193 41 25 ./data/images_new/test/34_20190110_frames200890\n",
      "rgb logits...\n",
      "flow logits...\n",
      "===== Final predictions ====\n",
      "label: rubbing_hands\n",
      "logits proba class\n",
      "97.25% rubbing_hands\n",
      "1194 41 26 ./data/images_new/test/34_20190110_frames200890\n"
     ]
    },
    {
     "name": "stderr",
     "output_type": "stream",
     "text": [
      " 77%|███████▋  | 1197/1552 [04:04<00:46,  7.60it/s]"
     ]
    },
    {
     "name": "stdout",
     "output_type": "stream",
     "text": [
      "rgb logits...\n",
      "flow logits...\n",
      "===== Final predictions ====\n",
      "label: rubbing_hands\n",
      "logits proba class\n",
      "95.23% rubbing_hands\n",
      "1195 41 27 ./data/images_new/test/34_20190110_frames200890\n",
      "rgb logits...\n",
      "flow logits...\n",
      "===== Final predictions ====\n",
      "label: rubbing_hands\n",
      "logits proba class\n",
      "98.31% rubbing_hands\n",
      "1196 41 28 ./data/images_new/test/34_20190110_frames200890\n"
     ]
    },
    {
     "name": "stderr",
     "output_type": "stream",
     "text": [
      " 77%|███████▋  | 1199/1552 [04:04<00:46,  7.63it/s]"
     ]
    },
    {
     "name": "stdout",
     "output_type": "stream",
     "text": [
      "rgb logits...\n",
      "flow logits...\n",
      "===== Final predictions ====\n",
      "label: rubbing_hands\n",
      "logits proba class\n",
      "60.72% rubbing_hands\n",
      "1197 41 29 ./data/images_new/test/34_20190110_frames200890\n",
      "rgb logits...\n",
      "flow logits...\n",
      "===== Final predictions ====\n",
      "label: rubbing_hands\n",
      "logits proba class\n",
      "68.81% rubbing_hands\n",
      "1198 41 30 ./data/images_new/test/34_20190110_frames200890\n"
     ]
    },
    {
     "name": "stderr",
     "output_type": "stream",
     "text": [
      " 77%|███████▋  | 1201/1552 [04:04<00:45,  7.66it/s]"
     ]
    },
    {
     "name": "stdout",
     "output_type": "stream",
     "text": [
      "rgb logits...\n",
      "flow logits...\n",
      "===== Final predictions ====\n",
      "label: rubbing_hands\n",
      "logits proba class\n",
      "55.40% touching_equipment\n",
      "1199 41 31 ./data/images_new/test/34_20190110_frames200890\n",
      "rgb logits...\n",
      "flow logits...\n",
      "===== Final predictions ====\n",
      "label: rubbing_hands\n",
      "logits proba class\n",
      "97.49% rubbing_hands\n",
      "1200 41 32 ./data/images_new/test/34_20190110_frames200890\n"
     ]
    },
    {
     "name": "stderr",
     "output_type": "stream",
     "text": [
      " 78%|███████▊  | 1203/1552 [04:05<00:45,  7.65it/s]"
     ]
    },
    {
     "name": "stdout",
     "output_type": "stream",
     "text": [
      "rgb logits...\n",
      "flow logits...\n",
      "===== Final predictions ====\n",
      "label: rubbing_hands\n",
      "logits proba class\n",
      "53.61% touching_equipment\n",
      "1201 41 33 ./data/images_new/test/34_20190110_frames200890\n",
      "rgb logits...\n",
      "flow logits...\n",
      "===== Final predictions ====\n",
      "label: rubbing_hands\n",
      "logits proba class\n",
      "64.37% touching_equipment\n",
      "1202 41 34 ./data/images_new/test/34_20190110_frames200890\n"
     ]
    },
    {
     "name": "stderr",
     "output_type": "stream",
     "text": [
      " 78%|███████▊  | 1205/1552 [04:05<00:45,  7.66it/s]"
     ]
    },
    {
     "name": "stdout",
     "output_type": "stream",
     "text": [
      "rgb logits...\n",
      "flow logits...\n",
      "===== Final predictions ====\n",
      "label: rubbing_hands\n",
      "logits proba class\n",
      "61.87% rubbing_hands\n",
      "1203 41 35 ./data/images_new/test/34_20190110_frames200890\n",
      "rgb logits...\n",
      "flow logits...\n",
      "===== Final predictions ====\n",
      "label: rubbing_hands\n",
      "logits proba class\n",
      "75.77% rubbing_hands\n",
      "1204 41 36 ./data/images_new/test/34_20190110_frames200890\n"
     ]
    },
    {
     "name": "stderr",
     "output_type": "stream",
     "text": [
      " 78%|███████▊  | 1207/1552 [04:05<00:45,  7.66it/s]"
     ]
    },
    {
     "name": "stdout",
     "output_type": "stream",
     "text": [
      "rgb logits...\n",
      "flow logits...\n",
      "===== Final predictions ====\n",
      "label: rubbing_hands\n",
      "logits proba class\n",
      "86.63% rubbing_hands\n",
      "1205 41 37 ./data/images_new/test/34_20190110_frames200890\n",
      "rgb logits...\n",
      "flow logits...\n",
      "===== Final predictions ====\n",
      "label: rubbing_hands\n",
      "logits proba class\n",
      "83.53% rubbing_hands\n",
      "1206 41 38 ./data/images_new/test/34_20190110_frames200890\n"
     ]
    },
    {
     "name": "stderr",
     "output_type": "stream",
     "text": [
      " 78%|███████▊  | 1209/1552 [04:05<00:45,  7.48it/s]"
     ]
    },
    {
     "name": "stdout",
     "output_type": "stream",
     "text": [
      "rgb logits...\n",
      "flow logits...\n",
      "===== Final predictions ====\n",
      "label: rubbing_hands\n",
      "logits proba class\n",
      "81.05% rubbing_hands\n",
      "1207 41 39 ./data/images_new/test/34_20190110_frames200890\n",
      "rgb logits...\n",
      "flow logits...\n",
      "===== Final predictions ====\n",
      "label: other_action\n",
      "logits proba class\n",
      "100.00% other_action\n",
      "1208 41 0 ./data/images_new/test/34_20190110_frames200890\n"
     ]
    },
    {
     "name": "stderr",
     "output_type": "stream",
     "text": [
      " 78%|███████▊  | 1211/1552 [04:06<00:46,  7.36it/s]"
     ]
    },
    {
     "name": "stdout",
     "output_type": "stream",
     "text": [
      "rgb logits...\n",
      "flow logits...\n",
      "===== Final predictions ====\n",
      "label: other_action\n",
      "logits proba class\n",
      "100.00% other_action\n",
      "1209 41 1 ./data/images_new/test/34_20190110_frames200890\n",
      "rgb logits...\n",
      "flow logits...\n",
      "===== Final predictions ====\n",
      "label: other_action\n",
      "logits proba class\n",
      "100.00% other_action\n",
      "1210 41 2 ./data/images_new/test/34_20190110_frames200890\n"
     ]
    },
    {
     "name": "stderr",
     "output_type": "stream",
     "text": [
      " 78%|███████▊  | 1213/1552 [04:06<00:46,  7.32it/s]"
     ]
    },
    {
     "name": "stdout",
     "output_type": "stream",
     "text": [
      "rgb logits...\n",
      "flow logits...\n",
      "===== Final predictions ====\n",
      "label: other_action\n",
      "logits proba class\n",
      "99.99% other_action\n",
      "1211 41 3 ./data/images_new/test/34_20190110_frames200890\n",
      "rgb logits...\n",
      "flow logits...\n",
      "===== Final predictions ====\n",
      "label: other_action\n",
      "logits proba class\n",
      "100.00% other_action\n",
      "1212 41 4 ./data/images_new/test/34_20190110_frames200890\n"
     ]
    },
    {
     "name": "stderr",
     "output_type": "stream",
     "text": [
      " 78%|███████▊  | 1215/1552 [04:06<00:48,  7.01it/s]"
     ]
    },
    {
     "name": "stdout",
     "output_type": "stream",
     "text": [
      "rgb logits...\n",
      "flow logits...\n",
      "===== Final predictions ====\n",
      "label: other_action\n",
      "logits proba class\n",
      "99.99% other_action\n",
      "1213 41 5 ./data/images_new/test/34_20190110_frames200890\n",
      "rgb logits...\n",
      "flow logits...\n",
      "===== Final predictions ====\n",
      "label: other_action\n",
      "logits proba class\n",
      "100.00% other_action\n",
      "1214 41 6 ./data/images_new/test/34_20190110_frames200890\n"
     ]
    },
    {
     "name": "stderr",
     "output_type": "stream",
     "text": [
      " 78%|███████▊  | 1217/1552 [04:06<00:47,  7.06it/s]"
     ]
    },
    {
     "name": "stdout",
     "output_type": "stream",
     "text": [
      "rgb logits...\n",
      "flow logits...\n",
      "===== Final predictions ====\n",
      "label: other_action\n",
      "logits proba class\n",
      "99.10% other_action\n",
      "1215 41 7 ./data/images_new/test/34_20190110_frames200890\n",
      "rgb logits...\n",
      "flow logits...\n",
      "===== Final predictions ====\n",
      "label: other_action\n",
      "logits proba class\n",
      "99.38% other_action\n",
      "1216 41 8 ./data/images_new/test/34_20190110_frames200890\n"
     ]
    },
    {
     "name": "stderr",
     "output_type": "stream",
     "text": [
      " 79%|███████▊  | 1219/1552 [04:07<00:46,  7.15it/s]"
     ]
    },
    {
     "name": "stdout",
     "output_type": "stream",
     "text": [
      "rgb logits...\n",
      "flow logits...\n",
      "===== Final predictions ====\n",
      "label: other_action\n",
      "logits proba class\n",
      "99.62% other_action\n",
      "1217 41 9 ./data/images_new/test/34_20190110_frames200890\n",
      "rgb logits...\n",
      "flow logits...\n",
      "===== Final predictions ====\n",
      "label: other_action\n",
      "logits proba class\n",
      "94.81% other_action\n",
      "1218 41 10 ./data/images_new/test/34_20190110_frames200890\n"
     ]
    },
    {
     "name": "stderr",
     "output_type": "stream",
     "text": [
      " 79%|███████▊  | 1221/1552 [04:07<00:45,  7.22it/s]"
     ]
    },
    {
     "name": "stdout",
     "output_type": "stream",
     "text": [
      "rgb logits...\n",
      "flow logits...\n",
      "===== Final predictions ====\n",
      "label: other_action\n",
      "logits proba class\n",
      "98.53% other_action\n",
      "1219 41 11 ./data/images_new/test/34_20190110_frames200890\n",
      "rgb logits...\n",
      "flow logits...\n",
      "===== Final predictions ====\n",
      "label: other_action\n",
      "logits proba class\n",
      "99.99% other_action\n",
      "1220 41 12 ./data/images_new/test/34_20190110_frames200890\n"
     ]
    },
    {
     "name": "stderr",
     "output_type": "stream",
     "text": [
      " 79%|███████▉  | 1223/1552 [04:07<00:45,  7.26it/s]"
     ]
    },
    {
     "name": "stdout",
     "output_type": "stream",
     "text": [
      "rgb logits...\n",
      "flow logits...\n",
      "===== Final predictions ====\n",
      "label: other_action\n",
      "logits proba class\n",
      "91.39% other_action\n",
      "1221 41 13 ./data/images_new/test/34_20190110_frames200890\n",
      "rgb logits...\n",
      "flow logits...\n",
      "===== Final predictions ====\n",
      "label: other_action\n",
      "logits proba class\n",
      "99.79% other_action\n",
      "1222 41 0 ./data/images_new/test/34_20190110_frames200890\n"
     ]
    },
    {
     "name": "stderr",
     "output_type": "stream",
     "text": [
      " 79%|███████▉  | 1225/1552 [04:08<00:43,  7.59it/s]"
     ]
    },
    {
     "name": "stdout",
     "output_type": "stream",
     "text": [
      "rgb logits...\n",
      "flow logits...\n",
      "===== Final predictions ====\n",
      "label: other_action\n",
      "logits proba class\n",
      "96.06% other_action\n",
      "1223 41 1 ./data/images_new/test/34_20190110_frames200890\n",
      "rgb logits...\n",
      "flow logits...\n",
      "===== Final predictions ====\n",
      "label: other_action\n",
      "logits proba class\n",
      "98.86% other_action\n",
      "1224 41 2 ./data/images_new/test/34_20190110_frames200890\n"
     ]
    },
    {
     "name": "stderr",
     "output_type": "stream",
     "text": [
      " 79%|███████▉  | 1227/1552 [04:08<00:41,  7.80it/s]"
     ]
    },
    {
     "name": "stdout",
     "output_type": "stream",
     "text": [
      "rgb logits...\n",
      "flow logits...\n",
      "===== Final predictions ====\n",
      "label: other_action\n",
      "logits proba class\n",
      "86.43% other_action\n",
      "1225 41 3 ./data/images_new/test/34_20190110_frames200890\n",
      "rgb logits...\n",
      "flow logits...\n",
      "===== Final predictions ====\n",
      "label: other_action\n",
      "logits proba class\n",
      "68.83% other_action\n",
      "1226 41 4 ./data/images_new/test/34_20190110_frames200890\n"
     ]
    },
    {
     "name": "stderr",
     "output_type": "stream",
     "text": [
      " 79%|███████▉  | 1229/1552 [04:08<00:41,  7.87it/s]"
     ]
    },
    {
     "name": "stdout",
     "output_type": "stream",
     "text": [
      "rgb logits...\n",
      "flow logits...\n",
      "===== Final predictions ====\n",
      "label: other_action\n",
      "logits proba class\n",
      "80.02% rubbing_hands\n",
      "1227 41 5 ./data/images_new/test/34_20190110_frames200890\n",
      "rgb logits...\n",
      "flow logits...\n",
      "===== Final predictions ====\n",
      "label: other_action\n",
      "logits proba class\n",
      "61.58% other_action\n",
      "1228 41 6 ./data/images_new/test/34_20190110_frames200890\n"
     ]
    },
    {
     "name": "stderr",
     "output_type": "stream",
     "text": [
      " 79%|███████▉  | 1231/1552 [04:08<00:40,  7.90it/s]"
     ]
    },
    {
     "name": "stdout",
     "output_type": "stream",
     "text": [
      "rgb logits...\n",
      "flow logits...\n",
      "===== Final predictions ====\n",
      "label: other_action\n",
      "logits proba class\n",
      "91.13% other_action\n",
      "1229 41 7 ./data/images_new/test/34_20190110_frames200890\n",
      "rgb logits...\n",
      "flow logits...\n",
      "===== Final predictions ====\n",
      "label: other_action\n",
      "logits proba class\n",
      "98.01% other_action\n",
      "1230 41 8 ./data/images_new/test/34_20190110_frames200890\n"
     ]
    },
    {
     "name": "stderr",
     "output_type": "stream",
     "text": [
      " 79%|███████▉  | 1233/1552 [04:09<00:40,  7.94it/s]"
     ]
    },
    {
     "name": "stdout",
     "output_type": "stream",
     "text": [
      "rgb logits...\n",
      "flow logits...\n",
      "===== Final predictions ====\n",
      "label: other_action\n",
      "logits proba class\n",
      "65.07% rubbing_hands\n",
      "1231 41 9 ./data/images_new/test/34_20190110_frames200890\n",
      "rgb logits...\n",
      "flow logits...\n",
      "===== Final predictions ====\n",
      "label: other_action\n",
      "logits proba class\n",
      "82.38% other_action\n",
      "1232 41 10 ./data/images_new/test/34_20190110_frames200890\n"
     ]
    },
    {
     "name": "stderr",
     "output_type": "stream",
     "text": [
      " 80%|███████▉  | 1235/1552 [04:09<00:39,  7.95it/s]"
     ]
    },
    {
     "name": "stdout",
     "output_type": "stream",
     "text": [
      "rgb logits...\n",
      "flow logits...\n",
      "===== Final predictions ====\n",
      "label: other_action\n",
      "logits proba class\n",
      "92.48% rubbing_hands\n",
      "1233 41 11 ./data/images_new/test/34_20190110_frames200890\n",
      "rgb logits...\n",
      "flow logits...\n",
      "===== Final predictions ====\n",
      "label: other_action\n",
      "logits proba class\n",
      "52.79% other_action\n",
      "1234 41 12 ./data/images_new/test/34_20190110_frames200890\n"
     ]
    },
    {
     "name": "stderr",
     "output_type": "stream",
     "text": [
      " 80%|███████▉  | 1237/1552 [04:09<00:39,  7.88it/s]"
     ]
    },
    {
     "name": "stdout",
     "output_type": "stream",
     "text": [
      "rgb logits...\n",
      "flow logits...\n",
      "===== Final predictions ====\n",
      "label: other_action\n",
      "logits proba class\n",
      "80.14% rubbing_hands\n",
      "1235 41 13 ./data/images_new/test/34_20190110_frames200890\n",
      "rgb logits...\n",
      "flow logits...\n",
      "===== Final predictions ====\n",
      "label: other_action\n",
      "logits proba class\n",
      "87.70% other_action\n",
      "1236 41 0 ./data/images_new/test/34_20190110_frames200890\n"
     ]
    },
    {
     "name": "stderr",
     "output_type": "stream",
     "text": [
      " 80%|███████▉  | 1239/1552 [04:09<00:40,  7.76it/s]"
     ]
    },
    {
     "name": "stdout",
     "output_type": "stream",
     "text": [
      "rgb logits...\n",
      "flow logits...\n",
      "===== Final predictions ====\n",
      "label: other_action\n",
      "logits proba class\n",
      "97.75% other_action\n",
      "1237 41 1 ./data/images_new/test/34_20190110_frames200890\n",
      "rgb logits...\n",
      "flow logits...\n",
      "===== Final predictions ====\n",
      "label: other_action\n",
      "logits proba class\n",
      "99.77% other_action\n",
      "1238 41 2 ./data/images_new/test/34_20190110_frames200890\n"
     ]
    },
    {
     "name": "stderr",
     "output_type": "stream",
     "text": [
      " 80%|███████▉  | 1241/1552 [04:10<00:40,  7.71it/s]"
     ]
    },
    {
     "name": "stdout",
     "output_type": "stream",
     "text": [
      "rgb logits...\n",
      "flow logits...\n",
      "===== Final predictions ====\n",
      "label: other_action\n",
      "logits proba class\n",
      "98.93% other_action\n",
      "1239 41 3 ./data/images_new/test/34_20190110_frames200890\n",
      "rgb logits...\n",
      "flow logits...\n",
      "===== Final predictions ====\n",
      "label: other_action\n",
      "logits proba class\n",
      "99.11% other_action\n",
      "1240 41 4 ./data/images_new/test/34_20190110_frames200890\n"
     ]
    },
    {
     "name": "stderr",
     "output_type": "stream",
     "text": [
      " 80%|████████  | 1243/1552 [04:10<00:40,  7.72it/s]"
     ]
    },
    {
     "name": "stdout",
     "output_type": "stream",
     "text": [
      "rgb logits...\n",
      "flow logits...\n",
      "===== Final predictions ====\n",
      "label: other_action\n",
      "logits proba class\n",
      "99.18% other_action\n",
      "1241 41 5 ./data/images_new/test/34_20190110_frames200890\n",
      "rgb logits...\n",
      "flow logits...\n",
      "===== Final predictions ====\n",
      "label: other_action\n",
      "logits proba class\n",
      "99.83% other_action\n",
      "1242 41 6 ./data/images_new/test/34_20190110_frames200890\n"
     ]
    },
    {
     "name": "stderr",
     "output_type": "stream",
     "text": [
      " 80%|████████  | 1245/1552 [04:10<00:39,  7.68it/s]"
     ]
    },
    {
     "name": "stdout",
     "output_type": "stream",
     "text": [
      "rgb logits...\n",
      "flow logits...\n",
      "===== Final predictions ====\n",
      "label: other_action\n",
      "logits proba class\n",
      "91.01% other_action\n",
      "1243 41 7 ./data/images_new/test/34_20190110_frames200890\n",
      "rgb logits...\n",
      "flow logits...\n",
      "===== Final predictions ====\n",
      "label: other_action\n",
      "logits proba class\n",
      "51.03% rubbing_hands\n",
      "1244 41 8 ./data/images_new/test/34_20190110_frames200890\n"
     ]
    },
    {
     "name": "stderr",
     "output_type": "stream",
     "text": [
      " 80%|████████  | 1247/1552 [04:10<00:39,  7.67it/s]"
     ]
    },
    {
     "name": "stdout",
     "output_type": "stream",
     "text": [
      "rgb logits...\n",
      "flow logits...\n",
      "===== Final predictions ====\n",
      "label: other_action\n",
      "logits proba class\n",
      "70.64% other_action\n",
      "1245 41 9 ./data/images_new/test/34_20190110_frames200890\n",
      "rgb logits...\n",
      "flow logits...\n",
      "===== Final predictions ====\n",
      "label: other_action\n",
      "logits proba class\n",
      "60.11% rubbing_hands\n",
      "1246 41 10 ./data/images_new/test/34_20190110_frames200890\n"
     ]
    },
    {
     "name": "stderr",
     "output_type": "stream",
     "text": [
      " 80%|████████  | 1249/1552 [04:11<00:39,  7.58it/s]"
     ]
    },
    {
     "name": "stdout",
     "output_type": "stream",
     "text": [
      "rgb logits...\n",
      "flow logits...\n",
      "===== Final predictions ====\n",
      "label: other_action\n",
      "logits proba class\n",
      "84.32% other_action\n",
      "1247 41 11 ./data/images_new/test/34_20190110_frames200890\n",
      "rgb logits...\n",
      "flow logits...\n",
      "===== Final predictions ====\n",
      "label: other_action\n",
      "logits proba class\n",
      "61.93% rubbing_hands\n",
      "1248 41 12 ./data/images_new/test/34_20190110_frames200890\n"
     ]
    },
    {
     "name": "stderr",
     "output_type": "stream",
     "text": [
      "\r",
      " 81%|████████  | 1250/1552 [04:11<00:41,  7.26it/s]"
     ]
    },
    {
     "name": "stdout",
     "output_type": "stream",
     "text": [
      "rgb logits...\n",
      "flow logits...\n",
      "===== Final predictions ====\n",
      "label: other_action\n",
      "logits proba class\n",
      "78.27% rubbing_hands\n",
      "1249 41 13 ./data/images_new/test/34_20190110_frames200890\n",
      "[RGB] Filling cache for index 42\n"
     ]
    },
    {
     "name": "stderr",
     "output_type": "stream",
     "text": [
      "\r",
      " 81%|████████  | 1251/1552 [04:12<02:54,  1.73it/s]"
     ]
    },
    {
     "name": "stdout",
     "output_type": "stream",
     "text": [
      "[Flow] Filling cache for index 42\n",
      "rgb logits...\n",
      "flow logits...\n",
      "===== Final predictions ====\n",
      "label: rubbing_hands\n",
      "logits proba class\n",
      "96.20% rubbing_hands\n",
      "1250 42 0 ./data/images_new/test/42_20190214_frames000415\n"
     ]
    },
    {
     "name": "stderr",
     "output_type": "stream",
     "text": [
      "\r",
      " 81%|████████  | 1252/1552 [04:13<02:15,  2.22it/s]"
     ]
    },
    {
     "name": "stdout",
     "output_type": "stream",
     "text": [
      "rgb logits...\n",
      "flow logits...\n",
      "===== Final predictions ====\n",
      "label: rubbing_hands\n",
      "logits proba class\n",
      "80.24% rubbing_hands\n",
      "1251 42 1 ./data/images_new/test/42_20190214_frames000415\n",
      "rgb logits...\n",
      "flow logits...\n",
      "===== Final predictions ====\n",
      "label: rubbing_hands\n",
      "logits proba class\n",
      "99.78% rubbing_hands\n",
      "1252 42"
     ]
    },
    {
     "name": "stderr",
     "output_type": "stream",
     "text": [
      " 81%|████████  | 1254/1552 [04:13<01:28,  3.35it/s]"
     ]
    },
    {
     "name": "stdout",
     "output_type": "stream",
     "text": [
      " 2 ./data/images_new/test/42_20190214_frames000415\n",
      "rgb logits...\n",
      "flow logits...\n",
      "===== Final predictions ====\n",
      "label: rubbing_hands\n",
      "logits proba class\n",
      "96.39% rubbing_hands\n",
      "1253 42 3 ./data/images_new/test/42_20190214_frames000415\n"
     ]
    },
    {
     "name": "stderr",
     "output_type": "stream",
     "text": [
      " 81%|████████  | 1256/1552 [04:13<01:04,  4.58it/s]"
     ]
    },
    {
     "name": "stdout",
     "output_type": "stream",
     "text": [
      "rgb logits...\n",
      "flow logits...\n",
      "===== Final predictions ====\n",
      "label: rubbing_hands\n",
      "logits proba class\n",
      "99.76% rubbing_hands\n",
      "1254 42 4 ./data/images_new/test/42_20190214_frames000415\n",
      "rgb logits...\n",
      "flow logits...\n",
      "===== Final predictions ====\n",
      "label: rubbing_hands\n",
      "logits proba class\n",
      "98.64% rubbing_hands\n",
      "1255 42 5 ./data/images_new/test/42_20190214_frames000415\n"
     ]
    },
    {
     "name": "stderr",
     "output_type": "stream",
     "text": [
      " 81%|████████  | 1258/1552 [04:13<00:50,  5.85it/s]"
     ]
    },
    {
     "name": "stdout",
     "output_type": "stream",
     "text": [
      "rgb logits...\n",
      "flow logits...\n",
      "===== Final predictions ====\n",
      "label: rubbing_hands\n",
      "logits proba class\n",
      "99.34% rubbing_hands\n",
      "1256 42 6 ./data/images_new/test/42_20190214_frames000415\n",
      "rgb logits...\n",
      "flow logits...\n",
      "===== Final predictions ====\n",
      "label: rubbing_hands\n",
      "logits proba class\n",
      "86.61% rubbing_hands\n",
      "1257 42 7 ./data/images_new/test/42_20190214_frames000415\n"
     ]
    },
    {
     "name": "stderr",
     "output_type": "stream",
     "text": [
      " 81%|████████  | 1260/1552 [04:14<00:43,  6.79it/s]"
     ]
    },
    {
     "name": "stdout",
     "output_type": "stream",
     "text": [
      "rgb logits...\n",
      "flow logits...\n",
      "===== Final predictions ====\n",
      "label: rubbing_hands\n",
      "logits proba class\n",
      "99.99% rubbing_hands\n",
      "1258 42 8 ./data/images_new/test/42_20190214_frames000415\n",
      "rgb logits...\n",
      "flow logits...\n",
      "===== Final predictions ====\n",
      "label: rubbing_hands\n",
      "logits proba class\n",
      "99.95% rubbing_hands\n",
      "1259 42 9 ./data/images_new/test/42_20190214_frames000415\n"
     ]
    },
    {
     "name": "stderr",
     "output_type": "stream",
     "text": [
      " 81%|████████▏ | 1262/1552 [04:14<00:39,  7.28it/s]"
     ]
    },
    {
     "name": "stdout",
     "output_type": "stream",
     "text": [
      "rgb logits...\n",
      "flow logits...\n",
      "===== Final predictions ====\n",
      "label: rubbing_hands\n",
      "logits proba class\n",
      "99.98% rubbing_hands\n",
      "1260 42 10 ./data/images_new/test/42_20190214_frames000415\n",
      "rgb logits...\n",
      "flow logits...\n",
      "===== Final predictions ====\n",
      "label: rubbing_hands\n",
      "logits proba class\n",
      "82.60% rubbing_hands\n",
      "1261 42 11 ./data/images_new/test/42_20190214_frames000415\n"
     ]
    },
    {
     "name": "stderr",
     "output_type": "stream",
     "text": [
      " 81%|████████▏ | 1264/1552 [04:14<00:39,  7.31it/s]"
     ]
    },
    {
     "name": "stdout",
     "output_type": "stream",
     "text": [
      "rgb logits...\n",
      "flow logits...\n",
      "===== Final predictions ====\n",
      "label: rubbing_hands\n",
      "logits proba class\n",
      "79.94% rubbing_hands\n",
      "1262 42 12 ./data/images_new/test/42_20190214_frames000415\n",
      "rgb logits...\n",
      "flow logits...\n",
      "===== Final predictions ====\n",
      "label: rubbing_hands\n",
      "logits proba class\n",
      "83.09% rubbing_hands\n",
      "1263 42 13 ./data/images_new/test/42_20190214_frames000415\n"
     ]
    },
    {
     "name": "stderr",
     "output_type": "stream",
     "text": [
      " 82%|████████▏ | 1266/1552 [04:14<00:39,  7.31it/s]"
     ]
    },
    {
     "name": "stdout",
     "output_type": "stream",
     "text": [
      "rgb logits...\n",
      "flow logits...\n",
      "===== Final predictions ====\n",
      "label: rubbing_hands\n",
      "logits proba class\n",
      "82.65% rubbing_hands\n",
      "1264 42 14 ./data/images_new/test/42_20190214_frames000415\n",
      "rgb logits...\n",
      "flow logits...\n",
      "===== Final predictions ====\n",
      "label: rubbing_hands\n",
      "logits proba class\n",
      "99.42% rubbing_hands\n",
      "1265 42 15 ./data/images_new/test/42_20190214_frames000415\n",
      "[RGB] Filling cache for index 43\n",
      "[Flow] Filling cache for index 43\n",
      "rgb logits...\n"
     ]
    },
    {
     "name": "stderr",
     "output_type": "stream",
     "text": [
      " 82%|████████▏ | 1268/1552 [04:16<02:00,  2.36it/s]"
     ]
    },
    {
     "name": "stdout",
     "output_type": "stream",
     "text": [
      "flow logits...\n",
      "===== Final predictions ====\n",
      "label: other_action\n",
      "logits proba class\n",
      "94.32% rubbing_hands\n",
      "1266 43 0 ./data/images_new/test/42_20190214_frames008421\n",
      "rgb logits...\n",
      "flow logits...\n",
      "===== Final predictions ====\n",
      "label: other_action\n",
      "logits proba class\n",
      "96.28% other_action\n",
      "1267 43 0 ./data/images_new/test/42_20190214_frames008421\n"
     ]
    },
    {
     "name": "stderr",
     "output_type": "stream",
     "text": [
      "\r",
      " 82%|████████▏ | 1269/1552 [04:16<01:37,  2.90it/s]"
     ]
    },
    {
     "name": "stdout",
     "output_type": "stream",
     "text": [
      "rgb logits...\n",
      "flow logits...\n",
      "===== Final predictions ====\n",
      "label: other_action\n",
      "logits proba class\n",
      "96.99% touching_equipment\n",
      "1268 43 0 ./data/images_new/test/42_20190214_frames008421\n",
      "rgb logits...\n",
      "flow logits...\n"
     ]
    },
    {
     "name": "stderr",
     "output_type": "stream",
     "text": [
      "\r",
      " 82%|████████▏ | 1270/1552 [04:16<01:22,  3.41it/s]"
     ]
    },
    {
     "name": "stdout",
     "output_type": "stream",
     "text": [
      "===== Final predictions ====\n",
      "label: rubbing_hands\n",
      "logits proba class\n",
      "96.82% other_action\n",
      "1269 43 0 ./data/images_new/test/42_20190214_frames008421\n",
      "[RGB] Filling cache for index 44\n"
     ]
    },
    {
     "name": "stderr",
     "output_type": "stream",
     "text": [
      "\r",
      " 82%|████████▏ | 1271/1552 [04:18<03:32,  1.32it/s]"
     ]
    },
    {
     "name": "stdout",
     "output_type": "stream",
     "text": [
      "[Flow] Filling cache for index 44\n",
      "rgb logits...\n",
      "flow logits...\n",
      "===== Final predictions ====\n",
      "label: rubbing_hands\n",
      "logits proba class\n",
      "100.00% rubbing_hands\n",
      "1270 44 0 ./data/images_new/test/42_20190214_frames010683\n"
     ]
    },
    {
     "name": "stderr",
     "output_type": "stream",
     "text": [
      " 82%|████████▏ | 1273/1552 [04:19<02:04,  2.23it/s]"
     ]
    },
    {
     "name": "stdout",
     "output_type": "stream",
     "text": [
      "rgb logits...\n",
      "flow logits...\n",
      "===== Final predictions ====\n",
      "label: rubbing_hands\n",
      "logits proba class\n",
      "100.00% rubbing_hands\n",
      "1271 44 1 ./data/images_new/test/42_20190214_frames010683\n",
      "rgb logits...\n",
      "flow logits...\n",
      "===== Final predictions ====\n",
      "label: rubbing_hands\n",
      "logits proba class\n",
      "100.00% rubbing_hands\n",
      "1272 44 2 ./data/images_new/test/42_20190214_frames010683\n"
     ]
    },
    {
     "name": "stderr",
     "output_type": "stream",
     "text": [
      " 82%|████████▏ | 1275/1552 [04:19<01:20,  3.45it/s]"
     ]
    },
    {
     "name": "stdout",
     "output_type": "stream",
     "text": [
      "rgb logits...\n",
      "flow logits...\n",
      "===== Final predictions ====\n",
      "label: rubbing_hands\n",
      "logits proba class\n",
      "100.00% rubbing_hands\n",
      "1273 44 3 ./data/images_new/test/42_20190214_frames010683\n",
      "rgb logits...\n",
      "flow logits...\n",
      "===== Final predictions ====\n",
      "label: rubbing_hands\n",
      "logits proba class\n",
      "100.00% rubbing_hands\n",
      "1274 44 4 ./data/images_new/test/42_20190214_frames010683\n"
     ]
    },
    {
     "name": "stderr",
     "output_type": "stream",
     "text": [
      " 82%|████████▏ | 1277/1552 [04:19<00:56,  4.83it/s]"
     ]
    },
    {
     "name": "stdout",
     "output_type": "stream",
     "text": [
      "rgb logits...\n",
      "flow logits...\n",
      "===== Final predictions ====\n",
      "label: rubbing_hands\n",
      "logits proba class\n",
      "100.00% rubbing_hands\n",
      "1275 44 5 ./data/images_new/test/42_20190214_frames010683\n",
      "rgb logits...\n",
      "flow logits...\n",
      "===== Final predictions ====\n",
      "label: rubbing_hands\n",
      "logits proba class\n",
      "100.00% rubbing_hands\n",
      "1276 44 6 ./data/images_new/test/42_20190214_frames010683\n"
     ]
    },
    {
     "name": "stderr",
     "output_type": "stream",
     "text": [
      " 82%|████████▏ | 1279/1552 [04:19<00:45,  6.01it/s]"
     ]
    },
    {
     "name": "stdout",
     "output_type": "stream",
     "text": [
      "rgb logits...\n",
      "flow logits...\n",
      "===== Final predictions ====\n",
      "label: rubbing_hands\n",
      "logits proba class\n",
      "100.00% rubbing_hands\n",
      "1277 44 7 ./data/images_new/test/42_20190214_frames010683\n",
      "rgb logits...\n",
      "flow logits...\n",
      "===== Final predictions ====\n",
      "label: rubbing_hands\n",
      "logits proba class\n",
      "100.00% rubbing_hands\n",
      "1278 44 8 ./data/images_new/test/42_20190214_frames010683\n"
     ]
    },
    {
     "name": "stderr",
     "output_type": "stream",
     "text": [
      " 83%|████████▎ | 1281/1552 [04:20<00:39,  6.84it/s]"
     ]
    },
    {
     "name": "stdout",
     "output_type": "stream",
     "text": [
      "rgb logits...\n",
      "flow logits...\n",
      "===== Final predictions ====\n",
      "label: rubbing_hands\n",
      "logits proba class\n",
      "99.99% rubbing_hands\n",
      "1279 44 9 ./data/images_new/test/42_20190214_frames010683\n",
      "rgb logits...\n",
      "flow logits...\n",
      "===== Final predictions ====\n",
      "label: rubbing_hands\n",
      "logits proba class\n",
      "99.98% rubbing_hands\n",
      "1280 44 10 ./data/images_new/test/42_20190214_frames010683\n"
     ]
    },
    {
     "name": "stderr",
     "output_type": "stream",
     "text": [
      " 83%|████████▎ | 1283/1552 [04:20<00:37,  7.15it/s]"
     ]
    },
    {
     "name": "stdout",
     "output_type": "stream",
     "text": [
      "rgb logits...\n",
      "flow logits...\n",
      "===== Final predictions ====\n",
      "label: rubbing_hands\n",
      "logits proba class\n",
      "100.00% rubbing_hands\n",
      "1281 44 11 ./data/images_new/test/42_20190214_frames010683\n",
      "rgb logits...\n",
      "flow logits...\n",
      "===== Final predictions ====\n",
      "label: rubbing_hands\n",
      "logits proba class\n",
      "100.00% rubbing_hands\n",
      "1282 44 12 ./data/images_new/test/42_20190214_frames010683\n"
     ]
    },
    {
     "name": "stderr",
     "output_type": "stream",
     "text": [
      " 83%|████████▎ | 1285/1552 [04:20<00:35,  7.51it/s]"
     ]
    },
    {
     "name": "stdout",
     "output_type": "stream",
     "text": [
      "rgb logits...\n",
      "flow logits...\n",
      "===== Final predictions ====\n",
      "label: rubbing_hands\n",
      "logits proba class\n",
      "100.00% rubbing_hands\n",
      "1283 44 13 ./data/images_new/test/42_20190214_frames010683\n",
      "rgb logits...\n",
      "flow logits...\n",
      "===== Final predictions ====\n",
      "label: rubbing_hands\n",
      "logits proba class\n",
      "100.00% rubbing_hands\n",
      "1284 44 14 ./data/images_new/test/42_20190214_frames010683\n"
     ]
    },
    {
     "name": "stderr",
     "output_type": "stream",
     "text": [
      " 83%|████████▎ | 1287/1552 [04:20<00:34,  7.73it/s]"
     ]
    },
    {
     "name": "stdout",
     "output_type": "stream",
     "text": [
      "rgb logits...\n",
      "flow logits...\n",
      "===== Final predictions ====\n",
      "label: rubbing_hands\n",
      "logits proba class\n",
      "99.99% rubbing_hands\n",
      "1285 44 15 ./data/images_new/test/42_20190214_frames010683\n",
      "rgb logits...\n",
      "flow logits...\n",
      "===== Final predictions ====\n",
      "label: rubbing_hands\n",
      "logits proba class\n",
      "100.00% rubbing_hands\n",
      "1286 44 16 ./data/images_new/test/42_20190214_frames010683\n"
     ]
    },
    {
     "name": "stderr",
     "output_type": "stream",
     "text": [
      " 83%|████████▎ | 1289/1552 [04:21<00:33,  7.87it/s]"
     ]
    },
    {
     "name": "stdout",
     "output_type": "stream",
     "text": [
      "rgb logits...\n",
      "flow logits...\n",
      "===== Final predictions ====\n",
      "label: rubbing_hands\n",
      "logits proba class\n",
      "99.98% rubbing_hands\n",
      "1287 44 17 ./data/images_new/test/42_20190214_frames010683\n",
      "rgb logits...\n",
      "flow logits...\n",
      "===== Final predictions ====\n",
      "label: rubbing_hands\n",
      "logits proba class\n",
      "100.00% rubbing_hands\n",
      "1288 44 18 ./data/images_new/test/42_20190214_frames010683\n"
     ]
    },
    {
     "name": "stderr",
     "output_type": "stream",
     "text": [
      " 83%|████████▎ | 1291/1552 [04:21<00:32,  7.93it/s]"
     ]
    },
    {
     "name": "stdout",
     "output_type": "stream",
     "text": [
      "rgb logits...\n",
      "flow logits...\n",
      "===== Final predictions ====\n",
      "label: rubbing_hands\n",
      "logits proba class\n",
      "99.86% rubbing_hands\n",
      "1289 44 19 ./data/images_new/test/42_20190214_frames010683\n",
      "rgb logits...\n",
      "flow logits...\n",
      "===== Final predictions ====\n",
      "label: rubbing_hands\n",
      "logits proba class\n",
      "100.00% rubbing_hands\n",
      "1290 44 20 ./data/images_new/test/42_20190214_frames010683\n"
     ]
    },
    {
     "name": "stderr",
     "output_type": "stream",
     "text": [
      " 83%|████████▎ | 1293/1552 [04:21<00:32,  7.96it/s]"
     ]
    },
    {
     "name": "stdout",
     "output_type": "stream",
     "text": [
      "rgb logits...\n",
      "flow logits...\n",
      "===== Final predictions ====\n",
      "label: rubbing_hands\n",
      "logits proba class\n",
      "100.00% rubbing_hands\n",
      "1291 44 21 ./data/images_new/test/42_20190214_frames010683\n",
      "rgb logits...\n",
      "flow logits...\n",
      "===== Final predictions ====\n",
      "label: rubbing_hands\n",
      "logits proba class\n",
      "100.00% rubbing_hands\n",
      "1292 44 22 ./data/images_new/test/42_20190214_frames010683\n",
      "[RGB] Filling cache for index 45\n"
     ]
    },
    {
     "name": "stderr",
     "output_type": "stream",
     "text": [
      "\r",
      " 83%|████████▎ | 1294/1552 [04:23<02:19,  1.85it/s]"
     ]
    },
    {
     "name": "stdout",
     "output_type": "stream",
     "text": [
      "[Flow] Filling cache for index 45\n",
      "rgb logits...\n",
      "flow logits...\n",
      "===== Final predictions ====\n",
      "label: rubbing_hands\n",
      "logits proba class\n",
      "99.31% rubbing_hands\n",
      "1293 45 0 ./data/images_new/test/42_20190214_frames016669\n"
     ]
    },
    {
     "name": "stderr",
     "output_type": "stream",
     "text": [
      "\r",
      " 83%|████████▎ | 1295/1552 [04:23<01:50,  2.32it/s]"
     ]
    },
    {
     "name": "stdout",
     "output_type": "stream",
     "text": [
      "rgb logits...\n",
      "flow logits...\n",
      "===== Final predictions ====\n",
      "label: rubbing_hands\n",
      "logits proba class\n",
      "88.77% rubbing_hands\n",
      "1294 45 1 ./data/images_new/test/42_20190214_frames016669\n",
      "rgb logits...\n",
      "flow logits...\n",
      "===== Final predictions ====\n",
      "label: rubbing_hands\n",
      "logits proba class\n"
     ]
    },
    {
     "name": "stderr",
     "output_type": "stream",
     "text": [
      " 84%|████████▎ | 1297/1552 [04:23<01:13,  3.46it/s]"
     ]
    },
    {
     "name": "stdout",
     "output_type": "stream",
     "text": [
      "99.97% rubbing_hands\n",
      "1295 45 2 ./data/images_new/test/42_20190214_frames016669\n",
      "rgb logits...\n",
      "flow logits...\n",
      "===== Final predictions ====\n",
      "label: rubbing_hands\n",
      "logits proba class\n",
      "99.99% rubbing_hands\n",
      "1296 45 3 ./data/images_new/test/42_20190214_frames016669\n"
     ]
    },
    {
     "name": "stderr",
     "output_type": "stream",
     "text": [
      " 84%|████████▎ | 1299/1552 [04:23<00:52,  4.78it/s]"
     ]
    },
    {
     "name": "stdout",
     "output_type": "stream",
     "text": [
      "rgb logits...\n",
      "flow logits...\n",
      "===== Final predictions ====\n",
      "label: rubbing_hands\n",
      "logits proba class\n",
      "100.00% rubbing_hands\n",
      "1297 45 4 ./data/images_new/test/42_20190214_frames016669\n",
      "rgb logits...\n",
      "flow logits...\n",
      "===== Final predictions ====\n",
      "label: rubbing_hands\n",
      "logits proba class\n",
      "100.00% rubbing_hands\n",
      "1298 45 5 ./data/images_new/test/42_20190214_frames016669\n"
     ]
    },
    {
     "name": "stderr",
     "output_type": "stream",
     "text": [
      " 84%|████████▍ | 1301/1552 [04:24<00:41,  6.00it/s]"
     ]
    },
    {
     "name": "stdout",
     "output_type": "stream",
     "text": [
      "rgb logits...\n",
      "flow logits...\n",
      "===== Final predictions ====\n",
      "label: rubbing_hands\n",
      "logits proba class\n",
      "100.00% rubbing_hands\n",
      "1299 45 6 ./data/images_new/test/42_20190214_frames016669\n",
      "rgb logits...\n",
      "flow logits...\n",
      "===== Final predictions ====\n",
      "label: rubbing_hands\n",
      "logits proba class\n",
      "100.00% rubbing_hands\n",
      "1300 45 7 ./data/images_new/test/42_20190214_frames016669\n"
     ]
    },
    {
     "name": "stderr",
     "output_type": "stream",
     "text": [
      " 84%|████████▍ | 1303/1552 [04:24<00:36,  6.79it/s]"
     ]
    },
    {
     "name": "stdout",
     "output_type": "stream",
     "text": [
      "rgb logits...\n",
      "flow logits...\n",
      "===== Final predictions ====\n",
      "label: other_action\n",
      "logits proba class\n",
      "98.46% other_action\n",
      "1301 45 0 ./data/images_new/test/42_20190214_frames016669\n",
      "rgb logits...\n",
      "flow logits...\n",
      "===== Final predictions ====\n",
      "label: other_action\n",
      "logits proba class\n",
      "95.64% other_action\n",
      "1302 45 1 ./data/images_new/test/42_20190214_frames016669\n"
     ]
    },
    {
     "name": "stderr",
     "output_type": "stream",
     "text": [
      " 84%|████████▍ | 1305/1552 [04:24<00:33,  7.27it/s]"
     ]
    },
    {
     "name": "stdout",
     "output_type": "stream",
     "text": [
      "rgb logits...\n",
      "flow logits...\n",
      "===== Final predictions ====\n",
      "label: other_action\n",
      "logits proba class\n",
      "99.05% other_action\n",
      "1303 45 2 ./data/images_new/test/42_20190214_frames016669\n",
      "rgb logits...\n",
      "flow logits...\n",
      "===== Final predictions ====\n",
      "label: other_action\n",
      "logits proba class\n",
      "100.00% other_action\n",
      "1304 45 0 ./data/images_new/test/42_20190214_frames016669\n"
     ]
    },
    {
     "name": "stderr",
     "output_type": "stream",
     "text": [
      " 84%|████████▍ | 1307/1552 [04:24<00:32,  7.49it/s]"
     ]
    },
    {
     "name": "stdout",
     "output_type": "stream",
     "text": [
      "rgb logits...\n",
      "flow logits...\n",
      "===== Final predictions ====\n",
      "label: other_action\n",
      "logits proba class\n",
      "94.61% other_action\n",
      "1305 45 1 ./data/images_new/test/42_20190214_frames016669\n",
      "rgb logits...\n",
      "flow logits...\n",
      "===== Final predictions ====\n",
      "label: other_action\n",
      "logits proba class\n",
      "100.00% other_action\n",
      "1306 45 2 ./data/images_new/test/42_20190214_frames016669\n",
      "[RGB] Filling cache for index 46\n"
     ]
    },
    {
     "name": "stderr",
     "output_type": "stream",
     "text": [
      "\r",
      " 84%|████████▍ | 1308/1552 [04:26<02:11,  1.85it/s]"
     ]
    },
    {
     "name": "stdout",
     "output_type": "stream",
     "text": [
      "[Flow] Filling cache for index 46\n",
      "rgb logits...\n",
      "flow logits...\n",
      "===== Final predictions ====\n",
      "label: other_action\n",
      "logits proba class\n",
      "99.63% other_action\n",
      "1307 46 0 ./data/images_new/test/42_20190214_frames033913\n"
     ]
    },
    {
     "name": "stderr",
     "output_type": "stream",
     "text": [
      "\r",
      " 84%|████████▍ | 1309/1552 [04:26<01:43,  2.35it/s]"
     ]
    },
    {
     "name": "stdout",
     "output_type": "stream",
     "text": [
      "rgb logits...\n",
      "flow logits...\n",
      "===== Final predictions ====\n",
      "label: other_action\n",
      "logits proba class\n",
      "99.56% other_action\n",
      "1308 46 1 ./data/images_new/test/42_20190214_frames033913\n",
      "rgb logits...\n",
      "flow logits...\n"
     ]
    },
    {
     "name": "stderr",
     "output_type": "stream",
     "text": [
      " 84%|████████▍ | 1311/1552 [04:26<01:09,  3.46it/s]"
     ]
    },
    {
     "name": "stdout",
     "output_type": "stream",
     "text": [
      "===== Final predictions ====\n",
      "label: other_action\n",
      "logits proba class\n",
      "99.59% other_action\n",
      "1309 46 2 ./data/images_new/test/42_20190214_frames033913\n",
      "rgb logits...\n",
      "flow logits...\n",
      "===== Final predictions ====\n",
      "label: other_action\n",
      "logits proba class\n",
      "98.36% other_action\n",
      "1310 46 3 ./data/images_new/test/42_20190214_frames033913\n"
     ]
    },
    {
     "name": "stderr",
     "output_type": "stream",
     "text": [
      " 85%|████████▍ | 1313/1552 [04:27<00:50,  4.78it/s]"
     ]
    },
    {
     "name": "stdout",
     "output_type": "stream",
     "text": [
      "rgb logits...\n",
      "flow logits...\n",
      "===== Final predictions ====\n",
      "label: other_action\n",
      "logits proba class\n",
      "64.45% other_action\n",
      "1311 46 0 ./data/images_new/test/42_20190214_frames033913\n",
      "rgb logits...\n",
      "flow logits...\n",
      "===== Final predictions ====\n",
      "label: other_action\n",
      "logits proba class\n",
      "72.66% rubbing_hands\n",
      "1312 46 1 ./data/images_new/test/42_20190214_frames033913\n"
     ]
    },
    {
     "name": "stderr",
     "output_type": "stream",
     "text": [
      " 85%|████████▍ | 1315/1552 [04:27<00:39,  6.03it/s]"
     ]
    },
    {
     "name": "stdout",
     "output_type": "stream",
     "text": [
      "rgb logits...\n",
      "flow logits...\n",
      "===== Final predictions ====\n",
      "label: other_action\n",
      "logits proba class\n",
      "87.24% rubbing_hands\n",
      "1313 46 2 ./data/images_new/test/42_20190214_frames033913\n",
      "rgb logits...\n",
      "flow logits...\n",
      "===== Final predictions ====\n",
      "label: other_action\n",
      "logits proba class\n",
      "81.83% rubbing_hands\n",
      "1314 46 3 ./data/images_new/test/42_20190214_frames033913\n"
     ]
    },
    {
     "name": "stderr",
     "output_type": "stream",
     "text": [
      " 85%|████████▍ | 1317/1552 [04:27<00:34,  6.90it/s]"
     ]
    },
    {
     "name": "stdout",
     "output_type": "stream",
     "text": [
      "rgb logits...\n",
      "flow logits...\n",
      "===== Final predictions ====\n",
      "label: rubbing_hands\n",
      "logits proba class\n",
      "86.69% rubbing_hands\n",
      "1315 46 0 ./data/images_new/test/42_20190214_frames033913\n",
      "rgb logits...\n",
      "flow logits...\n",
      "===== Final predictions ====\n",
      "label: rubbing_hands\n",
      "logits proba class\n",
      "99.33% rubbing_hands\n",
      "1316 46 1 ./data/images_new/test/42_20190214_frames033913\n"
     ]
    },
    {
     "name": "stderr",
     "output_type": "stream",
     "text": [
      " 85%|████████▍ | 1319/1552 [04:27<00:31,  7.45it/s]"
     ]
    },
    {
     "name": "stdout",
     "output_type": "stream",
     "text": [
      "rgb logits...\n",
      "flow logits...\n",
      "===== Final predictions ====\n",
      "label: rubbing_hands\n",
      "logits proba class\n",
      "99.26% rubbing_hands\n",
      "1317 46 2 ./data/images_new/test/42_20190214_frames033913\n",
      "rgb logits...\n",
      "flow logits...\n",
      "===== Final predictions ====\n",
      "label: rubbing_hands\n",
      "logits proba class\n",
      "99.34% rubbing_hands\n",
      "1318 46 3 ./data/images_new/test/42_20190214_frames033913\n"
     ]
    },
    {
     "name": "stderr",
     "output_type": "stream",
     "text": [
      " 85%|████████▌ | 1321/1552 [04:28<00:29,  7.76it/s]"
     ]
    },
    {
     "name": "stdout",
     "output_type": "stream",
     "text": [
      "rgb logits...\n",
      "flow logits...\n",
      "===== Final predictions ====\n",
      "label: rubbing_hands\n",
      "logits proba class\n",
      "98.91% rubbing_hands\n",
      "1319 46 4 ./data/images_new/test/42_20190214_frames033913\n",
      "rgb logits...\n",
      "flow logits...\n",
      "===== Final predictions ====\n",
      "label: rubbing_hands\n",
      "logits proba class\n",
      "96.21% rubbing_hands\n",
      "1320 46 5 ./data/images_new/test/42_20190214_frames033913\n"
     ]
    },
    {
     "name": "stderr",
     "output_type": "stream",
     "text": [
      " 85%|████████▌ | 1323/1552 [04:28<00:28,  7.91it/s]"
     ]
    },
    {
     "name": "stdout",
     "output_type": "stream",
     "text": [
      "rgb logits...\n",
      "flow logits...\n",
      "===== Final predictions ====\n",
      "label: rubbing_hands\n",
      "logits proba class\n",
      "99.29% rubbing_hands\n",
      "1321 46 6 ./data/images_new/test/42_20190214_frames033913\n",
      "rgb logits...\n",
      "flow logits...\n",
      "===== Final predictions ====\n",
      "label: rubbing_hands\n",
      "logits proba class\n",
      "94.41% rubbing_hands\n",
      "1322 46 7 ./data/images_new/test/42_20190214_frames033913\n"
     ]
    },
    {
     "name": "stderr",
     "output_type": "stream",
     "text": [
      " 85%|████████▌ | 1325/1552 [04:28<00:28,  8.01it/s]"
     ]
    },
    {
     "name": "stdout",
     "output_type": "stream",
     "text": [
      "rgb logits...\n",
      "flow logits...\n",
      "===== Final predictions ====\n",
      "label: rubbing_hands\n",
      "logits proba class\n",
      "99.29% rubbing_hands\n",
      "1323 46 8 ./data/images_new/test/42_20190214_frames033913\n",
      "rgb logits...\n",
      "flow logits...\n",
      "===== Final predictions ====\n",
      "label: rubbing_hands\n",
      "logits proba class\n",
      "71.65% other_action\n",
      "1324 46 9 ./data/images_new/test/42_20190214_frames033913\n"
     ]
    },
    {
     "name": "stderr",
     "output_type": "stream",
     "text": [
      " 86%|████████▌ | 1327/1552 [04:28<00:28,  8.03it/s]"
     ]
    },
    {
     "name": "stdout",
     "output_type": "stream",
     "text": [
      "rgb logits...\n",
      "flow logits...\n",
      "===== Final predictions ====\n",
      "label: rubbing_hands\n",
      "logits proba class\n",
      "94.72% rubbing_hands\n",
      "1325 46 10 ./data/images_new/test/42_20190214_frames033913\n",
      "rgb logits...\n",
      "flow logits...\n",
      "===== Final predictions ====\n",
      "label: rubbing_hands\n",
      "logits proba class\n",
      "98.96% rubbing_hands\n",
      "1326 46 11 ./data/images_new/test/42_20190214_frames033913\n",
      "[RGB] Filling cache for index 47\n",
      "[Flow] Filling cache for index 47\n",
      "rgb logits...\n"
     ]
    },
    {
     "name": "stderr",
     "output_type": "stream",
     "text": [
      " 86%|████████▌ | 1329/1552 [04:29<01:10,  3.16it/s]"
     ]
    },
    {
     "name": "stdout",
     "output_type": "stream",
     "text": [
      "flow logits...\n",
      "===== Final predictions ====\n",
      "label: other_action\n",
      "logits proba class\n",
      "99.20% other_action\n",
      "1327 47 0 ./data/images_new/test/42_20190214_frames042227\n",
      "rgb logits...\n",
      "flow logits...\n",
      "===== Final predictions ====\n",
      "label: other_action\n",
      "logits proba class\n",
      "99.88% other_action\n",
      "1328 47 0 ./data/images_new/test/42_20190214_frames042227\n"
     ]
    },
    {
     "name": "stderr",
     "output_type": "stream",
     "text": [
      "\r",
      " 86%|████████▌ | 1330/1552 [04:30<00:58,  3.76it/s]"
     ]
    },
    {
     "name": "stdout",
     "output_type": "stream",
     "text": [
      "rgb logits...\n",
      "flow logits...\n",
      "===== Final predictions ====\n",
      "label: rubbing_hands\n",
      "logits proba class\n",
      "82.85% rubbing_hands\n",
      "1329 47 0 ./data/images_new/test/42_20190214_frames042227\n",
      "[RGB] Filling cache for index 48\n"
     ]
    },
    {
     "name": "stderr",
     "output_type": "stream",
     "text": [
      "\r",
      " 86%|████████▌ | 1331/1552 [04:32<02:55,  1.26it/s]"
     ]
    },
    {
     "name": "stdout",
     "output_type": "stream",
     "text": [
      "[Flow] Filling cache for index 48\n",
      "rgb logits...\n",
      "flow logits...\n",
      "===== Final predictions ====\n",
      "label: other_action\n",
      "logits proba class\n",
      "65.65% other_action\n",
      "1330 48 0 ./data/images_new/test/42_20190214_frames053611\n"
     ]
    },
    {
     "name": "stderr",
     "output_type": "stream",
     "text": [
      " 86%|████████▌ | 1333/1552 [04:32<01:41,  2.15it/s]"
     ]
    },
    {
     "name": "stdout",
     "output_type": "stream",
     "text": [
      "rgb logits...\n",
      "flow logits...\n",
      "===== Final predictions ====\n",
      "label: other_action\n",
      "logits proba class\n",
      "97.86% other_action\n",
      "1331 48 1 ./data/images_new/test/42_20190214_frames053611\n",
      "rgb logits...\n",
      "flow logits...\n",
      "===== Final predictions ====\n",
      "label: other_action\n",
      "logits proba class\n",
      "98.16% other_action\n",
      "1332 48 2 ./data/images_new/test/42_20190214_frames053611\n"
     ]
    },
    {
     "name": "stderr",
     "output_type": "stream",
     "text": [
      " 86%|████████▌ | 1335/1552 [04:32<01:05,  3.30it/s]"
     ]
    },
    {
     "name": "stdout",
     "output_type": "stream",
     "text": [
      "rgb logits...\n",
      "flow logits...\n",
      "===== Final predictions ====\n",
      "label: other_action\n",
      "logits proba class\n",
      "94.20% other_action\n",
      "1333 48 3 ./data/images_new/test/42_20190214_frames053611\n",
      "rgb logits...\n",
      "flow logits...\n",
      "===== Final predictions ====\n",
      "label: other_action\n",
      "logits proba class\n",
      "81.00% other_action\n",
      "1334 48 4 ./data/images_new/test/42_20190214_frames053611\n"
     ]
    },
    {
     "name": "stderr",
     "output_type": "stream",
     "text": [
      " 86%|████████▌ | 1337/1552 [04:33<00:45,  4.68it/s]"
     ]
    },
    {
     "name": "stdout",
     "output_type": "stream",
     "text": [
      "rgb logits...\n",
      "flow logits...\n",
      "===== Final predictions ====\n",
      "label: other_action\n",
      "logits proba class\n",
      "80.33% other_action\n",
      "1335 48 5 ./data/images_new/test/42_20190214_frames053611\n",
      "rgb logits...\n",
      "flow logits...\n",
      "===== Final predictions ====\n",
      "label: other_action\n",
      "logits proba class\n",
      "92.21% other_action\n",
      "1336 48 6 ./data/images_new/test/42_20190214_frames053611\n"
     ]
    },
    {
     "name": "stderr",
     "output_type": "stream",
     "text": [
      "\r",
      " 86%|████████▌ | 1338/1552 [04:33<00:39,  5.37it/s]"
     ]
    },
    {
     "name": "stdout",
     "output_type": "stream",
     "text": [
      "rgb logits...\n",
      "flow logits...\n",
      "===== Final predictions ====\n",
      "label: other_action\n",
      "logits proba class\n",
      "92.64% other_action\n",
      "1337 48 7 ./data/images_new/test/42_20190214_frames053611\n",
      "rgb logits...\n",
      "flow logits...\n"
     ]
    },
    {
     "name": "stderr",
     "output_type": "stream",
     "text": [
      " 86%|████████▋ | 1340/1552 [04:33<00:38,  5.48it/s]"
     ]
    },
    {
     "name": "stdout",
     "output_type": "stream",
     "text": [
      "===== Final predictions ====\n",
      "label: rubbing_hands\n",
      "logits proba class\n",
      "99.81% rubbing_hands\n",
      "1338 48 0 ./data/images_new/test/42_20190214_frames053611\n",
      "rgb logits...\n",
      "flow logits...\n",
      "===== Final predictions ====\n",
      "label: rubbing_hands\n",
      "logits proba class\n",
      "97.24% rubbing_hands\n",
      "1339 48 1 ./data/images_new/test/42_20190214_frames053611\n"
     ]
    },
    {
     "name": "stderr",
     "output_type": "stream",
     "text": [
      " 86%|████████▋ | 1342/1552 [04:33<00:32,  6.49it/s]"
     ]
    },
    {
     "name": "stdout",
     "output_type": "stream",
     "text": [
      "rgb logits...\n",
      "flow logits...\n",
      "===== Final predictions ====\n",
      "label: rubbing_hands\n",
      "logits proba class\n",
      "99.33% rubbing_hands\n",
      "1340 48 2 ./data/images_new/test/42_20190214_frames053611\n",
      "rgb logits...\n",
      "flow logits...\n",
      "===== Final predictions ====\n",
      "label: rubbing_hands\n",
      "logits proba class\n",
      "92.98% rubbing_hands\n",
      "1341 48 3 ./data/images_new/test/42_20190214_frames053611\n"
     ]
    },
    {
     "name": "stderr",
     "output_type": "stream",
     "text": [
      " 87%|████████▋ | 1344/1552 [04:34<00:28,  7.18it/s]"
     ]
    },
    {
     "name": "stdout",
     "output_type": "stream",
     "text": [
      "rgb logits...\n",
      "flow logits...\n",
      "===== Final predictions ====\n",
      "label: rubbing_hands\n",
      "logits proba class\n",
      "99.89% rubbing_hands\n",
      "1342 48 4 ./data/images_new/test/42_20190214_frames053611\n",
      "rgb logits...\n",
      "flow logits...\n",
      "===== Final predictions ====\n",
      "label: rubbing_hands\n",
      "logits proba class\n",
      "99.94% rubbing_hands\n",
      "1343 48 5 ./data/images_new/test/42_20190214_frames053611\n"
     ]
    },
    {
     "name": "stderr",
     "output_type": "stream",
     "text": [
      " 87%|████████▋ | 1346/1552 [04:34<00:27,  7.52it/s]"
     ]
    },
    {
     "name": "stdout",
     "output_type": "stream",
     "text": [
      "rgb logits...\n",
      "flow logits...\n",
      "===== Final predictions ====\n",
      "label: rubbing_hands\n",
      "logits proba class\n",
      "86.82% rubbing_hands\n",
      "1344 48 6 ./data/images_new/test/42_20190214_frames053611\n",
      "rgb logits...\n",
      "flow logits...\n",
      "===== Final predictions ====\n",
      "label: rubbing_hands\n",
      "logits proba class\n",
      "85.50% rubbing_hands\n",
      "1345 48 7 ./data/images_new/test/42_20190214_frames053611\n"
     ]
    },
    {
     "name": "stderr",
     "output_type": "stream",
     "text": [
      " 87%|████████▋ | 1348/1552 [04:34<00:27,  7.54it/s]"
     ]
    },
    {
     "name": "stdout",
     "output_type": "stream",
     "text": [
      "rgb logits...\n",
      "flow logits...\n",
      "===== Final predictions ====\n",
      "label: rubbing_hands\n",
      "logits proba class\n",
      "97.23% rubbing_hands\n",
      "1346 48 8 ./data/images_new/test/42_20190214_frames053611\n",
      "rgb logits...\n",
      "flow logits...\n",
      "===== Final predictions ====\n",
      "label: rubbing_hands\n",
      "logits proba class\n",
      "99.34% rubbing_hands\n",
      "1347 48 9 ./data/images_new/test/42_20190214_frames053611\n"
     ]
    },
    {
     "name": "stderr",
     "output_type": "stream",
     "text": [
      " 87%|████████▋ | 1350/1552 [04:34<00:26,  7.74it/s]"
     ]
    },
    {
     "name": "stdout",
     "output_type": "stream",
     "text": [
      "rgb logits...\n",
      "flow logits...\n",
      "===== Final predictions ====\n",
      "label: rubbing_hands\n",
      "logits proba class\n",
      "92.52% rubbing_hands\n",
      "1348 48 10 ./data/images_new/test/42_20190214_frames053611\n",
      "rgb logits...\n",
      "flow logits...\n",
      "===== Final predictions ====\n",
      "label: rubbing_hands\n",
      "logits proba class\n",
      "52.33% rubbing_hands\n",
      "1349 48 11 ./data/images_new/test/42_20190214_frames053611\n"
     ]
    },
    {
     "name": "stderr",
     "output_type": "stream",
     "text": [
      "\r",
      " 87%|████████▋ | 1351/1552 [04:34<00:28,  7.05it/s]"
     ]
    },
    {
     "name": "stdout",
     "output_type": "stream",
     "text": [
      "rgb logits...\n",
      "flow logits...\n",
      "===== Final predictions ====\n",
      "label: rubbing_hands\n",
      "logits proba class\n",
      "90.42% rubbing_hands\n",
      "1350 48 12 ./data/images_new/test/42_20190214_frames053611\n",
      "rgb logits...\n"
     ]
    },
    {
     "name": "stderr",
     "output_type": "stream",
     "text": [
      "\r",
      " 87%|████████▋ | 1352/1552 [04:35<00:30,  6.65it/s]"
     ]
    },
    {
     "name": "stdout",
     "output_type": "stream",
     "text": [
      "flow logits...\n",
      "===== Final predictions ====\n",
      "label: rubbing_hands\n",
      "logits proba class\n",
      "62.71% touching_equipment\n",
      "1351 48 13 ./data/images_new/test/42_20190214_frames053611\n",
      "rgb logits...\n",
      "flow logits...\n"
     ]
    },
    {
     "name": "stderr",
     "output_type": "stream",
     "text": [
      " 87%|████████▋ | 1354/1552 [04:35<00:29,  6.70it/s]"
     ]
    },
    {
     "name": "stdout",
     "output_type": "stream",
     "text": [
      "===== Final predictions ====\n",
      "label: rubbing_hands\n",
      "logits proba class\n",
      "81.86% rubbing_hands\n",
      "1352 48 14 ./data/images_new/test/42_20190214_frames053611\n",
      "rgb logits...\n",
      "flow logits...\n",
      "===== Final predictions ====\n",
      "label: rubbing_hands\n",
      "logits proba class\n",
      "65.31% rubbing_hands\n",
      "1353 48 15 ./data/images_new/test/42_20190214_frames053611\n"
     ]
    },
    {
     "name": "stderr",
     "output_type": "stream",
     "text": [
      " 87%|████████▋ | 1356/1552 [04:35<00:26,  7.32it/s]"
     ]
    },
    {
     "name": "stdout",
     "output_type": "stream",
     "text": [
      "rgb logits...\n",
      "flow logits...\n",
      "===== Final predictions ====\n",
      "label: rubbing_hands\n",
      "logits proba class\n",
      "86.68% rubbing_hands\n",
      "1354 48 16 ./data/images_new/test/42_20190214_frames053611\n",
      "rgb logits...\n",
      "flow logits...\n",
      "===== Final predictions ====\n",
      "label: rubbing_hands\n",
      "logits proba class\n",
      "72.11% rubbing_hands\n",
      "1355 48 17 ./data/images_new/test/42_20190214_frames053611\n"
     ]
    },
    {
     "name": "stderr",
     "output_type": "stream",
     "text": [
      " 88%|████████▊ | 1358/1552 [04:35<00:25,  7.68it/s]"
     ]
    },
    {
     "name": "stdout",
     "output_type": "stream",
     "text": [
      "rgb logits...\n",
      "flow logits...\n",
      "===== Final predictions ====\n",
      "label: rubbing_hands\n",
      "logits proba class\n",
      "97.05% other_action\n",
      "1356 48 18 ./data/images_new/test/42_20190214_frames053611\n",
      "rgb logits...\n",
      "flow logits...\n",
      "===== Final predictions ====\n",
      "label: rubbing_hands\n",
      "logits proba class\n",
      "56.44% rubbing_hands\n",
      "1357 48 19 ./data/images_new/test/42_20190214_frames053611\n"
     ]
    },
    {
     "name": "stderr",
     "output_type": "stream",
     "text": [
      " 88%|████████▊ | 1360/1552 [04:36<00:24,  7.88it/s]"
     ]
    },
    {
     "name": "stdout",
     "output_type": "stream",
     "text": [
      "rgb logits...\n",
      "flow logits...\n",
      "===== Final predictions ====\n",
      "label: rubbing_hands\n",
      "logits proba class\n",
      "90.70% other_action\n",
      "1358 48 20 ./data/images_new/test/42_20190214_frames053611\n",
      "rgb logits...\n",
      "flow logits...\n",
      "===== Final predictions ====\n",
      "label: rubbing_hands\n",
      "logits proba class\n",
      "78.53% rubbing_hands\n",
      "1359 48 21 ./data/images_new/test/42_20190214_frames053611\n"
     ]
    },
    {
     "name": "stderr",
     "output_type": "stream",
     "text": [
      "\r",
      " 88%|████████▊ | 1361/1552 [04:36<00:24,  7.95it/s]"
     ]
    },
    {
     "name": "stdout",
     "output_type": "stream",
     "text": [
      "rgb logits...\n",
      "flow logits...\n",
      "===== Final predictions ====\n",
      "label: rubbing_hands\n",
      "logits proba class\n",
      "95.71% other_action\n",
      "1360 48 22 ./data/images_new/test/42_20190214_frames053611\n",
      "[RGB] Filling cache for index 49\n"
     ]
    },
    {
     "name": "stderr",
     "output_type": "stream",
     "text": [
      "\r",
      " 88%|████████▊ | 1362/1552 [04:37<01:39,  1.91it/s]"
     ]
    },
    {
     "name": "stdout",
     "output_type": "stream",
     "text": [
      "[Flow] Filling cache for index 49\n",
      "rgb logits...\n",
      "flow logits...\n",
      "===== Final predictions ====\n",
      "label: other_action\n",
      "logits proba class\n",
      "68.32% touching_equipment\n",
      "1361 49 0 ./data/images_new/test/42_20190214_frames058246\n"
     ]
    },
    {
     "name": "stderr",
     "output_type": "stream",
     "text": [
      "\r",
      " 88%|████████▊ | 1363/1552 [04:37<01:19,  2.37it/s]"
     ]
    },
    {
     "name": "stdout",
     "output_type": "stream",
     "text": [
      "rgb logits...\n",
      "flow logits...\n",
      "===== Final predictions ====\n",
      "label: other_action\n",
      "logits proba class\n",
      "94.80% touching_equipment\n",
      "1362 49 1 ./data/images_new/test/42_20190214_frames058246\n",
      "rgb logits...\n",
      "flow logits...\n"
     ]
    },
    {
     "name": "stderr",
     "output_type": "stream",
     "text": [
      " 88%|████████▊ | 1365/1552 [04:38<00:55,  3.36it/s]"
     ]
    },
    {
     "name": "stdout",
     "output_type": "stream",
     "text": [
      "===== Final predictions ====\n",
      "label: other_action\n",
      "logits proba class\n",
      "99.89% touching_equipment\n",
      "1363 49 2 ./data/images_new/test/42_20190214_frames058246\n",
      "rgb logits...\n",
      "flow logits...\n",
      "===== Final predictions ====\n",
      "label: other_action\n",
      "logits proba class\n",
      "97.61% touching_equipment\n",
      "1364 49 3 ./data/images_new/test/42_20190214_frames058246\n"
     ]
    },
    {
     "name": "stderr",
     "output_type": "stream",
     "text": [
      " 88%|████████▊ | 1367/1552 [04:38<00:39,  4.64it/s]"
     ]
    },
    {
     "name": "stdout",
     "output_type": "stream",
     "text": [
      "rgb logits...\n",
      "flow logits...\n",
      "===== Final predictions ====\n",
      "label: other_action\n",
      "logits proba class\n",
      "100.00% other_action\n",
      "1365 49 0 ./data/images_new/test/42_20190214_frames058246\n",
      "rgb logits...\n",
      "flow logits...\n",
      "===== Final predictions ====\n",
      "label: other_action\n",
      "logits proba class\n",
      "99.19% other_action\n",
      "1366 49 1 ./data/images_new/test/42_20190214_frames058246\n"
     ]
    },
    {
     "name": "stderr",
     "output_type": "stream",
     "text": [
      "\r",
      " 88%|████████▊ | 1368/1552 [04:38<00:34,  5.28it/s]"
     ]
    },
    {
     "name": "stdout",
     "output_type": "stream",
     "text": [
      "rgb logits...\n",
      "flow logits...\n",
      "===== Final predictions ====\n",
      "label: other_action\n",
      "logits proba class\n",
      "99.86% other_action\n",
      "1367 49 2 ./data/images_new/test/42_20190214_frames058246\n",
      "rgb logits...\n",
      "flow logits...\n"
     ]
    },
    {
     "name": "stderr",
     "output_type": "stream",
     "text": [
      " 88%|████████▊ | 1370/1552 [04:39<00:32,  5.54it/s]"
     ]
    },
    {
     "name": "stdout",
     "output_type": "stream",
     "text": [
      "===== Final predictions ====\n",
      "label: other_action\n",
      "logits proba class\n",
      "99.92% other_action\n",
      "1368 49 3 ./data/images_new/test/42_20190214_frames058246\n",
      "rgb logits...\n",
      "flow logits...\n",
      "===== Final predictions ====\n",
      "label: other_action\n",
      "logits proba class\n",
      "95.58% other_action\n",
      "1369 49 0 ./data/images_new/test/42_20190214_frames058246\n"
     ]
    },
    {
     "name": "stderr",
     "output_type": "stream",
     "text": [
      " 88%|████████▊ | 1372/1552 [04:39<00:27,  6.61it/s]"
     ]
    },
    {
     "name": "stdout",
     "output_type": "stream",
     "text": [
      "rgb logits...\n",
      "flow logits...\n",
      "===== Final predictions ====\n",
      "label: other_action\n",
      "logits proba class\n",
      "77.81% other_action\n",
      "1370 49 1 ./data/images_new/test/42_20190214_frames058246\n",
      "rgb logits...\n",
      "flow logits...\n",
      "===== Final predictions ====\n",
      "label: other_action\n",
      "logits proba class\n",
      "97.04% other_action\n",
      "1371 49 2 ./data/images_new/test/42_20190214_frames058246\n"
     ]
    },
    {
     "name": "stderr",
     "output_type": "stream",
     "text": [
      "\r",
      " 88%|████████▊ | 1373/1552 [04:39<00:27,  6.55it/s]"
     ]
    },
    {
     "name": "stdout",
     "output_type": "stream",
     "text": [
      "rgb logits...\n",
      "flow logits...\n",
      "===== Final predictions ====\n",
      "label: other_action\n",
      "logits proba class\n",
      "77.39% rubbing_hands\n",
      "1372 49 3 ./data/images_new/test/42_20190214_frames058246\n"
     ]
    },
    {
     "name": "stderr",
     "output_type": "stream",
     "text": [
      " 89%|████████▊ | 1375/1552 [04:39<00:33,  5.29it/s]"
     ]
    },
    {
     "name": "stdout",
     "output_type": "stream",
     "text": [
      "rgb logits...\n",
      "flow logits...\n",
      "===== Final predictions ====\n",
      "label: rubbing_hands\n",
      "logits proba class\n",
      "87.69% rubbing_hands\n",
      "1373 49 0 ./data/images_new/test/42_20190214_frames058246\n",
      "rgb logits...\n",
      "flow logits...\n",
      "===== Final predictions ====\n",
      "label: rubbing_hands\n",
      "logits proba class\n",
      "95.34% rubbing_hands\n",
      "1374 49 1 ./data/images_new/test/42_20190214_frames058246\n"
     ]
    },
    {
     "name": "stderr",
     "output_type": "stream",
     "text": [
      " 89%|████████▊ | 1377/1552 [04:40<00:28,  6.05it/s]"
     ]
    },
    {
     "name": "stdout",
     "output_type": "stream",
     "text": [
      "rgb logits...\n",
      "flow logits...\n",
      "===== Final predictions ====\n",
      "label: rubbing_hands\n",
      "logits proba class\n",
      "98.75% rubbing_hands\n",
      "1375 49 2 ./data/images_new/test/42_20190214_frames058246\n",
      "rgb logits...\n",
      "flow logits...\n",
      "===== Final predictions ====\n",
      "label: rubbing_hands\n",
      "logits proba class\n",
      "99.64% rubbing_hands\n",
      "1376 49 3 ./data/images_new/test/42_20190214_frames058246\n"
     ]
    },
    {
     "name": "stderr",
     "output_type": "stream",
     "text": [
      " 89%|████████▉ | 1379/1552 [04:40<00:25,  6.88it/s]"
     ]
    },
    {
     "name": "stdout",
     "output_type": "stream",
     "text": [
      "rgb logits...\n",
      "flow logits...\n",
      "===== Final predictions ====\n",
      "label: rubbing_hands\n",
      "logits proba class\n",
      "95.84% rubbing_hands\n",
      "1377 49 4 ./data/images_new/test/42_20190214_frames058246\n",
      "rgb logits...\n",
      "flow logits...\n",
      "===== Final predictions ====\n",
      "label: rubbing_hands\n",
      "logits proba class\n",
      "94.06% rubbing_hands\n",
      "1378 49 5 ./data/images_new/test/42_20190214_frames058246\n"
     ]
    },
    {
     "name": "stderr",
     "output_type": "stream",
     "text": [
      " 89%|████████▉ | 1381/1552 [04:40<00:23,  7.43it/s]"
     ]
    },
    {
     "name": "stdout",
     "output_type": "stream",
     "text": [
      "rgb logits...\n",
      "flow logits...\n",
      "===== Final predictions ====\n",
      "label: rubbing_hands\n",
      "logits proba class\n",
      "65.76% rubbing_hands\n",
      "1379 49 6 ./data/images_new/test/42_20190214_frames058246\n",
      "rgb logits...\n",
      "flow logits...\n",
      "===== Final predictions ====\n",
      "label: rubbing_hands\n",
      "logits proba class\n",
      "91.23% rubbing_hands\n",
      "1380 49 7 ./data/images_new/test/42_20190214_frames058246\n"
     ]
    },
    {
     "name": "stderr",
     "output_type": "stream",
     "text": [
      " 89%|████████▉ | 1383/1552 [04:40<00:21,  7.75it/s]"
     ]
    },
    {
     "name": "stdout",
     "output_type": "stream",
     "text": [
      "rgb logits...\n",
      "flow logits...\n",
      "===== Final predictions ====\n",
      "label: rubbing_hands\n",
      "logits proba class\n",
      "99.76% rubbing_hands\n",
      "1381 49 8 ./data/images_new/test/42_20190214_frames058246\n",
      "rgb logits...\n",
      "flow logits...\n",
      "===== Final predictions ====\n",
      "label: rubbing_hands\n",
      "logits proba class\n",
      "98.65% rubbing_hands\n",
      "1382 49 9 ./data/images_new/test/42_20190214_frames058246\n"
     ]
    },
    {
     "name": "stderr",
     "output_type": "stream",
     "text": [
      " 89%|████████▉ | 1385/1552 [04:41<00:21,  7.89it/s]"
     ]
    },
    {
     "name": "stdout",
     "output_type": "stream",
     "text": [
      "rgb logits...\n",
      "flow logits...\n",
      "===== Final predictions ====\n",
      "label: rubbing_hands\n",
      "logits proba class\n",
      "99.31% rubbing_hands\n",
      "1383 49 10 ./data/images_new/test/42_20190214_frames058246\n",
      "rgb logits...\n",
      "flow logits...\n",
      "===== Final predictions ====\n",
      "label: rubbing_hands\n",
      "logits proba class\n",
      "98.09% rubbing_hands\n",
      "1384 49 11 ./data/images_new/test/42_20190214_frames058246\n",
      "[RGB] Filling cache for index 50\n"
     ]
    },
    {
     "name": "stderr",
     "output_type": "stream",
     "text": [
      "\r",
      " 89%|████████▉ | 1386/1552 [04:43<01:54,  1.45it/s]"
     ]
    },
    {
     "name": "stdout",
     "output_type": "stream",
     "text": [
      "[Flow] Filling cache for index 50\n",
      "rgb logits...\n",
      "flow logits...\n",
      "===== Final predictions ====\n",
      "label: rubbing_hands\n",
      "logits proba class\n",
      "100.00% rubbing_hands\n",
      "1385 50 0 ./data/images_new/test/5_20181119_frames030007\n"
     ]
    },
    {
     "name": "stderr",
     "output_type": "stream",
     "text": [
      "\r",
      " 89%|████████▉ | 1387/1552 [04:43<01:27,  1.89it/s]"
     ]
    },
    {
     "name": "stdout",
     "output_type": "stream",
     "text": [
      "rgb logits...\n",
      "flow logits...\n",
      "===== Final predictions ====\n",
      "label: rubbing_hands\n",
      "logits proba class\n",
      "99.98% rubbing_hands\n",
      "1386 50 1 ./data/images_new/test/5_20181119_frames030007\n",
      "rgb logits...\n",
      "flow logits...\n"
     ]
    },
    {
     "name": "stderr",
     "output_type": "stream",
     "text": [
      " 89%|████████▉ | 1389/1552 [04:43<00:54,  2.97it/s]"
     ]
    },
    {
     "name": "stdout",
     "output_type": "stream",
     "text": [
      "===== Final predictions ====\n",
      "label: rubbing_hands\n",
      "logits proba class\n",
      "100.00% rubbing_hands\n",
      "1387 50 2 ./data/images_new/test/5_20181119_frames030007\n",
      "rgb logits...\n",
      "flow logits...\n",
      "===== Final predictions ====\n",
      "label: rubbing_hands\n",
      "logits proba class\n",
      "100.00% rubbing_hands\n",
      "1388 50 3 ./data/images_new/test/5_20181119_frames030007\n"
     ]
    },
    {
     "name": "stderr",
     "output_type": "stream",
     "text": [
      " 90%|████████▉ | 1391/1552 [04:43<00:37,  4.34it/s]"
     ]
    },
    {
     "name": "stdout",
     "output_type": "stream",
     "text": [
      "rgb logits...\n",
      "flow logits...\n",
      "===== Final predictions ====\n",
      "label: rubbing_hands\n",
      "logits proba class\n",
      "100.00% rubbing_hands\n",
      "1389 50 4 ./data/images_new/test/5_20181119_frames030007\n",
      "rgb logits...\n",
      "flow logits...\n",
      "===== Final predictions ====\n",
      "label: rubbing_hands\n",
      "logits proba class\n",
      "99.93% rubbing_hands\n",
      "1390 50 5 ./data/images_new/test/5_20181119_frames030007\n"
     ]
    },
    {
     "name": "stderr",
     "output_type": "stream",
     "text": [
      " 90%|████████▉ | 1393/1552 [04:44<00:28,  5.65it/s]"
     ]
    },
    {
     "name": "stdout",
     "output_type": "stream",
     "text": [
      "rgb logits...\n",
      "flow logits...\n",
      "===== Final predictions ====\n",
      "label: rubbing_hands\n",
      "logits proba class\n",
      "100.00% rubbing_hands\n",
      "1391 50 6 ./data/images_new/test/5_20181119_frames030007\n",
      "rgb logits...\n",
      "flow logits...\n",
      "===== Final predictions ====\n",
      "label: rubbing_hands\n",
      "logits proba class\n",
      "99.97% rubbing_hands\n",
      "1392 50 7 ./data/images_new/test/5_20181119_frames030007\n"
     ]
    },
    {
     "name": "stderr",
     "output_type": "stream",
     "text": [
      " 90%|████████▉ | 1395/1552 [04:44<00:23,  6.62it/s]"
     ]
    },
    {
     "name": "stdout",
     "output_type": "stream",
     "text": [
      "rgb logits...\n",
      "flow logits...\n",
      "===== Final predictions ====\n",
      "label: rubbing_hands\n",
      "logits proba class\n",
      "99.99% rubbing_hands\n",
      "1393 50 8 ./data/images_new/test/5_20181119_frames030007\n",
      "rgb logits...\n",
      "flow logits...\n",
      "===== Final predictions ====\n",
      "label: rubbing_hands\n",
      "logits proba class\n",
      "99.14% rubbing_hands\n",
      "1394 50 9 ./data/images_new/test/5_20181119_frames030007\n"
     ]
    },
    {
     "name": "stderr",
     "output_type": "stream",
     "text": [
      " 90%|█████████ | 1397/1552 [04:44<00:21,  7.25it/s]"
     ]
    },
    {
     "name": "stdout",
     "output_type": "stream",
     "text": [
      "rgb logits...\n",
      "flow logits...\n",
      "===== Final predictions ====\n",
      "label: rubbing_hands\n",
      "logits proba class\n",
      "99.99% rubbing_hands\n",
      "1395 50 10 ./data/images_new/test/5_20181119_frames030007\n",
      "rgb logits...\n",
      "flow logits...\n",
      "===== Final predictions ====\n",
      "label: rubbing_hands\n",
      "logits proba class\n",
      "100.00% rubbing_hands\n",
      "1396 50 11 ./data/images_new/test/5_20181119_frames030007\n"
     ]
    },
    {
     "name": "stderr",
     "output_type": "stream",
     "text": [
      " 90%|█████████ | 1399/1552 [04:44<00:20,  7.46it/s]"
     ]
    },
    {
     "name": "stdout",
     "output_type": "stream",
     "text": [
      "rgb logits...\n",
      "flow logits...\n",
      "===== Final predictions ====\n",
      "label: rubbing_hands\n",
      "logits proba class\n",
      "100.00% rubbing_hands\n",
      "1397 50 12 ./data/images_new/test/5_20181119_frames030007\n",
      "rgb logits...\n",
      "flow logits...\n",
      "===== Final predictions ====\n",
      "label: other_action\n",
      "logits proba class\n",
      "86.04% touching_equipment\n",
      "1398 50 0 ./data/images_new/test/5_20181119_frames030007\n"
     ]
    },
    {
     "name": "stderr",
     "output_type": "stream",
     "text": [
      " 90%|█████████ | 1401/1552 [04:45<00:20,  7.46it/s]"
     ]
    },
    {
     "name": "stdout",
     "output_type": "stream",
     "text": [
      "rgb logits...\n",
      "flow logits...\n",
      "===== Final predictions ====\n",
      "label: other_action\n",
      "logits proba class\n",
      "69.72% touching_equipment\n",
      "1399 50 1 ./data/images_new/test/5_20181119_frames030007\n",
      "rgb logits...\n",
      "flow logits...\n",
      "===== Final predictions ====\n",
      "label: other_action\n",
      "logits proba class\n",
      "95.42% touching_equipment\n",
      "1400 50 2 ./data/images_new/test/5_20181119_frames030007\n"
     ]
    },
    {
     "name": "stderr",
     "output_type": "stream",
     "text": [
      " 90%|█████████ | 1403/1552 [04:45<00:20,  7.14it/s]"
     ]
    },
    {
     "name": "stdout",
     "output_type": "stream",
     "text": [
      "rgb logits...\n",
      "flow logits...\n",
      "===== Final predictions ====\n",
      "label: other_action\n",
      "logits proba class\n",
      "49.20% rubbing_hands\n",
      "1401 50 3 ./data/images_new/test/5_20181119_frames030007\n",
      "rgb logits...\n",
      "flow logits...\n",
      "===== Final predictions ====\n",
      "label: other_action\n",
      "logits proba class\n",
      "96.81% rubbing_hands\n",
      "1402 50 4 ./data/images_new/test/5_20181119_frames030007\n"
     ]
    },
    {
     "name": "stderr",
     "output_type": "stream",
     "text": [
      " 91%|█████████ | 1405/1552 [04:45<00:20,  7.03it/s]"
     ]
    },
    {
     "name": "stdout",
     "output_type": "stream",
     "text": [
      "rgb logits...\n",
      "flow logits...\n",
      "===== Final predictions ====\n",
      "label: other_action\n",
      "logits proba class\n",
      "64.77% rubbing_hands\n",
      "1403 50 0 ./data/images_new/test/5_20181119_frames030007\n",
      "rgb logits...\n",
      "flow logits...\n",
      "===== Final predictions ====\n",
      "label: other_action\n",
      "logits proba class\n",
      "77.53% rubbing_hands\n",
      "1404 50 1 ./data/images_new/test/5_20181119_frames030007\n"
     ]
    },
    {
     "name": "stderr",
     "output_type": "stream",
     "text": [
      " 91%|█████████ | 1407/1552 [04:46<00:20,  6.91it/s]"
     ]
    },
    {
     "name": "stdout",
     "output_type": "stream",
     "text": [
      "rgb logits...\n",
      "flow logits...\n",
      "===== Final predictions ====\n",
      "label: other_action\n",
      "logits proba class\n",
      "95.77% rubbing_hands\n",
      "1405 50 2 ./data/images_new/test/5_20181119_frames030007\n",
      "rgb logits...\n",
      "flow logits...\n",
      "===== Final predictions ====\n",
      "label: other_action\n",
      "logits proba class\n",
      "78.81% rubbing_hands\n",
      "1406 50 3 ./data/images_new/test/5_20181119_frames030007\n"
     ]
    },
    {
     "name": "stderr",
     "output_type": "stream",
     "text": [
      "\r",
      " 91%|█████████ | 1408/1552 [04:46<00:20,  7.08it/s]"
     ]
    },
    {
     "name": "stdout",
     "output_type": "stream",
     "text": [
      "rgb logits...\n",
      "flow logits...\n",
      "===== Final predictions ====\n",
      "label: other_action\n",
      "logits proba class\n",
      "83.70% other_action\n",
      "1407 50 4 ./data/images_new/test/5_20181119_frames030007\n",
      "[RGB] Filling cache for index 51\n",
      "[Flow] Filling cache for index 51\n",
      "rgb logits...\n"
     ]
    },
    {
     "name": "stderr",
     "output_type": "stream",
     "text": [
      "\r",
      " 91%|█████████ | 1409/1552 [04:47<01:09,  2.06it/s]"
     ]
    },
    {
     "name": "stdout",
     "output_type": "stream",
     "text": [
      "flow logits...\n",
      "===== Final predictions ====\n",
      "label: touching_equipment\n",
      "logits proba class\n",
      "47.09% other_action\n",
      "1408 51 0 ./data/images_new/test/5_20181119_frames031761\n",
      "rgb logits...\n"
     ]
    },
    {
     "name": "stderr",
     "output_type": "stream",
     "text": [
      "\r",
      " 91%|█████████ | 1410/1552 [04:47<00:57,  2.48it/s]"
     ]
    },
    {
     "name": "stdout",
     "output_type": "stream",
     "text": [
      "flow logits...\n",
      "===== Final predictions ====\n",
      "label: touching_equipment\n",
      "logits proba class\n",
      "77.44% other_action\n",
      "1409 51 1 ./data/images_new/test/5_20181119_frames031761\n",
      "rgb logits...\n",
      "flow logits...\n"
     ]
    },
    {
     "name": "stderr",
     "output_type": "stream",
     "text": [
      " 91%|█████████ | 1412/1552 [04:48<00:40,  3.43it/s]"
     ]
    },
    {
     "name": "stdout",
     "output_type": "stream",
     "text": [
      "===== Final predictions ====\n",
      "label: touching_equipment\n",
      "logits proba class\n",
      "96.38% other_action\n",
      "1410 51 2 ./data/images_new/test/5_20181119_frames031761\n",
      "rgb logits...\n",
      "flow logits...\n",
      "===== Final predictions ====\n",
      "label: touching_equipment\n",
      "logits proba class\n",
      "94.66% rubbing_hands\n",
      "1411 51 3 ./data/images_new/test/5_20181119_frames031761\n"
     ]
    },
    {
     "name": "stderr",
     "output_type": "stream",
     "text": [
      " 91%|█████████ | 1414/1552 [04:48<00:28,  4.92it/s]"
     ]
    },
    {
     "name": "stdout",
     "output_type": "stream",
     "text": [
      "rgb logits...\n",
      "flow logits...\n",
      "===== Final predictions ====\n",
      "label: other_action\n",
      "logits proba class\n",
      "94.87% other_action\n",
      "1412 51 0 ./data/images_new/test/5_20181119_frames031761\n",
      "rgb logits...\n",
      "flow logits...\n",
      "===== Final predictions ====\n",
      "label: other_action\n",
      "logits proba class\n",
      "95.46% other_action\n",
      "1413 51 1 ./data/images_new/test/5_20181119_frames031761\n",
      "[RGB] Filling cache for index 52\n"
     ]
    },
    {
     "name": "stderr",
     "output_type": "stream",
     "text": [
      "\r",
      " 91%|█████████ | 1415/1552 [04:52<02:57,  1.29s/it]"
     ]
    },
    {
     "name": "stdout",
     "output_type": "stream",
     "text": [
      "[Flow] Filling cache for index 52\n",
      "rgb logits...\n",
      "flow logits...\n",
      "===== Final predictions ====\n",
      "label: touching_equipment\n",
      "logits proba class\n",
      "95.31% other_action\n",
      "1414 52 0 ./data/images_new/test/5_20181119_frames032262\n"
     ]
    },
    {
     "name": "stderr",
     "output_type": "stream",
     "text": [
      "\r",
      " 91%|█████████ | 1416/1552 [04:52<02:09,  1.05it/s]"
     ]
    },
    {
     "name": "stdout",
     "output_type": "stream",
     "text": [
      "rgb logits...\n",
      "flow logits...\n",
      "===== Final predictions ====\n",
      "label: touching_equipment\n",
      "logits proba class\n",
      "91.52% other_action\n",
      "1415 52 1 ./data/images_new/test/5_20181119_frames032262\n",
      "rgb logits...\n",
      "flow logits...\n"
     ]
    },
    {
     "name": "stderr",
     "output_type": "stream",
     "text": [
      " 91%|█████████▏| 1418/1552 [04:52<01:13,  1.82it/s]"
     ]
    },
    {
     "name": "stdout",
     "output_type": "stream",
     "text": [
      "===== Final predictions ====\n",
      "label: touching_equipment\n",
      "logits proba class\n",
      "90.90% other_action\n",
      "1416 52 2 ./data/images_new/test/5_20181119_frames032262\n",
      "rgb logits...\n",
      "flow logits...\n",
      "===== Final predictions ====\n",
      "label: touching_equipment\n",
      "logits proba class\n",
      "98.34% other_action\n",
      "1417 52 3 ./data/images_new/test/5_20181119_frames032262\n"
     ]
    },
    {
     "name": "stderr",
     "output_type": "stream",
     "text": [
      " 91%|█████████▏| 1420/1552 [04:52<00:44,  2.95it/s]"
     ]
    },
    {
     "name": "stdout",
     "output_type": "stream",
     "text": [
      "rgb logits...\n",
      "flow logits...\n",
      "===== Final predictions ====\n",
      "label: touching_equipment\n",
      "logits proba class\n",
      "77.67% other_action\n",
      "1418 52 4 ./data/images_new/test/5_20181119_frames032262\n",
      "rgb logits...\n",
      "flow logits...\n",
      "===== Final predictions ====\n",
      "label: touching_equipment\n",
      "logits proba class\n",
      "82.50% other_action\n",
      "1419 52 5 ./data/images_new/test/5_20181119_frames032262\n"
     ]
    },
    {
     "name": "stderr",
     "output_type": "stream",
     "text": [
      " 92%|█████████▏| 1422/1552 [04:53<00:30,  4.32it/s]"
     ]
    },
    {
     "name": "stdout",
     "output_type": "stream",
     "text": [
      "rgb logits...\n",
      "flow logits...\n",
      "===== Final predictions ====\n",
      "label: touching_equipment\n",
      "logits proba class\n",
      "84.31% other_action\n",
      "1420 52 6 ./data/images_new/test/5_20181119_frames032262\n",
      "rgb logits...\n",
      "flow logits...\n",
      "===== Final predictions ====\n",
      "label: touching_equipment\n",
      "logits proba class\n",
      "53.38% other_action\n",
      "1421 52 7 ./data/images_new/test/5_20181119_frames032262\n"
     ]
    },
    {
     "name": "stderr",
     "output_type": "stream",
     "text": [
      " 92%|█████████▏| 1424/1552 [04:53<00:22,  5.58it/s]"
     ]
    },
    {
     "name": "stdout",
     "output_type": "stream",
     "text": [
      "rgb logits...\n",
      "flow logits...\n",
      "===== Final predictions ====\n",
      "label: touching_equipment\n",
      "logits proba class\n",
      "72.61% other_action\n",
      "1422 52 8 ./data/images_new/test/5_20181119_frames032262\n",
      "rgb logits...\n",
      "flow logits...\n",
      "===== Final predictions ====\n",
      "label: touching_equipment\n",
      "logits proba class\n",
      "85.75% other_action\n",
      "1423 52 9 ./data/images_new/test/5_20181119_frames032262\n"
     ]
    },
    {
     "name": "stderr",
     "output_type": "stream",
     "text": [
      " 92%|█████████▏| 1426/1552 [04:53<00:19,  6.50it/s]"
     ]
    },
    {
     "name": "stdout",
     "output_type": "stream",
     "text": [
      "rgb logits...\n",
      "flow logits...\n",
      "===== Final predictions ====\n",
      "label: touching_equipment\n",
      "logits proba class\n",
      "50.09% other_action\n",
      "1424 52 10 ./data/images_new/test/5_20181119_frames032262\n",
      "rgb logits...\n",
      "flow logits...\n",
      "===== Final predictions ====\n",
      "label: touching_equipment\n",
      "logits proba class\n",
      "60.46% other_action\n",
      "1425 52 11 ./data/images_new/test/5_20181119_frames032262\n"
     ]
    },
    {
     "name": "stderr",
     "output_type": "stream",
     "text": [
      "\r",
      " 92%|█████████▏| 1427/1552 [04:53<00:20,  6.14it/s]"
     ]
    },
    {
     "name": "stdout",
     "output_type": "stream",
     "text": [
      "rgb logits...\n",
      "flow logits...\n",
      "===== Final predictions ====\n",
      "label: touching_equipment\n",
      "logits proba class\n",
      "56.96% touching_equipment\n",
      "1426 52 12 ./data/images_new/test/5_20181119_frames032262\n",
      "rgb logits...\n"
     ]
    },
    {
     "name": "stderr",
     "output_type": "stream",
     "text": [
      "\r",
      " 92%|█████████▏| 1428/1552 [04:54<00:19,  6.28it/s]"
     ]
    },
    {
     "name": "stdout",
     "output_type": "stream",
     "text": [
      "flow logits...\n",
      "===== Final predictions ====\n",
      "label: touching_equipment\n",
      "logits proba class\n",
      "54.64% touching_equipment\n",
      "1427 52 13 ./data/images_new/test/5_20181119_frames032262\n",
      "rgb logits...\n",
      "flow logits...\n"
     ]
    },
    {
     "name": "stderr",
     "output_type": "stream",
     "text": [
      " 92%|█████████▏| 1430/1552 [04:54<00:20,  5.87it/s]"
     ]
    },
    {
     "name": "stdout",
     "output_type": "stream",
     "text": [
      "===== Final predictions ====\n",
      "label: touching_equipment\n",
      "logits proba class\n",
      "71.67% touching_equipment\n",
      "1428 52 14 ./data/images_new/test/5_20181119_frames032262\n",
      "rgb logits...\n",
      "flow logits...\n",
      "===== Final predictions ====\n",
      "label: touching_equipment\n",
      "logits proba class\n",
      "65.22% touching_equipment\n",
      "1429 52 15 ./data/images_new/test/5_20181119_frames032262\n"
     ]
    },
    {
     "name": "stderr",
     "output_type": "stream",
     "text": [
      " 92%|█████████▏| 1432/1552 [04:54<00:18,  6.58it/s]"
     ]
    },
    {
     "name": "stdout",
     "output_type": "stream",
     "text": [
      "rgb logits...\n",
      "flow logits...\n",
      "===== Final predictions ====\n",
      "label: touching_equipment\n",
      "logits proba class\n",
      "78.02% touching_equipment\n",
      "1430 52 16 ./data/images_new/test/5_20181119_frames032262\n",
      "rgb logits...\n",
      "flow logits...\n",
      "===== Final predictions ====\n",
      "label: touching_equipment\n",
      "logits proba class\n",
      "55.35% other_action\n",
      "1431 52 17 ./data/images_new/test/5_20181119_frames032262\n"
     ]
    },
    {
     "name": "stderr",
     "output_type": "stream",
     "text": [
      " 92%|█████████▏| 1434/1552 [04:54<00:16,  6.94it/s]"
     ]
    },
    {
     "name": "stdout",
     "output_type": "stream",
     "text": [
      "rgb logits...\n",
      "flow logits...\n",
      "===== Final predictions ====\n",
      "label: touching_equipment\n",
      "logits proba class\n",
      "72.36% other_action\n",
      "1432 52 18 ./data/images_new/test/5_20181119_frames032262\n",
      "rgb logits...\n",
      "flow logits...\n",
      "===== Final predictions ====\n",
      "label: touching_equipment\n",
      "logits proba class\n",
      "56.68% rubbing_hands\n",
      "1433 52 19 ./data/images_new/test/5_20181119_frames032262\n"
     ]
    },
    {
     "name": "stderr",
     "output_type": "stream",
     "text": [
      " 93%|█████████▎| 1436/1552 [04:55<00:16,  7.01it/s]"
     ]
    },
    {
     "name": "stdout",
     "output_type": "stream",
     "text": [
      "rgb logits...\n",
      "flow logits...\n",
      "===== Final predictions ====\n",
      "label: touching_equipment\n",
      "logits proba class\n",
      "48.44% other_action\n",
      "1434 52 20 ./data/images_new/test/5_20181119_frames032262\n",
      "rgb logits...\n",
      "flow logits...\n",
      "===== Final predictions ====\n",
      "label: touching_equipment\n",
      "logits proba class\n",
      "60.97% other_action\n",
      "1435 52 21 ./data/images_new/test/5_20181119_frames032262\n"
     ]
    },
    {
     "name": "stderr",
     "output_type": "stream",
     "text": [
      " 93%|█████████▎| 1438/1552 [04:55<00:15,  7.29it/s]"
     ]
    },
    {
     "name": "stdout",
     "output_type": "stream",
     "text": [
      "rgb logits...\n",
      "flow logits...\n",
      "===== Final predictions ====\n",
      "label: touching_equipment\n",
      "logits proba class\n",
      "45.85% touching_equipment\n",
      "1436 52 22 ./data/images_new/test/5_20181119_frames032262\n",
      "rgb logits...\n",
      "flow logits...\n",
      "===== Final predictions ====\n",
      "label: touching_equipment\n",
      "logits proba class\n",
      "47.05% touching_equipment\n",
      "1437 52 23 ./data/images_new/test/5_20181119_frames032262\n"
     ]
    },
    {
     "name": "stderr",
     "output_type": "stream",
     "text": [
      "\r",
      " 93%|█████████▎| 1439/1552 [04:55<00:15,  7.34it/s]"
     ]
    },
    {
     "name": "stdout",
     "output_type": "stream",
     "text": [
      "rgb logits...\n",
      "flow logits...\n",
      "===== Final predictions ====\n",
      "label: touching_equipment\n",
      "logits proba class\n",
      "52.42% touching_equipment\n",
      "1438 52 24 ./data/images_new/test/5_20181119_frames032262\n",
      "rgb logits...\n",
      "flow logits...\n"
     ]
    },
    {
     "name": "stderr",
     "output_type": "stream",
     "text": [
      " 93%|█████████▎| 1441/1552 [04:55<00:16,  6.58it/s]"
     ]
    },
    {
     "name": "stdout",
     "output_type": "stream",
     "text": [
      "===== Final predictions ====\n",
      "label: touching_equipment\n",
      "logits proba class\n",
      "62.74% touching_equipment\n",
      "1439 52 25 ./data/images_new/test/5_20181119_frames032262\n",
      "rgb logits...\n",
      "flow logits...\n",
      "===== Final predictions ====\n",
      "label: touching_equipment\n",
      "logits proba class\n",
      "82.67% other_action\n",
      "1440 52 26 ./data/images_new/test/5_20181119_frames032262\n"
     ]
    },
    {
     "name": "stderr",
     "output_type": "stream",
     "text": [
      "\r",
      " 93%|█████████▎| 1442/1552 [04:56<00:16,  6.47it/s]"
     ]
    },
    {
     "name": "stdout",
     "output_type": "stream",
     "text": [
      "rgb logits...\n",
      "flow logits...\n",
      "===== Final predictions ====\n",
      "label: touching_equipment\n",
      "logits proba class\n",
      "81.64% other_action\n",
      "1441 52 27 ./data/images_new/test/5_20181119_frames032262\n",
      "rgb logits...\n",
      "flow logits...\n"
     ]
    },
    {
     "name": "stderr",
     "output_type": "stream",
     "text": [
      " 93%|█████████▎| 1444/1552 [04:56<00:16,  6.39it/s]"
     ]
    },
    {
     "name": "stdout",
     "output_type": "stream",
     "text": [
      "===== Final predictions ====\n",
      "label: touching_equipment\n",
      "logits proba class\n",
      "63.14% other_action\n",
      "1442 52 28 ./data/images_new/test/5_20181119_frames032262\n",
      "rgb logits...\n",
      "flow logits...\n",
      "===== Final predictions ====\n",
      "label: touching_equipment\n",
      "logits proba class\n",
      "60.93% touching_equipment\n",
      "1443 52 29 ./data/images_new/test/5_20181119_frames032262\n"
     ]
    },
    {
     "name": "stderr",
     "output_type": "stream",
     "text": [
      " 93%|█████████▎| 1446/1552 [04:56<00:15,  6.95it/s]"
     ]
    },
    {
     "name": "stdout",
     "output_type": "stream",
     "text": [
      "rgb logits...\n",
      "flow logits...\n",
      "===== Final predictions ====\n",
      "label: touching_equipment\n",
      "logits proba class\n",
      "68.28% touching_equipment\n",
      "1444 52 30 ./data/images_new/test/5_20181119_frames032262\n",
      "rgb logits...\n",
      "flow logits...\n",
      "===== Final predictions ====\n",
      "label: touching_equipment\n",
      "logits proba class\n",
      "55.19% touching_equipment\n",
      "1445 52 31 ./data/images_new/test/5_20181119_frames032262\n"
     ]
    },
    {
     "name": "stderr",
     "output_type": "stream",
     "text": [
      " 93%|█████████▎| 1448/1552 [04:56<00:14,  7.28it/s]"
     ]
    },
    {
     "name": "stdout",
     "output_type": "stream",
     "text": [
      "rgb logits...\n",
      "flow logits...\n",
      "===== Final predictions ====\n",
      "label: touching_equipment\n",
      "logits proba class\n",
      "53.89% other_action\n",
      "1446 52 32 ./data/images_new/test/5_20181119_frames032262\n",
      "rgb logits...\n",
      "flow logits...\n",
      "===== Final predictions ====\n",
      "label: touching_equipment\n",
      "logits proba class\n",
      "82.83% other_action\n",
      "1447 52 33 ./data/images_new/test/5_20181119_frames032262\n"
     ]
    },
    {
     "name": "stderr",
     "output_type": "stream",
     "text": [
      " 93%|█████████▎| 1450/1552 [04:57<00:13,  7.47it/s]"
     ]
    },
    {
     "name": "stdout",
     "output_type": "stream",
     "text": [
      "rgb logits...\n",
      "flow logits...\n",
      "===== Final predictions ====\n",
      "label: touching_equipment\n",
      "logits proba class\n",
      "76.04% other_action\n",
      "1448 52 34 ./data/images_new/test/5_20181119_frames032262\n",
      "rgb logits...\n",
      "flow logits...\n",
      "===== Final predictions ====\n",
      "label: touching_equipment\n",
      "logits proba class\n",
      "81.75% other_action\n",
      "1449 52 35 ./data/images_new/test/5_20181119_frames032262\n"
     ]
    },
    {
     "name": "stderr",
     "output_type": "stream",
     "text": [
      " 94%|█████████▎| 1452/1552 [04:57<00:13,  7.56it/s]"
     ]
    },
    {
     "name": "stdout",
     "output_type": "stream",
     "text": [
      "rgb logits...\n",
      "flow logits...\n",
      "===== Final predictions ====\n",
      "label: touching_equipment\n",
      "logits proba class\n",
      "84.62% other_action\n",
      "1450 52 36 ./data/images_new/test/5_20181119_frames032262\n",
      "rgb logits...\n",
      "flow logits...\n",
      "===== Final predictions ====\n",
      "label: touching_equipment\n",
      "logits proba class\n",
      "81.12% other_action\n",
      "1451 52 37 ./data/images_new/test/5_20181119_frames032262\n"
     ]
    },
    {
     "name": "stderr",
     "output_type": "stream",
     "text": [
      " 94%|█████████▎| 1454/1552 [04:57<00:12,  7.57it/s]"
     ]
    },
    {
     "name": "stdout",
     "output_type": "stream",
     "text": [
      "rgb logits...\n",
      "flow logits...\n",
      "===== Final predictions ====\n",
      "label: touching_equipment\n",
      "logits proba class\n",
      "86.26% other_action\n",
      "1452 52 38 ./data/images_new/test/5_20181119_frames032262\n",
      "rgb logits...\n",
      "flow logits...\n",
      "===== Final predictions ====\n",
      "label: touching_equipment\n",
      "logits proba class\n",
      "95.18% other_action\n",
      "1453 52 39 ./data/images_new/test/5_20181119_frames032262\n"
     ]
    },
    {
     "name": "stderr",
     "output_type": "stream",
     "text": [
      " 94%|█████████▍| 1456/1552 [04:58<00:12,  7.51it/s]"
     ]
    },
    {
     "name": "stdout",
     "output_type": "stream",
     "text": [
      "rgb logits...\n",
      "flow logits...\n",
      "===== Final predictions ====\n",
      "label: touching_equipment\n",
      "logits proba class\n",
      "95.40% other_action\n",
      "1454 52 40 ./data/images_new/test/5_20181119_frames032262\n",
      "rgb logits...\n",
      "flow logits...\n",
      "===== Final predictions ====\n",
      "label: touching_equipment\n",
      "logits proba class\n",
      "96.58% other_action\n",
      "1455 52 41 ./data/images_new/test/5_20181119_frames032262\n"
     ]
    },
    {
     "name": "stderr",
     "output_type": "stream",
     "text": [
      " 94%|█████████▍| 1458/1552 [04:58<00:12,  7.56it/s]"
     ]
    },
    {
     "name": "stdout",
     "output_type": "stream",
     "text": [
      "rgb logits...\n",
      "flow logits...\n",
      "===== Final predictions ====\n",
      "label: touching_equipment\n",
      "logits proba class\n",
      "94.42% other_action\n",
      "1456 52 42 ./data/images_new/test/5_20181119_frames032262\n",
      "rgb logits...\n",
      "flow logits...\n",
      "===== Final predictions ====\n",
      "label: touching_equipment\n",
      "logits proba class\n",
      "96.20% other_action\n",
      "1457 52 43 ./data/images_new/test/5_20181119_frames032262\n"
     ]
    },
    {
     "name": "stderr",
     "output_type": "stream",
     "text": [
      " 94%|█████████▍| 1460/1552 [04:58<00:12,  7.60it/s]"
     ]
    },
    {
     "name": "stdout",
     "output_type": "stream",
     "text": [
      "rgb logits...\n",
      "flow logits...\n",
      "===== Final predictions ====\n",
      "label: touching_equipment\n",
      "logits proba class\n",
      "95.57% other_action\n",
      "1458 52 44 ./data/images_new/test/5_20181119_frames032262\n",
      "rgb logits...\n",
      "flow logits...\n",
      "===== Final predictions ====\n",
      "label: touching_equipment\n",
      "logits proba class\n",
      "98.02% other_action\n",
      "1459 52 45 ./data/images_new/test/5_20181119_frames032262\n"
     ]
    },
    {
     "name": "stderr",
     "output_type": "stream",
     "text": [
      " 94%|█████████▍| 1462/1552 [04:58<00:11,  7.61it/s]"
     ]
    },
    {
     "name": "stdout",
     "output_type": "stream",
     "text": [
      "rgb logits...\n",
      "flow logits...\n",
      "===== Final predictions ====\n",
      "label: touching_equipment\n",
      "logits proba class\n",
      "99.03% other_action\n",
      "1460 52 46 ./data/images_new/test/5_20181119_frames032262\n",
      "rgb logits...\n",
      "flow logits...\n",
      "===== Final predictions ====\n",
      "label: touching_equipment\n",
      "logits proba class\n",
      "98.84% other_action\n",
      "1461 52 47 ./data/images_new/test/5_20181119_frames032262\n"
     ]
    },
    {
     "name": "stderr",
     "output_type": "stream",
     "text": [
      " 94%|█████████▍| 1464/1552 [04:59<00:12,  7.33it/s]"
     ]
    },
    {
     "name": "stdout",
     "output_type": "stream",
     "text": [
      "rgb logits...\n",
      "flow logits...\n",
      "===== Final predictions ====\n",
      "label: touching_equipment\n",
      "logits proba class\n",
      "96.65% other_action\n",
      "1462 52 48 ./data/images_new/test/5_20181119_frames032262\n",
      "rgb logits...\n",
      "flow logits...\n",
      "===== Final predictions ====\n",
      "label: other_action\n",
      "logits proba class\n",
      "99.99% other_action\n",
      "1463 52 0 ./data/images_new/test/5_20181119_frames032262\n"
     ]
    },
    {
     "name": "stderr",
     "output_type": "stream",
     "text": [
      " 94%|█████████▍| 1466/1552 [04:59<00:11,  7.32it/s]"
     ]
    },
    {
     "name": "stdout",
     "output_type": "stream",
     "text": [
      "rgb logits...\n",
      "flow logits...\n",
      "===== Final predictions ====\n",
      "label: other_action\n",
      "logits proba class\n",
      "99.92% other_action\n",
      "1464 52 1 ./data/images_new/test/5_20181119_frames032262\n",
      "rgb logits...\n",
      "flow logits...\n",
      "===== Final predictions ====\n",
      "label: other_action\n",
      "logits proba class\n",
      "99.81% other_action\n",
      "1465 52 2 ./data/images_new/test/5_20181119_frames032262\n"
     ]
    },
    {
     "name": "stderr",
     "output_type": "stream",
     "text": [
      " 95%|█████████▍| 1468/1552 [04:59<00:11,  7.35it/s]"
     ]
    },
    {
     "name": "stdout",
     "output_type": "stream",
     "text": [
      "rgb logits...\n",
      "flow logits...\n",
      "===== Final predictions ====\n",
      "label: other_action\n",
      "logits proba class\n",
      "98.41% other_action\n",
      "1466 52 3 ./data/images_new/test/5_20181119_frames032262\n",
      "rgb logits...\n",
      "flow logits...\n",
      "===== Final predictions ====\n",
      "label: other_action\n",
      "logits proba class\n",
      "99.97% other_action\n",
      "1467 52 4 ./data/images_new/test/5_20181119_frames032262\n"
     ]
    },
    {
     "name": "stderr",
     "output_type": "stream",
     "text": [
      " 95%|█████████▍| 1470/1552 [04:59<00:11,  7.37it/s]"
     ]
    },
    {
     "name": "stdout",
     "output_type": "stream",
     "text": [
      "rgb logits...\n",
      "flow logits...\n",
      "===== Final predictions ====\n",
      "label: other_action\n",
      "logits proba class\n",
      "99.16% other_action\n",
      "1468 52 5 ./data/images_new/test/5_20181119_frames032262\n",
      "rgb logits...\n",
      "flow logits...\n",
      "===== Final predictions ====\n",
      "label: other_action\n",
      "logits proba class\n",
      "99.56% other_action\n",
      "1469 52 6 ./data/images_new/test/5_20181119_frames032262\n"
     ]
    },
    {
     "name": "stderr",
     "output_type": "stream",
     "text": [
      " 95%|█████████▍| 1472/1552 [05:00<00:10,  7.36it/s]"
     ]
    },
    {
     "name": "stdout",
     "output_type": "stream",
     "text": [
      "rgb logits...\n",
      "flow logits...\n",
      "===== Final predictions ====\n",
      "label: other_action\n",
      "logits proba class\n",
      "99.97% other_action\n",
      "1470 52 7 ./data/images_new/test/5_20181119_frames032262\n",
      "rgb logits...\n",
      "flow logits...\n",
      "===== Final predictions ====\n",
      "label: other_action\n",
      "logits proba class\n",
      "100.00% other_action\n",
      "1471 52 8 ./data/images_new/test/5_20181119_frames032262\n"
     ]
    },
    {
     "name": "stderr",
     "output_type": "stream",
     "text": [
      " 95%|█████████▍| 1474/1552 [05:00<00:10,  7.37it/s]"
     ]
    },
    {
     "name": "stdout",
     "output_type": "stream",
     "text": [
      "rgb logits...\n",
      "flow logits...\n",
      "===== Final predictions ====\n",
      "label: other_action\n",
      "logits proba class\n",
      "99.99% other_action\n",
      "1472 52 9 ./data/images_new/test/5_20181119_frames032262\n",
      "rgb logits...\n",
      "flow logits...\n",
      "===== Final predictions ====\n",
      "label: other_action\n",
      "logits proba class\n",
      "99.99% other_action\n",
      "1473 52 10 ./data/images_new/test/5_20181119_frames032262\n"
     ]
    },
    {
     "name": "stderr",
     "output_type": "stream",
     "text": [
      " 95%|█████████▌| 1476/1552 [05:00<00:10,  7.26it/s]"
     ]
    },
    {
     "name": "stdout",
     "output_type": "stream",
     "text": [
      "rgb logits...\n",
      "flow logits...\n",
      "===== Final predictions ====\n",
      "label: other_action\n",
      "logits proba class\n",
      "100.00% other_action\n",
      "1474 52 11 ./data/images_new/test/5_20181119_frames032262\n",
      "rgb logits...\n",
      "flow logits...\n",
      "===== Final predictions ====\n",
      "label: other_action\n",
      "logits proba class\n",
      "100.00% other_action\n",
      "1475 52 12 ./data/images_new/test/5_20181119_frames032262\n"
     ]
    },
    {
     "name": "stderr",
     "output_type": "stream",
     "text": [
      " 95%|█████████▌| 1478/1552 [05:01<00:10,  7.08it/s]"
     ]
    },
    {
     "name": "stdout",
     "output_type": "stream",
     "text": [
      "rgb logits...\n",
      "flow logits...\n",
      "===== Final predictions ====\n",
      "label: other_action\n",
      "logits proba class\n",
      "99.97% other_action\n",
      "1476 52 13 ./data/images_new/test/5_20181119_frames032262\n",
      "rgb logits...\n",
      "flow logits...\n",
      "===== Final predictions ====\n",
      "label: other_action\n",
      "logits proba class\n",
      "100.00% other_action\n",
      "1477 52 14 ./data/images_new/test/5_20181119_frames032262\n"
     ]
    },
    {
     "name": "stderr",
     "output_type": "stream",
     "text": [
      " 95%|█████████▌| 1480/1552 [05:01<00:10,  6.97it/s]"
     ]
    },
    {
     "name": "stdout",
     "output_type": "stream",
     "text": [
      "rgb logits...\n",
      "flow logits...\n",
      "===== Final predictions ====\n",
      "label: other_action\n",
      "logits proba class\n",
      "99.74% other_action\n",
      "1478 52 15 ./data/images_new/test/5_20181119_frames032262\n",
      "rgb logits...\n",
      "flow logits...\n",
      "===== Final predictions ====\n",
      "label: other_action\n",
      "logits proba class\n",
      "99.62% other_action\n",
      "1479 52 16 ./data/images_new/test/5_20181119_frames032262\n",
      "[RGB] Filling cache for index 53\n"
     ]
    },
    {
     "name": "stderr",
     "output_type": "stream",
     "text": [
      "\r",
      " 95%|█████████▌| 1481/1552 [05:02<00:28,  2.46it/s]"
     ]
    },
    {
     "name": "stdout",
     "output_type": "stream",
     "text": [
      "[Flow] Filling cache for index 53\n",
      "rgb logits...\n",
      "flow logits...\n",
      "===== Final predictions ====\n",
      "label: other_action\n",
      "logits proba class\n",
      "99.41% other_action\n",
      "1480 53 0 ./data/images_new/test/5_20181119_frames033742\n"
     ]
    },
    {
     "name": "stderr",
     "output_type": "stream",
     "text": [
      "\r",
      " 95%|█████████▌| 1482/1552 [05:02<00:23,  2.94it/s]"
     ]
    },
    {
     "name": "stdout",
     "output_type": "stream",
     "text": [
      "rgb logits...\n",
      "flow logits...\n",
      "===== Final predictions ====\n",
      "label: rubbing_hands\n",
      "logits proba class\n",
      "48.92% touching_equipment\n",
      "1481 53 0 ./data/images_new/test/5_20181119_frames033742\n",
      "[RGB] Filling cache for index 54\n",
      "[Flow] Filling cache for index 54\n",
      "rgb logits...\n",
      "flow logits...\n"
     ]
    },
    {
     "name": "stderr",
     "output_type": "stream",
     "text": [
      " 96%|█████████▌| 1484/1552 [05:03<00:26,  2.60it/s]"
     ]
    },
    {
     "name": "stdout",
     "output_type": "stream",
     "text": [
      "===== Final predictions ====\n",
      "label: touching_equipment\n",
      "logits proba class\n",
      "100.00% touching_equipment\n",
      "1482 54 0 ./data/images_new/test/5_20181119_frames034556\n",
      "rgb logits...\n",
      "flow logits...\n",
      "===== Final predictions ====\n",
      "label: other_action\n",
      "logits proba class\n",
      "99.97% rubbing_hands\n",
      "1483 54 0 ./data/images_new/test/5_20181119_frames034556\n"
     ]
    },
    {
     "name": "stderr",
     "output_type": "stream",
     "text": [
      "\r",
      " 96%|█████████▌| 1485/1552 [05:03<00:21,  3.15it/s]"
     ]
    },
    {
     "name": "stdout",
     "output_type": "stream",
     "text": [
      "rgb logits...\n",
      "flow logits...\n",
      "===== Final predictions ====\n",
      "label: other_action\n",
      "logits proba class\n",
      "99.61% other_action\n",
      "1484 54 0 ./data/images_new/test/5_20181119_frames034556\n",
      "[RGB] Filling cache for index 55\n",
      "[Flow] Filling cache for index 55\n",
      "rgb logits...\n",
      "flow logits...\n"
     ]
    },
    {
     "name": "stderr",
     "output_type": "stream",
     "text": [
      " 96%|█████████▌| 1487/1552 [05:05<00:30,  2.16it/s]"
     ]
    },
    {
     "name": "stdout",
     "output_type": "stream",
     "text": [
      "===== Final predictions ====\n",
      "label: other_action\n",
      "logits proba class\n",
      "93.82% touching_equipment\n",
      "1485 55 0 ./data/images_new/test/5_20181119_frames034572\n",
      "rgb logits...\n",
      "flow logits...\n",
      "===== Final predictions ====\n",
      "label: other_action\n",
      "logits proba class\n",
      "84.38% touching_equipment\n",
      "1486 55 1 ./data/images_new/test/5_20181119_frames034572\n"
     ]
    },
    {
     "name": "stderr",
     "output_type": "stream",
     "text": [
      "\r",
      " 96%|█████████▌| 1488/1552 [05:05<00:24,  2.60it/s]"
     ]
    },
    {
     "name": "stdout",
     "output_type": "stream",
     "text": [
      "rgb logits...\n",
      "flow logits...\n",
      "===== Final predictions ====\n",
      "label: other_action\n",
      "logits proba class\n",
      "87.95% touching_equipment\n",
      "1487 55 2 ./data/images_new/test/5_20181119_frames034572\n",
      "rgb logits...\n"
     ]
    },
    {
     "name": "stderr",
     "output_type": "stream",
     "text": [
      " 96%|█████████▌| 1490/1552 [05:05<00:16,  3.70it/s]"
     ]
    },
    {
     "name": "stdout",
     "output_type": "stream",
     "text": [
      "flow logits...\n",
      "===== Final predictions ====\n",
      "label: other_action\n",
      "logits proba class\n",
      "99.81% other_action\n",
      "1488 55 0 ./data/images_new/test/5_20181119_frames034572\n",
      "rgb logits...\n",
      "flow logits...\n",
      "===== Final predictions ====\n",
      "label: other_action\n",
      "logits proba class\n",
      "97.89% other_action\n",
      "1489 55 1 ./data/images_new/test/5_20181119_frames034572\n"
     ]
    },
    {
     "name": "stderr",
     "output_type": "stream",
     "text": [
      " 96%|█████████▌| 1492/1552 [05:05<00:11,  5.06it/s]"
     ]
    },
    {
     "name": "stdout",
     "output_type": "stream",
     "text": [
      "rgb logits...\n",
      "flow logits...\n",
      "===== Final predictions ====\n",
      "label: other_action\n",
      "logits proba class\n",
      "99.88% other_action\n",
      "1490 55 2 ./data/images_new/test/5_20181119_frames034572\n",
      "rgb logits...\n",
      "flow logits...\n",
      "===== Final predictions ====\n",
      "label: touching_equipment\n",
      "logits proba class\n",
      "99.96% touching_equipment\n",
      "1491 55 0 ./data/images_new/test/5_20181119_frames034572\n"
     ]
    },
    {
     "name": "stderr",
     "output_type": "stream",
     "text": [
      " 96%|█████████▋| 1494/1552 [05:06<00:09,  6.23it/s]"
     ]
    },
    {
     "name": "stdout",
     "output_type": "stream",
     "text": [
      "rgb logits...\n",
      "flow logits...\n",
      "===== Final predictions ====\n",
      "label: touching_equipment\n",
      "logits proba class\n",
      "99.22% touching_equipment\n",
      "1492 55 1 ./data/images_new/test/5_20181119_frames034572\n",
      "rgb logits...\n",
      "flow logits...\n",
      "===== Final predictions ====\n",
      "label: touching_equipment\n",
      "logits proba class\n",
      "99.83% touching_equipment\n",
      "1493 55 2 ./data/images_new/test/5_20181119_frames034572\n"
     ]
    },
    {
     "name": "stderr",
     "output_type": "stream",
     "text": [
      " 96%|█████████▋| 1496/1552 [05:06<00:07,  7.02it/s]"
     ]
    },
    {
     "name": "stdout",
     "output_type": "stream",
     "text": [
      "rgb logits...\n",
      "flow logits...\n",
      "===== Final predictions ====\n",
      "label: touching_equipment\n",
      "logits proba class\n",
      "99.70% touching_equipment\n",
      "1494 55 3 ./data/images_new/test/5_20181119_frames034572\n",
      "rgb logits...\n",
      "flow logits...\n",
      "===== Final predictions ====\n",
      "label: touching_equipment\n",
      "logits proba class\n",
      "99.98% touching_equipment\n",
      "1495 55 4 ./data/images_new/test/5_20181119_frames034572\n"
     ]
    },
    {
     "name": "stderr",
     "output_type": "stream",
     "text": [
      " 97%|█████████▋| 1498/1552 [05:06<00:07,  7.50it/s]"
     ]
    },
    {
     "name": "stdout",
     "output_type": "stream",
     "text": [
      "rgb logits...\n",
      "flow logits...\n",
      "===== Final predictions ====\n",
      "label: touching_equipment\n",
      "logits proba class\n",
      "100.00% touching_equipment\n",
      "1496 55 5 ./data/images_new/test/5_20181119_frames034572\n",
      "rgb logits...\n",
      "flow logits...\n",
      "===== Final predictions ====\n",
      "label: touching_equipment\n",
      "logits proba class\n",
      "99.99% touching_equipment\n",
      "1497 55 6 ./data/images_new/test/5_20181119_frames034572\n"
     ]
    },
    {
     "name": "stderr",
     "output_type": "stream",
     "text": [
      " 97%|█████████▋| 1500/1552 [05:06<00:06,  7.77it/s]"
     ]
    },
    {
     "name": "stdout",
     "output_type": "stream",
     "text": [
      "rgb logits...\n",
      "flow logits...\n",
      "===== Final predictions ====\n",
      "label: touching_equipment\n",
      "logits proba class\n",
      "99.96% touching_equipment\n",
      "1498 55 7 ./data/images_new/test/5_20181119_frames034572\n",
      "rgb logits...\n",
      "flow logits...\n",
      "===== Final predictions ====\n",
      "label: touching_equipment\n",
      "logits proba class\n",
      "99.93% touching_equipment\n",
      "1499 55 8 ./data/images_new/test/5_20181119_frames034572\n",
      "[RGB] Filling cache for index 56\n",
      "[Flow] Filling cache for index 56\n",
      "rgb logits...\n",
      "flow logits...\n"
     ]
    },
    {
     "name": "stderr",
     "output_type": "stream",
     "text": [
      " 97%|█████████▋| 1502/1552 [05:10<00:38,  1.30it/s]"
     ]
    },
    {
     "name": "stdout",
     "output_type": "stream",
     "text": [
      "===== Final predictions ====\n",
      "label: touching_equipment\n",
      "logits proba class\n",
      "65.41% touching_equipment\n",
      "1500 56 0 ./data/images_new/test/5_20181119_frames093945\n",
      "rgb logits...\n",
      "flow logits...\n",
      "===== Final predictions ====\n",
      "label: touching_equipment\n",
      "logits proba class\n",
      "94.58% touching_equipment\n",
      "1501 56 1 ./data/images_new/test/5_20181119_frames093945\n"
     ]
    },
    {
     "name": "stderr",
     "output_type": "stream",
     "text": [
      "\r",
      " 97%|█████████▋| 1503/1552 [05:10<00:28,  1.70it/s]"
     ]
    },
    {
     "name": "stdout",
     "output_type": "stream",
     "text": [
      "rgb logits...\n",
      "flow logits...\n",
      "===== Final predictions ====\n",
      "label: touching_equipment\n",
      "logits proba class\n",
      "65.91% touching_equipment\n",
      "1502 56 2 ./data/images_new/test/5_20181119_frames093945\n",
      "rgb logits...\n",
      "flow logits...\n"
     ]
    },
    {
     "name": "stderr",
     "output_type": "stream",
     "text": [
      " 97%|█████████▋| 1505/1552 [05:10<00:17,  2.74it/s]"
     ]
    },
    {
     "name": "stdout",
     "output_type": "stream",
     "text": [
      "===== Final predictions ====\n",
      "label: touching_equipment\n",
      "logits proba class\n",
      "99.60% touching_equipment\n",
      "1503 56 3 ./data/images_new/test/5_20181119_frames093945\n",
      "rgb logits...\n",
      "flow logits...\n",
      "===== Final predictions ====\n",
      "label: touching_equipment\n",
      "logits proba class\n",
      "72.22% touching_equipment\n",
      "1504 56 4 ./data/images_new/test/5_20181119_frames093945\n"
     ]
    },
    {
     "name": "stderr",
     "output_type": "stream",
     "text": [
      " 97%|█████████▋| 1507/1552 [05:10<00:11,  4.03it/s]"
     ]
    },
    {
     "name": "stdout",
     "output_type": "stream",
     "text": [
      "rgb logits...\n",
      "flow logits...\n",
      "===== Final predictions ====\n",
      "label: touching_equipment\n",
      "logits proba class\n",
      "99.88% touching_equipment\n",
      "1505 56 5 ./data/images_new/test/5_20181119_frames093945\n",
      "rgb logits...\n",
      "flow logits...\n",
      "===== Final predictions ====\n",
      "label: touching_equipment\n",
      "logits proba class\n",
      "99.59% touching_equipment\n",
      "1506 56 6 ./data/images_new/test/5_20181119_frames093945\n"
     ]
    },
    {
     "name": "stderr",
     "output_type": "stream",
     "text": [
      " 97%|█████████▋| 1509/1552 [05:11<00:08,  5.25it/s]"
     ]
    },
    {
     "name": "stdout",
     "output_type": "stream",
     "text": [
      "rgb logits...\n",
      "flow logits...\n",
      "===== Final predictions ====\n",
      "label: touching_equipment\n",
      "logits proba class\n",
      "99.98% touching_equipment\n",
      "1507 56 7 ./data/images_new/test/5_20181119_frames093945\n",
      "rgb logits...\n",
      "flow logits...\n",
      "===== Final predictions ====\n",
      "label: touching_equipment\n",
      "logits proba class\n",
      "99.90% touching_equipment\n",
      "1508 56 8 ./data/images_new/test/5_20181119_frames093945\n"
     ]
    },
    {
     "name": "stderr",
     "output_type": "stream",
     "text": [
      " 97%|█████████▋| 1511/1552 [05:11<00:06,  6.12it/s]"
     ]
    },
    {
     "name": "stdout",
     "output_type": "stream",
     "text": [
      "rgb logits...\n",
      "flow logits...\n",
      "===== Final predictions ====\n",
      "label: touching_equipment\n",
      "logits proba class\n",
      "99.94% touching_equipment\n",
      "1509 56 9 ./data/images_new/test/5_20181119_frames093945\n",
      "rgb logits...\n",
      "flow logits...\n",
      "===== Final predictions ====\n",
      "label: touching_equipment\n",
      "logits proba class\n",
      "99.98% touching_equipment\n",
      "1510 56 10 ./data/images_new/test/5_20181119_frames093945\n"
     ]
    },
    {
     "name": "stderr",
     "output_type": "stream",
     "text": [
      " 97%|█████████▋| 1513/1552 [05:11<00:05,  6.69it/s]"
     ]
    },
    {
     "name": "stdout",
     "output_type": "stream",
     "text": [
      "rgb logits...\n",
      "flow logits...\n",
      "===== Final predictions ====\n",
      "label: touching_equipment\n",
      "logits proba class\n",
      "99.94% touching_equipment\n",
      "1511 56 11 ./data/images_new/test/5_20181119_frames093945\n",
      "rgb logits...\n",
      "flow logits...\n",
      "===== Final predictions ====\n",
      "label: touching_equipment\n",
      "logits proba class\n",
      "99.88% touching_equipment\n",
      "1512 56 12 ./data/images_new/test/5_20181119_frames093945\n"
     ]
    },
    {
     "name": "stderr",
     "output_type": "stream",
     "text": [
      " 98%|█████████▊| 1515/1552 [05:11<00:05,  7.02it/s]"
     ]
    },
    {
     "name": "stdout",
     "output_type": "stream",
     "text": [
      "rgb logits...\n",
      "flow logits...\n",
      "===== Final predictions ====\n",
      "label: touching_equipment\n",
      "logits proba class\n",
      "99.95% touching_equipment\n",
      "1513 56 13 ./data/images_new/test/5_20181119_frames093945\n",
      "rgb logits...\n",
      "flow logits...\n",
      "===== Final predictions ====\n",
      "label: touching_equipment\n",
      "logits proba class\n",
      "100.00% touching_equipment\n",
      "1514 56 14 ./data/images_new/test/5_20181119_frames093945\n"
     ]
    },
    {
     "name": "stderr",
     "output_type": "stream",
     "text": [
      " 98%|█████████▊| 1517/1552 [05:12<00:04,  7.18it/s]"
     ]
    },
    {
     "name": "stdout",
     "output_type": "stream",
     "text": [
      "rgb logits...\n",
      "flow logits...\n",
      "===== Final predictions ====\n",
      "label: touching_equipment\n",
      "logits proba class\n",
      "99.98% touching_equipment\n",
      "1515 56 15 ./data/images_new/test/5_20181119_frames093945\n",
      "rgb logits...\n",
      "flow logits...\n",
      "===== Final predictions ====\n",
      "label: touching_equipment\n",
      "logits proba class\n",
      "99.94% touching_equipment\n",
      "1516 56 16 ./data/images_new/test/5_20181119_frames093945\n"
     ]
    },
    {
     "name": "stderr",
     "output_type": "stream",
     "text": [
      " 98%|█████████▊| 1519/1552 [05:12<00:04,  7.29it/s]"
     ]
    },
    {
     "name": "stdout",
     "output_type": "stream",
     "text": [
      "rgb logits...\n",
      "flow logits...\n",
      "===== Final predictions ====\n",
      "label: touching_equipment\n",
      "logits proba class\n",
      "99.27% touching_equipment\n",
      "1517 56 17 ./data/images_new/test/5_20181119_frames093945\n",
      "rgb logits...\n",
      "flow logits...\n",
      "===== Final predictions ====\n",
      "label: touching_equipment\n",
      "logits proba class\n",
      "99.99% touching_equipment\n",
      "1518 56 18 ./data/images_new/test/5_20181119_frames093945\n"
     ]
    },
    {
     "name": "stderr",
     "output_type": "stream",
     "text": [
      " 98%|█████████▊| 1521/1552 [05:12<00:04,  7.32it/s]"
     ]
    },
    {
     "name": "stdout",
     "output_type": "stream",
     "text": [
      "rgb logits...\n",
      "flow logits...\n",
      "===== Final predictions ====\n",
      "label: touching_equipment\n",
      "logits proba class\n",
      "99.85% touching_equipment\n",
      "1519 56 19 ./data/images_new/test/5_20181119_frames093945\n",
      "rgb logits...\n",
      "flow logits...\n",
      "===== Final predictions ====\n",
      "label: touching_equipment\n",
      "logits proba class\n",
      "99.97% touching_equipment\n",
      "1520 56 20 ./data/images_new/test/5_20181119_frames093945\n"
     ]
    },
    {
     "name": "stderr",
     "output_type": "stream",
     "text": [
      " 98%|█████████▊| 1523/1552 [05:12<00:03,  7.35it/s]"
     ]
    },
    {
     "name": "stdout",
     "output_type": "stream",
     "text": [
      "rgb logits...\n",
      "flow logits...\n",
      "===== Final predictions ====\n",
      "label: touching_equipment\n",
      "logits proba class\n",
      "99.87% touching_equipment\n",
      "1521 56 21 ./data/images_new/test/5_20181119_frames093945\n",
      "rgb logits...\n",
      "flow logits...\n",
      "===== Final predictions ====\n",
      "label: touching_equipment\n",
      "logits proba class\n",
      "99.97% touching_equipment\n",
      "1522 56 22 ./data/images_new/test/5_20181119_frames093945\n"
     ]
    },
    {
     "name": "stderr",
     "output_type": "stream",
     "text": [
      " 98%|█████████▊| 1525/1552 [05:13<00:03,  7.37it/s]"
     ]
    },
    {
     "name": "stdout",
     "output_type": "stream",
     "text": [
      "rgb logits...\n",
      "flow logits...\n",
      "===== Final predictions ====\n",
      "label: touching_equipment\n",
      "logits proba class\n",
      "99.79% touching_equipment\n",
      "1523 56 23 ./data/images_new/test/5_20181119_frames093945\n",
      "rgb logits...\n",
      "flow logits...\n",
      "===== Final predictions ====\n",
      "label: touching_equipment\n",
      "logits proba class\n",
      "99.85% touching_equipment\n",
      "1524 56 24 ./data/images_new/test/5_20181119_frames093945\n"
     ]
    },
    {
     "name": "stderr",
     "output_type": "stream",
     "text": [
      " 98%|█████████▊| 1527/1552 [05:13<00:03,  7.38it/s]"
     ]
    },
    {
     "name": "stdout",
     "output_type": "stream",
     "text": [
      "rgb logits...\n",
      "flow logits...\n",
      "===== Final predictions ====\n",
      "label: touching_equipment\n",
      "logits proba class\n",
      "96.84% touching_equipment\n",
      "1525 56 25 ./data/images_new/test/5_20181119_frames093945\n",
      "rgb logits...\n",
      "flow logits...\n",
      "===== Final predictions ====\n",
      "label: touching_equipment\n",
      "logits proba class\n",
      "99.13% touching_equipment\n",
      "1526 56 26 ./data/images_new/test/5_20181119_frames093945\n"
     ]
    },
    {
     "name": "stderr",
     "output_type": "stream",
     "text": [
      "\r",
      " 98%|█████████▊| 1528/1552 [05:13<00:03,  6.60it/s]"
     ]
    },
    {
     "name": "stdout",
     "output_type": "stream",
     "text": [
      "rgb logits...\n",
      "flow logits...\n",
      "===== Final predictions ====\n",
      "label: touching_equipment\n",
      "logits proba class\n",
      "97.55% touching_equipment\n",
      "1527 56 27 ./data/images_new/test/5_20181119_frames093945\n",
      "rgb logits...\n",
      "flow logits...\n"
     ]
    },
    {
     "name": "stderr",
     "output_type": "stream",
     "text": [
      " 99%|█████████▊| 1530/1552 [05:14<00:03,  6.26it/s]"
     ]
    },
    {
     "name": "stdout",
     "output_type": "stream",
     "text": [
      "===== Final predictions ====\n",
      "label: touching_equipment\n",
      "logits proba class\n",
      "99.92% touching_equipment\n",
      "1528 56 28 ./data/images_new/test/5_20181119_frames093945\n",
      "rgb logits...\n",
      "flow logits...\n",
      "===== Final predictions ====\n",
      "label: touching_equipment\n",
      "logits proba class\n",
      "99.94% touching_equipment\n",
      "1529 56 29 ./data/images_new/test/5_20181119_frames093945\n"
     ]
    },
    {
     "name": "stderr",
     "output_type": "stream",
     "text": [
      "\r",
      " 99%|█████████▊| 1531/1552 [05:14<00:03,  6.18it/s]"
     ]
    },
    {
     "name": "stdout",
     "output_type": "stream",
     "text": [
      "rgb logits...\n",
      "flow logits...\n",
      "===== Final predictions ====\n",
      "label: touching_equipment\n",
      "logits proba class\n",
      "99.55% touching_equipment\n",
      "1530 56 30 ./data/images_new/test/5_20181119_frames093945\n",
      "rgb logits...\n",
      "flow logits...\n"
     ]
    },
    {
     "name": "stderr",
     "output_type": "stream",
     "text": [
      " 99%|█████████▉| 1533/1552 [05:14<00:02,  6.38it/s]"
     ]
    },
    {
     "name": "stdout",
     "output_type": "stream",
     "text": [
      "===== Final predictions ====\n",
      "label: touching_equipment\n",
      "logits proba class\n",
      "99.90% touching_equipment\n",
      "1531 56 31 ./data/images_new/test/5_20181119_frames093945\n",
      "rgb logits...\n",
      "flow logits...\n",
      "===== Final predictions ====\n",
      "label: touching_equipment\n",
      "logits proba class\n",
      "99.87% touching_equipment\n",
      "1532 56 32 ./data/images_new/test/5_20181119_frames093945\n"
     ]
    },
    {
     "name": "stderr",
     "output_type": "stream",
     "text": [
      " 99%|█████████▉| 1535/1552 [05:14<00:02,  6.69it/s]"
     ]
    },
    {
     "name": "stdout",
     "output_type": "stream",
     "text": [
      "rgb logits...\n",
      "flow logits...\n",
      "===== Final predictions ====\n",
      "label: touching_equipment\n",
      "logits proba class\n",
      "99.90% touching_equipment\n",
      "1533 56 33 ./data/images_new/test/5_20181119_frames093945\n",
      "rgb logits...\n",
      "flow logits...\n",
      "===== Final predictions ====\n",
      "label: touching_equipment\n",
      "logits proba class\n",
      "99.90% touching_equipment\n",
      "1534 56 34 ./data/images_new/test/5_20181119_frames093945\n"
     ]
    },
    {
     "name": "stderr",
     "output_type": "stream",
     "text": [
      " 99%|█████████▉| 1537/1552 [05:15<00:02,  6.90it/s]"
     ]
    },
    {
     "name": "stdout",
     "output_type": "stream",
     "text": [
      "rgb logits...\n",
      "flow logits...\n",
      "===== Final predictions ====\n",
      "label: touching_equipment\n",
      "logits proba class\n",
      "99.98% touching_equipment\n",
      "1535 56 35 ./data/images_new/test/5_20181119_frames093945\n",
      "rgb logits...\n",
      "flow logits...\n",
      "===== Final predictions ====\n",
      "label: touching_equipment\n",
      "logits proba class\n",
      "99.73% touching_equipment\n",
      "1536 56 36 ./data/images_new/test/5_20181119_frames093945\n"
     ]
    },
    {
     "name": "stderr",
     "output_type": "stream",
     "text": [
      "\r",
      " 99%|█████████▉| 1538/1552 [05:15<00:02,  6.90it/s]"
     ]
    },
    {
     "name": "stdout",
     "output_type": "stream",
     "text": [
      "rgb logits...\n",
      "flow logits...\n",
      "===== Final predictions ====\n",
      "label: touching_equipment\n",
      "logits proba class\n",
      "99.77% touching_equipment\n",
      "1537 56 37 ./data/images_new/test/5_20181119_frames093945\n",
      "rgb logits...\n",
      "flow logits...\n"
     ]
    },
    {
     "name": "stderr",
     "output_type": "stream",
     "text": [
      " 99%|█████████▉| 1540/1552 [05:15<00:01,  6.80it/s]"
     ]
    },
    {
     "name": "stdout",
     "output_type": "stream",
     "text": [
      "===== Final predictions ====\n",
      "label: touching_equipment\n",
      "logits proba class\n",
      "99.76% touching_equipment\n",
      "1538 56 38 ./data/images_new/test/5_20181119_frames093945\n",
      "rgb logits...\n",
      "flow logits...\n",
      "===== Final predictions ====\n",
      "label: touching_equipment\n",
      "logits proba class\n",
      "99.74% touching_equipment\n",
      "1539 56 39 ./data/images_new/test/5_20181119_frames093945\n"
     ]
    },
    {
     "name": "stderr",
     "output_type": "stream",
     "text": [
      " 99%|█████████▉| 1542/1552 [05:15<00:01,  6.92it/s]"
     ]
    },
    {
     "name": "stdout",
     "output_type": "stream",
     "text": [
      "rgb logits...\n",
      "flow logits...\n",
      "===== Final predictions ====\n",
      "label: touching_equipment\n",
      "logits proba class\n",
      "99.43% touching_equipment\n",
      "1540 56 40 ./data/images_new/test/5_20181119_frames093945\n",
      "rgb logits...\n",
      "flow logits...\n",
      "===== Final predictions ====\n",
      "label: touching_equipment\n",
      "logits proba class\n",
      "99.91% touching_equipment\n",
      "1541 56 41 ./data/images_new/test/5_20181119_frames093945\n"
     ]
    },
    {
     "name": "stderr",
     "output_type": "stream",
     "text": [
      " 99%|█████████▉| 1544/1552 [05:16<00:01,  7.01it/s]"
     ]
    },
    {
     "name": "stdout",
     "output_type": "stream",
     "text": [
      "rgb logits...\n",
      "flow logits...\n",
      "===== Final predictions ====\n",
      "label: touching_equipment\n",
      "logits proba class\n",
      "99.81% touching_equipment\n",
      "1542 56 42 ./data/images_new/test/5_20181119_frames093945\n",
      "rgb logits...\n",
      "flow logits...\n",
      "===== Final predictions ====\n",
      "label: touching_equipment\n",
      "logits proba class\n",
      "99.86% touching_equipment\n",
      "1543 56 43 ./data/images_new/test/5_20181119_frames093945\n"
     ]
    },
    {
     "name": "stderr",
     "output_type": "stream",
     "text": [
      "100%|█████████▉| 1546/1552 [05:16<00:00,  7.06it/s]"
     ]
    },
    {
     "name": "stdout",
     "output_type": "stream",
     "text": [
      "rgb logits...\n",
      "flow logits...\n",
      "===== Final predictions ====\n",
      "label: touching_equipment\n",
      "logits proba class\n",
      "99.92% touching_equipment\n",
      "1544 56 44 ./data/images_new/test/5_20181119_frames093945\n",
      "rgb logits...\n",
      "flow logits...\n",
      "===== Final predictions ====\n",
      "label: touching_equipment\n",
      "logits proba class\n",
      "99.87% touching_equipment\n",
      "1545 56 45 ./data/images_new/test/5_20181119_frames093945\n"
     ]
    },
    {
     "name": "stderr",
     "output_type": "stream",
     "text": [
      "100%|█████████▉| 1548/1552 [05:16<00:00,  7.05it/s]"
     ]
    },
    {
     "name": "stdout",
     "output_type": "stream",
     "text": [
      "rgb logits...\n",
      "flow logits...\n",
      "===== Final predictions ====\n",
      "label: touching_equipment\n",
      "logits proba class\n",
      "99.94% touching_equipment\n",
      "1546 56 46 ./data/images_new/test/5_20181119_frames093945\n",
      "rgb logits...\n",
      "flow logits...\n",
      "===== Final predictions ====\n",
      "label: touching_equipment\n",
      "logits proba class\n",
      "99.63% touching_equipment\n",
      "1547 56 47 ./data/images_new/test/5_20181119_frames093945\n"
     ]
    },
    {
     "name": "stderr",
     "output_type": "stream",
     "text": [
      "100%|█████████▉| 1550/1552 [05:16<00:00,  7.06it/s]"
     ]
    },
    {
     "name": "stdout",
     "output_type": "stream",
     "text": [
      "rgb logits...\n",
      "flow logits...\n",
      "===== Final predictions ====\n",
      "label: touching_equipment\n",
      "logits proba class\n",
      "99.97% touching_equipment\n",
      "1548 56 48 ./data/images_new/test/5_20181119_frames093945\n",
      "rgb logits...\n",
      "flow logits...\n",
      "===== Final predictions ====\n",
      "label: touching_equipment\n",
      "logits proba class\n",
      "99.09% touching_equipment\n",
      "1549 56 49 ./data/images_new/test/5_20181119_frames093945\n"
     ]
    },
    {
     "name": "stderr",
     "output_type": "stream",
     "text": [
      "100%|██████████| 1552/1552 [05:17<00:00,  4.89it/s]"
     ]
    },
    {
     "name": "stdout",
     "output_type": "stream",
     "text": [
      "rgb logits...\n",
      "flow logits...\n",
      "===== Final predictions ====\n",
      "label: touching_equipment\n",
      "logits proba class\n",
      "99.79% touching_equipment\n",
      "1550 56 50 ./data/images_new/test/5_20181119_frames093945\n",
      "rgb logits...\n",
      "flow logits...\n",
      "===== Final predictions ====\n",
      "label: touching_equipment\n",
      "logits proba class\n",
      "99.61% touching_equipment\n",
      "1551 56 51 ./data/images_new/test/5_20181119_frames093945\n"
     ]
    },
    {
     "name": "stderr",
     "output_type": "stream",
     "text": [
      "\n"
     ]
    }
   ],
   "source": [
    "for phase in ['test']:\n",
    "    corrects = 0\n",
    "    for i in tqdm(range(dataset[phase].__len__())):\n",
    "        item = dataset[phase].__getitem__(i)\n",
    "        #vidx, cidx = dataset[phase].video_clips.get_clip_location(i)\n",
    "        (vidx, idx, person_idx, cidx, label), video_c = dataset[phase].video_clips.get_clip_location(i)\n",
    "#         c_cidx = _get_center_clip(vidx)\n",
    "#         if cidx != c_cidx:\n",
    "#             continue\n",
    "        path = dataset[phase].samples[vidx][0]\n",
    "        #show_dataset(item)\n",
    "        corrects = run_demo(item, path, corrects)\n",
    "        video_path = dataset[phase].video_clips.video_paths[vidx]\n",
    "        print(i, vidx, cidx, video_path)"
   ]
  },
  {
   "cell_type": "code",
   "execution_count": 19,
   "metadata": {},
   "outputs": [
    {
     "name": "stdout",
     "output_type": "stream",
     "text": [
      "[Joint] Accuracy: 0.75\n"
     ]
    }
   ],
   "source": [
    "print(\"[Joint] Accuracy: {}\".format(corrects/dataset[phase].video_clips.num_clips()))"
   ]
  },
  {
   "cell_type": "code",
   "execution_count": 9,
   "metadata": {
    "scrolled": true
   },
   "outputs": [],
   "source": [
    "import matplotlib.pyplot as plt\n",
    "%matplotlib inline\n",
    "def show_dataset(item): # item: C x D x 244 x 244\n",
    "    rgbs = item[0].transpose(0, 1)\n",
    "    flows = item[1].transpose(0, 1)\n",
    "    n = len(rgbs)\n",
    "    shape = np.asarray(flows[0]).shape\n",
    "    rgb = np.hstack((np.asarray(rgb).transpose(1, 2, 0)+1)/2 for rgb in rgbs)\n",
    "    tmp = np.zeros((shape[1], shape[2], 1))\n",
    "    flow = np.hstack((np.dstack((np.asarray(flow).transpose(1, 2, 0), tmp))+1)/2 for flow in flows)\n",
    "\n",
    "    img = np.vstack((rgb, flow))\n",
    "    plt.figure(figsize=(50, 10))\n",
    "    plt.imshow(img)\n",
    "    plt.axis('off')\n",
    "    plt.show()\n",
    "    #print('CLEAN' if item[2].item() == 0 else 'NOTCLEAN')\n",
    "    \n",
    "# i=100\n",
    "# phase='test'\n",
    "# show_dataset(dataset[phase][i])\n",
    "# vidx, cidx = dataset[phase].video_clips.get_clip_location(i)\n",
    "# video_path = dataset[phase].video_clips.video_paths[vidx]\n",
    "# print(vidx, cidx, video_path)"
   ]
  },
  {
   "cell_type": "markdown",
   "metadata": {},
   "source": [
    "# Confusion Matrix"
   ]
  },
  {
   "cell_type": "code",
   "execution_count": 20,
   "metadata": {},
   "outputs": [],
   "source": [
    "import matplotlib.pyplot as plt\n",
    "from sklearn.utils.multiclass import unique_labels\n",
    "\n",
    "\n",
    "def plot_confusion_matrix(y_true, y_pred, classes,\n",
    "                          normalize=False,\n",
    "                          title=None,\n",
    "                          cmap=plt.cm.Blues):\n",
    "    \"\"\"\n",
    "    This function prints and plots the confusion matrix.\n",
    "    Normalization can be applied by setting `normalize=True`.\n",
    "    \"\"\"\n",
    "    if not title:\n",
    "        if normalize:\n",
    "            title = 'Normalized confusion matrix'\n",
    "        else:\n",
    "            title = 'Confusion matrix, without normalization'\n",
    "\n",
    "    # Compute confusion matrix\n",
    "    y_pred_class = [torch.round(p) for p in y_pred]\n",
    "    cm = confusion_matrix(y_true, y_pred_class)\n",
    "    # Only use the labels that appear in the data\n",
    "    #classes = classes[unique_labels(y_true, y_pred)]\n",
    "    unique_labels([y.item() for y in y_test], [y.item() for y in y_pred_class])\n",
    "    if normalize:\n",
    "        cm = cm.astype('float') / cm.sum(axis=1)[:, np.newaxis]\n",
    "        print(\"Normalized confusion matrix\")\n",
    "    else:\n",
    "        print('Confusion matrix, without normalization')\n",
    "\n",
    "    print(cm)\n",
    "\n",
    "    fig, ax = plt.subplots()\n",
    "    im = ax.imshow(cm, interpolation='nearest', cmap=cmap)\n",
    "    ax.figure.colorbar(im, ax=ax)\n",
    "    # We want to show all ticks...\n",
    "    ax.set(xticks=np.arange(cm.shape[1]),\n",
    "           yticks=np.arange(cm.shape[0]),\n",
    "           # ... and label them with the respective list entries\n",
    "           xticklabels=classes, yticklabels=classes,\n",
    "           title=title,\n",
    "           ylabel='True label',\n",
    "           xlabel='Predicted label')\n",
    "\n",
    "    # Rotate the tick labels and set their alignment.\n",
    "    plt.setp(ax.get_xticklabels(), rotation=45, ha=\"right\",\n",
    "             rotation_mode=\"anchor\")\n",
    "\n",
    "    # Loop over data dimensions and create text annotations.\n",
    "    fmt = '.2f' if normalize else 'd'\n",
    "    thresh = cm.max() / 2.\n",
    "    for i in range(cm.shape[0]):\n",
    "        for j in range(cm.shape[1]):\n",
    "            ax.text(j, i, format(cm[i, j], fmt),\n",
    "                    ha=\"center\", va=\"center\",\n",
    "                    color=\"white\" if cm[i, j] > thresh else \"black\")\n",
    "    fig.tight_layout()\n",
    "    return ax"
   ]
  },
  {
   "cell_type": "code",
   "execution_count": 21,
   "metadata": {},
   "outputs": [],
   "source": [
    "import matplotlib.pyplot as plt\n",
    "from sklearn.utils.multiclass import unique_labels\n",
    "\n",
    "\n",
    "def plot_confusion_matrix(y_true, y_pred, classes,\n",
    "                          normalize=False,\n",
    "                          title=None,\n",
    "                          cmap=plt.cm.Blues):\n",
    "    \"\"\"\n",
    "    This function prints and plots the confusion matrix.\n",
    "    Normalization can be applied by setting `normalize=True`.\n",
    "    \"\"\"\n",
    "    if not title:\n",
    "        if normalize:\n",
    "            title = 'Normalized confusion matrix'\n",
    "        else:\n",
    "            title = 'Confusion matrix, without normalization'\n",
    "\n",
    "    # Compute confusion matrix\n",
    "#     y_pred_class = [torch.round(p) for p in y_pred]\n",
    "    cm = confusion_matrix(y_true, y_pred)\n",
    "    # Only use the labels that appear in the data\n",
    "    #classes = classes[unique_labels(y_true, y_pred)]\n",
    "    unique_labels([y.item() for y in y_test], [y.item() for y in y_pred])\n",
    "    if normalize:\n",
    "        cm = cm.astype('float') / cm.sum(axis=1)[:, np.newaxis]\n",
    "        print(\"Normalized confusion matrix\")\n",
    "    else:\n",
    "        print('Confusion matrix, without normalization')\n",
    "\n",
    "    print(cm)\n",
    "\n",
    "    fig, ax = plt.subplots()#figsize=(15,15))\n",
    "    im = ax.imshow(cm, interpolation='nearest', cmap=cmap)\n",
    "    ax.figure.colorbar(im, ax=ax)\n",
    "    # We want to show all ticks...\n",
    "    ax.set(xticks=np.arange(cm.shape[1]),\n",
    "           yticks=np.arange(cm.shape[0]),\n",
    "           # ... and label them with the respective list entries\n",
    "           xticklabels=classes, yticklabels=classes,\n",
    "           title=title,\n",
    "           ylabel='True label',\n",
    "           xlabel='Predicted label')\n",
    "\n",
    "    # Rotate the tick labels and set their alignment.\n",
    "    plt.setp(ax.get_xticklabels(), rotation=45, ha=\"right\",\n",
    "             rotation_mode=\"anchor\")\n",
    "\n",
    "    # Loop over data dimensions and create text annotations.\n",
    "    fmt = '.2f' if normalize else 'd'\n",
    "    thresh = cm.max() / 2.\n",
    "    for i in range(cm.shape[0]):\n",
    "        for j in range(cm.shape[1]):\n",
    "            ax.text(j, i, format(cm[i, j], fmt),\n",
    "                    ha=\"center\", va=\"center\",\n",
    "                    color=\"white\" if cm[i, j] > thresh else \"black\")\n",
    "    fig.tight_layout()\n",
    "    return ax"
   ]
  },
  {
   "cell_type": "code",
   "execution_count": 22,
   "metadata": {},
   "outputs": [
    {
     "name": "stdout",
     "output_type": "stream",
     "text": [
      "Confusion matrix, without normalization\n",
      "[[391  49  77]\n",
      " [  7 354 126]\n",
      " [ 66  63 419]]\n",
      "Normalized confusion matrix\n",
      "[[0.756 0.095 0.149]\n",
      " [0.014 0.727 0.259]\n",
      " [0.12  0.115 0.765]]\n"
     ]
    },
    {
     "data": {
      "image/png": "[encoded data removed]",
      "text/plain": [
       "<Figure size 432x288 with 2 Axes>"
      ]
     },
     "metadata": {
      "needs_background": "light"
     },
     "output_type": "display_data"
    },
    {
     "data": {
      "image/png": "[encoded data removed]",
      "text/plain": [
       "<Figure size 432x288 with 2 Axes>"
      ]
     },
     "metadata": {
      "needs_background": "light"
     },
     "output_type": "display_data"
    }
   ],
   "source": [
    "class_names = dataset['test'].classes\n",
    "np.set_printoptions(precision=len(class_names))\n",
    "# Plot non-normalized confusion matrix\n",
    "plot_confusion_matrix(y_test, y_pred, classes=class_names,\n",
    "                      title='Confusion matrix, without normalization')\n",
    "\n",
    "# Plot normalized confusion matrix\n",
    "plot_confusion_matrix(y_test, y_pred, classes=class_names, normalize=True,\n",
    "                      title='Normalized confusion matrix')\n",
    "\n",
    "plt.show()"
   ]
  },
  {
   "cell_type": "code",
   "execution_count": 23,
   "metadata": {
    "scrolled": true
   },
   "outputs": [
    {
     "name": "stdout",
     "output_type": "stream",
     "text": [
      "Confusion matrix, without normalization\n",
      "[[391  49  77]\n",
      " [  7 354 126]\n",
      " [ 66  63 419]]\n",
      "Normalized confusion matrix\n",
      "[[0.756 0.095 0.149]\n",
      " [0.014 0.727 0.259]\n",
      " [0.12  0.115 0.765]]\n"
     ]
    },
    {
     "data": {
      "image/png": "[encoded data removed]",
      "text/plain": [
       "<Figure size 432x288 with 2 Axes>"
      ]
     },
     "metadata": {
      "needs_background": "light"
     },
     "output_type": "display_data"
    },
    {
     "data": {
      "image/png": "[encoded data removed]",
      "text/plain": [
       "<Figure size 432x288 with 2 Axes>"
      ]
     },
     "metadata": {
      "needs_background": "light"
     },
     "output_type": "display_data"
    }
   ],
   "source": [
    "class_names = dataset['test'].classes\n",
    "np.set_printoptions(precision=len(class_names))\n",
    "# Plot non-normalized confusion matrix\n",
    "plot_confusion_matrix(y_test, y_pred, classes=class_names,\n",
    "                      title='Confusion matrix, without normalization')\n",
    "\n",
    "# Plot normalized confusion matrix\n",
    "plot_confusion_matrix(y_test, y_pred, classes=class_names, normalize=True,\n",
    "                      title='Normalized confusion matrix')\n",
    "\n",
    "plt.show()"
   ]
  },
  {
   "cell_type": "code",
   "execution_count": 24,
   "metadata": {},
   "outputs": [
    {
     "name": "stdout",
     "output_type": "stream",
     "text": [
      "Confusion matrix, without normalization\n",
      "[[379  52  86]\n",
      " [  9 360 118]\n",
      " [ 70  56 422]]\n",
      "Normalized confusion matrix\n",
      "[[0.73 0.1  0.17]\n",
      " [0.02 0.74 0.24]\n",
      " [0.13 0.1  0.77]]\n"
     ]
    },
    {
     "data": {
      "image/png": "[encoded data removed]",
      "text/plain": [
       "<Figure size 432x288 with 2 Axes>"
      ]
     },
     "metadata": {
      "needs_background": "light"
     },
     "output_type": "display_data"
    },
    {
     "data": {
      "image/png": "[encoded data removed]",
      "text/plain": [
       "<Figure size 432x288 with 2 Axes>"
      ]
     },
     "metadata": {
      "needs_background": "light"
     },
     "output_type": "display_data"
    }
   ],
   "source": [
    "class_names = dataset['test'].classes\n",
    "np.set_printoptions(precision=2)\n",
    "plot_confusion_matrix(y_test, y_pred_rgb, classes=class_names,\n",
    "                      title='Confusion matrix, without normalization')\n",
    "\n",
    "# Plot normalized confusion matrix\n",
    "plot_confusion_matrix(y_test, y_pred_rgb, classes=class_names, normalize=True,\n",
    "                      title='Normalized confusion matrix')\n",
    "\n",
    "plt.show()"
   ]
  },
  {
   "cell_type": "code",
   "execution_count": 25,
   "metadata": {},
   "outputs": [
    {
     "name": "stdout",
     "output_type": "stream",
     "text": [
      "Confusion matrix, without normalization\n",
      "[[257 197  63]\n",
      " [ 27 306 154]\n",
      " [145 178 225]]\n",
      "Normalized confusion matrix\n",
      "[[0.5  0.38 0.12]\n",
      " [0.06 0.63 0.32]\n",
      " [0.26 0.32 0.41]]\n"
     ]
    },
    {
     "data": {
      "image/png": "[encoded data removed]",
      "text/plain": [
       "<Figure size 432x288 with 2 Axes>"
      ]
     },
     "metadata": {
      "needs_background": "light"
     },
     "output_type": "display_data"
    },
    {
     "data": {
      "image/png": "[encoded data removed]",
      "text/plain": [
       "<Figure size 432x288 with 2 Axes>"
      ]
     },
     "metadata": {
      "needs_background": "light"
     },
     "output_type": "display_data"
    }
   ],
   "source": [
    "class_names = dataset['test'].classes\n",
    "np.set_printoptions(precision=2)\n",
    "plot_confusion_matrix(y_test, y_pred_flow, classes=class_names,\n",
    "                      title='Confusion matrix, without normalization')\n",
    "\n",
    "# Plot normalized confusion matrix\n",
    "plot_confusion_matrix(y_test, y_pred_flow, classes=class_names, normalize=True,\n",
    "                      title='Normalized confusion matrix')\n",
    "\n",
    "plt.show()"
   ]
  },
  {
   "cell_type": "code",
   "execution_count": 36,
   "metadata": {},
   "outputs": [],
   "source": [
    "num_per_class = dataloaders[phase].dataset._num_clips_per_class()\n",
    "classes = dataloaders[phase].dataset.classes\n",
    "total_num = sum([num_per_class[key] for key in num_per_class])\n",
    "weight_per_class = {cls: 1-(num_per_class[cls]/total_num) for cls in classes}\n",
    "weight_per_class = torch.tensor([weight_per_class[cls] for cls in classes]).to(device)"
   ]
  },
  {
   "cell_type": "code",
   "execution_count": 37,
   "metadata": {},
   "outputs": [
    {
     "data": {
      "text/plain": [
       "tensor([0.6941, 0.6414, 0.6645], device='cuda:0')"
      ]
     },
     "execution_count": 37,
     "metadata": {},
     "output_type": "execute_result"
    }
   ],
   "source": [
    "weight_per_class"
   ]
  },
  {
   "cell_type": "code",
   "execution_count": null,
   "metadata": {},
   "outputs": [],
   "source": []
  }
 ],
 "metadata": {
  "kernelspec": {
   "display_name": "Python 3",
   "language": "python",
   "name": "python3"
  },
  "language_info": {
   "codemirror_mode": {
    "name": "ipython",
    "version": 3
   },
   "file_extension": ".py",
   "mimetype": "text/x-python",
   "name": "python",
   "nbconvert_exporter": "python",
   "pygments_lexer": "ipython3",
   "version": "3.6.9"
  }
 },
 "nbformat": 4,
 "nbformat_minor": 4
}
