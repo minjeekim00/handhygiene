{
 "cells": [
  {
   "cell_type": "code",
   "execution_count": 10,
   "metadata": {},
   "outputs": [],
   "source": [
    "import pandas as pd\n",
    "from glob import glob\n",
    "from tqdm import tqdm\n",
    "import argparse\n",
    "import os, shutil\n",
    "from sklearn.model_selection import train_test_split"
   ]
  },
  {
   "cell_type": "code",
   "execution_count": 11,
   "metadata": {
    "scrolled": true
   },
   "outputs": [],
   "source": [
    "img_path = '/data/public/rw/minjee/handhygiene/images/'\n",
    "excel_path = '/data/public/rw/minjee/handhygiene/hh_video_data.xlsx'\n",
    "csv_path = '/data/public/rw/minjee/handhygiene/handhygiene_label.csv'\n",
    "test_size= 0.1\n",
    "val_size = 0.1\n",
    "\n",
    "df = pd.read_csv(csv_path)"
   ]
  },
  {
   "cell_type": "code",
   "execution_count": 12,
   "metadata": {},
   "outputs": [],
   "source": [
    "def split_train_val_test(vids):\n",
    "    x_train, x_test = train_test_split(vids, test_size=test_size)\n",
    "    x_train, x_val = train_test_split(x_train, test_size=val_size)\n",
    "    for i in [\"train\", \"val\", \"test\"]:\n",
    "        target_dir = os.path.join(img_path, i)\n",
    "        if not os.path.exists(target_dir):\n",
    "            os.mkdir(target_dir)\n",
    "            \n",
    "        if i == \"train\":\n",
    "            target = x_train\n",
    "        elif i == \"val\":\n",
    "            target = x_val\n",
    "        elif i == \"test\":\n",
    "            target = x_test\n",
    "        condition_str = i\n",
    "          \n",
    "        for video_id in tqdm(target):\n",
    "            video_id=video_id\n",
    "            origin_dir = os.path.join(img_path, str(video_id)+'_*')\n",
    "            os.system(\"mv %s %s\" % (origin_dir, target_dir))\n",
    "        \n",
    "        # create empty dataframe\n",
    "        df_new = df[df['video_id'] == 0]\n",
    "        for i in target.values:\n",
    "            add= df[df['video_id'] == i]\n",
    "            df_new = pd.concat([df_new, pd.DataFrame(add)])\n",
    "            \n",
    "        target_path = csv_path.split('.')[-2]\n",
    "        dest = \"%s_%s.csv\" % (target_path, condition_str)\n",
    "        df_new.to_csv(dest, index=False)\n"
   ]
  },
  {
   "cell_type": "code",
   "execution_count": 13,
   "metadata": {},
   "outputs": [
    {
     "name": "stderr",
     "output_type": "stream",
     "text": [
      "\r",
      "  0%|          | 0/4 [00:00<?, ?it/s]"
     ]
    },
    {
     "name": "stdout",
     "output_type": "stream",
     "text": [
      "3131    7\n",
      "2259    5\n",
      "0       1\n",
      "2559    6\n",
      "Name: video_id, dtype: int64 1718    2\n",
      "Name: video_id, dtype: int64 1767    4\n",
      "Name: video_id, dtype: int64\n"
     ]
    },
    {
     "name": "stderr",
     "output_type": "stream",
     "text": [
      "100%|██████████| 4/4 [00:06<00:00,  1.63s/it]\n",
      "100%|██████████| 1/1 [00:00<00:00,  5.04it/s]\n",
      "100%|██████████| 1/1 [00:01<00:00,  1.38s/it]\n"
     ]
    }
   ],
   "source": [
    "split_by = df['video_id'].drop_duplicates()\n",
    "split_train_val_test(split_by)"
   ]
  },
  {
   "cell_type": "code",
   "execution_count": null,
   "metadata": {},
   "outputs": [],
   "source": []
  }
 ],
 "metadata": {
  "kernelspec": {
   "display_name": "Python 3",
   "language": "python",
   "name": "python3"
  },
  "language_info": {
   "codemirror_mode": {
    "name": "ipython",
    "version": 3
   },
   "file_extension": ".py",
   "mimetype": "text/x-python",
   "name": "python",
   "nbconvert_exporter": "python",
   "pygments_lexer": "ipython3",
   "version": "3.5.2"
  }
 },
 "nbformat": 4,
 "nbformat_minor": 2
}
