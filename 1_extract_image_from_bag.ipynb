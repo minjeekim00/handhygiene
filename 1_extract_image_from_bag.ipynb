{
 "cells": [
  {
   "cell_type": "code",
   "execution_count": 1,
   "metadata": {},
   "outputs": [],
   "source": [
    "from __future__ import print_function\n",
    "import os, shutil\n",
    "import argparse\n",
    "\n",
    "import cv2\n",
    "import rosbag\n",
    "from sensor_msgs.msg import Image\n",
    "from cv_bridge import CvBridge\n",
    "from tqdm import tqdm\n",
    "from glob import glob\n",
    "import roslz4"
   ]
  },
  {
   "cell_type": "code",
   "execution_count": 2,
   "metadata": {},
   "outputs": [],
   "source": [
    "bag_dir = '/data/handhygiene/bagfiles/'\n",
    "img_dir = '/data/handhygiene/images/'\n",
    "bags = sorted(glob(bag_dir + '*.bag'), key=os.path.getmtime)\n",
    "add_data_from = 0"
   ]
  },
  {
   "cell_type": "code",
   "execution_count": null,
   "metadata": {},
   "outputs": [],
   "source": [
    "for i, bag in enumerate(tqdm(bags)):\n",
    "    date = bag.split('/')[-1].split('_')[0]\n",
    "    rosbag = rosbag.Bag(bag, \"r\", allow_unindexed=True)\n",
    "    bridge = CvBridge()\n",
    "    count = 0\n",
    "    rgb_img_topic = '/device_0/sensor_1/Color_0/image/data'\n",
    "            \n",
    "    for topic, msg, t in rosbag.read_messages(topics=[rgb_img_topic]):\n",
    "        if msg is not None:\n",
    "            cv_img = bridge.imgmsg_to_cv2(msg, \"bgr8\")\n",
    "\n",
    "            if not os.path.exists(img_dir):\n",
    "                os.path.mkdir(img_dir)\n",
    "            if add_data_from == 0:\n",
    "                data_num = i+1\n",
    "            else :\n",
    "                data_num = add_data_from\n",
    "            target_dir = os.path.join(img_dir, \"{}_{}_frames{:06d}.jpg\".format(data_num, date, count))\n",
    "            cv2.imwrite(target_dir, cv_img)\n",
    "            print(\"Wrote image {} to {}\".format(count, target_dir))\n",
    "        shutil.move(bag, os.path.join(bag, 'extracted'))\n",
    "        count += 1\n",
    "    rosbag.close()"
   ]
  },
  {
   "cell_type": "code",
   "execution_count": null,
   "metadata": {},
   "outputs": [],
   "source": [
    "#for dir in bag_sub_dirs:\n",
    "#    i = 1\n",
    "#    dir_rgb = dir + 'rgb_images{}'.format(i)\n",
    "#    !cd $dir_rgb && pwd && mkdir $dir/videos\n",
    "#    !ffmpeg -r 15 -i $dir_rgb/frame%06d.jpg -c:v libx264 -profile:v high -crf 20 -pix_fmt yuv420p $dir/videos/output.mp4 -y"
   ]
  }
 ],
 "metadata": {
  "kernelspec": {
   "display_name": "Python 2",
   "language": "python",
   "name": "python2"
  },
  "language_info": {
   "codemirror_mode": {
    "name": "ipython",
    "version": 2
   },
   "file_extension": ".py",
   "mimetype": "text/x-python",
   "name": "python",
   "nbconvert_exporter": "python",
   "pygments_lexer": "ipython2",
   "version": "2.7.12"
  }
 },
 "nbformat": 4,
 "nbformat_minor": 2
}
