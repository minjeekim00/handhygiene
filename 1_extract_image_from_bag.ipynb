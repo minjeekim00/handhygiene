{
 "cells": [
  {
   "cell_type": "code",
   "execution_count": null,
   "metadata": {},
   "outputs": [],
   "source": [
    "from __future__ import print_function\n",
    "import os, shutil\n",
    "import argparse\n",
    "\n",
    "import cv2\n",
    "import rosbag\n",
    "from rosbag import Bag\n",
    "from sensor_msgs.msg import Image\n",
    "from cv_bridge import CvBridge\n",
    "from tqdm import tqdm\n",
    "from glob import glob\n",
    "import roslz4\n",
    "\n",
    "import pandas as pd\n",
    "import numpy as np"
   ]
  },
  {
   "cell_type": "code",
   "execution_count": null,
   "metadata": {},
   "outputs": [],
   "source": [
    "#bag_dir = '/media/minjee/4970a4b3-9bec-42aa-8022-ddff6e7b8f80/savedfiles/'\n",
    "#img_dir = '/media/minjee/4970a4b3-9bec-42aa-8022-ddff6e7b8f80/images/'\n",
    "bag_dir = '/data/handhygiene/bagfiles/'\n",
    "img_dir = '/data/handhygiene/images'\n",
    "excel_path = '/data/handhygiene/hh_video_data.xlsx'\n",
    "df_ex = pd.read_excel(excel_path)\n",
    "bags = sorted(glob(bag_dir + '*.bag'), key=os.path.getmtime)\n",
    "add_data_from = 0"
   ]
  },
  {
   "cell_type": "code",
   "execution_count": null,
   "metadata": {
    "scrolled": true
   },
   "outputs": [],
   "source": [
    "def set_camera_info(i, rosbag):\n",
    "    # get fps, height and width from camera info topic\n",
    "    fps = 0\n",
    "    height = 0\n",
    "    width = 0\n",
    "    info='/device_0/sensor_1/Color_0/info'\n",
    "    camera_info='/device_0/sensor_1/Color_0/info/camera_info'\n",
    "    \n",
    "    for _, msg, _ in rosbag.read_messages(topics=[info]):\n",
    "        fps = msg.fps\n",
    "        if fps != 0:\n",
    "            break\n",
    "        \n",
    "    for _, msg, _ in rosbag.read_messages(topics=[camera_info]):\n",
    "        height = msg.height\n",
    "        width = msg.width\n",
    "        if height != 0 and width != 0:\n",
    "            break\n",
    "    \n",
    "    print(i, fps, height, width)\n",
    "    df_ex.at[i, 'fps'] = fps\n",
    "    df_ex.at[i, 'height'] = height\n",
    "    df_ex.at[i, 'width'] = width\n",
    "    \n",
    "    return "
   ]
  },
  {
   "cell_type": "code",
   "execution_count": null,
   "metadata": {
    "scrolled": true
   },
   "outputs": [],
   "source": [
    "for i, bag in enumerate(tqdm(bags)):\n",
    "    rosbag = Bag(bag, \"r\", allow_unindexed=True)\n",
    "    bridge = CvBridge()\n",
    "    \n",
    "    if add_data_from == 0:\n",
    "        data_num = i+1\n",
    "    else :\n",
    "        data_num = add_data_from\n",
    "        \n",
    "    set_camera_info(data_num-1, rosbag)\n",
    "    \n",
    "    ### we're only dealing with rgb images for now\n",
    "    \n",
    "    #depth_image_data='/device_0/sensor_0/Depth_0/image/data'\n",
    "    #infrared_image_data='/device_0/sensor_0/Infrared_1/image/data'\n",
    "    rgb_image_data='/device_0/sensor_1/Color_0/image/data'\n",
    "    \n",
    "    count = 0\n",
    "    for topic, msg, t in tqdm(rosbag.read_messages(topics=[rgb_image_data])):\n",
    "        \n",
    "        if msg is not None:\n",
    "            desired_encoding = \"bgr8\" if msg.encoding == \"rgb8\" else \"passthrough\" \n",
    "            cv_img = bridge.imgmsg_to_cv2(msg, desired_encoding)\n",
    "\n",
    "            if not os.path.exists(img_dir):\n",
    "                os.path.mkdir(img_dir)\n",
    "            \n",
    "            date = bag.split('/')[-1].split('_')[0]\n",
    "            target_dir = os.path.join(img_dir, \"{}_{}_frames{:06d}.jpg\".format(data_num, date, count))\n",
    "            cv2.imwrite(target_dir, cv_img)\n",
    "            print(\"Wrote image {} to {}\".format(count, target_dir))\n",
    "            \n",
    "        #shutil.move(bag, os.path.join(bag_dir, 'extracted'))\n",
    "        count += 1\n",
    "        \n",
    "    rosbag.close()"
   ]
  },
  {
   "cell_type": "code",
   "execution_count": null,
   "metadata": {},
   "outputs": [],
   "source": [
    "# rewrite excel\n",
    "df_ex.to_excel(excel_path)"
   ]
  },
  {
   "cell_type": "code",
   "execution_count": null,
   "metadata": {},
   "outputs": [],
   "source": [
    "#for dir in bag_sub_dirs:\n",
    "#    i = 1\n",
    "#    dir_rgb = dir + 'rgb_images{}'.format(i)\n",
    "#    !cd $dir_rgb && pwd && mkdir $dir/videos\n",
    "#    !ffmpeg -r 15 -i $dir_rgb/frame%06d.jpg -c:v libx264 -profile:v high -crf 20 -pix_fmt yuv420p $dir/videos/output.mp4 -y"
   ]
  }
 ],
 "metadata": {
  "kernelspec": {
   "display_name": "Python 2",
   "language": "python",
   "name": "python2"
  },
  "language_info": {
   "codemirror_mode": {
    "name": "ipython",
    "version": 2
   },
   "file_extension": ".py",
   "mimetype": "text/x-python",
   "name": "python",
   "nbconvert_exporter": "python",
   "pygments_lexer": "ipython2",
   "version": "2.7.12"
  }
 },
 "nbformat": 4,
 "nbformat_minor": 2
}
