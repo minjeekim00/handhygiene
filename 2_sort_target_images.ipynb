{
 "cells": [
  {
   "cell_type": "code",
   "execution_count": 2,
   "metadata": {},
   "outputs": [],
   "source": [
    "import numpy as np\n",
    "import pandas as pd\n",
    "import os\n",
    "from tqdm import tqdm\n",
    "from glob import glob\n",
    "import shutil"
   ]
  },
  {
   "cell_type": "code",
   "execution_count": 3,
   "metadata": {},
   "outputs": [],
   "source": [
    "data_dir = os.getcwd()\n",
    "img_dir = os.path.join(data_dir, 'images/')\n",
    "excel_path = os.path.join(data_dir, 'hh_video_data.xlsx')\n",
    "label_path = os.path.join(data_dir, 'handhygiene_label.csv') \n",
    "df_ex = pd.read_excel(excel_path)"
   ]
  },
  {
   "cell_type": "code",
   "execution_count": 4,
   "metadata": {
    "scrolled": true
   },
   "outputs": [],
   "source": [
    "def move_target_data(img_dir, target_str):\n",
    "    nonetarget_dir = os.path.join(img_dir, target_str)\n",
    "    rest_img_dir = os.path.join(img_dir, '*.jpg')\n",
    "    !mv $rest_img_dir $nonetarget_dir"
   ]
  },
  {
   "cell_type": "code",
   "execution_count": 5,
   "metadata": {},
   "outputs": [],
   "source": [
    "def add_to_data_dict(video_id, img_date, img_name, clip_num):\n",
    "    hh_dict['video_id'].append(video_id)\n",
    "    hh_dict['date'].append(img_date)\n",
    "    hh_dict['img_name'].append(img_name+'.jpg')\n",
    "    hh_dict['clip_num'].append(clip_num)\n",
    "    return "
   ]
  },
  {
   "cell_type": "code",
   "execution_count": 59,
   "metadata": {},
   "outputs": [],
   "source": [
    "hh_dict = {'video_id':[], 'date':[], 'img_name':[], 'clip_num':[]}\n",
    "#target_str = 'clean'\n",
    "target_dir = os.path.join(img_dir, 'clean')\n",
    "\n",
    "def label_data(img_dir):\n",
    "    img_total = glob(os.path.join(img_dir, '*.jpg'))\n",
    "    img_total.sort()\n",
    "    cnt = 0\n",
    "    clip_num = 0\n",
    "\n",
    "    for image in tqdm(img_total):\n",
    "        img_name= image.split('/')[-1].split('.')[0]\n",
    "        video_id = int(img_name.split('_')[0])\n",
    "        img_date = img_name.split('_')[1]\n",
    "        img_frame_num = img_name[-6:] # ex: 000001\n",
    "\n",
    "        for vid, target in df_ex[['video_id', 'target_frame']].values:\n",
    "            \n",
    "            if video_id is not vid:\n",
    "                continue\n",
    "            if target is np.nan:\n",
    "                continue\n",
    "            \n",
    "            #target_str = 'clean'\n",
    "            targets = {'clean': target}\n",
    "            clips = targets['clean'].strip().split(',')\n",
    "            \n",
    "            for n, el in enumerate(clips):\n",
    "                start = el.strip().split('-')[0]\n",
    "                end = el.strip().split('-')[1]\n",
    "                \n",
    "                # if current frame is in range of (start, end)\n",
    "                if int(img_frame_num) in range(int(start), int(end)+1):\n",
    "                    shutil.move(image, target_dir) # move data to target directory\n",
    "                    add_to_data_dict(video_id, img_date, img_name, clip_num)\n",
    "                    \n",
    "                    if int(img_frame_num) == int(end):\n",
    "                        clip_num += 1\n",
    "                        \n",
    "                    cnt += 1\n",
    "                    break\n",
    "                    \n",
    "\n",
    "    print(\"{} images moved to {}\".format(cnt, target_dir))\n",
    "    move_target_data(img_dir, 'notclean')\n",
    "    \n",
    "    return"
   ]
  },
  {
   "cell_type": "code",
   "execution_count": 60,
   "metadata": {},
   "outputs": [
    {
     "name": "stderr",
     "output_type": "stream",
     "text": [
      "100%|██████████| 3402/3402 [00:01<00:00, 1894.35it/s]\n"
     ]
    },
    {
     "name": "stdout",
     "output_type": "stream",
     "text": [
      "1031 images moved to /data/handhygiene/images/clean\n"
     ]
    }
   ],
   "source": [
    "label_data(img_dir)"
   ]
  },
  {
   "cell_type": "code",
   "execution_count": 62,
   "metadata": {
    "scrolled": true
   },
   "outputs": [],
   "source": [
    "df = pd.DataFrame(hh_dict)\n",
    "pd.DataFrame.to_csv(df, label_path, index=False)"
   ]
  },
  {
   "cell_type": "code",
   "execution_count": null,
   "metadata": {},
   "outputs": [],
   "source": []
  }
 ],
 "metadata": {
  "kernelspec": {
   "display_name": "Python 2",
   "language": "python",
   "name": "python2"
  },
  "language_info": {
   "codemirror_mode": {
    "name": "ipython",
    "version": 2
   },
   "file_extension": ".py",
   "mimetype": "text/x-python",
   "name": "python",
   "nbconvert_exporter": "python",
   "pygments_lexer": "ipython2",
   "version": "2.7.12"
  }
 },
 "nbformat": 4,
 "nbformat_minor": 2
}
