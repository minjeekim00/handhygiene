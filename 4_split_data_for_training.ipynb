{
 "cells": [
  {
   "cell_type": "code",
   "execution_count": null,
   "metadata": {},
   "outputs": [],
   "source": [
    "import pandas as pd\n",
    "from glob import glob\n",
    "from tqdm import tqdm\n",
    "import argparse\n",
    "import os, shutil\n",
    "from sklearn.model_selection import train_test_split"
   ]
  },
  {
   "cell_type": "code",
   "execution_count": null,
   "metadata": {
    "scrolled": true
   },
   "outputs": [],
   "source": [
    "img_dir = '/data/handhygiene/jpg/'\n",
    "test_size= 0.1\n",
    "val_size = 0.1"
   ]
  },
  {
   "cell_type": "code",
   "execution_count": null,
   "metadata": {
    "scrolled": true
   },
   "outputs": [],
   "source": [
    "classes = os.listdir(img_dir) # ['notclean', 'clean']\n",
    "vids = []\n",
    "for c in classes:\n",
    "    class_dir = os.path.join(img_dir, c)\n",
    "    v_name_dirs = os.listdir(class_dir)\n",
    "    for vname in v_name_dirs:\n",
    "        vid = vname.split('_')[0]\n",
    "        if vid not in vids:\n",
    "            vids.append(vid)"
   ]
  },
  {
   "cell_type": "code",
   "execution_count": null,
   "metadata": {},
   "outputs": [],
   "source": [
    "def split_train_val_test(img_dir, vids):\n",
    "    x_train, x_test = train_test_split(vids, test_size=test_size)\n",
    "    x_train, x_val = train_test_split(x_train, test_size=val_size)\n",
    "    \n",
    "    for c in classes:\n",
    "        class_dir = os.path.join(img_dir, c)\n",
    "        for phase in [\"train\", \"val\", \"test\"]:\n",
    "            target_dir = os.path.join(img_dir, phase)\n",
    "            if not os.path.exists(target_dir):\n",
    "                os.mkdir(target_dir)\n",
    "\n",
    "            if phase == \"train\":\n",
    "                target = x_train\n",
    "            elif phase == \"val\":\n",
    "                target = x_val\n",
    "            elif phase == \"test\":\n",
    "                target = x_test\n",
    "\n",
    "            for vid in tqdm(target):\n",
    "                origin_dir = os.path.join(class_dir, str(vid)+'_*')\n",
    "                dst_dir = os.path.join(target_dir, os.path.basename(class_dir))\n",
    "                if not os.path.exists(dst_dir):\n",
    "                    os.mkdir(dst_dir)\n",
    "                os.system(\"mv %s %s\" % (origin_dir, dst_dir))\n",
    "            \n",
    "        os.rmdir(class_dir)\n",
    "    return"
   ]
  },
  {
   "cell_type": "code",
   "execution_count": null,
   "metadata": {},
   "outputs": [],
   "source": [
    "split_by = df['video_id'].drop_duplicates()\n",
    "split_train_val_test(img_dir, split_by)"
   ]
  }
 ],
 "metadata": {
  "kernelspec": {
   "display_name": "Python 2",
   "language": "python",
   "name": "python2"
  },
  "language_info": {
   "codemirror_mode": {
    "name": "ipython",
    "version": 2
   },
   "file_extension": ".py",
   "mimetype": "text/x-python",
   "name": "python",
   "nbconvert_exporter": "python",
   "pygments_lexer": "ipython2",
   "version": "2.7.12"
  }
 },
 "nbformat": 4,
 "nbformat_minor": 2
}
