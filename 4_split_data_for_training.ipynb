{
 "cells": [
  {
   "cell_type": "code",
   "execution_count": 1,
   "metadata": {},
   "outputs": [],
   "source": [
    "import pandas as pd\n",
    "from glob import glob\n",
    "from tqdm import tqdm\n",
    "import argparse\n",
    "import os, shutil\n",
    "from sklearn.model_selection import train_test_split"
   ]
  },
  {
   "cell_type": "code",
   "execution_count": 2,
   "metadata": {
    "scrolled": true
   },
   "outputs": [],
   "source": [
    "img_dir = '/data/handhygiene/jpg/'\n",
    "excel_path = '/data/handhygiene/hh_label.xlsx'\n",
    "csv_path = '/data/handhygiene/hh_label.csv'\n",
    "test_size= 0.1\n",
    "val_size = 0.1\n",
    "\n",
    "df = pd.read_csv(csv_path)"
   ]
  },
  {
   "cell_type": "code",
   "execution_count": 3,
   "metadata": {},
   "outputs": [],
   "source": [
    "sub_dirs = [x[0] for x in os.walk(img_dir)][1:]"
   ]
  },
  {
   "cell_type": "code",
   "execution_count": 4,
   "metadata": {},
   "outputs": [],
   "source": [
    "def split_train_val_test(img_dir, vids):\n",
    "    x_train, x_test = train_test_split(vids, test_size=test_size)\n",
    "    x_train, x_val = train_test_split(x_train, test_size=val_size)\n",
    "     \n",
    "    print(x_train.values, x_val.values, x_test.values)\n",
    "    for subdir in sub_dirs:\n",
    "        for phase in [\"train\", \"val\", \"test\"]:\n",
    "            target_dir = os.path.join(img_dir, phase)\n",
    "            if not os.path.exists(target_dir):\n",
    "                os.mkdir(target_dir)\n",
    "\n",
    "            if phase == \"train\":\n",
    "                target = x_train\n",
    "            elif phase == \"val\":\n",
    "                target = x_val\n",
    "            elif phase == \"test\":\n",
    "                target = x_test\n",
    "\n",
    "            for video_id in tqdm(target):\n",
    "                video_id=video_id\n",
    "                origin_dir = os.path.join(subdir, str(video_id)+'_*')\n",
    "                dst_dir = os.path.join(target_dir, os.path.basename(subdir))\n",
    "                if not os.path.exists(dst_dir):\n",
    "                    os.mkdir(dst_dir)\n",
    "                os.system(\"mv %s %s\" % (origin_dir, dst_dir))\n",
    "                print(origin_dir, dst_dir)\n",
    "\n",
    "            # create empty dataframe\n",
    "            df_new = df[df['video_id'] == 0]\n",
    "            for i in target:\n",
    "                add= df[df['video_id'] == i]\n",
    "                df_new = pd.concat([df_new, pd.DataFrame(add)])\n",
    "\n",
    "            target_path = csv_path.split('.')[-2]\n",
    "            dest = \"%s_%s.csv\" % (target_path, phase)\n",
    "            df_new.to_csv(dest, index=False)\n",
    "            \n",
    "        os.rmdir(subdir)\n",
    "    return"
   ]
  },
  {
   "cell_type": "code",
   "execution_count": 5,
   "metadata": {},
   "outputs": [
    {
     "name": "stderr",
     "output_type": "stream",
     "text": [
      "100%|██████████| 5/5 [00:00<00:00, 78.22it/s]\n",
      "100%|██████████| 1/1 [00:00<00:00, 63.94it/s]\n",
      "100%|██████████| 1/1 [00:00<00:00, 65.96it/s]\n",
      "  0%|          | 0/5 [00:00<?, ?it/s]"
     ]
    },
    {
     "name": "stdout",
     "output_type": "stream",
     "text": [
      "(array([13, 11,  5,  8, 18]), array([17]), array([2]))\n",
      "('/data/handhygiene/jpg/notclean/13_*', '/data/handhygiene/jpg/train/notclean')\n",
      "('/data/handhygiene/jpg/notclean/11_*', '/data/handhygiene/jpg/train/notclean')\n",
      "('/data/handhygiene/jpg/notclean/5_*', '/data/handhygiene/jpg/train/notclean')\n",
      "('/data/handhygiene/jpg/notclean/8_*', '/data/handhygiene/jpg/train/notclean')\n",
      "('/data/handhygiene/jpg/notclean/18_*', '/data/handhygiene/jpg/train/notclean')\n",
      "('/data/handhygiene/jpg/notclean/17_*', '/data/handhygiene/jpg/val/notclean')\n",
      "('/data/handhygiene/jpg/notclean/2_*', '/data/handhygiene/jpg/test/notclean')\n",
      "('/data/handhygiene/jpg/clean/13_*', '/data/handhygiene/jpg/train/clean')\n",
      "('/data/handhygiene/jpg/clean/11_*', '/data/handhygiene/jpg/train/clean')\n",
      "('/data/handhygiene/jpg/clean/5_*', '/data/handhygiene/jpg/train/clean')\n",
      "('/data/handhygiene/jpg/clean/8_*', '/data/handhygiene/jpg/train/clean')\n",
      "('/data/handhygiene/jpg/clean/18_*', '/data/handhygiene/jpg/train/clean')\n"
     ]
    },
    {
     "name": "stderr",
     "output_type": "stream",
     "text": [
      "100%|██████████| 5/5 [00:00<00:00, 79.92it/s]\n",
      "100%|██████████| 1/1 [00:00<00:00, 66.95it/s]\n",
      "100%|██████████| 1/1 [00:00<00:00, 62.26it/s]"
     ]
    },
    {
     "name": "stdout",
     "output_type": "stream",
     "text": [
      "('/data/handhygiene/jpg/clean/17_*', '/data/handhygiene/jpg/val/clean')\n",
      "('/data/handhygiene/jpg/clean/2_*', '/data/handhygiene/jpg/test/clean')\n"
     ]
    },
    {
     "name": "stderr",
     "output_type": "stream",
     "text": [
      "\n"
     ]
    }
   ],
   "source": [
    "split_by = df['video_id'].drop_duplicates()\n",
    "split_train_val_test(img_dir, split_by)"
   ]
  },
  {
   "cell_type": "code",
   "execution_count": null,
   "metadata": {},
   "outputs": [],
   "source": []
  }
 ],
 "metadata": {
  "kernelspec": {
   "display_name": "Python 2",
   "language": "python",
   "name": "python2"
  },
  "language_info": {
   "codemirror_mode": {
    "name": "ipython",
    "version": 2
   },
   "file_extension": ".py",
   "mimetype": "text/x-python",
   "name": "python",
   "nbconvert_exporter": "python",
   "pygments_lexer": "ipython2",
   "version": "2.7.12"
  }
 },
 "nbformat": 4,
 "nbformat_minor": 2
}
